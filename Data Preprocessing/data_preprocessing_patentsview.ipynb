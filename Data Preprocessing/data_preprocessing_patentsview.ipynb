{
 "cells": [
  {
   "cell_type": "code",
   "execution_count": 3,
   "metadata": {},
   "outputs": [],
   "source": [
    "import os\n",
    "import json\n",
    "import random\n",
    "import string\n",
    "import pandas as pd\n",
    "import requests as req\n",
    "import multiprocessing as mp\n",
    "from tqdm import tqdm"
   ]
  },
  {
   "cell_type": "markdown",
   "metadata": {},
   "source": [
    "# Preprocess PatentsView Data - extract all Cleantech Patents"
   ]
  },
  {
   "cell_type": "code",
   "execution_count": 5,
   "metadata": {},
   "outputs": [
    {
     "name": "stderr",
     "output_type": "stream",
     "text": [
      "/tmp/ipykernel_1171359/1921840389.py:1: DtypeWarning: Columns (0,4) have mixed types. Specify dtype option on import or set low_memory=False.\n",
      "  df_patent = pd.read_csv('/mnt/hdd01/patentsview/g_patent.csv')\n"
     ]
    }
   ],
   "source": [
    "df_patent = pd.read_csv('/mnt/hdd01/patentsview/g_patent.csv')"
   ]
  },
  {
   "cell_type": "code",
   "execution_count": 6,
   "metadata": {},
   "outputs": [],
   "source": [
    "# Convert patent_id to string\n",
    "df_patent['patent_id'] = df_patent['patent_id'].astype(str)"
   ]
  },
  {
   "cell_type": "code",
   "execution_count": 7,
   "metadata": {},
   "outputs": [],
   "source": [
    "# Read in cpc_current.tsv\n",
    "df_cpc = pd.read_csv('/mnt/hdd01/patentsview/g_cpc_current.csv')\n",
    "\n",
    "# Convert patent_id to string\n",
    "df_cpc['patent_id'] = df_cpc['patent_id'].astype(str)"
   ]
  },
  {
   "cell_type": "code",
   "execution_count": 8,
   "metadata": {},
   "outputs": [],
   "source": [
    "# Match df_patent and df_cpc on patent_id - inner join\n",
    "df_patentsview_patent_cpc = pd.merge(df_patent, df_cpc, how='inner', on='patent_id', validate='many_to_many')"
   ]
  },
  {
   "cell_type": "code",
   "execution_count": 9,
   "metadata": {},
   "outputs": [],
   "source": [
    "# Drop all patents without title or abstract\n",
    "df_patentsview_patent_cpc = df_patentsview_patent_cpc.dropna(subset=['patent_title', 'patent_abstract'])"
   ]
  },
  {
   "cell_type": "code",
   "execution_count": 10,
   "metadata": {},
   "outputs": [],
   "source": [
    "# Drop all rows where 'cpc_class' is unequal to 'Y02'\n",
    "df_patentsview_patent_cpc = df_patentsview_patent_cpc[df_patentsview_patent_cpc['cpc_class'].str.contains('Y02')]"
   ]
  },
  {
   "cell_type": "code",
   "execution_count": 11,
   "metadata": {},
   "outputs": [],
   "source": [
    "# Create list of patent_ids in PatentsView Cleantech dataset\n",
    "df_patentsview_patent_cpc_id = df_patentsview_patent_cpc['patent_id'].drop_duplicates()\n",
    "df_patentsview_patent_cpc_id.reset_index(drop=True, inplace=True)\n",
    "df_patentsview_patent_cpc_id.to_csv('/mnt/hdd01/patentsview/Patentsview - Cleantech Patents/g_patent_ids_patentsview_cleantech.csv', index=False)"
   ]
  },
  {
   "cell_type": "code",
   "execution_count": 14,
   "metadata": {},
   "outputs": [],
   "source": [
    "# Make new column 'cpc_subgroup' with characters until the first slash\n",
    "df_patentsview_patent_cpc['cpc_subgroup'] = df_patentsview_patent_cpc['cpc_group'].str.split('/').str[0]"
   ]
  },
  {
   "cell_type": "code",
   "execution_count": 15,
   "metadata": {},
   "outputs": [
    {
     "name": "stdout",
     "output_type": "stream",
     "text": [
      "    patent_id patent_type patent_date  \\\n",
      "145  10000011     utility  2018-06-19   \n",
      "234  10000017     utility  2018-06-19   \n",
      "253  10000017     utility  2018-06-19   \n",
      "311  10000021     utility  2018-06-19   \n",
      "347  10000025     utility  2018-06-19   \n",
      "\n",
      "                                          patent_title  \\\n",
      "145  Supports for sintering additively manufactured...   \n",
      "234  Method for mounting a vortex generator and mou...   \n",
      "253  Method for mounting a vortex generator and mou...   \n",
      "311  Method for manufacturing three-dimensional sha...   \n",
      "347  Optimized cross-ply orientation in composite l...   \n",
      "\n",
      "                                       patent_abstract wipo_kind  num_claims  \\\n",
      "145  To reduce distortion in an additively manufact...        B1          30   \n",
      "234  The invention relates to a method for securing...        B2          21   \n",
      "253  The invention relates to a method for securing...        B2          21   \n",
      "311  There is provided a method for manufacturing a...        B2           4   \n",
      "347  A composite laminate has a primary axis of loa...        B2           9   \n",
      "\n",
      "     withdrawn       filename  cpc_sequence cpc_section cpc_class  \\\n",
      "145          0  ipg180619.xml            19           Y       Y02   \n",
      "234          0  ipg180619.xml            20           Y       Y02   \n",
      "253          0  ipg180619.xml            21           Y       Y02   \n",
      "311          0  ipg180619.xml            11           Y       Y02   \n",
      "347          0  ipg180619.xml            10           Y       Y02   \n",
      "\n",
      "    cpc_subclass  cpc_group    cpc_type  cpc_symbol_position cpc_subgroup  \n",
      "145         Y02P  Y02P10/25  additional                  NaN       Y02P10  \n",
      "234         Y02E  Y02E10/72  additional                  NaN       Y02E10  \n",
      "253         Y02P  Y02P70/50  additional                  NaN       Y02P70  \n",
      "311         Y02P  Y02P10/25  additional                  NaN       Y02P10  \n",
      "347         Y02T  Y02T50/40  additional                  NaN       Y02T50  \n"
     ]
    }
   ],
   "source": [
    "print(df_patentsview_patent_cpc.head())"
   ]
  },
  {
   "cell_type": "code",
   "execution_count": 17,
   "metadata": {},
   "outputs": [],
   "source": [
    "# Group by 'patent_id' and aggregate the other columns into lists - THINK ABOUT THIS CODE - TOO HEFTY COMPUTING - DUPLICATION CHECK NEED TO BE DONE ELSEWHERE\n",
    "df_patentsview_patent_cpc = df_patentsview_patent_cpc.groupby('patent_id').agg({\n",
    "    'patent_type': 'first',\n",
    "    'patent_date': 'first',\n",
    "    'patent_title': 'first',\n",
    "    'patent_abstract': 'first',\n",
    "    'wipo_kind': 'first',\n",
    "    'num_claims': 'first',\n",
    "    'withdrawn': 'first',\n",
    "    'filename': 'first',\n",
    "    'cpc_sequence': list,\n",
    "    'cpc_section': list,\n",
    "    'cpc_class': list,\n",
    "    'cpc_subclass': list,\n",
    "    'cpc_group': list,\n",
    "    'cpc_type': list,\n",
    "    'cpc_symbol_position': list,\n",
    "    'cpc_subgroup': list,\n",
    "}).reset_index()"
   ]
  },
  {
   "cell_type": "code",
   "execution_count": 18,
   "metadata": {},
   "outputs": [
    {
     "name": "stdout",
     "output_type": "stream",
     "text": [
      "  patent_id patent_type patent_date  \\\n",
      "0  10000011     utility  2018-06-19   \n",
      "1  10000017     utility  2018-06-19   \n",
      "2  10000021     utility  2018-06-19   \n",
      "3  10000025     utility  2018-06-19   \n",
      "4  10000033     utility  2018-06-19   \n",
      "\n",
      "                                        patent_title  \\\n",
      "0  Supports for sintering additively manufactured...   \n",
      "1  Method for mounting a vortex generator and mou...   \n",
      "2  Method for manufacturing three-dimensional sha...   \n",
      "3  Optimized cross-ply orientation in composite l...   \n",
      "4  Washable, waterproof, sealable and reusable st...   \n",
      "\n",
      "                                     patent_abstract wipo_kind  num_claims  \\\n",
      "0  To reduce distortion in an additively manufact...        B1          30   \n",
      "1  The invention relates to a method for securing...        B2          21   \n",
      "2  There is provided a method for manufacturing a...        B2           4   \n",
      "3  A composite laminate has a primary axis of loa...        B2           9   \n",
      "4  Disclosed are embodiments of a versatile stora...        B2          20   \n",
      "\n",
      "   withdrawn       filename cpc_sequence cpc_section   cpc_class  \\\n",
      "0          0  ipg180619.xml         [19]         [Y]       [Y02]   \n",
      "1          0  ipg180619.xml     [20, 21]      [Y, Y]  [Y02, Y02]   \n",
      "2          0  ipg180619.xml         [11]         [Y]       [Y02]   \n",
      "3          0  ipg180619.xml         [10]         [Y]       [Y02]   \n",
      "4          0  ipg180619.xml         [37]         [Y]       [Y02]   \n",
      "\n",
      "   cpc_subclass               cpc_group                  cpc_type  \\\n",
      "0        [Y02P]             [Y02P10/25]              [additional]   \n",
      "1  [Y02E, Y02P]  [Y02E10/72, Y02P70/50]  [additional, additional]   \n",
      "2        [Y02P]             [Y02P10/25]              [additional]   \n",
      "3        [Y02T]             [Y02T50/40]              [additional]   \n",
      "4        [Y02W]             [Y02W30/80]              [additional]   \n",
      "\n",
      "  cpc_symbol_position      cpc_subgroup  \n",
      "0               [nan]          [Y02P10]  \n",
      "1          [nan, nan]  [Y02E10, Y02P70]  \n",
      "2               [nan]          [Y02P10]  \n",
      "3               [nan]          [Y02T50]  \n",
      "4               [nan]          [Y02W30]  \n"
     ]
    }
   ],
   "source": [
    "print(df_patentsview_patent_cpc.head())"
   ]
  },
  {
   "cell_type": "code",
   "execution_count": 19,
   "metadata": {},
   "outputs": [],
   "source": [
    "# Restructure dataframe to nested dictionaries\n",
    "df_patentsview_patent_cpc['cpc'] = df_patentsview_patent_cpc.apply(lambda row: {i+1: {'cpc_sequence': cpc_sequence, 'cpc_section': cpc_section, 'cpc_class': cpc_class, 'cpc_subclass': cpc_subclass, 'cpc_group': cpc_group, 'cpc_type': cpc_type, 'cpc_symbol_position': cpc_symbol_position, 'cpc_subgroup': cpc_subgroup} for i, (cpc_sequence, cpc_section, cpc_class, cpc_subclass, cpc_group, cpc_type, cpc_symbol_position, cpc_subgroup) in enumerate(zip(row['cpc_sequence'], row['cpc_section'], row['cpc_class'], row['cpc_subclass'], row['cpc_group'], row['cpc_type'], row['cpc_symbol_position'], row['cpc_subgroup']))}, axis=1)"
   ]
  },
  {
   "cell_type": "code",
   "execution_count": 20,
   "metadata": {},
   "outputs": [],
   "source": [
    "# Drop original columns\n",
    "df_patentsview_patent_cpc = df_patentsview_patent_cpc.drop(columns=['cpc_sequence', 'cpc_section', 'cpc_class', 'cpc_subclass', 'cpc_group', 'cpc_type', 'cpc_symbol_position', 'cpc_subgroup'])"
   ]
  },
  {
   "cell_type": "code",
   "execution_count": 23,
   "metadata": {},
   "outputs": [],
   "source": [
    "# Save df_rel_on_science_patent_cpc_grouped to json\n",
    "df_patentsview_patent_cpc.to_json('/mnt/hdd01/patentsview/Patentsview - Cleantech Patents/df_patentsview_patent_cpc_grouped_cleantech.json', orient='records', indent=2)\n",
    "\n",
    "df_patentsview_patent_cpc = df_patentsview_patent_cpc.head(1000)\n",
    "df_patentsview_patent_cpc.to_json('/home/thiesen/Documents/Cleantech_Concepts/df_patentsview_patent_cpc_grouped_cleantech.json', orient='records', indent=2)"
   ]
  }
 ],
 "metadata": {
  "kernelspec": {
   "display_name": "Python 3",
   "language": "python",
   "name": "python3"
  },
  "language_info": {
   "codemirror_mode": {
    "name": "ipython",
    "version": 3
   },
   "file_extension": ".py",
   "mimetype": "text/x-python",
   "name": "python",
   "nbconvert_exporter": "python",
   "pygments_lexer": "ipython3",
   "version": "3.11.4"
  },
  "orig_nbformat": 4
 },
 "nbformat": 4,
 "nbformat_minor": 2
}
