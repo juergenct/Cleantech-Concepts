{
 "cells": [
  {
   "cell_type": "code",
   "execution_count": 1,
   "metadata": {},
   "outputs": [],
   "source": [
    "import os\n",
    "import pandas as pd"
   ]
  },
  {
   "cell_type": "code",
   "execution_count": 2,
   "metadata": {},
   "outputs": [],
   "source": [
    "df = pd.read_json('/mnt/hdd01/patentsview/Reliance on Science - Cleantech Patents/df_oaid_Cleantech_Y02_works.json')"
   ]
  },
  {
   "cell_type": "code",
   "execution_count": 5,
   "metadata": {},
   "outputs": [
    {
     "name": "stdout",
     "output_type": "stream",
     "text": [
      "0                                              Abstract\n",
      "1                                            First Page\n",
      "2                                No abstract available.\n",
      "3     鉄鉱石の価格は鉄の含有量によって大きく左右される．測定の相対標準偏差が0.1％ 以下の方法が...\n",
      "4     ニューロン-グリア細胞接着分子 (Ng-CAM) は、ニューロン-リア間及びニューロン-ニュ...\n",
      "                            ...                        \n",
      "95    We develop a model to describe the optical pro...\n",
      "96    We have prepared transparent top cells for sta...\n",
      "97    Abstract Thermal energy storage in a packed be...\n",
      "98    The aim of this paper is to provide an assessm...\n",
      "99    In Gram-negative bacteria, all components of t...\n",
      "Name: abstract, Length: 100, dtype: object\n"
     ]
    }
   ],
   "source": [
    "print(df['abstract'].head(100))"
   ]
  }
 ],
 "metadata": {
  "kernelspec": {
   "display_name": "venv",
   "language": "python",
   "name": "python3"
  },
  "language_info": {
   "codemirror_mode": {
    "name": "ipython",
    "version": 3
   },
   "file_extension": ".py",
   "mimetype": "text/x-python",
   "name": "python",
   "nbconvert_exporter": "python",
   "pygments_lexer": "ipython3",
   "version": "3.11.4"
  },
  "orig_nbformat": 4
 },
 "nbformat": 4,
 "nbformat_minor": 2
}
