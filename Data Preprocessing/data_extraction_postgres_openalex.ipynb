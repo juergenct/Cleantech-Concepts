{
 "cells": [
  {
   "cell_type": "code",
   "execution_count": 1,
   "metadata": {},
   "outputs": [],
   "source": [
    "import pandas as pd\n",
    "from sqlalchemy import create_engine, URL\n",
    "from tqdm import tqdm"
   ]
  },
  {
   "cell_type": "code",
   "execution_count": 2,
   "metadata": {},
   "outputs": [],
   "source": [
    "url_object = URL.create(\n",
    "    drivername='postgresql+psycopg2',\n",
    "    username='tie',\n",
    "    password='TIE%2023!tuhh',\n",
    "    host='134.28.58.100',\n",
    "    port=45432,\n",
    "    database='openalex_db',\n",
    ")"
   ]
  },
  {
   "cell_type": "code",
   "execution_count": 3,
   "metadata": {},
   "outputs": [
    {
     "data": {
      "text/plain": [
       "<sqlalchemy.engine.base.Connection at 0x7f641d26f790>"
      ]
     },
     "execution_count": 3,
     "metadata": {},
     "output_type": "execute_result"
    }
   ],
   "source": [
    "engine = create_engine(url_object)\n",
    "# Check if connection is successful\n",
    "engine.connect()"
   ]
  },
  {
   "cell_type": "code",
   "execution_count": 4,
   "metadata": {},
   "outputs": [],
   "source": [
    "df = pd.read_csv('/mnt/hdd01/patentsview/Reliance on Science - Cleantech Patents/df_oaid_Cleantech_Y02.csv')"
   ]
  },
  {
   "cell_type": "code",
   "execution_count": 5,
   "metadata": {},
   "outputs": [],
   "source": [
    "# Convert column oaid and patent_id to string\n",
    "df['oaid'] = df['oaid'].astype(str)\n",
    "df['patent_id'] = df['patent_id'].astype(str)"
   ]
  },
  {
   "cell_type": "code",
   "execution_count": 6,
   "metadata": {},
   "outputs": [],
   "source": [
    "# Erase everything in oaid and patent_id after the dot\n",
    "df['oaid'] = df['oaid'].str.split('.').str[0]\n",
    "df['patent_id'] = df['patent_id'].str.split('.').str[0]"
   ]
  },
  {
   "cell_type": "code",
   "execution_count": 7,
   "metadata": {},
   "outputs": [],
   "source": [
    "# Add column 'full_oaid' with https://openalex.org/W + oaid\n",
    "df['full_oaid'] = 'https://openalex.org/W' + df['oaid']"
   ]
  },
  {
   "cell_type": "code",
   "execution_count": 8,
   "metadata": {},
   "outputs": [],
   "source": [
    "# Keep only columns oaid, patent_id and full_oaid\n",
    "df = df[['oaid', 'patent_id', 'full_oaid']]"
   ]
  },
  {
   "cell_type": "code",
   "execution_count": 9,
   "metadata": {},
   "outputs": [
    {
     "data": {
      "text/plain": [
       "145"
      ]
     },
     "execution_count": 9,
     "metadata": {},
     "output_type": "execute_result"
    }
   ],
   "source": [
    "# Insert temporary table into database\n",
    "df.to_sql('temp_table', engine, if_exists='replace', index=False)"
   ]
  },
  {
   "cell_type": "code",
   "execution_count": 10,
   "metadata": {},
   "outputs": [],
   "source": [
    "# SQL query to get all data from data table that has an id in the temp_table\n",
    "query = '''\n",
    "    SELECT *\n",
    "    FROM openalex.works \n",
    "    JOIN temp_table ON openalex.works.id = temp_table.full_oaid\n",
    "'''"
   ]
  },
  {
   "cell_type": "code",
   "execution_count": 11,
   "metadata": {},
   "outputs": [],
   "source": [
    "result = pd.read_sql(query, engine)"
   ]
  },
  {
   "cell_type": "code",
   "execution_count": 12,
   "metadata": {},
   "outputs": [
    {
     "name": "stdout",
     "output_type": "stream",
     "text": [
      "Index(['id', 'doi', 'title', 'display_name', 'publication_year',\n",
      "       'publication_date', 'type', 'cited_by_count', 'is_retracted',\n",
      "       'is_paratext', 'cited_by_api_url', 'abstract_inverted_index',\n",
      "       'abstract', 'oaid', 'patent_id', 'full_oaid'],\n",
      "      dtype='object')\n"
     ]
    }
   ],
   "source": [
    "print(result.columns)"
   ]
  },
  {
   "cell_type": "code",
   "execution_count": 13,
   "metadata": {},
   "outputs": [
    {
     "name": "stdout",
     "output_type": "stream",
     "text": [
      "0    {'IndexLength': 254, 'InvertedIndex': {'Severa...\n",
      "1    {'IndexLength': 29, 'InvertedIndex': {'In': [0...\n",
      "2    {'IndexLength': 197, 'InvertedIndex': {'The': ...\n",
      "3    {'IndexLength': 255, 'InvertedIndex': {'In': [...\n",
      "4    {'IndexLength': 17, 'InvertedIndex': {'As': [0...\n",
      "Name: abstract_inverted_index, dtype: object\n"
     ]
    }
   ],
   "source": [
    "print(result['abstract_inverted_index'].head())"
   ]
  },
  {
   "cell_type": "code",
   "execution_count": 14,
   "metadata": {},
   "outputs": [],
   "source": [
    "# Delete all empty rows in column abstract_inverted_index with value None\n",
    "result = result[result['abstract_inverted_index'].notna()]"
   ]
  },
  {
   "cell_type": "code",
   "execution_count": 15,
   "metadata": {},
   "outputs": [
    {
     "name": "stdout",
     "output_type": "stream",
     "text": [
      "{'IndexLength': 254, 'InvertedIndex': {'Several': [0], 'studies': [1, 173, 226], 'have': [2], 'described': [3], 'a': [4, 135, 182], 'clear': [5], 'association': [6], 'between': [7], 'respiratory': [8, 13, 93, 157], 'syncytial': [9], 'virus': [10], '(RSV)': [11], 'lower': [12, 156], 'tract': [14, 94, 158], 'infection': [15], 'in': [16, 25, 91, 154, 188, 237, 245, 252], 'infancy': [17], 'and': [18, 44, 95, 126, 210, 241], 'the': [19, 28, 57, 73, 80, 92, 106, 149, 155, 231, 238, 246], 'subsequent': [20], 'development': [21], 'of': [22, 59, 75, 151, 159, 163, 184, 201, 212, 233, 248], 'persistent': [23, 127, 197, 234, 250], 'wheezing': [24, 251], 'children.': [26, 253], 'Using': [27], 'mouse': [29, 239], 'model': [30, 51], 'we': [31, 96], 'demonstrated': [32, 175], 'that': [33, 176], 'RSV': [34, 49, 89, 111, 133, 139, 152, 213, 235], 'induces': [35], 'long-term': [36, 61, 219], 'airway': [37, 42, 45, 62, 121, 128, 220], 'disease': [38, 122, 221], 'characterized': [39, 123], 'by': [40, 110, 124, 223], 'chronic': [41, 107, 120, 203], 'inflammation': [43], 'hyperreactivity': [46], '(AHR).': [47], 'The': [48, 161], 'murine': [50], 'offers': [52], 'great': [53], 'advantages': [54], 'to': [55, 71, 87, 103, 218, 229], 'study': [56], 'immunopathogenesis': [58], 'RSV-induced': [60, 249], 'disease.': [63], 'Mice': [64], 'can': [65, 78, 97], 'be': [66, 143], 'challenged': [67], 'with': [68, 114, 192, 196], 'aerosolized': [69], 'methylcholine': [70], 'determine': [72], 'presence': [74, 150, 162, 200], 'AHR.': [76], 'We': [77], 'apply': [79], 'reverse': [81], 'transcription-polymerase': [82], 'chain': [83], 'reaction': [84], 'assay': [85], '(RT-PCR)': [86], 'detect': [88], 'RNA': [90, 153, 165, 236], 'perform': [98], 'lung': [99], 'gene': [100, 207], 'expression': [101, 208], 'analysis': [102], 'further': [104], 'characterize': [105], 'changes': [108], 'induced': [109, 222], 'infection.': [112], 'Compared': [113], 'sham-inoculated': [115], 'controls,': [116], 'RSV-infected': [117, 189, 194], 'mice': [118, 190, 195], 'developed': [119], 'AHR': [125, 198], 'inflammation.': [129], 'Forty-two': [130], 'days': [131], 'after': [132, 169], 'infection,': [134], 'time': [136], 'point': [137], 'when': [138], 'could': [140], 'no': [141], 'longer': [142], 'isolated,': [144], 'RT-PCR': [145], 'demonstrated,': [146], 'quite': [147], 'unexpectedly,': [148], 'mice.': [160], 'genomic': [164], 'persisted': [166], 'for': [167], 'months': [168], 'inoculation.': [170], 'Furthermore,': [171], 'preliminary': [172], 'also': [174], 'on': [177], 'day': [178], '42': [179], 'there': [180], 'were': [181], 'number': [183], 'genes': [185], 'differentially': [186], 'expressed': [187], 'compared': [191], 'controls.': [193], 'exhibited': [199], 'abnormal': [202], 'inflammatory': [204], 'changes,': [205], 'altered': [206], 'profiles,': [209], 'persistence': [211], 'RNA,': [214], 'which': [215], 'may': [216], 'contribute': [217], 'RSV.': [224], 'Future': [225], 'are': [227], 'needed': [228], 'define': [230], 'significance': [232], 'model,': [240], 'its': [242], 'potential': [243], 'role': [244], 'pathogenesis': [247]}}\n"
     ]
    }
   ],
   "source": [
    "print(result['abstract_inverted_index'].iloc[0])"
   ]
  },
  {
   "cell_type": "code",
   "execution_count": 16,
   "metadata": {},
   "outputs": [
    {
     "name": "stdout",
     "output_type": "stream",
     "text": [
      "597001\n"
     ]
    }
   ],
   "source": [
    "print(len(result))"
   ]
  },
  {
   "cell_type": "code",
   "execution_count": 35,
   "metadata": {},
   "outputs": [
    {
     "name": "stderr",
     "output_type": "stream",
     "text": [
      "4it [00:00, 10.00it/s]"
     ]
    },
    {
     "name": "stdout",
     "output_type": "stream",
     "text": [
      "0 Several studies have described a clear association between respiratory syncytial virus (RSV) lower respiratory tract infection in infancy and the subsequent development of persistent wheezing in children. Using the mouse model we demonstrated that RSV induces long-term airway disease characterized by chronic airway inflammation and airway hyperreactivity (AHR). The RSV murine model offers great advantages to study the immunopathogenesis of RSV-induced long-term airway disease. Mice can be challenged with aerosolized methylcholine to determine the presence of AHR. We can apply the reverse transcription-polymerase chain reaction assay (RT-PCR) to detect RSV RNA in the respiratory tract and we can perform lung gene expression analysis to further characterize the chronic changes induced by RSV infection. Compared with sham-inoculated controls, RSV-infected mice developed chronic airway disease characterized by AHR and persistent airway inflammation. Forty-two days after RSV infection, a time point when RSV could no longer be isolated, RT-PCR demonstrated, quite unexpectedly, the presence of RSV RNA in the lower respiratory tract of mice. The presence of genomic RNA persisted for months after inoculation. Furthermore, preliminary studies also demonstrated that on day 42 there were a number of genes differentially expressed in RSV-infected mice compared with controls. RSV-infected mice with persistent AHR exhibited presence of abnormal chronic inflammatory changes, altered gene expression profiles, and persistence of RSV RNA, which may contribute to long-term airway disease induced by RSV. Future studies are needed to define the significance of persistent RSV RNA in the mouse model, and its potential role in the pathogenesis of RSV-induced persistent wheezing in children.\n",
      "1 In this work we present a general methodology to enhance the interfacial adhesion in polymeric composites by creating nanoscale morphologies on the surfaces of particles. The surface morphology, wh...\n",
      "2 The power generation system with a doubly fed induction generator operating autonomously is described in the following paper. A simplified topology of the power electronics converter connected to the rotor was applied. The subsynchronous range of speed is mainly possible for this system, but in the negative rated slip range it can operate also. The external source is used for initial excitation of the generator and next the excitation power source is switching to the stator. The space vector theory is used in the control algorithm. The stator voltage vector components in x and y axes in the rotating reference frame are responsible properly for the stator voltage amplitude and frequency. In this way the stator voltage frequency and amplitude are mechanical speed independent. A better stability of the power system is achieved by the proportional rotor current feedback loop using. PSIM software was used for regulators quick designing and tuning. A laboratory system with 1.5 kW slip-ring machine was build and tested. As a controller the floating point processor Share/spl trade/ with a programmable unit ALTERA/spl trade//FPGA support was used. Results of the simulation tests and oscillograms from the laboratory setup are presented in the paper.\n",
      "3 In the cyanobacterium Synechocystis sp. PCC 6803, photosynthetic electron transport from the cytochrome bf complex to photosystem I can be mediated by cytochrome c553 or plastocyanin. The concentration of copper in the growth medium determines which protein is synthesized. To investigate the role of cytochrome c553 in photosynthetic and respiratory electron transport, we cloned the petJ gene encoding cytochrome c553 from Synechocystis 6803 and determined its nucleotide sequence. The 360-base pair open reading frame encodes an 85-amino acid mature protein (predicted molecular mass = 8,742 Da) with a 35-amino acid presequence. Two mutants were constructed, one in which the petJ gene for cytochrome c553 was deleted and another in which the petE gene for plastocyanin was insertionally inactivated. The cytochrome c553 deletion mutant (M109) grew photoautotrophically, even in the absence of copper that prevented the synthesis of plastocyanin, as did the plastocyanin-deficient mutant (M114) grown in the presence of copper that prevented the synthesis of cytochrome c553. The M109 strain exhibited photosynthetic electron transport rates similar to those of wild-type cells when grown under conditions that prevented the synthesis of plastocyanin. Moreover, in M109 cells grown without copper, cytochrome f was completely photooxidized in less than 10 ms by photosystem I. These observations show that electrons can be transferred from the cytochrome bf complex to photosystem I in the absence of both cytochrome c553 and plastocyanin. Additionally, the M109 cells exhibited dark respiration rates comparable with those of wild-type cells, indicating that cytochrome c553 is not obligately required for respiratory electron transport in Synechocystis 6803.\n",
      "4 As the less familiar cousin of quantitative PCR moves mainstream, researchers have more options to choose from.\n"
     ]
    },
    {
     "name": "stderr",
     "output_type": "stream",
     "text": [
      "\n"
     ]
    }
   ],
   "source": [
    "result['abstract'] = ''\n",
    "# Iterate over abstract_inverted_index column\n",
    "for index, row in tqdm(result.iterrows()):\n",
    "    word_index = []\n",
    "    count += 1\n",
    "    try:\n",
    "        for key, value in row['abstract_inverted_index'].items():\n",
    "            if key == 'InvertedIndex':\n",
    "                for innerkey, innervalue in value.items():\n",
    "                    for innerindex in innervalue:\n",
    "                        word_index.append([innerkey, innerindex])\n",
    "        # Sort list by index\n",
    "        word_index.sort(key=lambda x: x[1])\n",
    "        # Join first element of each list in word_index\n",
    "        abstract = ' '.join([i[0] for i in word_index])\n",
    "        # Add column abstract to result dataframe\n",
    "        # result.loc[index, 'abstract'] = abstract\n",
    "        result.at[index, 'abstract'] = abstract\n",
    "        print(index, abstract)\n",
    "    except AttributeError:\n",
    "        continue"
   ]
  },
  {
   "cell_type": "code",
   "execution_count": 27,
   "metadata": {},
   "outputs": [
    {
     "name": "stdout",
     "output_type": "stream",
     "text": [
      "0                                                      \n",
      "1                                                      \n",
      "2                                                      \n",
      "3                                                      \n",
      "4                                                      \n",
      "7                                                      \n",
      "8                                                      \n",
      "9                                                      \n",
      "10                                                     \n",
      "11                                                     \n",
      "12                                                     \n",
      "13                                                     \n",
      "15                                                     \n",
      "16    As the less familiar cousin of quantitative PC...\n",
      "17                                                     \n",
      "18                                                     \n",
      "19                                                     \n",
      "21                                                     \n",
      "22                                                     \n",
      "23                                                     \n",
      "26                                                     \n",
      "27                                                     \n",
      "28    In this work we present a general methodology ...\n",
      "30                                                     \n",
      "31                                                     \n",
      "32                                                     \n",
      "33                                                     \n",
      "34                                                     \n",
      "35                                                     \n",
      "36                                                     \n",
      "37                                                     \n",
      "38                                                     \n",
      "39                                                     \n",
      "40                                                     \n",
      "41                                                     \n",
      "42                                                     \n",
      "43                                                     \n",
      "44                                                     \n",
      "45                                                     \n",
      "46                                                     \n",
      "48                                                     \n",
      "49                                                     \n",
      "50                                                     \n",
      "51                                                     \n",
      "52                                                     \n",
      "53                                                     \n",
      "54                                                     \n",
      "55                                                     \n",
      "56                                                     \n",
      "57                                                     \n",
      "Name: abstract, dtype: object\n"
     ]
    }
   ],
   "source": [
    "print(result['abstract'].head(50))"
   ]
  },
  {
   "cell_type": "code",
   "execution_count": 29,
   "metadata": {},
   "outputs": [],
   "source": [
    "# Save result dataframe to json\n",
    "result_test = result.head(100)\n",
    "result_test.to_json('/home/thiesen/Documents/Cleantech_Concepts/oaid_test.json', orient='records')"
   ]
  },
  {
   "cell_type": "code",
   "execution_count": 37,
   "metadata": {},
   "outputs": [],
   "source": [
    "df_new = pd.read_json('/mnt/hdd01/patentsview/Reliance on Science - Cleantech Patents/df_oaid_Cleantech_Y02_works.json')\n",
    "df_new_test = df_new.head(1000)\n",
    "df_new_test.to_json('/home/thiesen/Documents/Cleantech_Concepts/df_oaid_test.json', orient='records')"
   ]
  }
 ],
 "metadata": {
  "kernelspec": {
   "display_name": "venv",
   "language": "python",
   "name": "python3"
  },
  "language_info": {
   "codemirror_mode": {
    "name": "ipython",
    "version": 3
   },
   "file_extension": ".py",
   "mimetype": "text/x-python",
   "name": "python",
   "nbconvert_exporter": "python",
   "pygments_lexer": "ipython3",
   "version": "3.11.4"
  },
  "orig_nbformat": 4
 },
 "nbformat": 4,
 "nbformat_minor": 2
}
