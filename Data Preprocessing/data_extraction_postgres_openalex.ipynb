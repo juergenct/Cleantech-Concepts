{
 "cells": [
  {
   "cell_type": "code",
   "execution_count": 114,
   "metadata": {},
   "outputs": [],
   "source": [
    "import pandas as pd\n",
    "from sqlalchemy import create_engine, URL\n",
    "from tqdm import tqdm"
   ]
  },
  {
   "cell_type": "code",
   "execution_count": 38,
   "metadata": {},
   "outputs": [],
   "source": [
    "url_object = URL.create(\n",
    "    drivername='postgresql+psycopg2',\n",
    "    username='tie',\n",
    "    password='TIE%2023!tuhh',\n",
    "    host='134.28.58.100',\n",
    "    port=45432,\n",
    "    database='openalex_db',\n",
    ")"
   ]
  },
  {
   "cell_type": "code",
   "execution_count": 39,
   "metadata": {},
   "outputs": [
    {
     "data": {
      "text/plain": [
       "<sqlalchemy.engine.base.Connection at 0x7f2835378150>"
      ]
     },
     "execution_count": 39,
     "metadata": {},
     "output_type": "execute_result"
    }
   ],
   "source": [
    "engine = sqlalchemy.create_engine(url_object)\n",
    "# Check if connection is successful\n",
    "engine.connect()"
   ]
  },
  {
   "cell_type": "code",
   "execution_count": 42,
   "metadata": {},
   "outputs": [],
   "source": [
    "df = pd.read_csv('/mnt/hdd01/patentsview/Reliance on Science - Cleantech Patents/df_oaid_Cleantech_Y02.csv')"
   ]
  },
  {
   "cell_type": "code",
   "execution_count": 46,
   "metadata": {},
   "outputs": [],
   "source": [
    "# Convert column oaid and patent_id to string\n",
    "df['oaid'] = df['oaid'].astype(str)\n",
    "df['patent_id'] = df['patent_id'].astype(str)"
   ]
  },
  {
   "cell_type": "code",
   "execution_count": 49,
   "metadata": {},
   "outputs": [],
   "source": [
    "# Erase everything in oaid and patent_id after the dot\n",
    "df['oaid'] = df['oaid'].str.split('.').str[0]\n",
    "df['patent_id'] = df['patent_id'].str.split('.').str[0]"
   ]
  },
  {
   "cell_type": "code",
   "execution_count": 68,
   "metadata": {},
   "outputs": [],
   "source": [
    "# Add column 'full_oaid' with https://openalex.org/W + oaid\n",
    "df['full_oaid'] = 'https://openalex.org/W' + df['oaid']"
   ]
  },
  {
   "cell_type": "code",
   "execution_count": 69,
   "metadata": {},
   "outputs": [],
   "source": [
    "# Keep only columns oaid, patent_id and full_oaid\n",
    "df = df[['oaid', 'patent_id', 'full_oaid']]"
   ]
  },
  {
   "cell_type": "code",
   "execution_count": 71,
   "metadata": {},
   "outputs": [
    {
     "data": {
      "text/plain": [
       "145"
      ]
     },
     "execution_count": 71,
     "metadata": {},
     "output_type": "execute_result"
    }
   ],
   "source": [
    "# Insert temporary table into database\n",
    "df.to_sql('temp_table', engine, if_exists='replace', index=False)"
   ]
  },
  {
   "cell_type": "code",
   "execution_count": 74,
   "metadata": {},
   "outputs": [],
   "source": [
    "# SQL query to get all data from data table that has an id in the temp_table\n",
    "query = '''\n",
    "    SELECT *\n",
    "    FROM openalex.works \n",
    "    JOIN temp_table ON openalex.works.id = temp_table.full_oaid\n",
    "'''"
   ]
  },
  {
   "cell_type": "code",
   "execution_count": 75,
   "metadata": {},
   "outputs": [],
   "source": [
    "result = pd.read_sql(query, engine)"
   ]
  },
  {
   "cell_type": "code",
   "execution_count": 82,
   "metadata": {},
   "outputs": [
    {
     "name": "stdout",
     "output_type": "stream",
     "text": [
      "Index(['id', 'doi', 'title', 'display_name', 'publication_year',\n",
      "       'publication_date', 'type', 'cited_by_count', 'is_retracted',\n",
      "       'is_paratext', 'cited_by_api_url', 'abstract_inverted_index', 'oaid',\n",
      "       'patent_id', 'full_oaid'],\n",
      "      dtype='object')\n"
     ]
    }
   ],
   "source": [
    "print(result.columns)"
   ]
  },
  {
   "cell_type": "code",
   "execution_count": 83,
   "metadata": {},
   "outputs": [
    {
     "name": "stdout",
     "output_type": "stream",
     "text": [
      "0    {'IndexLength': 188, 'InvertedIndex': {'The': ...\n",
      "1    {'IndexLength': 139, 'InvertedIndex': {'Sequen...\n",
      "2    {'IndexLength': 144, 'InvertedIndex': {'Abstra...\n",
      "3    {'IndexLength': 237, 'InvertedIndex': {'Edward...\n",
      "4    {'IndexLength': 144, 'InvertedIndex': {'Abstra...\n",
      "Name: abstract_inverted_index, dtype: object\n"
     ]
    }
   ],
   "source": [
    "print(result['abstract_inverted_index'].head())"
   ]
  },
  {
   "cell_type": "code",
   "execution_count": 99,
   "metadata": {},
   "outputs": [
    {
     "name": "stdout",
     "output_type": "stream",
     "text": [
      "{'IndexLength': 188, 'InvertedIndex': {'The': [0, 67, 144], 'Integrated': [1, 145], 'Solar': [2, 146], 'Upper': [3, 147], 'Stage': [4, 148], '(ISUS)': [5], 'Program': [6], 'at': [7], 'the': [8, 123, 173, 175, 179, 182], 'US': [9, 65], 'Air': [10, 25], 'Force`s': [11], 'Phillips': [12], 'Laboratory': [13], 'is': [14, 70, 142, 149], 'directing': [15], 'its': [16], 'efforts': [17], 'to': [18, 85, 88, 106, 163], 'solving': [19], 'endemic': [20], 'national': [21], 'spacelift': [22, 31], 'architecture': [23], 'problems.': [24], 'Force': [26], 'Space': [27], 'Command': [28], 'has': [29], 'called': [30], 'both': [32, 95], 'unaffordable': [33], 'and': [34, 47, 56, 98, 108, 112, 134, 159, 181, 185], 'nonresponsive;': [35], 'today`s': [36], 'space': [37, 138], 'launch': [38, 107], 'systems': [39], 'are': [40, 120, 167], 'descendants': [41], 'of': [42, 125, 140, 153], '1950`s': [43], 'era': [44], 'ICBM': [45], 'technologies': [46], 'require': [48, 109], 'prolonged': [49], 'on-pad': [50], 'processing.': [51], 'Advanced': [52], 'propulsion': [53, 162], 'techniques,': [54], 'reusability,': [55], 'modular': [57], 'architectures': [58], 'have': [59], 'not': [60], 'been': [61], 'generally': [62], 'incorporated': [63], 'into': [64], 'systems.': [66], 'ISUS': [68, 117, 141], 'system': [69], 'an': [71], 'advanced,': [72], 'integrated': [73], 'upper': [74], 'stage': [75], 'concept': [76], 'that': [77, 155, 171], 'would': [78], 'permit': [79], 'payload': [80, 113], 'realignment,': [81], 'allowing': [82, 122], 'large': [83], 'payloads': [84, 126], 'be': [86], 'moved': [87], 'smaller,': [89], 'less': [90, 105, 110], 'expensive': [91], 'boosters;': [92], 'such': [93], 'realignment': [94, 124], 'reduces': [96], 'cost': [97, 104], 'enhances': [99], 'responsiveness,': [100], 'as': [101], 'smaller': [102], 'boosters': [103], 'vehicle': [111], 'processing': [114], 'time.': [115], 'Three': [116], 'operational': [118], 'concepts': [119], 'discussed,': [121], 'currently': [127], 'launched': [128], 'aboard': [129], 'Titan': [130], 'IV/Centaur,': [131], 'Atlas': [132], 'IIAS,': [133], 'Delta': [135], '2.': [136], 'A': [137], 'demonstration': [139], 'examined.': [143], 'a': [150, 164], 'single': [151], 'piece': [152], 'hardware': [154], 'provides': [156], 'electric': [157], 'power': [158], 'orbit': [160], 'transfer': [161], 'spacecraft.': [165], 'There': [166], 'three': [168], 'major': [169], 'subsystems': [170], 'comprise': [172], 'ISUS;': [174], 'receiver/absorber/converter': [176], 'or': [177], 'RAC,': [178], 'concentrators,': [180], 'hydrogen': [183], 'tankage': [184], 'feed': [186], 'subsystem.': [187]}}\n"
     ]
    }
   ],
   "source": [
    "print(result['abstract_inverted_index'].iloc[0])"
   ]
  },
  {
   "cell_type": "code",
   "execution_count": 115,
   "metadata": {},
   "outputs": [
    {
     "name": "stderr",
     "output_type": "stream",
     "text": [
      "0it [00:00, ?it/s]"
     ]
    },
    {
     "name": "stdout",
     "output_type": "stream",
     "text": [
      "The Integrated Solar Upper Stage (ISUS) Program at the US Air Force`s Phillips Laboratory is directing its efforts to solving endemic national spacelift architecture problems. Air Force Space Command has called spacelift both unaffordable and nonresponsive; today`s space launch systems are descendants of 1950`s era ICBM technologies and require prolonged on-pad processing. Advanced propulsion techniques, reusability, and modular architectures have not been generally incorporated into US systems. The ISUS system is an advanced, integrated upper stage concept that would permit payload realignment, allowing large payloads to be moved to smaller, less expensive boosters; such realignment both reduces cost and enhances responsiveness, as smaller boosters cost less to launch and require less vehicle and payload processing time. Three ISUS operational concepts are discussed, allowing the realignment of payloads currently launched aboard Titan IV/Centaur, Atlas IIAS, and Delta 2. A space demonstration of ISUS is examined. The Integrated Solar Upper Stage is a single piece of hardware that provides electric power and orbit transfer propulsion to a spacecraft. There are three major subsystems that comprise the ISUS; the receiver/absorber/converter or RAC, the concentrators, and the hydrogen tankage and feed subsystem.\n"
     ]
    },
    {
     "name": "stderr",
     "output_type": "stream",
     "text": [
      "\n"
     ]
    }
   ],
   "source": [
    "# Iterate over abstract_inverted_index column\n",
    "for index, row in tqdm(result.iterrows()):\n",
    "    word_index = []\n",
    "    try:\n",
    "        for key, value in row['abstract_inverted_index'].items():\n",
    "            if key == 'InvertedIndex':\n",
    "                for innerkey, innervalue in value.items():\n",
    "                    for index in innervalue:\n",
    "                        word_index.append([innerkey, index])\n",
    "        # Sort list by index\n",
    "        word_index.sort(key=lambda x: x[1])\n",
    "        # Join first element of each list in word_index\n",
    "        abstract = ' '.join([i[0] for i in word_index])\n",
    "        # Add column abstract to result dataframe\n",
    "        result.loc[index, 'abstract'] = abstract\n",
    "        print(result.loc[index, 'abstract'])\n",
    "        break\n",
    "    except AttributeError:\n",
    "        continue"
   ]
  },
  {
   "cell_type": "code",
   "execution_count": 116,
   "metadata": {},
   "outputs": [],
   "source": [
    "# Save result dataframe to json\n",
    "result_test = result.head(100)\n",
    "result_test.to_json('/home/thiesen/Documents/Cleantech_Concepts/oaid_test.json', orient='records')"
   ]
  }
 ],
 "metadata": {
  "kernelspec": {
   "display_name": "venv",
   "language": "python",
   "name": "python3"
  },
  "language_info": {
   "codemirror_mode": {
    "name": "ipython",
    "version": 3
   },
   "file_extension": ".py",
   "mimetype": "text/x-python",
   "name": "python",
   "nbconvert_exporter": "python",
   "pygments_lexer": "ipython3",
   "version": "3.11.4"
  },
  "orig_nbformat": 4
 },
 "nbformat": 4,
 "nbformat_minor": 2
}
