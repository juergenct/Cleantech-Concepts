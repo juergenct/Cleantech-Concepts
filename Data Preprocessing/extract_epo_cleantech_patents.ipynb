{
 "cells": [
  {
   "cell_type": "code",
   "execution_count": 1,
   "metadata": {},
   "outputs": [],
   "source": [
    "import pandas as pd\n",
    "from sqlalchemy import create_engine, URL\n",
    "from tqdm import tqdm"
   ]
  },
  {
   "cell_type": "code",
   "execution_count": 10,
   "metadata": {},
   "outputs": [],
   "source": [
    "url_object = URL.create(\n",
    "    drivername='postgresql+psycopg2',\n",
    "    username='tie',\n",
    "    password='TIE%2023!tuhh',\n",
    "    host='134.28.58.100',\n",
    "    port=25432,\n",
    "    database='Patstat',\n",
    ")"
   ]
  },
  {
   "cell_type": "code",
   "execution_count": 16,
   "metadata": {},
   "outputs": [
    {
     "name": "stderr",
     "output_type": "stream",
     "text": [
      "WARNING:  database \"Patstat\" has a collation version mismatch\n",
      "DETAIL:  The database was created using collation version 2.31, but the operating system provides version 2.36.\n",
      "HINT:  Rebuild all objects in this database that use the default collation and run ALTER DATABASE \"Patstat\" REFRESH COLLATION VERSION, or build PostgreSQL with the right library version.\n"
     ]
    },
    {
     "data": {
      "text/plain": [
       "<sqlalchemy.engine.base.Connection at 0x7f6cf5e91510>"
      ]
     },
     "execution_count": 16,
     "metadata": {},
     "output_type": "execute_result"
    }
   ],
   "source": [
    "engine = create_engine(url_object)\n",
    "# Check if connection is successful\n",
    "engine.connect()"
   ]
  },
  {
   "cell_type": "code",
   "execution_count": 23,
   "metadata": {},
   "outputs": [],
   "source": [
    "query_cpc = \"\"\"\n",
    "    SELECT appln_id, cpc_class_symbol\n",
    "    FROM public.tls224_appln_cpc\n",
    "    WHERE cpc_class_symbol LIKE 'Y02%%';\n",
    "\"\"\""
   ]
  },
  {
   "cell_type": "code",
   "execution_count": 24,
   "metadata": {},
   "outputs": [],
   "source": [
    "df_cpc_epo = pd.read_sql_query(query_cpc, engine)"
   ]
  },
  {
   "cell_type": "code",
   "execution_count": 25,
   "metadata": {},
   "outputs": [],
   "source": [
    "# Group by appln_id and aggregate cpc_class_symbol\n",
    "df_cpc_epo_list = df_cpc_epo.groupby('appln_id')['cpc_class_symbol'].apply(list).reset_index()"
   ]
  },
  {
   "cell_type": "code",
   "execution_count": 31,
   "metadata": {},
   "outputs": [],
   "source": [
    "# Cast appln_id to string\n",
    "df_cpc_epo_list['appln_id'] = df_cpc_epo_list['appln_id'].astype(str)"
   ]
  },
  {
   "cell_type": "code",
   "execution_count": 32,
   "metadata": {},
   "outputs": [],
   "source": [
    "# Delete everything after \".\" in appln_id\n",
    "df_cpc_epo_list['appln_id'] = df_cpc_epo_list['appln_id'].str.split('.').str[0]"
   ]
  },
  {
   "cell_type": "code",
   "execution_count": 65,
   "metadata": {},
   "outputs": [
    {
     "data": {
      "text/plain": [
       "543"
      ]
     },
     "execution_count": 65,
     "metadata": {},
     "output_type": "execute_result"
    }
   ],
   "source": [
    "# Insert temporary table into database\n",
    "df_cpc_epo_list.to_sql('temp_cpc_epo', engine, if_exists='replace', index=False)"
   ]
  },
  {
   "cell_type": "code",
   "execution_count": 76,
   "metadata": {},
   "outputs": [],
   "source": [
    "# SQL query to get appln_auth and granted from tls201_appln (casting appln_id to double precision)\n",
    "query_appln = \"\"\"\n",
    "    SELECT \n",
    "        tls201_appln.appln_id, \n",
    "        tls201_appln.appln_auth, \n",
    "        tls201_appln.granted\n",
    "    FROM \n",
    "        tls201_appln\n",
    "    JOIN \n",
    "        temp_cpc_epo \n",
    "    ON \n",
    "        tls201_appln.appln_id = CAST(temp_cpc_epo.appln_id AS DOUBLE PRECISION);\n",
    "\"\"\""
   ]
  },
  {
   "cell_type": "code",
   "execution_count": 77,
   "metadata": {},
   "outputs": [],
   "source": [
    "# Run query for each appln_id in epo_appln_id_list\n",
    "df_appln_cpc_epo = pd.read_sql(query_appln, engine)"
   ]
  },
  {
   "cell_type": "code",
   "execution_count": 82,
   "metadata": {},
   "outputs": [],
   "source": [
    "# Drop all rows where appln_auth not equal to EP\n",
    "df_appln_cpc_ep = df_appln_cpc_epo[df_appln_cpc_epo['appln_auth'] == 'EP']"
   ]
  },
  {
   "cell_type": "code",
   "execution_count": 85,
   "metadata": {},
   "outputs": [],
   "source": [
    "# Drop all rows where granted not equal to Y\n",
    "df_appln_cpc_ep_granted = df_appln_cpc_ep[df_appln_cpc_ep['granted'] == 'Y']"
   ]
  },
  {
   "cell_type": "code",
   "execution_count": 96,
   "metadata": {},
   "outputs": [
    {
     "name": "stderr",
     "output_type": "stream",
     "text": [
      "/tmp/ipykernel_1823398/1341935432.py:2: SettingWithCopyWarning: \n",
      "A value is trying to be set on a copy of a slice from a DataFrame.\n",
      "Try using .loc[row_indexer,col_indexer] = value instead\n",
      "\n",
      "See the caveats in the documentation: https://pandas.pydata.org/pandas-docs/stable/user_guide/indexing.html#returning-a-view-versus-a-copy\n",
      "  df_appln_cpc_ep_granted['appln_id'] = df_appln_cpc_ep_granted['appln_id'].str.split('.').str[0]\n",
      "/tmp/ipykernel_1823398/1341935432.py:6: SettingWithCopyWarning: \n",
      "A value is trying to be set on a copy of a slice from a DataFrame.\n",
      "Try using .loc[row_indexer,col_indexer] = value instead\n",
      "\n",
      "See the caveats in the documentation: https://pandas.pydata.org/pandas-docs/stable/user_guide/indexing.html#returning-a-view-versus-a-copy\n",
      "  df_appln_cpc_ep_granted['appln_id'] = df_appln_cpc_ep_granted['appln_id'].astype(str)\n"
     ]
    }
   ],
   "source": [
    "# Throw away everything after dot in appln_id\n",
    "df_appln_cpc_ep_granted['appln_id'] = df_appln_cpc_ep_granted['appln_id'].str.split('.').str[0]\n",
    "df_appln_cpc_epo['appln_id'] = df_appln_cpc_epo['appln_id'].str.split('.').str[0]\n",
    "\n",
    "# Cast appln_id to string\n",
    "df_appln_cpc_ep_granted['appln_id'] = df_appln_cpc_ep_granted['appln_id'].astype(str)\n",
    "df_appln_cpc_epo['appln_id'] = df_appln_cpc_epo['appln_id'].astype(str)"
   ]
  },
  {
   "cell_type": "code",
   "execution_count": 98,
   "metadata": {},
   "outputs": [],
   "source": [
    "# Merge df_cpc_ep and df_appln_cpc_ep_granted on appln_id to get cpc_class_symbol for granted patents\n",
    "df_appln_cpc_ep_granted = df_appln_cpc_ep_granted.merge(df_cpc_epo_list, on='appln_id', how='left')\n",
    "df_appln_cpc_epo = df_appln_cpc_epo.merge(df_cpc_epo_list, on='appln_id', how='left')"
   ]
  },
  {
   "cell_type": "code",
   "execution_count": 102,
   "metadata": {},
   "outputs": [],
   "source": [
    "# Save both dataframes to csv\n",
    "df_appln_cpc_ep_granted.to_csv('/mnt/hdd01/PATSTAT Working Directory/cleantech_ep_granted.csv', index=False)\n",
    "df_appln_cpc_epo.to_csv('/mnt/hdd01/PATSTAT Working Directory/cleantech_patstat_all.csv', index=False)"
   ]
  }
 ],
 "metadata": {
  "kernelspec": {
   "display_name": "venv",
   "language": "python",
   "name": "python3"
  },
  "language_info": {
   "codemirror_mode": {
    "name": "ipython",
    "version": 3
   },
   "file_extension": ".py",
   "mimetype": "text/x-python",
   "name": "python",
   "nbconvert_exporter": "python",
   "pygments_lexer": "ipython3",
   "version": "3.11.5"
  },
  "orig_nbformat": 4
 },
 "nbformat": 4,
 "nbformat_minor": 2
}
