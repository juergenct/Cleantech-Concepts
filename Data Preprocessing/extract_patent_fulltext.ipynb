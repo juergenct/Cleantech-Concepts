{
 "cells": [
  {
   "cell_type": "markdown",
   "metadata": {},
   "source": [
    "# This is a trial-and-error script"
   ]
  },
  {
   "cell_type": "code",
   "execution_count": 2,
   "metadata": {},
   "outputs": [],
   "source": [
    "import os\n",
    "import pandas as pd"
   ]
  },
  {
   "cell_type": "code",
   "execution_count": 8,
   "metadata": {},
   "outputs": [],
   "source": [
    "# Load Fulltext Data\n",
    "df_claims = pd.read_csv('/Users/juergenthiesen/Documents/Patentsview/Cleantech Concepts/g_claims_2000.tsv', sep='\\t', encoding='utf-8')\n",
    "df_brf_summary = pd.read_csv('/Users/juergenthiesen/Documents/Patentsview/Cleantech Concepts/g_brf_sum_text_2000.tsv', sep='\\t', encoding='utf-8')\n",
    "df_desc = pd.read_csv('/Users/juergenthiesen/Documents/Patentsview/Cleantech Concepts/g_detail_desc_text_2000.tsv', sep='\\t', encoding='utf-8')\n",
    "df_claims['patent_id'] = df_claims['patent_id'].astype(str)\n",
    "df_brf_summary['patent_id'] = df_brf_summary['patent_id'].astype(str)\n",
    "df_desc['patent_id'] = df_desc['patent_id'].astype(str)"
   ]
  },
  {
   "cell_type": "code",
   "execution_count": 10,
   "metadata": {},
   "outputs": [],
   "source": [
    "# Sort df_claims by patent_id and then by claim_sequence\n",
    "df_claims.sort_values(by=['patent_id', 'claim_sequence'], inplace=True)\n",
    "df_brf_summary.sort_values(by=['patent_id'], inplace=True)\n",
    "df_desc.sort_values(by=['patent_id'], inplace=True)"
   ]
  },
  {
   "cell_type": "code",
   "execution_count": 5,
   "metadata": {},
   "outputs": [],
   "source": [
    "# Load Patent Data\n",
    "df_patent_id = pd.read_csv('/Users/juergenthiesen/Documents/Patentsview/Cleantech Concepts/g_patent_ids_rel_on_science_cleantech.csv')\n",
    "df_patent_id['patent_id'] = df_patent_id['patent_id'].astype(str)"
   ]
  },
  {
   "cell_type": "code",
   "execution_count": 11,
   "metadata": {},
   "outputs": [],
   "source": [
    "# Match df_patent_id and df_claims on patent_id\n",
    "df_patent_claims = df_claims.merge(df_patent_id, on='patent_id', how='right', validate='many_to_one')\n",
    "df_patent_brf_summary = df_brf_summary.merge(df_patent_id, on='patent_id', how='right', validate='many_to_one')\n",
    "df_patent_desc = df_desc.merge(df_patent_id, on='patent_id', how='right', validate='many_to_one')"
   ]
  },
  {
   "cell_type": "code",
   "execution_count": 5,
   "metadata": {},
   "outputs": [],
   "source": [
    "# Group by patent_id\n",
    "df_patent_claims_grouped = df_patent_claims.groupby('patent_id').agg({\n",
    "    'claim_sequence': list,\n",
    "    'claim_text': list,\n",
    "    'dependent': list,\n",
    "    'claim_number': list,\n",
    "    'exemplary': list,\n",
    "}).reset_index()"
   ]
  },
  {
   "cell_type": "code",
   "execution_count": 6,
   "metadata": {},
   "outputs": [],
   "source": [
    "# Create dictionary of claims\n",
    "df_patent_claims_grouped['claims'] = df_patent_claims_grouped.apply(lambda row: {i+1: {'claim_sequence': claim_sequence, 'claim_text': claim_text, 'dependent': dependent, 'claim_number': claim_number, 'exemplary': exemplary} for i, (claim_sequence, claim_text, dependent, claim_number, exemplary) in enumerate(zip(row['claim_sequence'], row['claim_text'], row['dependent'], row['claim_number'], row['exemplary']))}, axis=1)"
   ]
  },
  {
   "cell_type": "code",
   "execution_count": 15,
   "metadata": {},
   "outputs": [],
   "source": [
    "# Drop original columns\n",
    "df_patent_claims_grouped.drop(['claim_sequence', 'claim_text', 'dependent', 'claim_number', 'exemplary'], axis=1, inplace=True)"
   ]
  },
  {
   "cell_type": "code",
   "execution_count": 31,
   "metadata": {},
   "outputs": [],
   "source": [
    "# Save to json\n",
    "df_patent_claims_grouped.to_json('/Users/juergenthiesen/Documents/Patentsview/Cleantech Concepts/g_claims_2000.json', orient='records')\n",
    "df_patent_brf_summary.to_json('/Users/juergenthiesen/Documents/Patentsview/Cleantech Concepts/g_brf_sum_text_2000.json', orient='records')\n",
    "df_patent_desc_grouped = df_patent_desc.groupby('patent_id').apply(lambda x: {'description_text': x['description_text'].iloc[0], 'description_length': x['description_length'].iloc[0]}).reset_index(name='description')"
   ]
  }
 ],
 "metadata": {
  "kernelspec": {
   "display_name": "Python 3",
   "language": "python",
   "name": "python3"
  },
  "language_info": {
   "codemirror_mode": {
    "name": "ipython",
    "version": 3
   },
   "file_extension": ".py",
   "mimetype": "text/x-python",
   "name": "python",
   "nbconvert_exporter": "python",
   "pygments_lexer": "ipython3",
   "version": "3.10.10"
  },
  "orig_nbformat": 4
 },
 "nbformat": 4,
 "nbformat_minor": 2
}
