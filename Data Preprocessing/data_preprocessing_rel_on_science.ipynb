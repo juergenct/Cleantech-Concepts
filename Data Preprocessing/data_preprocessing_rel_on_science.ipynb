{
 "cells": [
  {
   "cell_type": "code",
   "execution_count": 2,
   "metadata": {},
   "outputs": [],
   "source": [
    "import os\n",
    "import json\n",
    "import random\n",
    "import string\n",
    "import pandas as pd\n",
    "import requests as req\n",
    "import multiprocessing as mp\n",
    "from tqdm import tqdm"
   ]
  },
  {
   "cell_type": "markdown",
   "metadata": {},
   "source": [
    "# Download Bulk Data from PatentsView (Brief Summary, Description and Claims)\n",
    "Script needs to be run in a .py file"
   ]
  },
  {
   "cell_type": "code",
   "execution_count": 4,
   "metadata": {},
   "outputs": [],
   "source": [
    "links_brf_sum = ['https://s3.amazonaws.com/data.patentsview.org/brief-summary-text/g_brf_sum_text_2023.tsv.zip',\n",
    "'https://s3.amazonaws.com/data.patentsview.org/brief-summary-text/g_brf_sum_text_2022.tsv.zip',\n",
    "'https://s3.amazonaws.com/data.patentsview.org/brief-summary-text/g_brf_sum_text_2021.tsv.zip',\n",
    "'https://s3.amazonaws.com/data.patentsview.org/brief-summary-text/g_brf_sum_text_2020.tsv.zip',\n",
    "'https://s3.amazonaws.com/data.patentsview.org/brief-summary-text/g_brf_sum_text_2019.tsv.zip',\n",
    "'https://s3.amazonaws.com/data.patentsview.org/brief-summary-text/g_brf_sum_text_2018.tsv.zip',\n",
    "'https://s3.amazonaws.com/data.patentsview.org/brief-summary-text/g_brf_sum_text_2017.tsv.zip',\n",
    "'https://s3.amazonaws.com/data.patentsview.org/brief-summary-text/g_brf_sum_text_2016.tsv.zip',\n",
    "'https://s3.amazonaws.com/data.patentsview.org/brief-summary-text/g_brf_sum_text_2015.tsv.zip',\n",
    "'https://s3.amazonaws.com/data.patentsview.org/brief-summary-text/g_brf_sum_text_2014.tsv.zip',\n",
    "'https://s3.amazonaws.com/data.patentsview.org/brief-summary-text/g_brf_sum_text_2013.tsv.zip',\n",
    "'https://s3.amazonaws.com/data.patentsview.org/brief-summary-text/g_brf_sum_text_2012.tsv.zip',\n",
    "'https://s3.amazonaws.com/data.patentsview.org/brief-summary-text/g_brf_sum_text_2011.tsv.zip',\n",
    "'https://s3.amazonaws.com/data.patentsview.org/brief-summary-text/g_brf_sum_text_2010.tsv.zip',\n",
    "'https://s3.amazonaws.com/data.patentsview.org/brief-summary-text/g_brf_sum_text_2009.tsv.zip',\n",
    "'https://s3.amazonaws.com/data.patentsview.org/brief-summary-text/g_brf_sum_text_2008.tsv.zip',\n",
    "'https://s3.amazonaws.com/data.patentsview.org/brief-summary-text/g_brf_sum_text_2007.tsv.zip',\n",
    "'https://s3.amazonaws.com/data.patentsview.org/brief-summary-text/g_brf_sum_text_2006.tsv.zip',\n",
    "'https://s3.amazonaws.com/data.patentsview.org/brief-summary-text/g_brf_sum_text_2005.tsv.zip',\n",
    "'https://s3.amazonaws.com/data.patentsview.org/brief-summary-text/g_brf_sum_text_2004.tsv.zip',\n",
    "'https://s3.amazonaws.com/data.patentsview.org/brief-summary-text/g_brf_sum_text_2003.tsv.zip',\n",
    "'https://s3.amazonaws.com/data.patentsview.org/brief-summary-text/g_brf_sum_text_2002.tsv.zip',\n",
    "'https://s3.amazonaws.com/data.patentsview.org/brief-summary-text/g_brf_sum_text_2001.tsv.zip',\n",
    "'https://s3.amazonaws.com/data.patentsview.org/brief-summary-text/g_brf_sum_text_2000.tsv.zip',\n",
    "'https://s3.amazonaws.com/data.patentsview.org/brief-summary-text/g_brf_sum_text_1999.tsv.zip',\n",
    "'https://s3.amazonaws.com/data.patentsview.org/brief-summary-text/g_brf_sum_text_1998.tsv.zip',\n",
    "'https://s3.amazonaws.com/data.patentsview.org/brief-summary-text/g_brf_sum_text_1997.tsv.zip',\n",
    "'https://s3.amazonaws.com/data.patentsview.org/brief-summary-text/g_brf_sum_text_1996.tsv.zip',\n",
    "'https://s3.amazonaws.com/data.patentsview.org/brief-summary-text/g_brf_sum_text_1995.tsv.zip',\n",
    "'https://s3.amazonaws.com/data.patentsview.org/brief-summary-text/g_brf_sum_text_1994.tsv.zip',\n",
    "'https://s3.amazonaws.com/data.patentsview.org/brief-summary-text/g_brf_sum_text_1993.tsv.zip',\n",
    "'https://s3.amazonaws.com/data.patentsview.org/brief-summary-text/g_brf_sum_text_1992.tsv.zip',\n",
    "'https://s3.amazonaws.com/data.patentsview.org/brief-summary-text/g_brf_sum_text_1991.tsv.zip',\n",
    "'https://s3.amazonaws.com/data.patentsview.org/brief-summary-text/g_brf_sum_text_1990.tsv.zip',\n",
    "'https://s3.amazonaws.com/data.patentsview.org/brief-summary-text/g_brf_sum_text_1989.tsv.zip',\n",
    "'https://s3.amazonaws.com/data.patentsview.org/brief-summary-text/g_brf_sum_text_1988.tsv.zip',\n",
    "'https://s3.amazonaws.com/data.patentsview.org/brief-summary-text/g_brf_sum_text_1987.tsv.zip',\n",
    "'https://s3.amazonaws.com/data.patentsview.org/brief-summary-text/g_brf_sum_text_1986.tsv.zip',\n",
    "'https://s3.amazonaws.com/data.patentsview.org/brief-summary-text/g_brf_sum_text_1985.tsv.zip',\n",
    "'https://s3.amazonaws.com/data.patentsview.org/brief-summary-text/g_brf_sum_text_1984.tsv.zip',\n",
    "'https://s3.amazonaws.com/data.patentsview.org/brief-summary-text/g_brf_sum_text_1983.tsv.zip',\n",
    "'https://s3.amazonaws.com/data.patentsview.org/brief-summary-text/g_brf_sum_text_1982.tsv.zip',\n",
    "'https://s3.amazonaws.com/data.patentsview.org/brief-summary-text/g_brf_sum_text_1981.tsv.zip',\n",
    "'https://s3.amazonaws.com/data.patentsview.org/brief-summary-text/g_brf_sum_text_1980.tsv.zip',\n",
    "'https://s3.amazonaws.com/data.patentsview.org/brief-summary-text/g_brf_sum_text_1979.tsv.zip',\n",
    "'https://s3.amazonaws.com/data.patentsview.org/brief-summary-text/g_brf_sum_text_1978.tsv.zip',\n",
    "'https://s3.amazonaws.com/data.patentsview.org/brief-summary-text/g_brf_sum_text_1977.tsv.zip',\n",
    "'https://s3.amazonaws.com/data.patentsview.org/brief-summary-text/g_brf_sum_text_1976.tsv.zip']"
   ]
  },
  {
   "cell_type": "code",
   "execution_count": null,
   "metadata": {},
   "outputs": [],
   "source": [
    "def download_brf_sum(link):\n",
    "    file_name = link.split('/')[-1]\n",
    "    brf_sum_dir = '/mnt/hdd01/patentsview/Brief Summary'\n",
    "    print('Downloading ' + file_name)\n",
    "    r = req.get(link, stream=True)\n",
    "    with open(brf_sum_dir + '/' + file_name, 'wb') as f:\n",
    "        for chunk in r.iter_content(chunk_size=1024):\n",
    "            if chunk:\n",
    "                f.write(chunk)\n",
    "    print(file_name + ' downloaded')\n",
    "\n",
    "def unzip_file_brf_sum(file_path):\n",
    "    print('Unzipping ' + file_path)\n",
    "    with zipfile.ZipFile(file_path, 'r') as zip_ref:\n",
    "        zip_ref.extractall(brf_sum_dir)\n",
    "    print(file_path + ' unzipped')\n",
    "    # Throw away the zip file\n",
    "    os.remove(file_path)\n",
    "    print(file_path + ' removed')"
   ]
  },
  {
   "cell_type": "code",
   "execution_count": 7,
   "metadata": {},
   "outputs": [],
   "source": [
    "links_description = ['https://s3.amazonaws.com/data.patentsview.org/detail-description-text/g_detail_desc_text_2023.tsv.zip',\n",
    "'https://s3.amazonaws.com/data.patentsview.org/detail-description-text/g_detail_desc_text_2022.tsv.zip',\n",
    "'https://s3.amazonaws.com/data.patentsview.org/detail-description-text/g_detail_desc_text_2021.tsv.zip',\n",
    "'https://s3.amazonaws.com/data.patentsview.org/detail-description-text/g_detail_desc_text_2020.tsv.zip',\n",
    "'https://s3.amazonaws.com/data.patentsview.org/detail-description-text/g_detail_desc_text_2019.tsv.zip',\n",
    "'https://s3.amazonaws.com/data.patentsview.org/detail-description-text/g_detail_desc_text_2018.tsv.zip',\n",
    "'https://s3.amazonaws.com/data.patentsview.org/detail-description-text/g_detail_desc_text_2017.tsv.zip',\n",
    "'https://s3.amazonaws.com/data.patentsview.org/detail-description-text/g_detail_desc_text_2016.tsv.zip',\n",
    "'https://s3.amazonaws.com/data.patentsview.org/detail-description-text/g_detail_desc_text_2015.tsv.zip',\n",
    "'https://s3.amazonaws.com/data.patentsview.org/detail-description-text/g_detail_desc_text_2014.tsv.zip',\n",
    "'https://s3.amazonaws.com/data.patentsview.org/detail-description-text/g_detail_desc_text_2013.tsv.zip',\n",
    "'https://s3.amazonaws.com/data.patentsview.org/detail-description-text/g_detail_desc_text_2012.tsv.zip',\n",
    "'https://s3.amazonaws.com/data.patentsview.org/detail-description-text/g_detail_desc_text_2011.tsv.zip',\n",
    "'https://s3.amazonaws.com/data.patentsview.org/detail-description-text/g_detail_desc_text_2010.tsv.zip',\n",
    "'https://s3.amazonaws.com/data.patentsview.org/detail-description-text/g_detail_desc_text_2009.tsv.zip',\n",
    "'https://s3.amazonaws.com/data.patentsview.org/detail-description-text/g_detail_desc_text_2008.tsv.zip',\n",
    "'https://s3.amazonaws.com/data.patentsview.org/detail-description-text/g_detail_desc_text_2007.tsv.zip',\n",
    "'https://s3.amazonaws.com/data.patentsview.org/detail-description-text/g_detail_desc_text_2006.tsv.zip',\n",
    "'https://s3.amazonaws.com/data.patentsview.org/detail-description-text/g_detail_desc_text_2005.tsv.zip',\n",
    "'https://s3.amazonaws.com/data.patentsview.org/detail-description-text/g_detail_desc_text_2004.tsv.zip',\n",
    "'https://s3.amazonaws.com/data.patentsview.org/detail-description-text/g_detail_desc_text_2003.tsv.zip',\n",
    "'https://s3.amazonaws.com/data.patentsview.org/detail-description-text/g_detail_desc_text_2002.tsv.zip',\n",
    "'https://s3.amazonaws.com/data.patentsview.org/detail-description-text/g_detail_desc_text_2001.tsv.zip',\n",
    "'https://s3.amazonaws.com/data.patentsview.org/detail-description-text/g_detail_desc_text_2000.tsv.zip',\n",
    "'https://s3.amazonaws.com/data.patentsview.org/detail-description-text/g_detail_desc_text_1999.tsv.zip',\n",
    "'https://s3.amazonaws.com/data.patentsview.org/detail-description-text/g_detail_desc_text_1998.tsv.zip',\n",
    "'https://s3.amazonaws.com/data.patentsview.org/detail-description-text/g_detail_desc_text_1997.tsv.zip',\n",
    "'https://s3.amazonaws.com/data.patentsview.org/detail-description-text/g_detail_desc_text_1996.tsv.zip',\n",
    "'https://s3.amazonaws.com/data.patentsview.org/detail-description-text/g_detail_desc_text_1995.tsv.zip',\n",
    "'https://s3.amazonaws.com/data.patentsview.org/detail-description-text/g_detail_desc_text_1994.tsv.zip',\n",
    "'https://s3.amazonaws.com/data.patentsview.org/detail-description-text/g_detail_desc_text_1993.tsv.zip',\n",
    "'https://s3.amazonaws.com/data.patentsview.org/detail-description-text/g_detail_desc_text_1992.tsv.zip',\n",
    "'https://s3.amazonaws.com/data.patentsview.org/detail-description-text/g_detail_desc_text_1991.tsv.zip',\n",
    "'https://s3.amazonaws.com/data.patentsview.org/detail-description-text/g_detail_desc_text_1990.tsv.zip',\n",
    "'https://s3.amazonaws.com/data.patentsview.org/detail-description-text/g_detail_desc_text_1989.tsv.zip',\n",
    "'https://s3.amazonaws.com/data.patentsview.org/detail-description-text/g_detail_desc_text_1988.tsv.zip',\n",
    "'https://s3.amazonaws.com/data.patentsview.org/detail-description-text/g_detail_desc_text_1987.tsv.zip',\n",
    "'https://s3.amazonaws.com/data.patentsview.org/detail-description-text/g_detail_desc_text_1986.tsv.zip',\n",
    "'https://s3.amazonaws.com/data.patentsview.org/detail-description-text/g_detail_desc_text_1985.tsv.zip',\n",
    "'https://s3.amazonaws.com/data.patentsview.org/detail-description-text/g_detail_desc_text_1984.tsv.zip',\n",
    "'https://s3.amazonaws.com/data.patentsview.org/detail-description-text/g_detail_desc_text_1983.tsv.zip',\n",
    "'https://s3.amazonaws.com/data.patentsview.org/detail-description-text/g_detail_desc_text_1982.tsv.zip',\n",
    "'https://s3.amazonaws.com/data.patentsview.org/detail-description-text/g_detail_desc_text_1981.tsv.zip',\n",
    "'https://s3.amazonaws.com/data.patentsview.org/detail-description-text/g_detail_desc_text_1980.tsv.zip',\n",
    "'https://s3.amazonaws.com/data.patentsview.org/detail-description-text/g_detail_desc_text_1979.tsv.zip',\n",
    "'https://s3.amazonaws.com/data.patentsview.org/detail-description-text/g_detail_desc_text_1978.tsv.zip',\n",
    "'https://s3.amazonaws.com/data.patentsview.org/detail-description-text/g_detail_desc_text_1977.tsv.zip',\n",
    "'https://s3.amazonaws.com/data.patentsview.org/detail-description-text/g_detail_desc_text_1976.tsv.zip']"
   ]
  },
  {
   "cell_type": "code",
   "execution_count": null,
   "metadata": {},
   "outputs": [],
   "source": [
    "def download_desc(link):\n",
    "    file_name = link.split('/')[-1]\n",
    "    desc_dir = '/mnt/hdd01/patentsview/Description'\n",
    "    print('Downloading ' + file_name)\n",
    "    r = req.get(link, stream=True)\n",
    "    with open(desc_dir + '/' + file_name, 'wb') as f:\n",
    "        for chunk in r.iter_content(chunk_size=1024):\n",
    "            if chunk:\n",
    "                f.write(chunk)\n",
    "    print(file_name + ' downloaded')\n",
    "\n",
    "def unzip_file_desc(file_path):\n",
    "    print('Unzipping ' + file_path)\n",
    "    with zipfile.ZipFile(file_path, 'r') as zip_ref:\n",
    "        zip_ref.extractall(desc_dir)\n",
    "    print(file_path + ' unzipped')\n",
    "    # Throw away the zip file\n",
    "    os.remove(file_path)\n",
    "    print(file_path + ' removed')"
   ]
  },
  {
   "cell_type": "code",
   "execution_count": null,
   "metadata": {},
   "outputs": [],
   "source": [
    "links_claims = ['https://s3.amazonaws.com/data.patentsview.org/claims/g_claims_2023.tsv.zip',\n",
    "'https://s3.amazonaws.com/data.patentsview.org/claims/g_claims_2022.tsv.zip',\n",
    "'https://s3.amazonaws.com/data.patentsview.org/claims/g_claims_2021.tsv.zip',\n",
    "'https://s3.amazonaws.com/data.patentsview.org/claims/g_claims_2020.tsv.zip',\n",
    "'https://s3.amazonaws.com/data.patentsview.org/claims/g_claims_2019.tsv.zip',\n",
    "'https://s3.amazonaws.com/data.patentsview.org/claims/g_claims_2018.tsv.zip',\n",
    "'https://s3.amazonaws.com/data.patentsview.org/claims/g_claims_2017.tsv.zip',\n",
    "'https://s3.amazonaws.com/data.patentsview.org/claims/g_claims_2016.tsv.zip',\n",
    "'https://s3.amazonaws.com/data.patentsview.org/claims/g_claims_2015.tsv.zip',\n",
    "'https://s3.amazonaws.com/data.patentsview.org/claims/g_claims_2014.tsv.zip',\n",
    "'https://s3.amazonaws.com/data.patentsview.org/claims/g_claims_2013.tsv.zip',\n",
    "'https://s3.amazonaws.com/data.patentsview.org/claims/g_claims_2012.tsv.zip',\n",
    "'https://s3.amazonaws.com/data.patentsview.org/claims/g_claims_2011.tsv.zip',\n",
    "'https://s3.amazonaws.com/data.patentsview.org/claims/g_claims_2010.tsv.zip',\n",
    "'https://s3.amazonaws.com/data.patentsview.org/claims/g_claims_2009.tsv.zip',\n",
    "'https://s3.amazonaws.com/data.patentsview.org/claims/g_claims_2008.tsv.zip',\n",
    "'https://s3.amazonaws.com/data.patentsview.org/claims/g_claims_2007.tsv.zip',\n",
    "'https://s3.amazonaws.com/data.patentsview.org/claims/g_claims_2006.tsv.zip',\n",
    "'https://s3.amazonaws.com/data.patentsview.org/claims/g_claims_2005.tsv.zip',\n",
    "'https://s3.amazonaws.com/data.patentsview.org/claims/g_claims_2004.tsv.zip',\n",
    "'https://s3.amazonaws.com/data.patentsview.org/claims/g_claims_2003.tsv.zip',\n",
    "'https://s3.amazonaws.com/data.patentsview.org/claims/g_claims_2002.tsv.zip',\n",
    "'https://s3.amazonaws.com/data.patentsview.org/claims/g_claims_2001.tsv.zip',\n",
    "'https://s3.amazonaws.com/data.patentsview.org/claims/g_claims_2000.tsv.zip',\n",
    "'https://s3.amazonaws.com/data.patentsview.org/claims/g_claims_1999.tsv.zip',\n",
    "'https://s3.amazonaws.com/data.patentsview.org/claims/g_claims_1998.tsv.zip',\n",
    "'https://s3.amazonaws.com/data.patentsview.org/claims/g_claims_1997.tsv.zip',\n",
    "'https://s3.amazonaws.com/data.patentsview.org/claims/g_claims_1996.tsv.zip',\n",
    "'https://s3.amazonaws.com/data.patentsview.org/claims/g_claims_1995.tsv.zip',\n",
    "'https://s3.amazonaws.com/data.patentsview.org/claims/g_claims_1994.tsv.zip',\n",
    "'https://s3.amazonaws.com/data.patentsview.org/claims/g_claims_1993.tsv.zip',\n",
    "'https://s3.amazonaws.com/data.patentsview.org/claims/g_claims_1992.tsv.zip',\n",
    "'https://s3.amazonaws.com/data.patentsview.org/claims/g_claims_1991.tsv.zip',\n",
    "'https://s3.amazonaws.com/data.patentsview.org/claims/g_claims_1990.tsv.zip',\n",
    "'https://s3.amazonaws.com/data.patentsview.org/claims/g_claims_1989.tsv.zip',\n",
    "'https://s3.amazonaws.com/data.patentsview.org/claims/g_claims_1988.tsv.zip',\n",
    "'https://s3.amazonaws.com/data.patentsview.org/claims/g_claims_1987.tsv.zip',\n",
    "'https://s3.amazonaws.com/data.patentsview.org/claims/g_claims_1986.tsv.zip',\n",
    "'https://s3.amazonaws.com/data.patentsview.org/claims/g_claims_1985.tsv.zip',\n",
    "'https://s3.amazonaws.com/data.patentsview.org/claims/g_claims_1984.tsv.zip',\n",
    "'https://s3.amazonaws.com/data.patentsview.org/claims/g_claims_1983.tsv.zip',\n",
    "'https://s3.amazonaws.com/data.patentsview.org/claims/g_claims_1982.tsv.zip',\n",
    "'https://s3.amazonaws.com/data.patentsview.org/claims/g_claims_1981.tsv.zip',\n",
    "'https://s3.amazonaws.com/data.patentsview.org/claims/g_claims_1980.tsv.zip',\n",
    "'https://s3.amazonaws.com/data.patentsview.org/claims/g_claims_1979.tsv.zip',\n",
    "'https://s3.amazonaws.com/data.patentsview.org/claims/g_claims_1978.tsv.zip',\n",
    "'https://s3.amazonaws.com/data.patentsview.org/claims/g_claims_1977.tsv.zip',\n",
    "'https://s3.amazonaws.com/data.patentsview.org/claims/g_claims_1976.tsv.zip']"
   ]
  },
  {
   "cell_type": "code",
   "execution_count": null,
   "metadata": {},
   "outputs": [],
   "source": [
    "def download_claim(link):\n",
    "    file_name = link.split('/')[-1]\n",
    "    claim_dir = '/mnt/hdd01/patentsview/Claims'\n",
    "    print('Downloading ' + file_name)\n",
    "    r = req.get(link, stream=True)\n",
    "    with open(claim_dir + '/' + file_name, 'wb') as f:\n",
    "        for chunk in r.iter_content(chunk_size=1024):\n",
    "            if chunk:\n",
    "                f.write(chunk)\n",
    "    print(file_name + ' downloaded')\n",
    "\n",
    "def unzip_file_claim(file_path):\n",
    "    print('Unzipping ' + file_path)\n",
    "    with zipfile.ZipFile(file_path, 'r') as zip_ref:\n",
    "        zip_ref.extractall(claim_dir)\n",
    "    print(file_path + ' unzipped')\n",
    "    # Throw away the zip file\n",
    "    os.remove(file_path)\n",
    "    print(file_path + ' removed')"
   ]
  },
  {
   "cell_type": "code",
   "execution_count": null,
   "metadata": {},
   "outputs": [],
   "source": [
    "if __name__ == '__main__':\n",
    "    brf_sum_dir = '/mnt/hdd01/patentsview/Brief Summary'\n",
    "    desc_dir = '/mnt/hdd01/patentsview/Description'\n",
    "    claim_dir = '/mnt/hdd01/patentsview/Claims'\n",
    "    \n",
    "    # Ensure that the directories exist\n",
    "    if not os.path.exists(claim_dir):\n",
    "        os.makedirs(claim_dir)\n",
    "    \n",
    "    if not os.path.exists(desc_dir):\n",
    "        os.makedirs(desc_dir)\n",
    "    \n",
    "    if not os.path.exists(brf_sum_dir):\n",
    "        os.makedirs(brf_sum_dir)\n",
    "\n",
    "    print(\"Starting download...\")\n",
    "\n",
    "    pool_brf_sum = mp.Pool(mp.cpu_count()-2)\n",
    "    pool_brf_sum.map(download_brf_sum, links_brf_sum)\n",
    "    pool_brf_sum.close()\n",
    "\n",
    "    pool_desc = mp.Pool(mp.cpu_count()-2)\n",
    "    pool_desc.map(download_desc, links_description)\n",
    "    pool_desc.close()\n",
    "\n",
    "    pool_claim = mp.Pool(mp.cpu_count()-2)\n",
    "    pool_claim.map(download_claim, links_claims)\n",
    "    pool_claim.close()\n",
    "\n",
    "    print(\"Files downloaded successfully.\")\n",
    "\n",
    "    print(\"Starting unzipping...\")\n",
    "\n",
    "    # Get all files in the directories ending with \".zip\"\n",
    "    zip_files_brf_sum = [os.path.join(brf_sum_dir, file) for file in os.listdir(brf_sum_dir) if file.endswith(\".zip\")]\n",
    "    zip_files_desc = [os.path.join(desc_dir, file) for file in os.listdir(desc_dir) if file.endswith(\".zip\")]\n",
    "    zip_files_claim = [os.path.join(claim_dir, file) for file in os.listdir(claim_dir) if file.endswith(\".zip\")]\n",
    "\n",
    "    pool_brf_sum_zip = mp.Pool(mp.cpu_count()-2)\n",
    "    pool_brf_sum_zip.map(unzip_file_brf_sum, zip_files_brf_sum)\n",
    "    pool_brf_sum_zip.close()\n",
    "\n",
    "    pool_desc_zip = mp.Pool(mp.cpu_count()-2)\n",
    "    pool_desc_zip.map(unzip_file_desc, zip_files_desc)\n",
    "    pool_desc_zip.close()\n",
    "\n",
    "    pool_claim_zip = mp.Pool(mp.cpu_count()-2)\n",
    "    pool_claim_zip.map(unzip_file_claim, zip_files_claim)\n",
    "    pool_claim_zip.close()\n",
    "\n",
    "    print(\"Files unzipped successfully.\")"
   ]
  },
  {
   "cell_type": "markdown",
   "metadata": {},
   "source": [
    "# Preprocess Reliance on Science Data\n",
    "Extract random sample of Cleantech Patents from Reliance on Science Dataset"
   ]
  },
  {
   "cell_type": "code",
   "execution_count": 4,
   "metadata": {},
   "outputs": [],
   "source": [
    "df_rel_on_science = pd.read_csv('/mnt/hdd01/Reliance on Science/Raw Files/_pcs_oa.csv')\n",
    "df_patent = pd.read_csv('/mnt/hdd01/patentsview/Patentsview - Cleantech Patents/g_patent_ids_patentsview_cleantech.csv')"
   ]
  },
  {
   "cell_type": "code",
   "execution_count": 5,
   "metadata": {},
   "outputs": [],
   "source": [
    "# Create new column patent_id in df_rel_on_science, extract number between two hyphens\n",
    "df_rel_on_science['patent_id'] = df_rel_on_science['patent'].str.extract(r'(\\d+)-')"
   ]
  },
  {
   "cell_type": "code",
   "execution_count": 6,
   "metadata": {},
   "outputs": [],
   "source": [
    "# Convert patent_id to string\n",
    "df_rel_on_science['patent_id'] = df_rel_on_science['patent_id'].astype(str)\n",
    "df_patent['patent_id'] = df_patent['patent_id'].astype(str)\n",
    "\n",
    "# Match patent_id in df_rel_on_science with patent_id in df_patent - outer join\n",
    "df_rel_on_science_patent = pd.merge(df_rel_on_science, df_patent, how='inner', on='patent_id')"
   ]
  },
  {
   "cell_type": "markdown",
   "metadata": {},
   "source": [
    "# Preprocess PatentsView Data"
   ]
  },
  {
   "cell_type": "code",
   "execution_count": 44,
   "metadata": {},
   "outputs": [],
   "source": [
    "# Drop all patents without title or abstract\n",
    "df_rel_on_science_patent = df_rel_on_science_patent.dropna(subset=['patent_title', 'patent_abstract'])"
   ]
  },
  {
   "cell_type": "code",
   "execution_count": 52,
   "metadata": {},
   "outputs": [],
   "source": [
    "# Create list of patent_ids in Reliance on Science dataset\n",
    "df_rel_on_science_patent_cpc_patent_ids = df_rel_on_science_patent['patent_id'].drop_duplicates()\n",
    "# df_rel_on_science_patent_cpc_patent_ids.reset_index(drop=True, inplace=True)\n",
    "# df_rel_on_science_patent_cpc_patent_ids.to_csv('/Users/juergenthiesen/Documents/Patentsview/Cleantech Concepts/g_patent_ids_rel_on_science_cleantech.csv', index=False)"
   ]
  },
  {
   "cell_type": "code",
   "execution_count": 45,
   "metadata": {},
   "outputs": [],
   "source": [
    "# Make new column 'cpc_subgroup' with characters until the first slash\n",
    "df_rel_on_science_patent['cpc_subgroup'] = df_rel_on_science_patent['cpc_group'].str.split('/').str[0]"
   ]
  },
  {
   "cell_type": "code",
   "execution_count": 11,
   "metadata": {},
   "outputs": [],
   "source": [
    "# Convert oaid column to string\n",
    "df_rel_on_science_patent['oaid'] = df_rel_on_science_patent['oaid'].astype(str)\n",
    "# Build dataframe with oaid without duplicates\n",
    "df_oaid = df_rel_on_science_patent.drop_duplicates(subset=['oaid'])"
   ]
  },
  {
   "cell_type": "code",
   "execution_count": 12,
   "metadata": {},
   "outputs": [],
   "source": [
    "# Save df_oaid to csv\n",
    "df_oaid.to_csv('/Users/juergenthiesen/Documents/Reliance on Science/df_oaid_Cleantech_Y02.csv', index=False)"
   ]
  },
  {
   "cell_type": "code",
   "execution_count": 12,
   "metadata": {},
   "outputs": [],
   "source": [
    "# Rename column self to self_rel\n",
    "df_rel_on_science_patent.rename(columns={'self': 'self_rel'}, inplace=True)\n",
    "# Reset index\n",
    "df_rel_on_science_patent.reset_index(drop=True, inplace=True)"
   ]
  },
  {
   "cell_type": "code",
   "execution_count": 15,
   "metadata": {},
   "outputs": [],
   "source": [
    "# Group by 'patent_id' and aggregate the other columns into lists - CONTINUE HERE AND FIX ISSUE WITH DUPLICATES IN CPC_GROUP AND DELETE OTHER CPC COLUMNS ACCORDING TO INDEX\n",
    "df_rel_on_science_patent_cpc_grouped = df_rel_on_science_patent.groupby('patent_id').agg({\n",
    "    'oaid': list,\n",
    "    'patent': list,\n",
    "    'wherefound': list,\n",
    "    'confscore': list,\n",
    "    'self_rel': list,\n",
    "    'reftype': list,\n",
    "}).reset_index()"
   ]
  },
  {
   "cell_type": "code",
   "execution_count": 16,
   "metadata": {},
   "outputs": [],
   "source": [
    "# Also include 'patent_type', 'patent_date', 'patent_title', 'patent_abstract', 'wipo_kind', 'num_claims', 'withdrawn', 'filename' columns\n",
    "# df_rel_on_science_patent_cpc_grouped = pd.merge(df_rel_on_science_patent_cpc_grouped, df_rel_on_science_patent_cpc[['patent_id', 'patent_type', 'patent_date', 'patent_title', 'patent_abstract', 'wipo_kind', 'num_claims', 'withdrawn', 'filename']], how='inner', on='patent_id', validate='one_to_many')\n",
    "\n",
    "# Restructure dataframe to nested dictionaries\n",
    "df_rel_on_science_patent_cpc_grouped['rel_on_science'] = df_rel_on_science_patent_cpc_grouped.apply(lambda row: {i+1: {'oaid': oaid, 'patent': patent, 'wherefound': wherefound, 'confscore': confscore, 'self_rel': self_rel, 'reftype': reftype} for i, (oaid, patent, wherefound, confscore, self_rel, reftype) in enumerate(zip(row['oaid'], row['patent'], row['wherefound'], row['confscore'], row['self_rel'], row['reftype']))}, axis=1)"
   ]
  },
  {
   "cell_type": "code",
   "execution_count": 18,
   "metadata": {},
   "outputs": [],
   "source": [
    "# Drop original columns\n",
    "df_rel_on_science_patent_cpc_grouped = df_rel_on_science_patent_cpc_grouped.drop(columns=['oaid', 'patent', 'wherefound', 'confscore', 'self_rel', 'reftype'])"
   ]
  },
  {
   "cell_type": "code",
   "execution_count": 19,
   "metadata": {},
   "outputs": [
    {
     "name": "stdout",
     "output_type": "stream",
     "text": [
      "175822\n"
     ]
    }
   ],
   "source": [
    "print(len(df_rel_on_science_patent_cpc_grouped))"
   ]
  },
  {
   "cell_type": "code",
   "execution_count": 20,
   "metadata": {},
   "outputs": [],
   "source": [
    "# Save df_rel_on_science_patent_cpc_grouped to json\n",
    "df_rel_on_science_patent_cpc_grouped.to_json('/mnt/hdd01/patentsview/Reliance on Science - Cleantech Patents/df_rel_on_science_patent_cpc_grouped_cleantech.json', orient='records', indent=2)\n",
    "\n",
    "# df_rel_on_science_patent_cpc_grouped_small = df_rel_on_science_patent_cpc_grouped.head(5000)\n",
    "# df_rel_on_science_patent_cpc_grouped_small.to_json('/home/thiesen/Documents/Cleantech_Concepts/df_rel_on_science_patent_cpc_grouped_cleantech.json', orient='records', indent=2)"
   ]
  }
 ],
 "metadata": {
  "kernelspec": {
   "display_name": "Python 3",
   "language": "python",
   "name": "python3"
  },
  "language_info": {
   "codemirror_mode": {
    "name": "ipython",
    "version": 3
   },
   "file_extension": ".py",
   "mimetype": "text/x-python",
   "name": "python",
   "nbconvert_exporter": "python",
   "pygments_lexer": "ipython3",
   "version": "3.11.6"
  },
  "orig_nbformat": 4
 },
 "nbformat": 4,
 "nbformat_minor": 2
}
