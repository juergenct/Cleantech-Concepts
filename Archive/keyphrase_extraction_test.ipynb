{
 "cells": [
  {
   "cell_type": "code",
   "execution_count": 2,
   "metadata": {},
   "outputs": [
    {
     "name": "stderr",
     "output_type": "stream",
     "text": [
      "/home/thiesen/Documents/Cleantech_Concepts/venv/lib64/python3.11/site-packages/tqdm/auto.py:21: TqdmWarning: IProgress not found. Please update jupyter and ipywidgets. See https://ipywidgets.readthedocs.io/en/stable/user_install.html\n",
      "  from .autonotebook import tqdm as notebook_tqdm\n"
     ]
    }
   ],
   "source": [
    "import os\n",
    "import pandas as pd\n",
    "import re\n",
    "from keybert import KeyBERT"
   ]
  },
  {
   "cell_type": "code",
   "execution_count": 3,
   "metadata": {},
   "outputs": [
    {
     "name": "stdout",
     "output_type": "stream",
     "text": [
      "Index(['patent_id', 'summary_text'], dtype='object')\n"
     ]
    }
   ],
   "source": [
    "# Import data\n",
    "df = pd.read_json('/mnt/hdd01/patentsview/Reliance on Science - Cleantech Patents/g_patent_brf_summary_rel_on_science_cleantech.json', orient='records')\n",
    "\n",
    "print(df.columns)\n",
    "\n",
    "df_test = df.head(1000)\n",
    "\n",
    "df_test.to_json('/home/thiesen/Documents/Cleantech_Concepts/g_patent_brf_summary_rel_on_science_cleantech_test.json', orient='records')"
   ]
  },
  {
   "cell_type": "code",
   "execution_count": 3,
   "metadata": {},
   "outputs": [
    {
     "name": "stderr",
     "output_type": "stream",
     "text": [
      "Downloading (…)b4c8f/.gitattributes: 100%|██████████| 1.18k/1.18k [00:00<00:00, 7.57MB/s]\n",
      "Downloading (…)_Pooling/config.json: 100%|██████████| 190/190 [00:00<00:00, 1.28MB/s]\n",
      "Downloading (…)95eb6b4c8f/README.md: 100%|██████████| 3.88k/3.88k [00:00<00:00, 24.8MB/s]\n",
      "Downloading (…)eb6b4c8f/config.json: 100%|██████████| 671/671 [00:00<00:00, 4.66MB/s]\n",
      "Downloading (…)ce_transformers.json: 100%|██████████| 116/116 [00:00<00:00, 962kB/s]\n",
      "Downloading pytorch_model.bin: 100%|██████████| 438M/438M [00:05<00:00, 86.1MB/s] \n",
      "Downloading (…)nce_bert_config.json: 100%|██████████| 53.0/53.0 [00:00<00:00, 390kB/s]\n",
      "Downloading (…)cial_tokens_map.json: 100%|██████████| 239/239 [00:00<00:00, 1.60MB/s]\n",
      "Downloading (…)b4c8f/tokenizer.json: 100%|██████████| 466k/466k [00:00<00:00, 1.51MB/s]\n",
      "Downloading (…)okenizer_config.json: 100%|██████████| 440/440 [00:00<00:00, 3.63MB/s]\n",
      "Downloading (…)95eb6b4c8f/vocab.txt: 100%|██████████| 232k/232k [00:00<00:00, 1.13MB/s]\n",
      "Downloading (…)b6b4c8f/modules.json: 100%|██████████| 229/229 [00:00<00:00, 1.46MB/s]\n"
     ]
    }
   ],
   "source": [
    "# Concatenate abstracts for same value in 'cpc_subgroup' column \n",
    "# df = df.groupby('cpc_subgroup')['patent_abstract'].apply(' '.join).reset_index()\n",
    "# # Remove duplicate rows on 'cpc_subgroup' column\n",
    "# df = df.drop_duplicates(subset=['cpc_subgroup'])\n",
    "\n",
    "# Initialize KeyBERT model\n",
    "# kw_model = KeyBERT(model='climatebert/distilroberta-base-climate-f')\n",
    "kw_model =KeyBERT(model='AI-Growth-Lab/PatentSBERTa')"
   ]
  },
  {
   "cell_type": "code",
   "execution_count": 47,
   "metadata": {},
   "outputs": [
    {
     "name": "stdout",
     "output_type": "stream",
     "text": [
      "['helper lymphocytes th', 'cytotoxic lymphocytes ctls', 'diagnosis immune disorders', 'th cells characteristics', 'invention identify genes']\n"
     ]
    }
   ],
   "source": [
    "# Iterate over rows in dataframe\n",
    "# Try out with MMR and rather high diversity 0.7, might try with lower diversity\n",
    "for index, row in df.iterrows():\n",
    "    # Extract keywords\n",
    "    keywords = kw_model.extract_keywords(row['summary_text'],keyphrase_ngram_range=(1, 3),stop_words=\"english\", use_mmr=True, diversity=0.3)\n",
    "    # Create empty list\n",
    "    keywords_list = []\n",
    "    # Iterate over keywords\n",
    "    for kw in keywords:\n",
    "        # Append keywords to list\n",
    "        keywords_list.append(kw[0])\n",
    "    # Create new column with keywords\n",
    "    # df.loc[index, 'keywords'] = ', '.join(keywords_list)\n",
    "    print(keywords_list)\n",
    "\n",
    "    break\n",
    "\n",
    "# Save dataframe to json\n",
    "# df.to_json('/Users/juergenthiesen/Documents/Patentsview/Cleantech Concepts/KeyBERT/df_sample_keyphrase.json')"
   ]
  },
  {
   "cell_type": "code",
   "execution_count": 4,
   "metadata": {},
   "outputs": [],
   "source": [
    "import yake\n",
    "\n",
    "# Specify custom parameters\n",
    "language = \"en\"\n",
    "max_ngram_size = 3\n",
    "dedulication_threshold = 0.25\n",
    "deduplication_algo = \"leve\"\n",
    "windowSize = 5\n",
    "numOfKeywords = 10"
   ]
  },
  {
   "cell_type": "code",
   "execution_count": 5,
   "metadata": {},
   "outputs": [],
   "source": [
    "# Initialize YAKE model\n",
    "kw_extractor = yake.KeywordExtractor(lan=language, n=max_ngram_size, dedupLim=dedulication_threshold,\n",
    "                                    dedupFunc=deduplication_algo, windowsSize=windowSize, top=numOfKeywords,\n",
    "                                    features=None)"
   ]
  },
  {
   "cell_type": "code",
   "execution_count": 7,
   "metadata": {},
   "outputs": [
    {
     "name": "stdout",
     "output_type": "stream",
     "text": [
      "   patent_id                                       summary_text  \\\n",
      "0    6414117  1. INTRODUCTION \\n\\n The present invention rel...   \n",
      "1    6448235  BACKGROUND OF THE INVENTION \\n\\n 1. Field of t...   \n",
      "2    6403770  The present invention relates to a novel cytok...   \n",
      "3    6491905  BACKGROUND OF THE INVENTION \\n\\n 1. Field of t...   \n",
      "4    6401081  BACKGROUND OF THE INVENTION \\n\\n The present i...   \n",
      "\n",
      "                                            keywords  \n",
      "0  gene product, cell, cell subpopulation-related...  \n",
      "1                                                NaN  \n",
      "2                                                NaN  \n",
      "3                                                NaN  \n",
      "4                                                NaN  \n"
     ]
    }
   ],
   "source": [
    "print(df.head())   "
   ]
  },
  {
   "cell_type": "code",
   "execution_count": 51,
   "metadata": {},
   "outputs": [
    {
     "name": "stderr",
     "output_type": "stream",
     "text": [
      "[nltk_data] Downloading package punkt to /home/thiesen/nltk_data...\n"
     ]
    },
    {
     "name": "stdout",
     "output_type": "stream",
     "text": [
      "['cys domain ), approximately amino acid residue 287', '371 amino acid cysteine protease gene product ), 105', '10 gene product may either reduce 10 gene product function', '371 amino acid cysteine protease', '301 amino acid transmembrane gene product', '280 amino acid transmembrane gene product', 'measure intracellular calcium release levels may', 'approximately amino acid residue 321', 'th2 subtypes represent extremely polarized populations', '54 gene product amino acid sequence', 'approximately amino acid residue 145', 'differentially expressed gene whose mrna expression pattern', '57 genes represent th inducible gene sequences', '10 gene product makes possible useful methods', '10 gene product may effectively ameliorate', '338 amino acid receptor molecule', '103 gene product ig fusion constructs', 'seven transmembrane domain sequence motif', 'like related disorders include chronic inflammatory diseases', 'differentially expressed gene whose expression pattern', 'extremely polarized th cell subpopulations', 'like cell subpopulation gene expression patterns', 'like cell subpopulation gene expression patterns', 'differentially expressed within th cell subpopulations', 'th cell subpopulation dependent intervention program', 'transgenic knockout animals exhibiting little', 'systematic search strategies involving paradigms', 'differentially expressed among th cell subpopulations', 'th1 cell subpopulation specific gene sequences', 'class ii major histocompatibility complex', 'monitor patients undergoing clinical evaluation', 'fingerprint gene expression normally displayed', 'fingerprint gene expression normally displayed', 'g ., th cell related disorders', 'bound 103 gene transmembrane protein', 'th2 cells drive humoral immune responses', 'th cell subpopulations whose effects', 'bound th2 cell subpopulation molecule', 'single known gene product presumed', 'bound 200 gene transmembrane protein', 'individuals exhibiting th cell subpopulation', 'systematic search strategies described herein', 'drive different immune effector responses', 'g ., th cell subpopulation', 'g ., th cell subpopulation', 'g ., th cell subpopulation', 'yet another th cell subpopulation', 'gene whose product exhibits', '10 negatively regulates th1 cells', 'th cell subpopulation gene products', 'th cell subpopulation specific markers', 'th cell subpopulation specific markers', 'soluble gene 10 gene products', 'ig superfamily 200 gene product', 'vacuoles containing proteolytic enzymes', 'monitoring patients undergoing clinical evaluation', 'natural 10 gene product ligand', 'et al ., 1995', 'et al ., 1994', 'et al ., 1994', 'et al ., 1993', 'et al ., 1990', 'three thiol protease domains', '10 gene product structure', '10 gene product belongs', 'like related disorders include atopic conditions', 'specific gene products described herein', 'et al ., 1989', 'identify genes differentially expressed within', 'et al ., 1991', 'et al ., 1991', 'various th cell subpopulation', 'particular th cell subpopulation', 'particular th cell subpopulation', 'present invention makes possible', 'possibly via alternative splicing', 'cellular expression patterns within', 'ecd ), transmembrane domains', 'representative th cell subpopulations', 'g ., gene sequences', 'different th cell types', 'synthesized within infected cells', 'g ., th cell', 'target gene product relative', 'target gene product relative', 'gene 103 products belong', 'negatively regulates th2 cells', 'th cell subpopulation relative', 'th cell subpopulation specific', 'th cell subpopulation specific', 'within th cell subpopulations', 'particular th2 cell subpopulation', 'infectious process often results', 'throughput gene expression assays', 'human inflammatory autoimmune diseases', 'like cytokine expression patterns', 'detect th cell responsiveness', 'cytokine molecules present seem', 'specific th cell subpopulations', '10 gene product activity', '10 gene product activity', '10 gene product activity', 'progression toward disease symptoms', 'among th cell subpopulations', 'among th cell subpopulations', 'among th cell subpopulations', 'among th cell subpopulations', 'negatively regulate one another', 'results described herein reveal', 'graft versus host disease', 'graft versus host disease', 'graft versus host disease', 'soluble 10 gene products', 'present invention also includes', 'th cell subpopulation cells', 'th cell subpopulation cells', 'pathway gene product including', 'exhibiting increased bacteriocidal ability', 'especially th cell subpopulation', 'especially th cell subpopulation', 'novel 54 gene product', 'target gene product presence', 'cd4 class ii mhc', 'cd4 class ii mhc', 'modulate th cell responsiveness', 'differentially expressed gene involved', 'differentially expressed gene involved', 'modulate target gene expression', 'class ii mhc molecules', 'present invention also relates', 'target gene product activity', '161 gene expression may', 'soluble 200 gene products', 'encode fusion proteins containing', 'also exhibit target gene', 'also exhibit target gene', 'term th cell subpopulation', 'chronic inflammatory diseases', 'th2 cell subpopulation cells', 'th cell mediated disorders', 'lepromatous leprosy also appears', 'cell mediated immune responses', 'g ., modulation pathways', 'invention two distinct types', 'present invention provides methods', 'present invention provides methods', '10 gene product', '10 gene product', '10 gene product', '10 gene product', '10 gene product', '10 gene product', 'assays used herein permit', '103 genes represent genes', 'recognize processed peptides derived', '103 gene product', '103 gene product', '103 gene product', 'ameliorate immune disorder symptoms', 'identify several novel genes', 'like serine protease', 'results presented herein demonstrate', 'least two distinct subpopulations', 'modulate immune system disorders', '200 gene product', '200 gene product', '200 gene product', '200 gene product', '200 gene product', '200 gene product', '10 gene sequences', 'cellular expression patterns', 'mrna expression pattern', 'target gene product', 'target gene product', 'modulate th2 cellular activity', 'modulate th2 cellular activity', 'related disorders described herein', 'pathway genes described herein', 'pathway gene product', 'pathway gene product', 'pathway gene product', '103 gene sequences', 'th cell subpopulation', 'th cell subpopulation', 'th cell subpopulation', 'th cell subpopulation', 'th cell subpopulation', 'th cell subpopulation', 'th cell subpopulation', 'th cell subpopulation', 'th cell subpopulation', 'th cell subpopulation', 'th cell subpopulation', 'th cell subpopulation', 'th cell subpopulation', 'th cell subpopulation', 'th cell subpopulation', 'th cell subpopulation', 'th cell subpopulation', 'th cell subpopulation', 'th cell subpopulation', 'th cell subpopulation', '103 transgenic animals', 'differentially expressed within', 'differentially expressed within', 'differentially expressed within', 'differentially expressed within', 'differentially expressed within', 'differentially expressed within', 'differentially expressed within', 'differentially expressed within', 'represent g protein', 'immune disorder related symptoms', 'g ., leishmaniasis', 'g ., leishmaniasis', 'turn activate b lymphocytes', 'th cell subpopulations', 'th cell subpopulations', 'th cell subpopulations', 'th cell subpopulations', 'th cell subpopulations', 'th cell subpopulations', 'th cell subpopulations', 'th cell subpopulations', 'th cell subpopulations', 'th cell subpopulations', 'th cell subpopulations', 'th cell subpopulations', '200 gene sequences', 'differentially expressed among', 'l ., 1989', 'l ., 1989', 'transgenic animals overexpressing', 'th1 versus th2 differentiation', 'chronic inflammatory disease', 'mammalian differentially expressed', 'th2 cells secrete interleukin', 'inappropriate ige immune response', 'gene 103 products', 'like cell subpopulation', 'cell surface protein', 'cell subpopulations appear', 'th2 cell subpopulation', 'th2 cell subpopulation', 'th2 cell subpopulation', 'th2 cell subpopulation', 'yet largely unknown', 'inhabit intracellular locations', 'present invention relates', 'present invention relates', 'represent th cells', 'mediated inflammatory responses', '103 gene corresponds', 'either physically separating', 'either physically separating', 'either physically separating', 'diagnose individuals exhibiting', 'single fingerprint gene', 'single fingerprint gene', 'th cell response', 'soluble gene products', 'target gene expression', 'target gene expression', 'gene expression pattern', 'th2 cell subpopulations', 'th2 cell subpopulations', 'th2 cell subpopulations', 'th2 cell subpopulations', 'specific cytokine pattern', 'specific cytokine pattern', 'th cells exhibiting', 'cell surface molecules', 'signal transduction events', 'recognition process triggers', 'rational drug design', 'ctl precursors display', 'differentially expressed genes', 'tailed fusion proteins', 'tailed fusion proteins', 'tailed fusion proteins', 'soluble fusion proteins', 'soluble fusion proteins', 'soluble fusion proteins', 'g ., th1', 'among th cells', 'th1 cell subpopulation', 'th1 cell subpopulation', 'th1 cell subpopulation', 'th1 cell subpopulation', 'th1 cell subpopulation', 'th1 cell subpopulation', 'th1 cell subpopulation', 'cell types tend', 'pathway gene characteristics', 'pathway gene characteristics', 'unstimulated th cells', 'potentially interesting target', 'ameliorate conditions involving', 'ameliorate conditions involving', 'like cytokine profiles', 'apcs ), processed', '200 gene ).', 'th2 subpopulations arise', 'cd4 th cells', 'cd4 th cells', 'also exhibit target', 'fingerprint gene characteristics', 'fingerprint gene characteristics', 'dominated immune responses', 'different effector functions', 'host cells expressing', 'th1 cell subpopulations', 'common naive precursor', 'type gene products', 'type gene products', 'tightly controlled th2', 'transmembrane product', 'th0 cell subpopulations', 'accompany atopic conditions', 'mediated host defenses', 'identify reliable markers', 'many pathogenic microorganisms', 'per cell decrease', 'like clones appear', 'naive cd4 cells', 'also exhibit fingerprint', 'distinct immunological disorders', 'gene products involved', 'gene products involved', 'gene products involved', 'gene products involved', 'th2 cells present', 'polypeptide products encoded', 'invention provides methods', 'represent fingerprint genes', 'insufficient immune response', 'identified gene products', 'therapeutic method aimed', 'effector immune responses', 'e ., exhibit', 'dependent diabetes patients', 'th cell population', 'th cells ).', 'restricted th cells', 'restricted th cells', 'represent new targets', 'like cells direct', 'like cells appear', 'th2 cell type', 'including allergic rhinitis', 'including allergic rhinitis', 'including allergic rhinitis', 'certain pathogen susceptibilities', 'certain pathogen susceptibilities', 'natural killer cells', 'hiv viral replication', 'exact factors important', 'mediated allergic conditions', 'mediated immune response', 'blocking ligand binding', '102 gene corresponds', 'intracellular microbes tend', 'per cell increase', 'including food allergies', 'including food allergies', 'e ., natural', 'e ., natural', 'e ., natural', 'gene product', 'including lyme disease', 'including lyme disease', 'e ., ige', 'also exhibit th1', 'ctl clones capable', 'certain viral infections', 'certain viral infections', 'additional immune processes', 'related disorder symptoms', 'immune system disorders', 'compositions described herein', 'compositions described herein', 'th1 cells present', '4 ), interleukin', '2 ), interferon', 'murine 200 genes', 'th2 cell activity', 'th2 cell activity', 'like related disorders', 'like related disorders', 'like related disorders', 'unlike secreted cytokines', 'identifying compounds useful', 'identifying compounds useful', 'ige related disorders', 'frequently used herein', 'chronic inflammatory', 'stimulated b cells', 'specific known cytokines', 'precise functional role', 'stimulated th2 cells', 'decisive role belonging', '10 gene', 'type cytokines predominate', 'including multiple sclerosis', 'including multiple sclerosis', 'g .,', 'g .,', 'g .,', 'murine leishmaniasis result', '103 gene', 'section 9 describes', 'search strategies', 'search strategies', 'display foreign antigens', 'gene sequences', 'particularly suitable target', 'certain helminthic parasites', 'assays may', 'also identified via', 'differentially expressed', 'differentially expressed', 'differentially expressed', 'th cell', 'expressed within', 'exhibiting th', 'including cd8 ctls', 'including cd8 ctls', 'coupled receptor molecules', 'cell types', '145 ),', 'single transgenic', 'exhibit th', 'exhibit th', 'target gene', 'target gene', 'target gene', 'levels many', 'cell responses', 'gene products', 'gene products', 'gene products', 'gene products', 'gene products', 'gene products', 'gene products', 'gene products', 'gene products', 'gene products', 'gene products', 'gene products', 'gene products', 'gene products', 'gene products', 'gene products', 'purpose since one', 'like ),', 'th2 subpopulation', 'murine 10', 'peptides comprising one', 'section 10', 'intracellular parasites', '10 ).', 'fingerprint gene', 'fingerprint gene', 'fingerprint gene', 'immune cell', 'like subpopulations', 'th cells', 'th cells', 'th cells', 'th cells', 'th cells', 'th cells', 'th cells', 'gene known', 'th2 subpopulations', 'th2 subpopulations', 'cells present', 'also described', 'allergic responses', 'major role', 'cd8 th', 'cells exhibiting', 'related process', 'expression pattern', 'expression pattern', 'ig superfamily', 'like responses', 'represent determinants', 'immune responses', 'expression products', '518 ),', '161 gene', '102 gene', 'novel pathways', 'clinical trials', 'clinical trials', 'another polypeptide', 'soluble proteins', 'soluble proteins', 'soluble proteins', 'therapeutic intervention', 'therapeutic intervention', 'nucleotide sequences', 'via either', 'atopic conditions', 'atopic conditions', 'atopic conditions', 'immune system', 'immune system', 'provides methods', 'extracellular domain', 'extracellular domain', 'cytokines present', 'asn domain', 'pathogen susceptibilities', 'inappropriate cell', 'cell receptors', 'disease patients', 'like clones', 'effector function', 'effector function', 'effector function', 'effector function', 'effector function', 'mhc molecules', 'mhc molecules', 'cd4 cells', 'cd4 cells', 'either undetectable', 'either agonists', 'dependent diabetes', 'dependent diabetes', 'dependent diabetes', '145 ).', 'disorders involving', 'disorders involving', 'autoimmune disorders', 'fingerprint pattern', 'fingerprint pattern', 'fingerprint pattern', 'fingerprint pattern', 'cell receptor', 'functional assays', 'activation results', 'type responses', 'secrete interferon', 'cytokine receptors', 'specific marker', 'specific fashion', 'specific destruction', 'specific destruction', 'specific destruction', 'specific autoimmunity', 'specific autoimmunity', 'specific autoimmunity', 'like response', 'particularly useful', 'particularly useful', 'particularly useful', 'immune response', 'immune response', 'certain conditions', 'ctls recognize', '200 genes', 'term th', 'like cells', 'like cells', 'like cells', 'like cells', 'methods described', 'immune cells', 'immune cells', 'cell activity', 'cell activity', 'cd8 class', 'targets useful', 'soluble receptors', 'pleiotropic effects', 'multiple sclerosis', 'multiple sclerosis', 'immunoglobulin superfamily', 'graft rejection', 'graft rejection', 'graft rejection', 'exert effects', 'additional new', 'target genes', 'immune disorder', 'properties described', '1 gene', 'lepromatous leprosy', 'lepromatous leprosy', 'expressing cells', 'th2 cells', 'th2 cells', 'th2 cells', '5 ),', 'immune disorders', 'immune disorders', 'immune disorders', 'immune disorders', 'immune disorders', 'immune disorders', 'immune disorders', 'immune disorders', 'immune disorders', 'immune disorders', 'immune disorders', 'immune disorders', 'immune disorders', 'immune disorders', 'include th2', 'secrete interleukin', 'related disorders', 'related disorders', 'related disorders', 'related disorders', 'related disorders', 'related disorders', 'related disorders', 'related disorders', 'related disorders', 'related disorders', 'related disorders', 'related disorders', 'related disorders', 'related disorders', 'related disorders', 'related disorders', 'related disorders', 'related disorders', 'related disorders', 'related disorders', 'related disorders', 'related disorders', 'related disorders', 'related disorders', 'pathway genes', 'pathway genes', 'pathway genes', 'pathway genes', 'pathway genes', '57 genes', 'patients mount', 'patients involved', 'differential expression', 'differential expression', 'possible determinants', 'making possible', 'complex series', 'compound identification methods', 'one another', 'invention encompasses', 'mediated immunity', 'mediated forms', 'viral antigens', 'subjects exhibiting', 'pattern generated', 'pattern generated', 'discrete pattern', 'domains include', 'symptoms stemming', 'certain instances', 'cell surfaces', 'natural ligands', 'natural ligands', 'natural ligands', 'natural ligands', 'natural ligands', 'natural ligands', 'precursor ctls', 'evaluation permits', 'novel genes', 'protein level', 'protein level', 'circulating ige', 'fingerprint genes', 'fingerprint genes', 'fingerprint genes', 'fingerprint genes', 'effector functions', 'cells belonging', 'cells belonging', 'cells belonging', 'cells belonging', 'cells belonging', 'cells belonging', 'functional domains', 'whether novel', 'processes relevant', 'infectious agents', 'including hiv', 'including hiv', 'gastrointestinal allergies', 'gastrointestinal allergies', 'currently unknown', 'become stimulated', 'identify genes', 'specific depletion', 'th2 antagonize', 'counterproductive th2', 'foreign proteins', 'used herein', 'used herein', 'used herein', 'used herein', 'used herein', 'used herein', 'used herein', 'used herein', 'used herein', 'used herein', 'used herein', 'used herein', 'used herein', 'used herein', 'used herein', 'used herein', 'used herein', 'cd8 ctls', 'cd8 ctls', 'presenting cells', 'presenting cells', 'kill cells', 'cells away', 'cells away', 'cells away', 'mutants include', 'murine homolog', 'restricted ctls', 'stimulated th1', 'known genes', 'section 11', 'peptides comprising', 'peptides comprising', 'extracellular domains', 'extracellular domains', 'domains fused', 'cytoplasmic domains', 'target members', 'b lymphocytes', 'cd8 cytotoxic', 'th1 cells', 'th1 cells', 'th1 cells', 'examples described', 'whether known', 'transmembrane', 'thp ).', 'including tuberculosis', 'including tuberculosis', 'hiv infection', 'encode mutants', '495 ).', '49 ).', '313 ).', 'th0 cells', 'cd4 helper', 'critical role', 'bacterial infections', 'bacterial infections', 'also refer', 'also refer', 'diagnostic evaluation', 'diagnostic evaluation', 'diagnostic evaluation', 'diagnostic evaluation', 'presented preferentially', 'presented preferentially', 'defined via', 'particularly suitable', 'particularly suitable', 'particularly amenable', 'therapeutic reasons', 'another example', 'th2 differentiation', 'identified genes', 'identified genes', 'identified genes', 'identified genes', 'genes identified', 'usually deleterious', 'triggering phagocyte', 'toxic substances', 'today 12', 'thyroid glands', 'successful cloning', 'significantly upregulated', 'self antigens', 'sections 6', 'science 254', 'reactive arthritis', 'reactive arthritis', 'qualitative differences', 'qualitative differences', 'originally discovered', 'nonhealing forms', 'nonfunctional receptors', 'neutralize microbes', 'mechanisms important', 'macrophage components', 'human homolog', 'human homolog', 'hanukah factor', 'great relevance', 'glomerular nephritis', 'glomerular nephritis', 'full accounting', 'foreign antigens', 'fold higher', 'fold higher', 'extracellular antigens', 'exclusive combinations', 'evidence suggests', 'efficient supporters', 'effective concentration', 'delayed hypersensitivity', 'del prete', 'cytokines unique', 'comprehensive approach', 'cerebrospinal fluid', 'bound', 'barely detectable', 'analogs thereof', 'analogs thereof', 'analogs thereof', 'functional activity', 'ig portion', 'murine systems', 'may', 'may', 'may', 'identify compounds', 'termed th1', 'induce th1', 'driving th1', 'also refers', 'utilize th0', 'therapeutic use', 'previously known', '10', '10', '10', '10', 'used diagnostically', 'secreted il', 'wide range', 'wide range', 'wide range', 'wide range', 'successful use', 'preferential activation', 'given state', 'given state', 'first time', 'first time', 'cytokines produced', 'contact dermatitis', 'contact dermatitis', 'encode portions', 'type antibodies', 'therapeutic agents', 'therapeutic agents', 'level many', 'including psoriasis', 'represent', 'positive modulation', 'negative modulation', '),', 'gene', 'gene', 'gene', 'gene', 'program', 'primary goal', 'physical change', 'mycobacteria survive', 'modulatory compounds', 'modulatory compounds', 'merely evaluate', 'high resemblance', 'effective increase', 'cd );', 'cause tuberculosis', 'based models', 'antigens recognized', 'animal models', 'g', 'functional level', '4 production', '4 produced', 'sequences', 'th', 'th', 'th', 'extracellular portions', 'ameliorate', '1 definitions', 'receptor nature', 'therapeutic treatment', 'effective reduction', 'antibodies directed', 'antibodies directed', 'domain', 'temporal regulation', 'activates macrophages', 'cell', 'cell', 'cell', 'cell', 'cell', 'cell', 'cell', 'cell', 'cell', 'subpopulations', 'subpopulations', 'antigen involved', 'relative', 'modulatory treatment', 'modulatory treatment', 'modulatory treatment', 'modulatory treatment', 'either', 'example presented', 'example presented', 'compounds used', 'cellular', 'expressed', 'expressed', 'expressed', 'expressed', 'produced ifn', 'modulate', 'modulate', 'following nucleotides', 'among', 'among', 'among', 'utilized therapeutically', 'markers', 'markers', 'distinct', 'antibody production', '200', '200', '1991', '105', '105', '105', 'described', 'described', 'responses', 'produced il', 'resulting reduction', 'resulting reduction', 'patients', 'expression', 'expression', 'expression', 'expression', 'expression', 'expression', 'expression', 'expression', 'expression', 'expression', 'expression', 'possible', 'possible', 'target', 'target', 'target', 'also', 'also', 'invention', 'invention', 'invention', 'invention', 'mediated', 'thus bringing', 'pattern', 'function', 'function', 'class', 'class', 'class', '57', '57', 'symptoms', 'symptoms', 'molecules', 'products', 'allergy clin', 'humoral', 'humoral', 'like', 'like', 'like', 'like', 'like', 'like', 'like', 'like', 'evaluation', 'ige', 'characteristics', 'mhc', 'mhc', 'ig', 'ig', 'ig', 'two', 'two', 'responsiveness', 'responsiveness', 'response', 'novel', 'demonstrate', 'b', 'antigen stimulation', 'fingerprint', 'fingerprint', 'th2', 'th2', 'th2', 'th2', 'th2', 'th2', 'th2', 'th2', 'th2', 'th2', 'th2', 'th2', 'th2', 'th2', 'th2', 'th2', 'proteins', 'proteins', 'disease', 'disease', 'disease', 'disease', 'disease', 'conditions', 'conditions', 'conditions', 'cells', 'cells', 'cells', 'cells', 'cells', 'cells', 'cells', 'cells', 'include', 'include', 'include', 'include', 'include', 'identify', 'identify', 'identify', 'tend', 'domains', 'corresponds', '54', '54', '54', '54', 'disorder', 'disorder', 'disorder', 'type', 'type', 'restricted', 'processed', 'processed', 'leprosy', 'known', 'known', 'including', 'including', 'including', 'including', 'including', 'including', 'including', 'encode', 'disorders', 'disorders', 'disorders', 'disorders', 'disorders', 'disorders', 'disorders', 'disorders', 'disorders', 'disorders', 'role', 'interleukin', 'interleukin', 'infections', 'especially', 'especially', 'especially', 'limited number', 'via', 'via', 'presented', 'reduce', 'reduce', 'reduce', 'reduce', 'reduce', 'reduce', 'reduce', 'methods', 'methods', 'methods', 'methods', 'methods', 'methods', 'methods', 'methods', 'methods', 'ctls', 'genes', 'genes', 'genes', 'genes', 'genes', 'genes', 'genes', 'genes', 'genes', 'genes', 'genes', 'genes', 'genes', 'genes', 'targets', 'suitable', 'presence', 'presence', 'peptides', 'peptides', 'peptides', 'monitoring', 'monitoring', 'monitoring', 'microbes', 'least', 'least', 'involved', 'involved', 'involved', 'involved', 'involved', 'involved', 'involved', 'involved', 'inappropriate', 'inappropriate', 'important', 'human', 'human', 'functions', 'foreign', 'diagnose', 'defenses', 'decrease', 'cytokines', 'cytokines', 'cytokines', 'coupled', 'compositions', 'compositions', 'capable', 'antigens', '161', '161', '102', 'identified', 'identified', 'identified', 'receptor', 'receptor', 'receptor', 'receptor', 'receptor', 'th1', 'th1', 'th1', 'th1', 'th1', 'th1', 'th1', 'th1', 'th1', 'th1', 'th1', 'th1', 'th1', 'th1', 'th1', 'th1', 'th1', 'th1', 'th1', 'th1', 'th1', 'th1', 'th1', 'th1', 'th1', 'th1', 'ligand', 'ligand', 'ligand', 'ligand', 'ligand', 'th0', 'th0', 'one', 'one', 'one', 'one', 'one', 'one', 'lymphocytes', 'lymphocytes', 'lymphocytes', '4', '4', 'turn', 'turn', 'turn', 'used', 'used', 'used', 'used', 'used', 'used', 'used', 'used', 'used', 'used', 'used', 'used', 'activity', 'activity', 'activity', 'activity', 'activity', 'activity', 'activity', 'activity', 'activity', 'activity', 'activity', 'activity', 'activity', 'activity', 'activity', 'activity', 'activity', 'activity', 'activity', 'activity', 'activity', 'activity', 'activity', 'activity', 'use', 'term', 'term', 'term', 'term', 'result', 'result', 'range', 'range', 'production', 'produced', 'produced', 'helminthic', 'helminthic', 'given', 'first', 'describes', 'describes', 'dermatitis', 'activation', 'differentiation', 'differentiation', 'differentiation', 'differentiation', 'differentiation', 'diagnostic', 'diagnostic', 'diagnostic', 'modulation', 'modulation', 'modulation', 'modulation', 'modulation', 'modulation', 'systems', 'subjects', 'resulting', 'resulting', 'recognized', 'previously', 'nature', 'mycobacteria', 'members', 'increase', 'increase', 'increase', 'increase', 'ifn', 'high', 'goal', 'evaluate', 'e', 'e', 'e', 'e', 'e', 'e', 'e', 'e', 'e', 'e', 'e', 'e', 'e', 'e', 'e', 'compounds', 'compounds', 'compounds', 'compounds', 'compounds', 'compounds', 'compounds', 'compounds', 'compounds', 'compounds', 'compound', 'compound', 'compound', 'clin', 'change', 'cd', 'cause', 'bringing', 'based', 'animal', 'agents', 'agents', 'agents', '2', '2', '2', 'ability', 'ability', 'ability', 'ability', 'ability', 'ability', 'refer', 'refer', 'refer', 'purpose', 'purpose', 'purpose', 'purpose', 'portions', 'portions', 'portions', '1', '1', '1', 'reduction', 'reduction', 'reduction', 'reduction', 'reduction', 'antibodies', 'antibodies', 'antibodies', 'antibodies', 'antibodies', 'temporal', 'temporal', 'surfaces', 'surfaces', 'series', 'series', 'psoriasis', 'psoriasis', 'portion', 'portion', 'population', 'population', 'population', 'population', 'population', 'macrophages', 'macrophages', 'helper', 'helper', 'examples', 'examples', 'depletion', 'depletion', 'antibody', 'antibody', '5', '5', 'antigen', 'antigen', 'antigen', 'antigen', 'antigen', 'level', 'level', 'level', 'level', 'level', 'level', 'level', 'level', 'level', 'level', 'level', 'treatment', 'treatment', 'treatment', 'treatment', 'treatment', 'treatment', 'treatment', 'treatment', 'treatment', 'treatment', 'treatment', 'treatment', 'treatment', 'treatment', 'treatment', 'thus', 'thus', 'thus', 'il', 'il', 'il', 'il', 'il', 'il', 'il', 'stimulation', 'stimulation', 'stimulation', 'stimulation', 'allergy', 'allergy', 'allergy', 'allergy', 'identification', 'identification', 'identification', 'identification', 'identification', 'identification', 'identification', 'identification', 'identification', 'identification', 'nucleotides', 'nucleotides', 'nucleotides', 'nucleotides', 'nucleotides', 'nucleotides', 'limited', 'limited', 'limited', 'limited', 'limited', 'limited', 'limited', 'limited', 'example', 'example', 'example', 'example', 'example', 'example', 'example', 'example', 'example', 'example', 'example', 'example', 'example', 'example', 'example', 'example', 'example', 'example', 'example', 'example', 'example', 'example', 'example', 'example', 'example', 'example', 'example', 'example', 'example', 'example', 'example', 'example', 'example', 'example', 'number', 'number', 'number', 'number', 'number', 'number', 'number', 'number', 'number', 'number', 'number', 'number', 'number', 'refers', 'refers', 'refers', 'refers', 'refers', 'refers', 'refers', 'refers', 'refers', 'refers', 'refers', 'refers', 'refers', 'refers', 'utilized', 'utilized', 'utilized', 'utilized', 'utilized', 'utilized', 'utilized', 'utilized', 'utilized', 'utilized', 'utilized', 'utilized', 'utilized', 'utilized', 'utilized', 'utilized', 'utilized', 'yamamura', 'would', 'would', 'would', 'would', 'wiernenga', 'well', 'well', 'well', 'well', 'well', 'way', 'vivo', 'vitro', 'viruses', 'variety', 'variety', 'variety', 'underlie', 'ultimately', 'ultimately', 'trypsin', 'treatments', 'tm', 'tm', 'thyroiditis', 'thyroiditis', 'thyroiditis', 'thought', 'though', 'therefore', 'therefore', 'therefore', 'therefore', 'therefore', 'therefore', 'therefore', 'tendencies', 'targeting', 'targeting', 'targeting', 't1', 'summary', 'suggesting', 'suggested', 'suggested', 'strong', 'still', 'still', 'still', 'still', 'status', 'st', 'specifically', 'specifically', 'specifically', 'specifically', 'specifically', 'specifically', 'specifically', 'shown', 'shown', 'shown', 'serve', 'sensitive', 'seder', 'second', 'sarcoidosis', 'sarcoidosis', 'robinson', 'reviewed', 'rev', 'rev', 'respect', 'resolve', 'required', 'require', 'repression', 'reported', 'regard', 'referred', 'reducing', 'reduces', 'recently', 'ratio', 'rather', 'r', 'r', 'r', 'r', 'r', 'r', 'r', 'quantitative', 'quantitative', 'provided', 'proliferation', 'proliferation', 'proliferation', 'proliferation', 'proliferation', 'proliferation', 'progress', 'prognostic', 'prognostic', 'prognostic', 'prognostic', 'prognostic', 'prognosis', 'prognosis', 'prevalent', 'predisposition', 'predisposed', 'predisposed', 'play', 'play', 'play', 'perhaps', 'pathogenesis', 'part', 'part', 'part', 'part', 'part', 'part', 'part', 'part', 'pancreases', 'organ', 'organ', 'organ', 'noted', 'noted', 'noted', 'non', 'multiply', 'mosmann', 'mosmann', 'mosmann', 'moreover', 'moore', 'misexpressing', 'mimic', 'mice', 'membrane', 'membrane', 'med', 'med', 'med', 'maturation', 'manetti', 'maintenance', 'maintenance', 'maintenance', 'maggi', 'lymphotoxin', 'lymphocyte', 'limitation', 'leads', 'leading', 'leading', 'killing', 'j', 'j', 'j', 'j', 'j', 'j', 'j', 'isolate', 'involve', 'investigations', 'invest', 'introduction', 'interactions', 'interact', 'interact', 'interact', 'interact', 'interact', 'interact', 'intended', 'insulin', 'insulin', 'insulin', 'insulin', 'inhibiting', 'inhibiting', 'inhibiting', 'induced', 'induced', 'induced', 'induced', 'induced', 'indicative', 'indicates', 'indicates', 'immunol', 'immunol', 'imm', 'imm', 'imm', 'imm', 'humans', 'however', 'hormone', 'hashimoto', 'hashimoto', 'hashimoto', 'gut', 'grave', 'grave', 'granzyme', 'general', 'furthermore', 'furthermore', 'fraction', 'focused', 'fit', 'firestein', 'finally', 'feature', 'failure', 'fact', 'f', 'express', 'expanded', 'exp', 'exp', 'exp', 'existence', 'exist', 'exist', 'evidenced', 'evidenced', 'evidenced', 'evaluating', 'evaluating', 'etiopathogenesis', 'established', 'eosinophilia', 'eosinophilia', 'engulfed', 'engineering', 'endogenous', 'endogenous', 'endogenous', 'endocytosed', 'encodes', 'encodes', 'encodes', 'encodes', 'encodes', 'elimination', 'efficacy', 'efficacy', 'efficacy', 'effect', 'effect', 'due', 'drugs', 'drop', 'discovery', 'digesting', 'diagnosis', 'diagnosis', 'development', 'develop', 'determined', 'determined', 'destroying', 'derivatives', 'derivatives', 'derivatives', 'deplete', 'deleted', 'deleted', 'deleted', 'date', 'crohn', 'crohn', 'crohn', 'control', 'contribute', 'contrast', 'contemplated', 'contemplated', 'construction', 'constellation', 'connection', 'connection', 'conjunctivitis', 'conjunctivitis', 'conjunction', 'composed', 'compete', 'compete', 'compete', 'coffmann', 'coffman', 'clarity', 'characterization', 'characterization', 'central', 'case', 'case', 'case', 'c', 'bring', 'bring', 'bring', 'bind', 'bind', 'bind', 'beneficial', 'beneficial', 'bear', 'background', 'augmentation', 'asthma', 'asthma', 'asthma', 'asthma', 'association', 'association', 'association', 'associated', 'associated', 'approaches', 'antagonists', 'ann', 'ann', 'amount', 'amount', 'amount', 'amelioration', 'amelioration', 'amelioration', 'amelioration', 'amelioration', 'amelioration', 'amelioration', 'amelioration', 'amelioration', 'ameliorating', 'although', 'alternatively', 'alternatively', 'alternatively', 'alternatively', 'alternatively', 'alternatively', 'alternatively', 'alternatively', 'alternatively', 'altered', 'administration', 'additionally', 'additionally', 'additionally', 'additionally', 'additionally', 'additionally', 'additionally', 'additionally', 'additionally', 'additionally', 'additionally', 'addition', 'addition', 'addition', 'addition', 'actions', 'act', 'act', 'act', 'act', 'achieve', 'accordingly', 'accordingly', 'absence', 'absence', 'absence', 'absence', '92', '88', '8', '7', '7', '7', '489', '4651', '346', '340', '3', '3', '297', '277', '2411', '2407', '181', '180', '180', '156', '144', '143', '106', '106', '106', '106']\n"
     ]
    },
    {
     "name": "stderr",
     "output_type": "stream",
     "text": [
      "[nltk_data]   Unzipping tokenizers/punkt.zip.\n"
     ]
    }
   ],
   "source": [
    "from rake_nltk import Rake\n",
    "import nltk\n",
    "\n",
    "# Import test data\n",
    "# df = pd.read_csv('/Users/juergenthiesen/Documents/Patentsview/Cleantech Concepts/df_sample_keyphrase.csv')\n",
    "\n",
    "# Concatenate abstracts for same value in 'cpc_subgroup' column\n",
    "# df = df.groupby('cpc_subgroup')['patent_abstract'].apply(' '.join).reset_index()\n",
    "# # Remove duplicate rows on 'cpc_subgroup' column\n",
    "# df = df.drop_duplicates(subset=['cpc_subgroup'])\n",
    "\n",
    "# Initialize RAKE model\n",
    "rake_extractor = Rake()\n",
    "\n",
    "# Iterate over rows in dataframe\n",
    "for index, row in df.iterrows():\n",
    "    # Extract keywords\n",
    "    rake_extractor.extract_keywords_from_text(row['summary_text'])\n",
    "    keywords = rake_extractor.get_ranked_phrases()\n",
    "    \n",
    "    # # Create new column with keywords\n",
    "    # df.loc[index, 'keywords'] = ', '.join(keywords)\n",
    "    print(keywords)\n",
    "    \n",
    "    break\n",
    "\n",
    "# Save dataframe to json\n",
    "# df.to_json('/Users/juergenthiesen/Documents/Patentsview/Cleantech Concepts/RAKE/df_sample_keyphrase.json')"
   ]
  }
 ],
 "metadata": {
  "kernelspec": {
   "display_name": "venv",
   "language": "python",
   "name": "python3"
  },
  "language_info": {
   "codemirror_mode": {
    "name": "ipython",
    "version": 3
   },
   "file_extension": ".py",
   "mimetype": "text/x-python",
   "name": "python",
   "nbconvert_exporter": "python",
   "pygments_lexer": "ipython3",
   "version": "3.11.4"
  },
  "orig_nbformat": 4
 },
 "nbformat": 4,
 "nbformat_minor": 2
}
