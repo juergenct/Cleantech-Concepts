{
 "cells": [
  {
   "cell_type": "code",
   "execution_count": 63,
   "metadata": {},
   "outputs": [],
   "source": [
    "import pandas as pd\n",
    "import numpy as np\n",
    "from tqdm import tqdm\n",
    "tqdm.pandas()\n",
    "import ast\n",
    "import re\n",
    "import spacy\n",
    "from nltk import WordNetLemmatizer"
   ]
  },
  {
   "cell_type": "code",
   "execution_count": 3,
   "metadata": {},
   "outputs": [],
   "source": [
    "df_epo_rel_on_science = pd.read_json('/mnt/hdd01/PATSTAT Working Directory/Reliance on Science/cleantech_epo_rel_on_science_abstract_yake.json')"
   ]
  },
  {
   "cell_type": "code",
   "execution_count": 4,
   "metadata": {},
   "outputs": [
    {
     "name": "stderr",
     "output_type": "stream",
     "text": [
      "102980it [00:14, 7341.92it/s]\n"
     ]
    }
   ],
   "source": [
    "# Iterate over rows in dataframe\n",
    "for index, row in tqdm(df_epo_rel_on_science.iterrows()):\n",
    "    try:\n",
    "        # Cast row 'keywords_yake' column to string\n",
    "        row['keywords_yake_abstract'] = str(row['keywords_yake_abstract']).lower()\n",
    "        # Check if keywords_yake column starts with \"[[[\" and ends with \"]]]\"\"\n",
    "        if row['keywords_yake_abstract'].startswith('[[[') and row['keywords_yake_abstract'].endswith(']]]'):\n",
    "            # Remove first \"[\" and last \"]\" from keywords_yake_claims column\n",
    "            row['keywords_yake_abstract'] = row['keywords_yake_abstract'][1:-1]\n",
    "        # Cast row 'keywords_yake_claims' column to list\n",
    "        row['keywords_yake_abstract'] = ast.literal_eval(row['keywords_yake_abstract'])\n",
    "        # Assign modified 'keywords_yake_claims' list to temporary variable\n",
    "        keywords_yake_temp = row['keywords_yake_abstract']\n",
    "        # Assign temporary variable to 'keywords_yake_claims' column\n",
    "        df_epo_rel_on_science.at[index, 'keywords_yake_abstract'] = keywords_yake_temp\n",
    "    except:\n",
    "        print(f'Error on line {index}')"
   ]
  },
  {
   "cell_type": "code",
   "execution_count": 5,
   "metadata": {},
   "outputs": [
    {
     "name": "stderr",
     "output_type": "stream",
     "text": [
      "102980it [00:05, 19116.68it/s]\n"
     ]
    }
   ],
   "source": [
    "keywords_list_rel = []\n",
    "yake_conf_score_list = []\n",
    "oaid_list = []\n",
    "min_yake_conf = 1\n",
    "\n",
    "# Iterate over rows in dataframe\n",
    "for index, row in tqdm(df_epo_rel_on_science.iterrows()):\n",
    "    # Check if 'keywords_yake' column is not a list\n",
    "    if not isinstance(row['keywords_yake_abstract'], list):\n",
    "        continue\n",
    "    # Check if 'keywords_yake' column is an empty list or contains only empty lists\n",
    "    if not any(keyword for keyword in row['keywords_yake_abstract']):\n",
    "        continue\n",
    "    # Iterate over keywords in 'keywords_yake' column and append to keywords_list_rel\n",
    "    else:\n",
    "        for keyword in row['keywords_yake_abstract']:\n",
    "            if keyword[1] <= min_yake_conf:\n",
    "                keywords_list_rel.append(keyword[0])\n",
    "                yake_conf_score_list.append(keyword[1])\n",
    "                oaid_list.append(row['oaid'])\n",
    "\n",
    "# Create new dataframe\n",
    "df_keywords_list_rel = pd.DataFrame({\n",
    "    'keyword_yake': keywords_list_rel,\n",
    "    'yake_conf_score': yake_conf_score_list,\n",
    "    'oaid': oaid_list,\n",
    "    'abs_frequency': 1\n",
    "})"
   ]
  },
  {
   "cell_type": "code",
   "execution_count": 6,
   "metadata": {},
   "outputs": [
    {
     "name": "stderr",
     "output_type": "stream",
     "text": [
      "100%|██████████| 1018283/1018283 [00:01<00:00, 945897.54it/s]\n"
     ]
    }
   ],
   "source": [
    "# Filter out non-alphanumeric keywords\n",
    "df_keywords_list_rel = df_keywords_list_rel[\n",
    "    df_keywords_list_rel['keyword_yake'].progress_apply(lambda x: all(word.isalnum() for word in x.split()))\n",
    "]"
   ]
  },
  {
   "cell_type": "code",
   "execution_count": 7,
   "metadata": {},
   "outputs": [
    {
     "name": "stderr",
     "output_type": "stream",
     "text": [
      "100%|██████████| 929827/929827 [00:00<00:00, 2011305.20it/s]\n"
     ]
    }
   ],
   "source": [
    "# Filter out all keywords shorter than 3 characters\n",
    "df_keywords_list_rel = df_keywords_list_rel[\n",
    "    df_keywords_list_rel['keyword_yake'].progress_apply(lambda x: len(x) > 2)\n",
    "]"
   ]
  },
  {
   "cell_type": "code",
   "execution_count": 8,
   "metadata": {},
   "outputs": [
    {
     "name": "stderr",
     "output_type": "stream",
     "text": [
      "100%|██████████| 929827/929827 [00:00<00:00, 1011639.66it/s]\n"
     ]
    }
   ],
   "source": [
    "# Define a function to check if a string is an abbreviation\n",
    "def is_abbreviation(keyword):\n",
    "    # Regular expression to identify abbreviations (typically all uppercase and periods)\n",
    "    # and check for all-uppercase abbreviations with 3 or fewer characters\n",
    "    pattern = re.compile(r'\\b(?:[A-Z]{1,}\\.){2,}\\b|\\b[A-Z]{1,3}\\b')\n",
    "    return pattern.match(keyword) is not None\n",
    "\n",
    "# Apply the function to filter out abbreviations\n",
    "df_keywords_list_rel = df_keywords_list_rel[\n",
    "    df_keywords_list_rel['keyword_yake'].progress_apply(lambda x: not is_abbreviation(x))\n",
    "]"
   ]
  },
  {
   "cell_type": "code",
   "execution_count": 9,
   "metadata": {},
   "outputs": [
    {
     "name": "stderr",
     "output_type": "stream",
     "text": [
      "100%|██████████| 929827/929827 [00:00<00:00, 1246341.12it/s]\n",
      "100%|██████████| 929827/929827 [00:00<00:00, 2102413.53it/s]\n"
     ]
    }
   ],
   "source": [
    "import nltk\n",
    "\n",
    "stopwords = set(nltk.corpus.stopwords.words('english'))\n",
    "\n",
    "# Function to remove keywords that are only one stopword or start/end with a stopword\n",
    "def remove_stopwords(keyword):\n",
    "    words = keyword.split()\n",
    "    \n",
    "    # If the keyword is a single stopword, remove it\n",
    "    if len(words) == 1 and words[0] in stopwords:\n",
    "        return ''\n",
    "    \n",
    "    # If the keyword starts or ends with a stopword, remove line\n",
    "    if words[0] in stopwords:\n",
    "        return ''\n",
    "    if words and words[-1] in stopwords:\n",
    "        return ''\n",
    "    \n",
    "    return ' '.join(words)\n",
    "\n",
    "# Apply the function to remove stopwords\n",
    "df_keywords_list_rel['keyword_yake'] = df_keywords_list_rel['keyword_yake'].progress_apply(remove_stopwords)\n",
    "\n",
    "# Remove empty keywords\n",
    "df_keywords_list_rel = df_keywords_list_rel[\n",
    "    df_keywords_list_rel['keyword_yake'].progress_apply(lambda x: len(x) > 0)\n",
    "]"
   ]
  },
  {
   "cell_type": "code",
   "execution_count": null,
   "metadata": {},
   "outputs": [],
   "source": [
    "# Download spacy model\n",
    "nlp = spacy.load('en_core_web_sm')\n",
    "\n",
    "# Filter out all keywords that do not contain NOUN, PRON, or PROPN in their POS tags\n",
    "df_keywords_list_rel = df_keywords_list_rel[df_keywords_list_rel['keyword_yake'].progress_apply(\n",
    "    lambda keyword: any(token.pos_ in ['NOUN', 'PRON', 'PROPN'] for token in nlp(keyword))\n",
    ")]\n",
    "\n",
    "# Reset index\n",
    "df_keywords_list_rel.reset_index(drop=True, inplace=True)"
   ]
  },
  {
   "cell_type": "code",
   "execution_count": 11,
   "metadata": {},
   "outputs": [
    {
     "name": "stderr",
     "output_type": "stream",
     "text": [
      "100%|██████████| 929797/929797 [00:05<00:00, 162837.45it/s]\n"
     ]
    }
   ],
   "source": [
    "lemmatizer = WordNetLemmatizer()\n",
    "# Function to lemmatize each word in a keyword string\n",
    "def lemmatize_keyword(keyword):\n",
    "    words = keyword.split()  # Split the keyword into individual words\n",
    "    lemmatized_words = [lemmatizer.lemmatize(word) for word in words]\n",
    "    return ' '.join(lemmatized_words)  # Join the lemmatized words back into a string\n",
    "\n",
    "# Lemmatize each keyword string in the 'keyword_yake' column\n",
    "df_keywords_list_rel['keyword_yake_lemma'] = df_keywords_list_rel['keyword_yake'].progress_apply(lemmatize_keyword)"
   ]
  },
  {
   "cell_type": "code",
   "execution_count": null,
   "metadata": {},
   "outputs": [],
   "source": [
    "from sklearn.feature_extraction.text import TfidfVectorizer\n",
    "# Load the spaCy model\n",
    "nlp = spacy.load(\"en_core_web_sm\")\n",
    "\n",
    "# Lemmatize the 'abstract' column in df_epo_rel_on_science\n",
    "def lemmatize_text(text):\n",
    "    return \" \".join([token.lemma_ for token in nlp(text)])\n",
    "\n",
    "# Applying the lemmatization function to each abstract\n",
    "df_epo_rel_on_science['lemmatized_abstract'] = df_epo_rel_on_science['abstract'].progress_apply(lemmatize_text)"
   ]
  },
  {
   "cell_type": "code",
   "execution_count": 65,
   "metadata": {},
   "outputs": [],
   "source": [
    "# Extracting the unique keywords from 'keyword_yake_lemma'\n",
    "unique_keywords = df_keywords_list_rel['keyword_yake_lemma'].unique().tolist()\n",
    "\n",
    "# Create a TfidfVectorizer object\n",
    "vectorizer = TfidfVectorizer(vocabulary=unique_keywords)\n",
    "\n",
    "# Assuming tfidf_matrix is a scipy sparse matrix\n",
    "tfidf_matrix = vectorizer.fit_transform(df_epo_rel_on_science['lemmatized_abstract'])\n",
    "\n",
    "# Calculate max and mean values for each term in the TF-IDF matrix\n",
    "max_tfidf = tfidf_matrix.max(axis=0).toarray().ravel()\n",
    "\n",
    "# Directly use ravel() as mean() returns a numpy matrix\n",
    "mean_tfidf = np.squeeze(np.asarray(tfidf_matrix.mean(axis=0)))"
   ]
  },
  {
   "cell_type": "code",
   "execution_count": 79,
   "metadata": {},
   "outputs": [
    {
     "data": {
      "text/html": [
       "<div>\n",
       "<style scoped>\n",
       "    .dataframe tbody tr th:only-of-type {\n",
       "        vertical-align: middle;\n",
       "    }\n",
       "\n",
       "    .dataframe tbody tr th {\n",
       "        vertical-align: top;\n",
       "    }\n",
       "\n",
       "    .dataframe thead th {\n",
       "        text-align: right;\n",
       "    }\n",
       "</style>\n",
       "<table border=\"1\" class=\"dataframe\">\n",
       "  <thead>\n",
       "    <tr style=\"text-align: right;\">\n",
       "      <th></th>\n",
       "      <th>keyword_yake</th>\n",
       "      <th>yake_conf_score</th>\n",
       "      <th>oaid</th>\n",
       "      <th>abs_frequency</th>\n",
       "      <th>keyword_yake_lemma</th>\n",
       "      <th>max_tfidf</th>\n",
       "      <th>mean_tfidf</th>\n",
       "    </tr>\n",
       "  </thead>\n",
       "  <tbody>\n",
       "    <tr>\n",
       "      <th>0</th>\n",
       "      <td>flora</td>\n",
       "      <td>0.063503</td>\n",
       "      <td>2092669321</td>\n",
       "      <td>1</td>\n",
       "      <td>flora</td>\n",
       "      <td>0.523987</td>\n",
       "      <td>0.000257</td>\n",
       "    </tr>\n",
       "    <tr>\n",
       "      <th>1</th>\n",
       "      <td>preterm</td>\n",
       "      <td>0.109574</td>\n",
       "      <td>2092669321</td>\n",
       "      <td>1</td>\n",
       "      <td>preterm</td>\n",
       "      <td>0.663905</td>\n",
       "      <td>0.000075</td>\n",
       "    </tr>\n",
       "    <tr>\n",
       "      <th>2</th>\n",
       "      <td>flora included bifidobacterium</td>\n",
       "      <td>0.111464</td>\n",
       "      <td>2092669321</td>\n",
       "      <td>1</td>\n",
       "      <td>flora included bifidobacterium</td>\n",
       "      <td>0.000000</td>\n",
       "      <td>0.000000</td>\n",
       "    </tr>\n",
       "    <tr>\n",
       "      <th>3</th>\n",
       "      <td>environment</td>\n",
       "      <td>0.112817</td>\n",
       "      <td>2092669321</td>\n",
       "      <td>1</td>\n",
       "      <td>environment</td>\n",
       "      <td>0.453096</td>\n",
       "      <td>0.001909</td>\n",
       "    </tr>\n",
       "    <tr>\n",
       "      <th>4</th>\n",
       "      <td>quails</td>\n",
       "      <td>0.144876</td>\n",
       "      <td>2092669321</td>\n",
       "      <td>1</td>\n",
       "      <td>quail</td>\n",
       "      <td>0.673007</td>\n",
       "      <td>0.000039</td>\n",
       "    </tr>\n",
       "  </tbody>\n",
       "</table>\n",
       "</div>"
      ],
      "text/plain": [
       "                     keyword_yake  yake_conf_score        oaid  abs_frequency  \\\n",
       "0                           flora         0.063503  2092669321              1   \n",
       "1                         preterm         0.109574  2092669321              1   \n",
       "2  flora included bifidobacterium         0.111464  2092669321              1   \n",
       "3                     environment         0.112817  2092669321              1   \n",
       "4                          quails         0.144876  2092669321              1   \n",
       "\n",
       "               keyword_yake_lemma  max_tfidf  mean_tfidf  \n",
       "0                           flora   0.523987    0.000257  \n",
       "1                         preterm   0.663905    0.000075  \n",
       "2  flora included bifidobacterium   0.000000    0.000000  \n",
       "3                     environment   0.453096    0.001909  \n",
       "4                           quail   0.673007    0.000039  "
      ]
     },
     "execution_count": 79,
     "metadata": {},
     "output_type": "execute_result"
    }
   ],
   "source": [
    "df_keywords_list_rel.head()"
   ]
  },
  {
   "cell_type": "code",
   "execution_count": 78,
   "metadata": {},
   "outputs": [],
   "source": [
    "# Create a DataFrame with these statistics\n",
    "tfidf_stats_df = pd.DataFrame({\n",
    "    'keyword_yake_lemma': vectorizer.get_feature_names_out(),\n",
    "    'max_tfidf': max_tfidf,\n",
    "    'mean_tfidf': mean_tfidf\n",
    "})\n",
    "\n",
    "# Merge with your existing DataFrame\n",
    "df_keywords_list_rel = df_keywords_list_rel.merge(tfidf_stats_df, on='keyword_yake_lemma', how='left')"
   ]
  },
  {
   "cell_type": "code",
   "execution_count": 80,
   "metadata": {},
   "outputs": [
    {
     "name": "stdout",
     "output_type": "stream",
     "text": [
      "0.21700028754397543\n"
     ]
    }
   ],
   "source": [
    "# print the mean of the max_tfidf column\n",
    "print(df_keywords_list_rel['max_tfidf'].mean())"
   ]
  },
  {
   "cell_type": "code",
   "execution_count": 82,
   "metadata": {},
   "outputs": [],
   "source": [
    "# Aggregate df_keywords_list_ep by 'keyword'\n",
    "df_keywords_list_rel_agg = df_keywords_list_rel.groupby(['keyword_yake_lemma']).agg({\n",
    "    'yake_conf_score': 'mean',\n",
    "    'oaid': list,\n",
    "    'abs_frequency': 'count',\n",
    "    'max_tfidf': 'max',\n",
    "    'mean_tfidf': 'mean'\n",
    "}).reset_index()"
   ]
  }
 ],
 "metadata": {
  "kernelspec": {
   "display_name": "venv",
   "language": "python",
   "name": "python3"
  },
  "language_info": {
   "codemirror_mode": {
    "name": "ipython",
    "version": 3
   },
   "file_extension": ".py",
   "mimetype": "text/x-python",
   "name": "python",
   "nbconvert_exporter": "python",
   "pygments_lexer": "ipython3",
   "version": "3.11.6"
  }
 },
 "nbformat": 4,
 "nbformat_minor": 2
}
