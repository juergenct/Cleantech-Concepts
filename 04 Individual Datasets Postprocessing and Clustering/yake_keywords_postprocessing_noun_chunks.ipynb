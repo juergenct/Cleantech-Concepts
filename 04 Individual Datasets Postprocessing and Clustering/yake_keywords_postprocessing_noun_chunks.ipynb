{
 "cells": [
  {
   "cell_type": "code",
   "execution_count": 1,
   "metadata": {},
   "outputs": [],
   "source": [
    "import pandas as pd\n",
    "import ast\n",
    "import re\n",
    "from tqdm import tqdm\n",
    "tqdm.pandas()"
   ]
  },
  {
   "cell_type": "markdown",
   "metadata": {},
   "source": [
    "# EPO"
   ]
  },
  {
   "cell_type": "code",
   "execution_count": null,
   "metadata": {},
   "outputs": [],
   "source": [
    "# Load Data\n",
    "# df_yake_claims_ep = pd.read_json('/mnt/hdd01/PATSTAT Working Directory/PATSTAT/cleantech_epo_text_data_pivot_cleaned_yake_noun_chunks.json')\n",
    "df_yake_claims_ep = pd.read_json('/mnt/hdd01/patentsview/Non Cleantech Patents - Classifier Set/df_epo_non_cleantech_text_data_pivot_claims_cleaned_yake_noun_chunks.json')"
   ]
  },
  {
   "cell_type": "code",
   "execution_count": null,
   "metadata": {},
   "outputs": [],
   "source": [
    "def parse_strings(s):\n",
    "    # Check if the string starts with [' and ends with ']\n",
    "    if s.startswith(\"['\") and s.endswith(\"']\"):\n",
    "        # Use a regular expression to find all sequences of characters enclosed in single or double quotes\n",
    "        return re.findall(r\"['\\\"]([^'\\\"]*)['\\\"]\", s)\n",
    "    else:\n",
    "        # Split the string by commas\n",
    "        return s.split(', ')\n",
    "    \n",
    "# Apply parse_strings function to 'cpc_class_symbol' column\n",
    "df_yake_claims_ep['cpc_class_symbol'] = df_yake_claims_ep['cpc_class_symbol'].progress_apply(parse_strings)"
   ]
  },
  {
   "cell_type": "code",
   "execution_count": null,
   "metadata": {},
   "outputs": [],
   "source": [
    "keywords_list_ep = []\n",
    "yake_conf_score_list = []\n",
    "publn_nr_list = []\n",
    "# cpc_symbol_list = [] - Not considered for Non Cleantech Patents\n",
    "# min_yake_conf = 0.05 - Currently not used\n",
    "\n",
    "# Iterate over rows in dataframe\n",
    "for index, row in tqdm(df_yake_claims_ep.iterrows()):\n",
    "    # Check if 'keywords_yake_claims' column is not a list\n",
    "    if not isinstance(row['keywords_yake_claim_noun_chunk'], list):\n",
    "        continue\n",
    "    # Check if 'keywords_yake_claims' column is an empty list or contains only empty lists\n",
    "    if not any(keyword for keyword in row['keywords_yake_claim_noun_chunk']):\n",
    "        continue\n",
    "    # Iterate over keywords in 'keywords_yake_claims' column and append to keywords_list_ep, consider only top 10 keywords\n",
    "    else:\n",
    "        for keyword in row['keywords_yake_claim_noun_chunk'][:10]:\n",
    "            # if keyword[1] <= min_yake_conf:\n",
    "            keywords_list_ep.append(keyword[0].lower())\n",
    "            yake_conf_score_list.append(keyword[1])\n",
    "            publn_nr_list.append(row['publn_nr'])\n",
    "            # cpc_symbol_list.append(row['cpc_class_symbol'])\n",
    "\n",
    "# Create new dataframe\n",
    "df_keywords_list_ep = pd.DataFrame({\n",
    "    'keyword_yake': keywords_list_ep,\n",
    "    'yake_conf_score': yake_conf_score_list,\n",
    "    'publn_nr': publn_nr_list,\n",
    "    # 'cpc_class_symbol': cpc_symbol_list,\n",
    "    'abs_frequency': 1\n",
    "})"
   ]
  },
  {
   "cell_type": "code",
   "execution_count": null,
   "metadata": {},
   "outputs": [],
   "source": [
    "# Filter out non-alphanumeric keywords\n",
    "df_keywords_list_ep = df_keywords_list_ep[\n",
    "    df_keywords_list_ep['keyword_yake'].progress_apply(lambda x: all(word.isalnum() for word in x.split()))\n",
    "]\n",
    "\n",
    "# Filter out all keywords shorter than 3 characters\n",
    "df_keywords_list_ep = df_keywords_list_ep[\n",
    "    df_keywords_list_ep['keyword_yake'].progress_apply(lambda x: len(x) > 2)\n",
    "]\n",
    "\n",
    "# Define a function to check if a string is an abbreviation\n",
    "def is_abbreviation(keyword):\n",
    "    # Regular expression to identify abbreviations (typically all uppercase and periods)\n",
    "    # and check for all-uppercase abbreviations with 3 or fewer characters\n",
    "    pattern = re.compile(r'\\b(?:[A-Z]{1,}\\.){2,}\\b|\\b[A-Z]{1,3}\\b')\n",
    "    return pattern.match(keyword) is not None\n",
    "\n",
    "# Apply the function to filter out abbreviations\n",
    "df_keywords_list_ep = df_keywords_list_ep[\n",
    "    df_keywords_list_ep['keyword_yake'].progress_apply(lambda x: not is_abbreviation(x))\n",
    "]"
   ]
  },
  {
   "cell_type": "code",
   "execution_count": null,
   "metadata": {},
   "outputs": [],
   "source": [
    "# Lemmatize keywords\n",
    "from nltk.stem import WordNetLemmatizer\n",
    "lemmatizer = WordNetLemmatizer()\n",
    "\n",
    "def lemmatize_keywords(keyword):\n",
    "    return ' '.join([lemmatizer.lemmatize(word) for word in keyword.split()])\n",
    "\n",
    "df_keywords_list_ep['keyword_yake_lemma'] = df_keywords_list_ep['keyword_yake'].progress_apply(lemmatize_keywords)"
   ]
  },
  {
   "cell_type": "code",
   "execution_count": null,
   "metadata": {},
   "outputs": [],
   "source": [
    "import nltk\n",
    "\n",
    "stopwords = set(nltk.corpus.stopwords.words('english'))\n",
    "\n",
    "# Function to remove keywords that are only one stopword or start/end with a stopword\n",
    "def remove_stopwords(keyword):\n",
    "    words = keyword.split()\n",
    "    \n",
    "    # If the keyword is a single stopword, remove it\n",
    "    if len(words) == 1 and words[0] in stopwords:\n",
    "        return ''\n",
    "    \n",
    "    # If the keyword starts or ends with a stopword, remove line\n",
    "    if words[0] in stopwords:\n",
    "        return ''\n",
    "    if words and words[-1] in stopwords:\n",
    "        return ''\n",
    "    \n",
    "    return ' '.join(words)\n",
    "\n",
    "# Apply the function to remove stopwords\n",
    "df_keywords_list_ep['keyword_yake_lemma'] = df_keywords_list_ep['keyword_yake_lemma'].progress_apply(remove_stopwords)\n",
    "\n",
    "# Remove empty keywords\n",
    "df_keywords_list_ep = df_keywords_list_ep[\n",
    "    df_keywords_list_ep['keyword_yake_lemma'].progress_apply(lambda x: len(x) > 0)\n",
    "]"
   ]
  },
  {
   "cell_type": "code",
   "execution_count": null,
   "metadata": {},
   "outputs": [],
   "source": [
    "# Aggregate df_keywords_list_ep by 'keyword'\n",
    "df_keywords_list_ep_agg = df_keywords_list_ep.groupby(['keyword_yake_lemma']).agg({\n",
    "    'yake_conf_score': 'mean',\n",
    "    'publn_nr': list,\n",
    "    # 'cpc_class_symbol': list,\n",
    "    'abs_frequency': 'count'\n",
    "}).reset_index()\n",
    "\n",
    "# Flatten nested lists in 'cpc_class_symbol' column\n",
    "# df_keywords_list_ep_agg['cpc_class_symbol'] = df_keywords_list_ep_agg['cpc_class_symbol'].progress_apply(lambda x: [item for sublist in x for item in sublist])"
   ]
  },
  {
   "cell_type": "code",
   "execution_count": null,
   "metadata": {},
   "outputs": [],
   "source": [
    "# df_keywords_list_ep_agg.to_json('/mnt/hdd01/patentsview/Similarity Search - CPC Classification and Claims/epo_yake_keywords_list_noun_chunks.json', orient='records')\n",
    "df_keywords_list_ep_agg.to_json('/mnt/hdd01/patentsview/Non Cleantech Patents - Classifier Set/epo_yake_keywords_list_non_cleantech_noun_chunks.json', orient='records')"
   ]
  },
  {
   "cell_type": "markdown",
   "metadata": {},
   "source": [
    "# USPTO"
   ]
  },
  {
   "cell_type": "code",
   "execution_count": null,
   "metadata": {},
   "outputs": [],
   "source": [
    "# Load Data\n",
    "# df_yake_claims_uspto = pd.read_json('/mnt/hdd01/patentsview/Patentsview - Cleantech Patents/g_patent_claims_cleantech_yake_noun_chunks.json')\n",
    "df_yake_claims_uspto = pd.read_json('/mnt/hdd01/patentsview/Non Cleantech Patents - Classifier Set/g_uspto_non_cleantech_claims_fulltext_yake_noun_chunks.json')"
   ]
  },
  {
   "cell_type": "code",
   "execution_count": null,
   "metadata": {},
   "outputs": [],
   "source": [
    "keywords_list_uspto = []\n",
    "yake_conf_score_list = []\n",
    "patent_id_list = []\n",
    "# min_yake_conf = 0.05 - Currently not used\n",
    "\n",
    "# Iterate over rows in dataframe\n",
    "for index, row in tqdm(df_yake_claims_uspto.iterrows()):\n",
    "    # Check if 'keywords_yake' column is not a list\n",
    "    if not isinstance(row['keywords_yake_claim_noun_chunk'], list):\n",
    "        continue\n",
    "    # Check if 'keywords_yake' column is an empty list or contains only empty lists\n",
    "    if not any(keyword for keyword in row['keywords_yake_claim_noun_chunk']):\n",
    "        continue\n",
    "    # Iterate over keywords in 'keywords_yake' column and append to keywords_list_uspto\n",
    "    else:\n",
    "        for keyword in row['keywords_yake_claim_noun_chunk'][:10]:\n",
    "            # if keyword[1] <= min_yake_conf:\n",
    "            keywords_list_uspto.append(keyword[0].lower())\n",
    "            yake_conf_score_list.append(keyword[1])\n",
    "            patent_id_list.append(row['patent_id'])\n",
    "\n",
    "# Create new dataframe\n",
    "df_keywords_list_uspto = pd.DataFrame({\n",
    "    'keyword_yake': keywords_list_uspto,\n",
    "    'yake_conf_score': yake_conf_score_list,\n",
    "    'patent_id': patent_id_list,\n",
    "    'abs_frequency': 1\n",
    "})"
   ]
  },
  {
   "cell_type": "code",
   "execution_count": null,
   "metadata": {},
   "outputs": [],
   "source": [
    "# Filter out non-alphanumeric keywords\n",
    "df_keywords_list_uspto = df_keywords_list_uspto[\n",
    "    df_keywords_list_uspto['keyword_yake'].progress_apply(lambda x: all(word.isalnum() for word in x.split()))\n",
    "]\n",
    "\n",
    "# Filter out all keywords shorter than 3 characters\n",
    "df_keywords_list_uspto = df_keywords_list_uspto[\n",
    "    df_keywords_list_uspto['keyword_yake'].progress_apply(lambda x: len(x) > 2)\n",
    "]\n",
    "\n",
    "# Define a function to check if a string is an abbreviation\n",
    "def is_abbreviation(keyword):\n",
    "    # Regular expression to identify abbreviations (typically all uppercase and periods)\n",
    "    # and check for all-uppercase abbreviations with 3 or fewer characters\n",
    "    pattern = re.compile(r'\\b(?:[A-Z]{1,}\\.){2,}\\b|\\b[A-Z]{1,3}\\b')\n",
    "    return pattern.match(keyword) is not None\n",
    "\n",
    "# Apply the function to filter out abbreviations\n",
    "df_keywords_list_uspto = df_keywords_list_uspto[\n",
    "    df_keywords_list_uspto['keyword_yake'].progress_apply(lambda x: not is_abbreviation(x))\n",
    "]"
   ]
  },
  {
   "cell_type": "markdown",
   "metadata": {},
   "source": [
    "## Match Patents to CPC Classification"
   ]
  },
  {
   "cell_type": "code",
   "execution_count": null,
   "metadata": {},
   "outputs": [],
   "source": [
    "# PatentsView - Merge with CPC Classification\n",
    "df_cpc_uspto = pd.read_json('/mnt/hdd01/patentsview/Patentsview - Cleantech Patents/df_patentsview_patent_cpc_grouped_cleantech.json')\n",
    "# Extract 'cpc_group' into a new column\n",
    "df_cpc_uspto['cpc_group'] = df_cpc_uspto['cpc'].progress_apply(\n",
    "    lambda x: [entry['cpc_group'] for entry in x.values() if 'cpc_group' in entry]\n",
    ")\n",
    "\n",
    "# Remove duplicates from 'cpc_group_list'\n",
    "df_cpc_uspto['cpc_group'] = df_cpc_uspto['cpc_group'].progress_apply(lambda x: list(set(x)))"
   ]
  },
  {
   "cell_type": "code",
   "execution_count": null,
   "metadata": {},
   "outputs": [],
   "source": [
    "# Merge df_keywords_list_uspto with df_cpc_uspto\n",
    "df_keywords_list_uspto = pd.merge(\n",
    "    df_keywords_list_uspto,\n",
    "    df_cpc_uspto[['patent_id', 'cpc_group']],\n",
    "    how='left',\n",
    "    on='patent_id'\n",
    ")"
   ]
  },
  {
   "cell_type": "markdown",
   "metadata": {},
   "source": [
    "## Continue Postprocessing"
   ]
  },
  {
   "cell_type": "code",
   "execution_count": null,
   "metadata": {},
   "outputs": [],
   "source": [
    "# Lemmatize keywords\n",
    "from nltk.stem import WordNetLemmatizer\n",
    "lemmatizer = WordNetLemmatizer()\n",
    "\n",
    "def lemmatize_keywords(keyword):\n",
    "    return ' '.join([lemmatizer.lemmatize(word) for word in keyword.split()])\n",
    "\n",
    "df_keywords_list_uspto['keyword_yake_lemma'] = df_keywords_list_uspto['keyword_yake'].progress_apply(lemmatize_keywords)"
   ]
  },
  {
   "cell_type": "code",
   "execution_count": null,
   "metadata": {},
   "outputs": [],
   "source": [
    "import nltk\n",
    "\n",
    "stopwords = set(nltk.corpus.stopwords.words('english'))\n",
    "\n",
    "# Function to remove keywords that are only one stopword or start/end with a stopword\n",
    "def remove_stopwords(keyword):\n",
    "    words = keyword.split()\n",
    "    \n",
    "    # If the keyword is a single stopword, remove it\n",
    "    if len(words) == 1 and words[0] in stopwords:\n",
    "        return ''\n",
    "    \n",
    "    # If the keyword starts or ends with a stopword, remove line\n",
    "    if words[0] in stopwords:\n",
    "        return ''\n",
    "    if words and words[-1] in stopwords:\n",
    "        return ''\n",
    "    \n",
    "    return ' '.join(words)\n",
    "\n",
    "# Apply the function to remove stopwords\n",
    "df_keywords_list_uspto['keyword_yake_lemma'] = df_keywords_list_uspto['keyword_yake_lemma'].progress_apply(remove_stopwords)\n",
    "\n",
    "# Remove empty keywords\n",
    "df_keywords_list_uspto = df_keywords_list_uspto[\n",
    "    df_keywords_list_uspto['keyword_yake_lemma'].progress_apply(lambda x: len(x) > 0)\n",
    "]"
   ]
  },
  {
   "cell_type": "code",
   "execution_count": null,
   "metadata": {},
   "outputs": [],
   "source": [
    "# Aggregate df_keywords_list_ep by 'keyword'\n",
    "df_keywords_list_uspto_agg = df_keywords_list_uspto.groupby(['keyword_yake_lemma']).agg({\n",
    "    'yake_conf_score': 'mean',\n",
    "    'patent_id': list,\n",
    "    # 'cpc_group': list,\n",
    "    'abs_frequency': 'count'\n",
    "}).reset_index()\n",
    "\n",
    "# Flatten nested lists in 'cpc_group' column\n",
    "# df_keywords_list_uspto_agg['cpc_group'] = df_keywords_list_uspto_agg['cpc_group'].progress_apply(lambda x: [item for sublist in x for item in sublist])"
   ]
  },
  {
   "cell_type": "code",
   "execution_count": null,
   "metadata": {},
   "outputs": [],
   "source": [
    "# df_keywords_list_uspto_agg.to_json('/mnt/hdd01/patentsview/Similarity Search - CPC Classification and Claims/uspto_yake_keywords_list_noun_chunks.json', orient='records')\n",
    "df_keywords_list_uspto_agg.to_json('/mnt/hdd01/patentsview/Non Cleantech Patents - Classifier Set/uspto_yake_keywords_list_non_cleantech_noun_chunks.json', orient='records')"
   ]
  },
  {
   "cell_type": "markdown",
   "metadata": {},
   "source": [
    "# Reliance on Science - USPTO and EPO"
   ]
  },
  {
   "cell_type": "code",
   "execution_count": null,
   "metadata": {},
   "outputs": [],
   "source": [
    "# Load Data\n",
    "df_rel_on_science_uspto = pd.read_json('/mnt/hdd01/patentsview/Reliance on Science - Cleantech Patents/df_oaid_Cleantech_y02_individual_works_yake_noun_chunks.json', dtype={'patent_id': str, 'oaid': str})\n",
    "df_rel_on_science_ep = pd.read_json('/mnt/hdd01/PATSTAT Working Directory/Reliance on Science/cleantech_epo_rel_on_science_abstract_yake_noun_chunks.json', dtype={'publn_nr': str, 'oaid': str})"
   ]
  },
  {
   "cell_type": "code",
   "execution_count": 3,
   "metadata": {},
   "outputs": [],
   "source": [
    "df_rel_on_science = pd.read_json('/mnt/hdd01/patentsview/Non Cleantech Patents - Classifier Set/df_oaids_non_cleantech_yake_noun_chunks.json', dtype={'oaid': str})"
   ]
  },
  {
   "cell_type": "code",
   "execution_count": null,
   "metadata": {},
   "outputs": [],
   "source": [
    "# Concatenate dataframes, reset index and drop duplicates\n",
    "df_rel_on_science = pd.concat([df_rel_on_science_uspto, df_rel_on_science_ep], ignore_index=True)\n",
    "df_rel_on_science = df_rel_on_science.drop_duplicates(subset=['oaid'], keep='first').reset_index(drop=True)"
   ]
  },
  {
   "cell_type": "code",
   "execution_count": 4,
   "metadata": {},
   "outputs": [
    {
     "name": "stderr",
     "output_type": "stream",
     "text": [
      "611441it [00:34, 17719.97it/s]\n"
     ]
    }
   ],
   "source": [
    "keywords_list_rel = []\n",
    "yake_conf_score_list = []\n",
    "oaid_list = []\n",
    "# publn_nr_list = []\n",
    "# patent_id_list = []\n",
    "patent_list = []\n",
    "# min_yake_conf = 0.05 - Currently not used\n",
    "\n",
    "# Iterate over rows in dataframe\n",
    "for index, row in tqdm(df_rel_on_science.iterrows()):\n",
    "    # Check if 'keywords_yake' column is not a list\n",
    "    if not isinstance(row['keywords_yake_abstract_noun_chunk'], list):\n",
    "        continue\n",
    "    # Check if 'keywords_yake' column is an empty list or contains only empty lists\n",
    "    if not any(keyword for keyword in row['keywords_yake_abstract_noun_chunk']):\n",
    "        continue\n",
    "    # Iterate over keywords in 'keywords_yake' column and append to keywords_list_rel\n",
    "    else:\n",
    "        for keyword in row['keywords_yake_abstract_noun_chunk'][:10]:\n",
    "            # if keyword[1] <= min_yake_conf:\n",
    "            keywords_list_rel.append(keyword[0].lower())\n",
    "            yake_conf_score_list.append(keyword[1])\n",
    "            oaid_list.append(row['oaid'])\n",
    "            patent_list.append(row['patent'])\n",
    "            # publn_nr_list.append(row['publn_nr'])\n",
    "            # patent_id_list.append(row['patent_id'])\n",
    "\n",
    "# Create new dataframe\n",
    "df_keywords_list_rel = pd.DataFrame({\n",
    "    'keyword_yake': keywords_list_rel,\n",
    "    'yake_conf_score': yake_conf_score_list,\n",
    "    'oaid': oaid_list,\n",
    "    'abs_frequency': 1,\n",
    "    # 'publn_nr': publn_nr_list,\n",
    "    # 'patent_id': patent_id_list\n",
    "    'patent': patent_list\n",
    "})"
   ]
  },
  {
   "cell_type": "code",
   "execution_count": 5,
   "metadata": {},
   "outputs": [
    {
     "name": "stderr",
     "output_type": "stream",
     "text": [
      "100%|██████████| 5870433/5870433 [00:04<00:00, 1233843.85it/s]\n",
      "100%|██████████| 5430269/5430269 [00:02<00:00, 2302048.08it/s]\n",
      "100%|██████████| 5430269/5430269 [00:04<00:00, 1109039.61it/s]\n"
     ]
    }
   ],
   "source": [
    "# Filter out non-alphanumeric keywords\n",
    "df_keywords_list_rel = df_keywords_list_rel[\n",
    "    df_keywords_list_rel['keyword_yake'].progress_apply(lambda x: all(word.isalnum() for word in x.split()))\n",
    "]\n",
    "\n",
    "# Filter out all keywords shorter than 3 characters\n",
    "df_keywords_list_rel = df_keywords_list_rel[\n",
    "    df_keywords_list_rel['keyword_yake'].progress_apply(lambda x: len(x) > 2)\n",
    "]\n",
    "\n",
    "# Define a function to check if a string is an abbreviation\n",
    "def is_abbreviation(keyword):\n",
    "    # Regular expression to identify abbreviations (typically all uppercase and periods)\n",
    "    # and check for all-uppercase abbreviations with 3 or fewer characters\n",
    "    pattern = re.compile(r'\\b(?:[A-Z]{1,}\\.){2,}\\b|\\b[A-Z]{1,3}\\b')\n",
    "    return pattern.match(keyword) is not None\n",
    "\n",
    "# Apply the function to filter out abbreviations\n",
    "df_keywords_list_rel = df_keywords_list_rel[\n",
    "    df_keywords_list_rel['keyword_yake'].progress_apply(lambda x: not is_abbreviation(x))\n",
    "]"
   ]
  },
  {
   "cell_type": "code",
   "execution_count": 6,
   "metadata": {},
   "outputs": [
    {
     "name": "stderr",
     "output_type": "stream",
     "text": [
      "100%|██████████| 5430269/5430269 [00:22<00:00, 243118.62it/s]\n"
     ]
    }
   ],
   "source": [
    "# Lemmatize keywords\n",
    "from nltk.stem import WordNetLemmatizer\n",
    "lemmatizer = WordNetLemmatizer()\n",
    "\n",
    "def lemmatize_keywords(keyword):\n",
    "    return ' '.join([lemmatizer.lemmatize(word) for word in keyword.split()])\n",
    "\n",
    "df_keywords_list_rel['keyword_yake_lemma'] = df_keywords_list_rel['keyword_yake'].progress_apply(lemmatize_keywords)"
   ]
  },
  {
   "cell_type": "code",
   "execution_count": 7,
   "metadata": {},
   "outputs": [
    {
     "name": "stderr",
     "output_type": "stream",
     "text": [
      "100%|██████████| 5430269/5430269 [00:03<00:00, 1542266.16it/s]\n",
      "100%|██████████| 5430269/5430269 [00:02<00:00, 2375649.16it/s]\n"
     ]
    }
   ],
   "source": [
    "import nltk\n",
    "\n",
    "stopwords = set(nltk.corpus.stopwords.words('english'))\n",
    "\n",
    "# Function to remove keywords that are only one stopword or start/end with a stopword\n",
    "def remove_stopwords(keyword):\n",
    "    words = keyword.split()\n",
    "    \n",
    "    # If the keyword is a single stopword, remove it\n",
    "    if len(words) == 1 and words[0] in stopwords:\n",
    "        return ''\n",
    "    \n",
    "    # If the keyword starts or ends with a stopword, remove line\n",
    "    if words[0] in stopwords:\n",
    "        return ''\n",
    "    if words and words[-1] in stopwords:\n",
    "        return ''\n",
    "    \n",
    "    return ' '.join(words)\n",
    "\n",
    "# Apply the function to remove stopwords\n",
    "df_keywords_list_rel['keyword_yake_lemma'] = df_keywords_list_rel['keyword_yake_lemma'].progress_apply(remove_stopwords)\n",
    "\n",
    "# Remove empty keywords\n",
    "df_keywords_list_rel = df_keywords_list_rel[\n",
    "    df_keywords_list_rel['keyword_yake_lemma'].progress_apply(lambda x: len(x) > 0)\n",
    "]"
   ]
  },
  {
   "cell_type": "code",
   "execution_count": null,
   "metadata": {},
   "outputs": [],
   "source": [
    "# Cast 'publn_nr' column to string\n",
    "df_keywords_list_rel['publn_nr'] = df_keywords_list_rel['publn_nr'].progress_apply(str)"
   ]
  },
  {
   "cell_type": "code",
   "execution_count": 8,
   "metadata": {},
   "outputs": [
    {
     "name": "stderr",
     "output_type": "stream",
     "text": [
      "100%|██████████| 1272664/1272664 [00:01<00:00, 703329.79it/s]\n"
     ]
    }
   ],
   "source": [
    "# Aggregate df_keywords_list_rel by 'keyword_yake_lemma'\n",
    "df_keywords_list_rel_agg = df_keywords_list_rel.groupby(['keyword_yake_lemma']).agg({\n",
    "    'yake_conf_score': 'mean',\n",
    "    'oaid': list,\n",
    "    # 'publn_nr': list,\n",
    "    'patent': list,\n",
    "    # 'patent_id': list,\n",
    "    'abs_frequency': 'count'\n",
    "}).reset_index()\n",
    "\n",
    "# Delete all nan list entries in columns 'publn_nr' and 'patent_id'\n",
    "# df_keywords_list_rel_agg['publn_nr'] = df_keywords_list_rel_agg['publn_nr'].progress_apply(lambda x: [item for item in x if str(item) != 'nan'])\n",
    "# df_keywords_list_rel_agg['patent_id'] = df_keywords_list_rel_agg['patent_id'].progress_apply(lambda x: [item for item in x if str(item) != 'nan'])\n",
    "df_keywords_list_rel_agg['patent'] = df_keywords_list_rel_agg['patent'].progress_apply(lambda x: [item for item in x if str(item) != 'nan'])"
   ]
  },
  {
   "cell_type": "code",
   "execution_count": 9,
   "metadata": {},
   "outputs": [],
   "source": [
    "# df_keywords_list_rel_agg.to_json('/mnt/hdd01/patentsview/Similarity Search - CPC Classification and Claims/rel_on_science_yake_keywords_list_noun_chunks.json', orient='records')\n",
    "df_keywords_list_rel_agg.to_json('/mnt/hdd01/patentsview/Non Cleantech Patents - Classifier Set/rel_on_science_yake_keywords_list_non_cleantech_noun_chunks.json', orient='records')"
   ]
  },
  {
   "cell_type": "markdown",
   "metadata": {},
   "source": [
    "# CPC Classification"
   ]
  },
  {
   "cell_type": "code",
   "execution_count": null,
   "metadata": {},
   "outputs": [],
   "source": [
    "df_cpc_classification = pd.read_json('/mnt/hdd01/patentsview/CPC Classification/df_keyword_y02_classification_noun_chunking.json')"
   ]
  },
  {
   "cell_type": "code",
   "execution_count": null,
   "metadata": {},
   "outputs": [],
   "source": [
    "keywords_list_cpc = []\n",
    "yake_conf_score_list = []\n",
    "cpc_symbol_list = []\n",
    "# min_yake_conf = 0.05 - Currently not used\n",
    "\n",
    "# Iterate over rows in dataframe\n",
    "for index, row in tqdm(df_cpc_classification.iterrows()):\n",
    "    # Check if 'keywords_yake_claims' column is not a list\n",
    "    if not isinstance(row['keywords_yake_title_lower_noun_chunk'], list):\n",
    "        continue\n",
    "    # Check if 'keywords_yake_claims' column is an empty list or contains only empty lists\n",
    "    if not any(keyword for keyword in row['keywords_yake_title_lower_noun_chunk']):\n",
    "        continue\n",
    "    # Iterate over keywords in 'keywords_yake_claims' column and append to keywords_list_ep, consider only top 10 keywords\n",
    "    else:\n",
    "        for keyword in row['keywords_yake_title_lower_noun_chunk'][:10]:\n",
    "            # if keyword[1] <= min_yake_conf:\n",
    "            keywords_list_cpc.append(keyword[0].lower())\n",
    "            yake_conf_score_list.append(keyword[1])\n",
    "            cpc_symbol_list.append(row['cpc_classification'])\n",
    "\n",
    "# Create new dataframe\n",
    "df_keywords_list_cpc = pd.DataFrame({\n",
    "    'keyword_yake': keywords_list_cpc,\n",
    "    'yake_conf_score': yake_conf_score_list,\n",
    "    'cpc_class_symbol': cpc_symbol_list\n",
    "})"
   ]
  },
  {
   "cell_type": "code",
   "execution_count": null,
   "metadata": {},
   "outputs": [],
   "source": [
    "# Filter out non-alphanumeric keywords\n",
    "df_keywords_list_cpc = df_keywords_list_cpc[\n",
    "    df_keywords_list_cpc['keyword_yake'].progress_apply(lambda x: all(word.isalnum() for word in x.split()))\n",
    "]\n",
    "\n",
    "# Filter out all keywords shorter than 3 characters\n",
    "df_keywords_list_cpc = df_keywords_list_cpc[\n",
    "    df_keywords_list_cpc['keyword_yake'].progress_apply(lambda x: len(x) > 2)\n",
    "]\n",
    "\n",
    "# Define a function to check if a string is an abbreviation\n",
    "def is_abbreviation(keyword):\n",
    "    # Regular expression to identify abbreviations (typically all uppercase and periods)\n",
    "    # and check for all-uppercase abbreviations with 3 or fewer characters\n",
    "    pattern = re.compile(r'\\b(?:[A-Z]{1,}\\.){2,}\\b|\\b[A-Z]{1,3}\\b')\n",
    "    return pattern.match(keyword) is not None\n",
    "\n",
    "# Apply the function to filter out abbreviations\n",
    "df_keywords_list_cpc = df_keywords_list_cpc[\n",
    "    df_keywords_list_cpc['keyword_yake'].progress_apply(lambda x: not is_abbreviation(x))\n",
    "]"
   ]
  },
  {
   "cell_type": "code",
   "execution_count": null,
   "metadata": {},
   "outputs": [],
   "source": [
    "# Lemmatize keywords\n",
    "from nltk.stem import WordNetLemmatizer\n",
    "lemmatizer = WordNetLemmatizer()\n",
    "\n",
    "def lemmatize_keywords(keyword):\n",
    "    return ' '.join([lemmatizer.lemmatize(word) for word in keyword.split()])\n",
    "\n",
    "df_keywords_list_cpc['keyword_yake_lemma'] = df_keywords_list_cpc['keyword_yake'].progress_apply(lemmatize_keywords)"
   ]
  },
  {
   "cell_type": "code",
   "execution_count": null,
   "metadata": {},
   "outputs": [],
   "source": [
    "import nltk\n",
    "\n",
    "stopwords = set(nltk.corpus.stopwords.words('english'))\n",
    "\n",
    "# Function to remove keywords that are only one stopword or start/end with a stopword\n",
    "def remove_stopwords(keyword):\n",
    "    words = keyword.split()\n",
    "    \n",
    "    # If the keyword is a single stopword, remove it\n",
    "    if len(words) == 1 and words[0] in stopwords:\n",
    "        return ''\n",
    "    \n",
    "    # If the keyword starts or ends with a stopword, remove line\n",
    "    if words[0] in stopwords:\n",
    "        return ''\n",
    "    if words and words[-1] in stopwords:\n",
    "        return ''\n",
    "    \n",
    "    return ' '.join(words)\n",
    "\n",
    "# Apply the function to remove stopwords\n",
    "df_keywords_list_cpc['keyword_yake_lemma'] = df_keywords_list_cpc['keyword_yake_lemma'].progress_apply(remove_stopwords)\n",
    "\n",
    "# Remove empty keywords\n",
    "df_keywords_list_cpc = df_keywords_list_cpc[\n",
    "    df_keywords_list_cpc['keyword_yake_lemma'].progress_apply(lambda x: len(x) > 0)\n",
    "]"
   ]
  },
  {
   "cell_type": "code",
   "execution_count": null,
   "metadata": {},
   "outputs": [],
   "source": [
    "# Aggregate df_keywords_list_cpc by 'keyword'\n",
    "df_keywords_list_cpc_agg = df_keywords_list_cpc.groupby(['keyword_yake_lemma']).agg({\n",
    "    'yake_conf_score': 'mean',\n",
    "    'cpc_class_symbol': list,\n",
    "}).reset_index()"
   ]
  },
  {
   "cell_type": "code",
   "execution_count": null,
   "metadata": {},
   "outputs": [],
   "source": [
    "df_keywords_list_cpc_agg.to_json('/mnt/hdd01/patentsview/Similarity Search - CPC Classification and Claims/cpc_yake_keywords_list_noun_chunks.json', orient='records')"
   ]
  },
  {
   "cell_type": "code",
   "execution_count": null,
   "metadata": {},
   "outputs": [],
   "source": [
    "from sentence_transformers import SentenceTransformer\n",
    "import torch"
   ]
  },
  {
   "cell_type": "code",
   "execution_count": null,
   "metadata": {},
   "outputs": [],
   "source": [
    "model_climatebert = SentenceTransformer('climatebert/distilroberta-base-climate-f')\n",
    "model_bertforpatents = SentenceTransformer('anferico/bert-for-patents')\n",
    "model_patentsberta = SentenceTransformer('AI-Growth-Lab/PatentSBERTa')"
   ]
  },
  {
   "cell_type": "code",
   "execution_count": null,
   "metadata": {},
   "outputs": [],
   "source": [
    "# Check if GPU is available\n",
    "if torch.cuda.is_available():\n",
    "    device = torch.device(\"cuda\")\n",
    "    print(\"GPU available: {}\".format(torch.cuda.get_device_name(0)))\n",
    "else:\n",
    "    device = torch.device(\"cpu\")\n",
    "    print(\"GPU not available, CPU used\")"
   ]
  },
  {
   "cell_type": "code",
   "execution_count": null,
   "metadata": {},
   "outputs": [],
   "source": [
    "# Generate copy of df_claims_keywords_list\n",
    "df_keywords_list_cpc_embeddings = df_keywords_list_cpc_agg.copy()\n",
    "\n",
    "# Perform sentence embedding on the 'keyword_yake' (PatentsView) or 'keywords_yake_claims' (EPO) column\n",
    "df_keywords_list_cpc_embeddings['keyword_yake_patentsberta_embedding'] = df_keywords_list_cpc_embeddings['keyword_yake_lemma'].progress_apply(\n",
    "    lambda x: model_patentsberta.encode(x)\n",
    ")\n",
    "\n",
    "df_keywords_list_cpc_embeddings['keyword_yake_climatebert_embedding'] = df_keywords_list_cpc_embeddings['keyword_yake_lemma'].progress_apply(\n",
    "    lambda x: model_climatebert.encode(x)\n",
    ")\n",
    "\n",
    "df_keywords_list_cpc_embeddings['keyword_yake_bertforpatents_embedding'] = df_keywords_list_cpc_embeddings['keyword_yake_lemma'].progress_apply(\n",
    "    lambda x: model_bertforpatents.encode(x)\n",
    ")"
   ]
  },
  {
   "cell_type": "code",
   "execution_count": null,
   "metadata": {},
   "outputs": [],
   "source": [
    "df_keywords_list_cpc_embeddings.to_json('/mnt/hdd01/patentsview/Similarity Search - CPC Classification and Claims/cpc_yake_keywords_list_noun_chunks_embeddings.json', orient='records')"
   ]
  },
  {
   "cell_type": "markdown",
   "metadata": {},
   "source": [
    "# Merge EP, USPTO and Reliance on Science"
   ]
  },
  {
   "cell_type": "code",
   "execution_count": null,
   "metadata": {},
   "outputs": [],
   "source": [
    "# Load Data\n",
    "df_keywords_list_uspto_agg = pd.read_json('/mnt/hdd01/patentsview/Similarity Search - CPC Classification and Claims/uspto_yake_keywords_list_noun_chunks.json')\n",
    "df_keywords_list_ep_agg = pd.read_json('/mnt/hdd01/patentsview/Similarity Search - CPC Classification and Claims/epo_yake_keywords_list_noun_chunks.json')\n",
    "df_keywords_list_rel_agg = pd.read_json('/mnt/hdd01/patentsview/Similarity Search - CPC Classification and Claims/rel_on_science_yake_keywords_list_noun_chunks.json')"
   ]
  },
  {
   "cell_type": "code",
   "execution_count": 5,
   "metadata": {},
   "outputs": [],
   "source": [
    "df_keywords_list_uspto_agg = pd.read_json('/mnt/hdd01/patentsview/Non Cleantech Patents - Classifier Set/uspto_yake_keywords_list_non_cleantech_noun_chunks.json')\n",
    "df_keywords_list_ep_agg = pd.read_json('/mnt/hdd01/patentsview/Non Cleantech Patents - Classifier Set/epo_yake_keywords_list_non_cleantech_noun_chunks.json')\n",
    "df_keywords_list_rel_agg = pd.read_json('/mnt/hdd01/patentsview/Non Cleantech Patents - Classifier Set/rel_on_science_yake_keywords_list_non_cleantech_noun_chunks.json')"
   ]
  },
  {
   "cell_type": "code",
   "execution_count": 8,
   "metadata": {},
   "outputs": [
    {
     "name": "stderr",
     "output_type": "stream",
     "text": [
      "100%|██████████| 374142/374142 [00:00<00:00, 421216.51it/s]\n",
      "100%|██████████| 1110103/1110103 [00:07<00:00, 140352.53it/s]\n"
     ]
    }
   ],
   "source": [
    "# Cast publn_nr and patent_id to list of strings\n",
    "df_keywords_list_ep_agg['publn_nr'] = df_keywords_list_ep_agg['publn_nr'].progress_apply(lambda x: [str(item) for item in x])\n",
    "df_keywords_list_uspto_agg['patent_id'] = df_keywords_list_uspto_agg['patent_id'].progress_apply(lambda x: [str(item) for item in x])"
   ]
  },
  {
   "cell_type": "code",
   "execution_count": 9,
   "metadata": {},
   "outputs": [],
   "source": [
    "frames = [df_keywords_list_uspto_agg, df_keywords_list_ep_agg, df_keywords_list_rel_agg]\n",
    "df_keywords_list = pd.concat(frames)\n",
    "df_keywords_list.reset_index(drop=True, inplace=True)"
   ]
  },
  {
   "cell_type": "code",
   "execution_count": 10,
   "metadata": {},
   "outputs": [
    {
     "data": {
      "text/html": [
       "<div>\n",
       "<style scoped>\n",
       "    .dataframe tbody tr th:only-of-type {\n",
       "        vertical-align: middle;\n",
       "    }\n",
       "\n",
       "    .dataframe tbody tr th {\n",
       "        vertical-align: top;\n",
       "    }\n",
       "\n",
       "    .dataframe thead th {\n",
       "        text-align: right;\n",
       "    }\n",
       "</style>\n",
       "<table border=\"1\" class=\"dataframe\">\n",
       "  <thead>\n",
       "    <tr style=\"text-align: right;\">\n",
       "      <th></th>\n",
       "      <th>keyword_yake_lemma</th>\n",
       "      <th>yake_conf_score</th>\n",
       "      <th>patent_id</th>\n",
       "      <th>abs_frequency</th>\n",
       "      <th>publn_nr</th>\n",
       "      <th>oaid</th>\n",
       "      <th>patent</th>\n",
       "    </tr>\n",
       "  </thead>\n",
       "  <tbody>\n",
       "    <tr>\n",
       "      <th>959498</th>\n",
       "      <td>substantially rectangular trench</td>\n",
       "      <td>0.087966</td>\n",
       "      <td>[6255190]</td>\n",
       "      <td>1</td>\n",
       "      <td>NaN</td>\n",
       "      <td>NaN</td>\n",
       "      <td>NaN</td>\n",
       "    </tr>\n",
       "    <tr>\n",
       "      <th>1430965</th>\n",
       "      <td>storing process</td>\n",
       "      <td>0.008902</td>\n",
       "      <td>NaN</td>\n",
       "      <td>1</td>\n",
       "      <td>[2463637]</td>\n",
       "      <td>NaN</td>\n",
       "      <td>NaN</td>\n",
       "    </tr>\n",
       "    <tr>\n",
       "      <th>1622658</th>\n",
       "      <td>bulk scattering perfect</td>\n",
       "      <td>0.245504</td>\n",
       "      <td>NaN</td>\n",
       "      <td>1</td>\n",
       "      <td>NaN</td>\n",
       "      <td>[2170805020]</td>\n",
       "      <td>[{ep-2719328-a1}]</td>\n",
       "    </tr>\n",
       "    <tr>\n",
       "      <th>2596601</th>\n",
       "      <td>sufficiently long amount</td>\n",
       "      <td>0.345991</td>\n",
       "      <td>NaN</td>\n",
       "      <td>1</td>\n",
       "      <td>NaN</td>\n",
       "      <td>[2017368948]</td>\n",
       "      <td>[{us-9576343-b2}]</td>\n",
       "    </tr>\n",
       "    <tr>\n",
       "      <th>1637559</th>\n",
       "      <td>casing packer</td>\n",
       "      <td>0.049772</td>\n",
       "      <td>NaN</td>\n",
       "      <td>1</td>\n",
       "      <td>NaN</td>\n",
       "      <td>[2022625807]</td>\n",
       "      <td>[{us-10016810-b2,us-10030474-b2,us-10053957-b2...</td>\n",
       "    </tr>\n",
       "  </tbody>\n",
       "</table>\n",
       "</div>"
      ],
      "text/plain": [
       "                       keyword_yake_lemma  yake_conf_score  patent_id  \\\n",
       "959498   substantially rectangular trench         0.087966  [6255190]   \n",
       "1430965                   storing process         0.008902        NaN   \n",
       "1622658           bulk scattering perfect         0.245504        NaN   \n",
       "2596601          sufficiently long amount         0.345991        NaN   \n",
       "1637559                     casing packer         0.049772        NaN   \n",
       "\n",
       "         abs_frequency   publn_nr          oaid  \\\n",
       "959498               1        NaN           NaN   \n",
       "1430965              1  [2463637]           NaN   \n",
       "1622658              1        NaN  [2170805020]   \n",
       "2596601              1        NaN  [2017368948]   \n",
       "1637559              1        NaN  [2022625807]   \n",
       "\n",
       "                                                    patent  \n",
       "959498                                                 NaN  \n",
       "1430965                                                NaN  \n",
       "1622658                                  [{ep-2719328-a1}]  \n",
       "2596601                                  [{us-9576343-b2}]  \n",
       "1637559  [{us-10016810-b2,us-10030474-b2,us-10053957-b2...  "
      ]
     },
     "execution_count": 10,
     "metadata": {},
     "output_type": "execute_result"
    }
   ],
   "source": [
    "df_keywords_list.sample(5)"
   ]
  },
  {
   "cell_type": "code",
   "execution_count": 12,
   "metadata": {},
   "outputs": [],
   "source": [
    "def concat_lists(series):\n",
    "    combined_list = []\n",
    "    for item in series:\n",
    "        if isinstance(item, list):\n",
    "            combined_list.extend(item)\n",
    "    return combined_list\n",
    "\n",
    "# Group by 'keyword_yake_lemma' and aggregate\n",
    "df_keywords_list_agg = df_keywords_list.groupby('keyword_yake_lemma').agg({\n",
    "    'yake_conf_score': 'mean',        # Mean of yake_conf_score\n",
    "    'abs_frequency': 'sum',           # Sum of abs_frequency\n",
    "    'patent_id': concat_lists,        # Concatenate lists in patent_id\n",
    "    'publn_nr': concat_lists,         # Concatenate lists in publn_nr\n",
    "    'oaid': concat_lists,             # Concatenate lists in oaid\n",
    "    # 'cpc_group': concat_lists,        # Concatenate lists in cpc_group\n",
    "    # 'cpc_class_symbol': concat_lists  # Concatenate lists in cpc_class_symbol\n",
    "}).reset_index()"
   ]
  },
  {
   "cell_type": "code",
   "execution_count": 13,
   "metadata": {},
   "outputs": [
    {
     "name": "stderr",
     "output_type": "stream",
     "text": [
      "100%|██████████| 2473267/2473267 [00:06<00:00, 363519.69it/s] \n"
     ]
    }
   ],
   "source": [
    "import ast\n",
    "\n",
    "def flatten_and_convert(entry):\n",
    "    # If the entry is NaN (float type in pandas), return an empty list\n",
    "    if isinstance(entry, float):\n",
    "        return []\n",
    "\n",
    "    # Initialize an empty list to store the flattened results\n",
    "    flattened_list = []\n",
    "\n",
    "    # Check if the entry is a string and convert it to a list if it represents a list\n",
    "    if isinstance(entry, str) and entry.startswith(\"[\") and entry.endswith(\"]\"):\n",
    "        try:\n",
    "            entry = ast.literal_eval(entry)\n",
    "        except ValueError:\n",
    "            # If conversion fails, return an empty list\n",
    "            return []\n",
    "\n",
    "    # If the entry is a list, process its items\n",
    "    if isinstance(entry, list):\n",
    "        for item in entry:\n",
    "            # If the item is a string representation of a list, convert it\n",
    "            if isinstance(item, str) and item.startswith(\"[\") and item.endswith(\"]\"):\n",
    "                try:\n",
    "                    item = ast.literal_eval(item)\n",
    "                except ValueError:\n",
    "                    continue  # Skip items that can't be converted\n",
    "\n",
    "            # If the item is a list, extend the flattened list with its elements\n",
    "            if isinstance(item, list):\n",
    "                flattened_list.extend(item)\n",
    "            else:\n",
    "                # For single string items, append them directly\n",
    "                flattened_list.append(item)\n",
    "\n",
    "    return flattened_list\n",
    "\n",
    "# Apply the function to the 'publn_nr' column\n",
    "df_keywords_list_agg['publn_nr'] = df_keywords_list_agg['publn_nr'].progress_apply(flatten_and_convert)\n"
   ]
  },
  {
   "cell_type": "code",
   "execution_count": 14,
   "metadata": {},
   "outputs": [
    {
     "name": "stderr",
     "output_type": "stream",
     "text": [
      "100%|██████████| 2473267/2473267 [00:01<00:00, 1377948.02it/s]\n",
      "100%|██████████| 2473267/2473267 [00:07<00:00, 311523.73it/s] \n",
      "100%|██████████| 2473267/2473267 [00:08<00:00, 288483.12it/s] \n"
     ]
    }
   ],
   "source": [
    "def remove_duplicates(lst):\n",
    "    # Convert list to set to remove duplicates, then back to list\n",
    "    return list(set(lst))\n",
    "\n",
    "# Apply the function to each relevant column\n",
    "df_keywords_list_agg['patent_id'] = df_keywords_list_agg['patent_id'].progress_apply(remove_duplicates)\n",
    "df_keywords_list_agg['publn_nr'] = df_keywords_list_agg['publn_nr'].progress_apply(remove_duplicates)\n",
    "df_keywords_list_agg['oaid'] = df_keywords_list_agg['oaid'].progress_apply(remove_duplicates)"
   ]
  },
  {
   "cell_type": "code",
   "execution_count": 15,
   "metadata": {},
   "outputs": [
    {
     "name": "stderr",
     "output_type": "stream",
     "text": [
      "100%|██████████| 2473267/2473267 [00:02<00:00, 1153239.23it/s]\n",
      "100%|██████████| 2473267/2473267 [00:07<00:00, 349830.57it/s] \n",
      "100%|██████████| 2473267/2473267 [00:01<00:00, 1549745.26it/s]\n"
     ]
    }
   ],
   "source": [
    "def remove_duplicates_from_lists(df, columns):\n",
    "    for col in columns:\n",
    "        df[col] = df[col].progress_apply(lambda x: list(set(x)))\n",
    "    return df\n",
    "\n",
    "# Apply this function to the 'oaid', 'patent_id', and 'publn_nr' columns\n",
    "# df_keywords_list_agg = remove_duplicates_from_lists(df_keywords_list_agg, ['oaid', 'patent_id', 'publn_nr', 'cpc_group', 'cpc_class_symbol'])\n",
    "df_keywords_list_agg = remove_duplicates_from_lists(df_keywords_list_agg, ['oaid', 'patent_id', 'publn_nr'])"
   ]
  },
  {
   "cell_type": "markdown",
   "metadata": {},
   "source": [
    "## Postprocessing"
   ]
  },
  {
   "cell_type": "code",
   "execution_count": 16,
   "metadata": {},
   "outputs": [],
   "source": [
    "# Prune dataframe by document frequency and absolute frequency\n",
    "min_abs_frequency = 5\n",
    "max_abs_frequency = 1000\n",
    "# max_doc_frequency = 0.3\n",
    "\n",
    "df_keywords_list_agg_pruned = df_keywords_list_agg[(df_keywords_list_agg['abs_frequency'] >= min_abs_frequency) & (df_keywords_list_agg['abs_frequency'] <= max_abs_frequency)]\n",
    "\n",
    "# Reset index\n",
    "df_keywords_list_agg_pruned.reset_index(drop=True, inplace=True)"
   ]
  },
  {
   "cell_type": "markdown",
   "metadata": {},
   "source": [
    "# Keyword Embedding"
   ]
  },
  {
   "cell_type": "code",
   "execution_count": 21,
   "metadata": {},
   "outputs": [
    {
     "name": "stderr",
     "output_type": "stream",
     "text": [
      "/home/thiesen/Documents/Cleantech_Concepts/venv/lib64/python3.11/site-packages/tqdm/auto.py:21: TqdmWarning: IProgress not found. Please update jupyter and ipywidgets. See https://ipywidgets.readthedocs.io/en/stable/user_install.html\n",
      "  from .autonotebook import tqdm as notebook_tqdm\n"
     ]
    }
   ],
   "source": [
    "from sentence_transformers import SentenceTransformer\n",
    "import torch"
   ]
  },
  {
   "cell_type": "code",
   "execution_count": 22,
   "metadata": {},
   "outputs": [
    {
     "name": "stderr",
     "output_type": "stream",
     "text": [
      "No sentence-transformers model found with name /home/thiesen/.cache/torch/sentence_transformers/climatebert_distilroberta-base-climate-f. Creating a new one with MEAN pooling.\n",
      "Some weights of RobertaModel were not initialized from the model checkpoint at /home/thiesen/.cache/torch/sentence_transformers/climatebert_distilroberta-base-climate-f and are newly initialized: ['roberta.pooler.dense.weight', 'roberta.pooler.dense.bias']\n",
      "You should probably TRAIN this model on a down-stream task to be able to use it for predictions and inference.\n",
      "Special tokens have been added in the vocabulary, make sure the associated word embeddings are fine-tuned or trained.\n",
      "No sentence-transformers model found with name /home/thiesen/.cache/torch/sentence_transformers/anferico_bert-for-patents. Creating a new one with MEAN pooling.\n"
     ]
    }
   ],
   "source": [
    "model_climatebert = SentenceTransformer('climatebert/distilroberta-base-climate-f')\n",
    "model_bertforpatents = SentenceTransformer('anferico/bert-for-patents')\n",
    "model_patentsberta = SentenceTransformer('AI-Growth-Lab/PatentSBERTa')"
   ]
  },
  {
   "cell_type": "code",
   "execution_count": 23,
   "metadata": {},
   "outputs": [
    {
     "name": "stdout",
     "output_type": "stream",
     "text": [
      "GPU available: NVIDIA RTX A4500\n"
     ]
    }
   ],
   "source": [
    "# Check if GPU is available\n",
    "if torch.cuda.is_available():\n",
    "    device = torch.device(\"cuda\")\n",
    "    print(\"GPU available: {}\".format(torch.cuda.get_device_name(0)))\n",
    "else:\n",
    "    device = torch.device(\"cpu\")\n",
    "    print(\"GPU not available, CPU used\")"
   ]
  },
  {
   "cell_type": "code",
   "execution_count": 24,
   "metadata": {},
   "outputs": [
    {
     "name": "stderr",
     "output_type": "stream",
     "text": [
      " 76%|███████▌  | 118627/155607 [13:38<04:15, 144.96it/s]\n"
     ]
    },
    {
     "ename": "KeyboardInterrupt",
     "evalue": "",
     "output_type": "error",
     "traceback": [
      "\u001b[0;31m---------------------------------------------------------------------------\u001b[0m",
      "\u001b[0;31mKeyboardInterrupt\u001b[0m                         Traceback (most recent call last)",
      "\u001b[1;32m/home/thiesen/Documents/Cleantech_Concepts/04 Individual Datasets Postprocessing and Clustering/yake_keywords_postprocessing_noun_chunks.ipynb Cell 63\u001b[0m line \u001b[0;36m5\n\u001b[1;32m      <a href='vscode-notebook-cell://ssh-remote%2B134.28.58.100/home/thiesen/Documents/Cleantech_Concepts/04%20Individual%20Datasets%20Postprocessing%20and%20Clustering/yake_keywords_postprocessing_noun_chunks.ipynb#Y114sdnNjb2RlLXJlbW90ZQ%3D%3D?line=1'>2</a>\u001b[0m df_keywords_list_agg_embeddings \u001b[39m=\u001b[39m df_keywords_list_agg_pruned\u001b[39m.\u001b[39mcopy()\n\u001b[1;32m      <a href='vscode-notebook-cell://ssh-remote%2B134.28.58.100/home/thiesen/Documents/Cleantech_Concepts/04%20Individual%20Datasets%20Postprocessing%20and%20Clustering/yake_keywords_postprocessing_noun_chunks.ipynb#Y114sdnNjb2RlLXJlbW90ZQ%3D%3D?line=3'>4</a>\u001b[0m \u001b[39m# Perform sentence embedding on the 'keyword_yake' (PatentsView) or 'keywords_yake_claims' (EPO) column\u001b[39;00m\n\u001b[0;32m----> <a href='vscode-notebook-cell://ssh-remote%2B134.28.58.100/home/thiesen/Documents/Cleantech_Concepts/04%20Individual%20Datasets%20Postprocessing%20and%20Clustering/yake_keywords_postprocessing_noun_chunks.ipynb#Y114sdnNjb2RlLXJlbW90ZQ%3D%3D?line=4'>5</a>\u001b[0m df_keywords_list_agg_embeddings[\u001b[39m'\u001b[39m\u001b[39mkeyword_yake_patentsberta_embedding\u001b[39m\u001b[39m'\u001b[39m] \u001b[39m=\u001b[39m df_keywords_list_agg_embeddings[\u001b[39m'\u001b[39;49m\u001b[39mkeyword_yake_lemma\u001b[39;49m\u001b[39m'\u001b[39;49m]\u001b[39m.\u001b[39;49mprogress_apply(\n\u001b[1;32m      <a href='vscode-notebook-cell://ssh-remote%2B134.28.58.100/home/thiesen/Documents/Cleantech_Concepts/04%20Individual%20Datasets%20Postprocessing%20and%20Clustering/yake_keywords_postprocessing_noun_chunks.ipynb#Y114sdnNjb2RlLXJlbW90ZQ%3D%3D?line=5'>6</a>\u001b[0m     \u001b[39mlambda\u001b[39;49;00m x: model_patentsberta\u001b[39m.\u001b[39;49mencode(x)\n\u001b[1;32m      <a href='vscode-notebook-cell://ssh-remote%2B134.28.58.100/home/thiesen/Documents/Cleantech_Concepts/04%20Individual%20Datasets%20Postprocessing%20and%20Clustering/yake_keywords_postprocessing_noun_chunks.ipynb#Y114sdnNjb2RlLXJlbW90ZQ%3D%3D?line=6'>7</a>\u001b[0m )\n\u001b[1;32m      <a href='vscode-notebook-cell://ssh-remote%2B134.28.58.100/home/thiesen/Documents/Cleantech_Concepts/04%20Individual%20Datasets%20Postprocessing%20and%20Clustering/yake_keywords_postprocessing_noun_chunks.ipynb#Y114sdnNjb2RlLXJlbW90ZQ%3D%3D?line=8'>9</a>\u001b[0m df_keywords_list_agg_embeddings[\u001b[39m'\u001b[39m\u001b[39mkeyword_yake_climatebert_embedding\u001b[39m\u001b[39m'\u001b[39m] \u001b[39m=\u001b[39m df_keywords_list_agg_embeddings[\u001b[39m'\u001b[39m\u001b[39mkeyword_yake_lemma\u001b[39m\u001b[39m'\u001b[39m]\u001b[39m.\u001b[39mprogress_apply(\n\u001b[1;32m     <a href='vscode-notebook-cell://ssh-remote%2B134.28.58.100/home/thiesen/Documents/Cleantech_Concepts/04%20Individual%20Datasets%20Postprocessing%20and%20Clustering/yake_keywords_postprocessing_noun_chunks.ipynb#Y114sdnNjb2RlLXJlbW90ZQ%3D%3D?line=9'>10</a>\u001b[0m     \u001b[39mlambda\u001b[39;00m x: model_climatebert\u001b[39m.\u001b[39mencode(x)\n\u001b[1;32m     <a href='vscode-notebook-cell://ssh-remote%2B134.28.58.100/home/thiesen/Documents/Cleantech_Concepts/04%20Individual%20Datasets%20Postprocessing%20and%20Clustering/yake_keywords_postprocessing_noun_chunks.ipynb#Y114sdnNjb2RlLXJlbW90ZQ%3D%3D?line=10'>11</a>\u001b[0m )\n\u001b[1;32m     <a href='vscode-notebook-cell://ssh-remote%2B134.28.58.100/home/thiesen/Documents/Cleantech_Concepts/04%20Individual%20Datasets%20Postprocessing%20and%20Clustering/yake_keywords_postprocessing_noun_chunks.ipynb#Y114sdnNjb2RlLXJlbW90ZQ%3D%3D?line=12'>13</a>\u001b[0m df_keywords_list_agg_embeddings[\u001b[39m'\u001b[39m\u001b[39mkeyword_yake_bertforpatents_embedding\u001b[39m\u001b[39m'\u001b[39m] \u001b[39m=\u001b[39m df_keywords_list_agg_embeddings[\u001b[39m'\u001b[39m\u001b[39mkeyword_yake_lemma\u001b[39m\u001b[39m'\u001b[39m]\u001b[39m.\u001b[39mprogress_apply(\n\u001b[1;32m     <a href='vscode-notebook-cell://ssh-remote%2B134.28.58.100/home/thiesen/Documents/Cleantech_Concepts/04%20Individual%20Datasets%20Postprocessing%20and%20Clustering/yake_keywords_postprocessing_noun_chunks.ipynb#Y114sdnNjb2RlLXJlbW90ZQ%3D%3D?line=13'>14</a>\u001b[0m     \u001b[39mlambda\u001b[39;00m x: model_bertforpatents\u001b[39m.\u001b[39mencode(x)\n\u001b[1;32m     <a href='vscode-notebook-cell://ssh-remote%2B134.28.58.100/home/thiesen/Documents/Cleantech_Concepts/04%20Individual%20Datasets%20Postprocessing%20and%20Clustering/yake_keywords_postprocessing_noun_chunks.ipynb#Y114sdnNjb2RlLXJlbW90ZQ%3D%3D?line=14'>15</a>\u001b[0m )\n",
      "File \u001b[0;32m~/Documents/Cleantech_Concepts/venv/lib64/python3.11/site-packages/tqdm/std.py:920\u001b[0m, in \u001b[0;36mtqdm.pandas.<locals>.inner_generator.<locals>.inner\u001b[0;34m(df, func, *args, **kwargs)\u001b[0m\n\u001b[1;32m    917\u001b[0m \u001b[39m# Apply the provided function (in **kwargs)\u001b[39;00m\n\u001b[1;32m    918\u001b[0m \u001b[39m# on the df using our wrapper (which provides bar updating)\u001b[39;00m\n\u001b[1;32m    919\u001b[0m \u001b[39mtry\u001b[39;00m:\n\u001b[0;32m--> 920\u001b[0m     \u001b[39mreturn\u001b[39;00m \u001b[39mgetattr\u001b[39;49m(df, df_function)(wrapper, \u001b[39m*\u001b[39;49m\u001b[39m*\u001b[39;49mkwargs)\n\u001b[1;32m    921\u001b[0m \u001b[39mfinally\u001b[39;00m:\n\u001b[1;32m    922\u001b[0m     t\u001b[39m.\u001b[39mclose()\n",
      "File \u001b[0;32m~/Documents/Cleantech_Concepts/venv/lib64/python3.11/site-packages/pandas/core/series.py:4760\u001b[0m, in \u001b[0;36mSeries.apply\u001b[0;34m(self, func, convert_dtype, args, by_row, **kwargs)\u001b[0m\n\u001b[1;32m   4625\u001b[0m \u001b[39mdef\u001b[39;00m \u001b[39mapply\u001b[39m(\n\u001b[1;32m   4626\u001b[0m     \u001b[39mself\u001b[39m,\n\u001b[1;32m   4627\u001b[0m     func: AggFuncType,\n\u001b[0;32m   (...)\u001b[0m\n\u001b[1;32m   4632\u001b[0m     \u001b[39m*\u001b[39m\u001b[39m*\u001b[39mkwargs,\n\u001b[1;32m   4633\u001b[0m ) \u001b[39m-\u001b[39m\u001b[39m>\u001b[39m DataFrame \u001b[39m|\u001b[39m Series:\n\u001b[1;32m   4634\u001b[0m \u001b[39m    \u001b[39m\u001b[39m\"\"\"\u001b[39;00m\n\u001b[1;32m   4635\u001b[0m \u001b[39m    Invoke function on values of Series.\u001b[39;00m\n\u001b[1;32m   4636\u001b[0m \n\u001b[0;32m   (...)\u001b[0m\n\u001b[1;32m   4751\u001b[0m \u001b[39m    dtype: float64\u001b[39;00m\n\u001b[1;32m   4752\u001b[0m \u001b[39m    \"\"\"\u001b[39;00m\n\u001b[1;32m   4753\u001b[0m     \u001b[39mreturn\u001b[39;00m SeriesApply(\n\u001b[1;32m   4754\u001b[0m         \u001b[39mself\u001b[39;49m,\n\u001b[1;32m   4755\u001b[0m         func,\n\u001b[1;32m   4756\u001b[0m         convert_dtype\u001b[39m=\u001b[39;49mconvert_dtype,\n\u001b[1;32m   4757\u001b[0m         by_row\u001b[39m=\u001b[39;49mby_row,\n\u001b[1;32m   4758\u001b[0m         args\u001b[39m=\u001b[39;49margs,\n\u001b[1;32m   4759\u001b[0m         kwargs\u001b[39m=\u001b[39;49mkwargs,\n\u001b[0;32m-> 4760\u001b[0m     )\u001b[39m.\u001b[39;49mapply()\n",
      "File \u001b[0;32m~/Documents/Cleantech_Concepts/venv/lib64/python3.11/site-packages/pandas/core/apply.py:1207\u001b[0m, in \u001b[0;36mSeriesApply.apply\u001b[0;34m(self)\u001b[0m\n\u001b[1;32m   1204\u001b[0m     \u001b[39mreturn\u001b[39;00m \u001b[39mself\u001b[39m\u001b[39m.\u001b[39mapply_compat()\n\u001b[1;32m   1206\u001b[0m \u001b[39m# self.func is Callable\u001b[39;00m\n\u001b[0;32m-> 1207\u001b[0m \u001b[39mreturn\u001b[39;00m \u001b[39mself\u001b[39;49m\u001b[39m.\u001b[39;49mapply_standard()\n",
      "File \u001b[0;32m~/Documents/Cleantech_Concepts/venv/lib64/python3.11/site-packages/pandas/core/apply.py:1287\u001b[0m, in \u001b[0;36mSeriesApply.apply_standard\u001b[0;34m(self)\u001b[0m\n\u001b[1;32m   1281\u001b[0m \u001b[39m# row-wise access\u001b[39;00m\n\u001b[1;32m   1282\u001b[0m \u001b[39m# apply doesn't have a `na_action` keyword and for backward compat reasons\u001b[39;00m\n\u001b[1;32m   1283\u001b[0m \u001b[39m# we need to give `na_action=\"ignore\"` for categorical data.\u001b[39;00m\n\u001b[1;32m   1284\u001b[0m \u001b[39m# TODO: remove the `na_action=\"ignore\"` when that default has been changed in\u001b[39;00m\n\u001b[1;32m   1285\u001b[0m \u001b[39m#  Categorical (GH51645).\u001b[39;00m\n\u001b[1;32m   1286\u001b[0m action \u001b[39m=\u001b[39m \u001b[39m\"\u001b[39m\u001b[39mignore\u001b[39m\u001b[39m\"\u001b[39m \u001b[39mif\u001b[39;00m \u001b[39misinstance\u001b[39m(obj\u001b[39m.\u001b[39mdtype, CategoricalDtype) \u001b[39melse\u001b[39;00m \u001b[39mNone\u001b[39;00m\n\u001b[0;32m-> 1287\u001b[0m mapped \u001b[39m=\u001b[39m obj\u001b[39m.\u001b[39;49m_map_values(\n\u001b[1;32m   1288\u001b[0m     mapper\u001b[39m=\u001b[39;49mcurried, na_action\u001b[39m=\u001b[39;49maction, convert\u001b[39m=\u001b[39;49m\u001b[39mself\u001b[39;49m\u001b[39m.\u001b[39;49mconvert_dtype\n\u001b[1;32m   1289\u001b[0m )\n\u001b[1;32m   1291\u001b[0m \u001b[39mif\u001b[39;00m \u001b[39mlen\u001b[39m(mapped) \u001b[39mand\u001b[39;00m \u001b[39misinstance\u001b[39m(mapped[\u001b[39m0\u001b[39m], ABCSeries):\n\u001b[1;32m   1292\u001b[0m     \u001b[39m# GH#43986 Need to do list(mapped) in order to get treated as nested\u001b[39;00m\n\u001b[1;32m   1293\u001b[0m     \u001b[39m#  See also GH#25959 regarding EA support\u001b[39;00m\n\u001b[1;32m   1294\u001b[0m     \u001b[39mreturn\u001b[39;00m obj\u001b[39m.\u001b[39m_constructor_expanddim(\u001b[39mlist\u001b[39m(mapped), index\u001b[39m=\u001b[39mobj\u001b[39m.\u001b[39mindex)\n",
      "File \u001b[0;32m~/Documents/Cleantech_Concepts/venv/lib64/python3.11/site-packages/pandas/core/base.py:921\u001b[0m, in \u001b[0;36mIndexOpsMixin._map_values\u001b[0;34m(self, mapper, na_action, convert)\u001b[0m\n\u001b[1;32m    918\u001b[0m \u001b[39mif\u001b[39;00m \u001b[39misinstance\u001b[39m(arr, ExtensionArray):\n\u001b[1;32m    919\u001b[0m     \u001b[39mreturn\u001b[39;00m arr\u001b[39m.\u001b[39mmap(mapper, na_action\u001b[39m=\u001b[39mna_action)\n\u001b[0;32m--> 921\u001b[0m \u001b[39mreturn\u001b[39;00m algorithms\u001b[39m.\u001b[39;49mmap_array(arr, mapper, na_action\u001b[39m=\u001b[39;49mna_action, convert\u001b[39m=\u001b[39;49mconvert)\n",
      "File \u001b[0;32m~/Documents/Cleantech_Concepts/venv/lib64/python3.11/site-packages/pandas/core/algorithms.py:1814\u001b[0m, in \u001b[0;36mmap_array\u001b[0;34m(arr, mapper, na_action, convert)\u001b[0m\n\u001b[1;32m   1812\u001b[0m values \u001b[39m=\u001b[39m arr\u001b[39m.\u001b[39mastype(\u001b[39mobject\u001b[39m, copy\u001b[39m=\u001b[39m\u001b[39mFalse\u001b[39;00m)\n\u001b[1;32m   1813\u001b[0m \u001b[39mif\u001b[39;00m na_action \u001b[39mis\u001b[39;00m \u001b[39mNone\u001b[39;00m:\n\u001b[0;32m-> 1814\u001b[0m     \u001b[39mreturn\u001b[39;00m lib\u001b[39m.\u001b[39;49mmap_infer(values, mapper, convert\u001b[39m=\u001b[39;49mconvert)\n\u001b[1;32m   1815\u001b[0m \u001b[39melse\u001b[39;00m:\n\u001b[1;32m   1816\u001b[0m     \u001b[39mreturn\u001b[39;00m lib\u001b[39m.\u001b[39mmap_infer_mask(\n\u001b[1;32m   1817\u001b[0m         values, mapper, mask\u001b[39m=\u001b[39misna(values)\u001b[39m.\u001b[39mview(np\u001b[39m.\u001b[39muint8), convert\u001b[39m=\u001b[39mconvert\n\u001b[1;32m   1818\u001b[0m     )\n",
      "File \u001b[0;32mlib.pyx:2917\u001b[0m, in \u001b[0;36mpandas._libs.lib.map_infer\u001b[0;34m()\u001b[0m\n",
      "File \u001b[0;32m~/Documents/Cleantech_Concepts/venv/lib64/python3.11/site-packages/tqdm/std.py:915\u001b[0m, in \u001b[0;36mtqdm.pandas.<locals>.inner_generator.<locals>.inner.<locals>.wrapper\u001b[0;34m(*args, **kwargs)\u001b[0m\n\u001b[1;32m    909\u001b[0m \u001b[39mdef\u001b[39;00m \u001b[39mwrapper\u001b[39m(\u001b[39m*\u001b[39margs, \u001b[39m*\u001b[39m\u001b[39m*\u001b[39mkwargs):\n\u001b[1;32m    910\u001b[0m     \u001b[39m# update tbar correctly\u001b[39;00m\n\u001b[1;32m    911\u001b[0m     \u001b[39m# it seems `pandas apply` calls `func` twice\u001b[39;00m\n\u001b[1;32m    912\u001b[0m     \u001b[39m# on the first column/row to decide whether it can\u001b[39;00m\n\u001b[1;32m    913\u001b[0m     \u001b[39m# take a fast or slow code path; so stop when t.total==t.n\u001b[39;00m\n\u001b[1;32m    914\u001b[0m     t\u001b[39m.\u001b[39mupdate(n\u001b[39m=\u001b[39m\u001b[39m1\u001b[39m \u001b[39mif\u001b[39;00m \u001b[39mnot\u001b[39;00m t\u001b[39m.\u001b[39mtotal \u001b[39mor\u001b[39;00m t\u001b[39m.\u001b[39mn \u001b[39m<\u001b[39m t\u001b[39m.\u001b[39mtotal \u001b[39melse\u001b[39;00m \u001b[39m0\u001b[39m)\n\u001b[0;32m--> 915\u001b[0m     \u001b[39mreturn\u001b[39;00m func(\u001b[39m*\u001b[39;49margs, \u001b[39m*\u001b[39;49m\u001b[39m*\u001b[39;49mkwargs)\n",
      "\u001b[1;32m/home/thiesen/Documents/Cleantech_Concepts/04 Individual Datasets Postprocessing and Clustering/yake_keywords_postprocessing_noun_chunks.ipynb Cell 63\u001b[0m line \u001b[0;36m6\n\u001b[1;32m      <a href='vscode-notebook-cell://ssh-remote%2B134.28.58.100/home/thiesen/Documents/Cleantech_Concepts/04%20Individual%20Datasets%20Postprocessing%20and%20Clustering/yake_keywords_postprocessing_noun_chunks.ipynb#Y114sdnNjb2RlLXJlbW90ZQ%3D%3D?line=1'>2</a>\u001b[0m df_keywords_list_agg_embeddings \u001b[39m=\u001b[39m df_keywords_list_agg_pruned\u001b[39m.\u001b[39mcopy()\n\u001b[1;32m      <a href='vscode-notebook-cell://ssh-remote%2B134.28.58.100/home/thiesen/Documents/Cleantech_Concepts/04%20Individual%20Datasets%20Postprocessing%20and%20Clustering/yake_keywords_postprocessing_noun_chunks.ipynb#Y114sdnNjb2RlLXJlbW90ZQ%3D%3D?line=3'>4</a>\u001b[0m \u001b[39m# Perform sentence embedding on the 'keyword_yake' (PatentsView) or 'keywords_yake_claims' (EPO) column\u001b[39;00m\n\u001b[1;32m      <a href='vscode-notebook-cell://ssh-remote%2B134.28.58.100/home/thiesen/Documents/Cleantech_Concepts/04%20Individual%20Datasets%20Postprocessing%20and%20Clustering/yake_keywords_postprocessing_noun_chunks.ipynb#Y114sdnNjb2RlLXJlbW90ZQ%3D%3D?line=4'>5</a>\u001b[0m df_keywords_list_agg_embeddings[\u001b[39m'\u001b[39m\u001b[39mkeyword_yake_patentsberta_embedding\u001b[39m\u001b[39m'\u001b[39m] \u001b[39m=\u001b[39m df_keywords_list_agg_embeddings[\u001b[39m'\u001b[39m\u001b[39mkeyword_yake_lemma\u001b[39m\u001b[39m'\u001b[39m]\u001b[39m.\u001b[39mprogress_apply(\n\u001b[0;32m----> <a href='vscode-notebook-cell://ssh-remote%2B134.28.58.100/home/thiesen/Documents/Cleantech_Concepts/04%20Individual%20Datasets%20Postprocessing%20and%20Clustering/yake_keywords_postprocessing_noun_chunks.ipynb#Y114sdnNjb2RlLXJlbW90ZQ%3D%3D?line=5'>6</a>\u001b[0m     \u001b[39mlambda\u001b[39;00m x: model_patentsberta\u001b[39m.\u001b[39;49mencode(x)\n\u001b[1;32m      <a href='vscode-notebook-cell://ssh-remote%2B134.28.58.100/home/thiesen/Documents/Cleantech_Concepts/04%20Individual%20Datasets%20Postprocessing%20and%20Clustering/yake_keywords_postprocessing_noun_chunks.ipynb#Y114sdnNjb2RlLXJlbW90ZQ%3D%3D?line=6'>7</a>\u001b[0m )\n\u001b[1;32m      <a href='vscode-notebook-cell://ssh-remote%2B134.28.58.100/home/thiesen/Documents/Cleantech_Concepts/04%20Individual%20Datasets%20Postprocessing%20and%20Clustering/yake_keywords_postprocessing_noun_chunks.ipynb#Y114sdnNjb2RlLXJlbW90ZQ%3D%3D?line=8'>9</a>\u001b[0m df_keywords_list_agg_embeddings[\u001b[39m'\u001b[39m\u001b[39mkeyword_yake_climatebert_embedding\u001b[39m\u001b[39m'\u001b[39m] \u001b[39m=\u001b[39m df_keywords_list_agg_embeddings[\u001b[39m'\u001b[39m\u001b[39mkeyword_yake_lemma\u001b[39m\u001b[39m'\u001b[39m]\u001b[39m.\u001b[39mprogress_apply(\n\u001b[1;32m     <a href='vscode-notebook-cell://ssh-remote%2B134.28.58.100/home/thiesen/Documents/Cleantech_Concepts/04%20Individual%20Datasets%20Postprocessing%20and%20Clustering/yake_keywords_postprocessing_noun_chunks.ipynb#Y114sdnNjb2RlLXJlbW90ZQ%3D%3D?line=9'>10</a>\u001b[0m     \u001b[39mlambda\u001b[39;00m x: model_climatebert\u001b[39m.\u001b[39mencode(x)\n\u001b[1;32m     <a href='vscode-notebook-cell://ssh-remote%2B134.28.58.100/home/thiesen/Documents/Cleantech_Concepts/04%20Individual%20Datasets%20Postprocessing%20and%20Clustering/yake_keywords_postprocessing_noun_chunks.ipynb#Y114sdnNjb2RlLXJlbW90ZQ%3D%3D?line=10'>11</a>\u001b[0m )\n\u001b[1;32m     <a href='vscode-notebook-cell://ssh-remote%2B134.28.58.100/home/thiesen/Documents/Cleantech_Concepts/04%20Individual%20Datasets%20Postprocessing%20and%20Clustering/yake_keywords_postprocessing_noun_chunks.ipynb#Y114sdnNjb2RlLXJlbW90ZQ%3D%3D?line=12'>13</a>\u001b[0m df_keywords_list_agg_embeddings[\u001b[39m'\u001b[39m\u001b[39mkeyword_yake_bertforpatents_embedding\u001b[39m\u001b[39m'\u001b[39m] \u001b[39m=\u001b[39m df_keywords_list_agg_embeddings[\u001b[39m'\u001b[39m\u001b[39mkeyword_yake_lemma\u001b[39m\u001b[39m'\u001b[39m]\u001b[39m.\u001b[39mprogress_apply(\n\u001b[1;32m     <a href='vscode-notebook-cell://ssh-remote%2B134.28.58.100/home/thiesen/Documents/Cleantech_Concepts/04%20Individual%20Datasets%20Postprocessing%20and%20Clustering/yake_keywords_postprocessing_noun_chunks.ipynb#Y114sdnNjb2RlLXJlbW90ZQ%3D%3D?line=13'>14</a>\u001b[0m     \u001b[39mlambda\u001b[39;00m x: model_bertforpatents\u001b[39m.\u001b[39mencode(x)\n\u001b[1;32m     <a href='vscode-notebook-cell://ssh-remote%2B134.28.58.100/home/thiesen/Documents/Cleantech_Concepts/04%20Individual%20Datasets%20Postprocessing%20and%20Clustering/yake_keywords_postprocessing_noun_chunks.ipynb#Y114sdnNjb2RlLXJlbW90ZQ%3D%3D?line=14'>15</a>\u001b[0m )\n",
      "File \u001b[0;32m~/Documents/Cleantech_Concepts/venv/lib64/python3.11/site-packages/sentence_transformers/SentenceTransformer.py:165\u001b[0m, in \u001b[0;36mSentenceTransformer.encode\u001b[0;34m(self, sentences, batch_size, show_progress_bar, output_value, convert_to_numpy, convert_to_tensor, device, normalize_embeddings)\u001b[0m\n\u001b[1;32m    162\u001b[0m features \u001b[39m=\u001b[39m batch_to_device(features, device)\n\u001b[1;32m    164\u001b[0m \u001b[39mwith\u001b[39;00m torch\u001b[39m.\u001b[39mno_grad():\n\u001b[0;32m--> 165\u001b[0m     out_features \u001b[39m=\u001b[39m \u001b[39mself\u001b[39;49m\u001b[39m.\u001b[39;49mforward(features)\n\u001b[1;32m    167\u001b[0m     \u001b[39mif\u001b[39;00m output_value \u001b[39m==\u001b[39m \u001b[39m'\u001b[39m\u001b[39mtoken_embeddings\u001b[39m\u001b[39m'\u001b[39m:\n\u001b[1;32m    168\u001b[0m         embeddings \u001b[39m=\u001b[39m []\n",
      "File \u001b[0;32m~/Documents/Cleantech_Concepts/venv/lib64/python3.11/site-packages/torch/nn/modules/container.py:215\u001b[0m, in \u001b[0;36mSequential.forward\u001b[0;34m(self, input)\u001b[0m\n\u001b[1;32m    213\u001b[0m \u001b[39mdef\u001b[39;00m \u001b[39mforward\u001b[39m(\u001b[39mself\u001b[39m, \u001b[39minput\u001b[39m):\n\u001b[1;32m    214\u001b[0m     \u001b[39mfor\u001b[39;00m module \u001b[39min\u001b[39;00m \u001b[39mself\u001b[39m:\n\u001b[0;32m--> 215\u001b[0m         \u001b[39minput\u001b[39m \u001b[39m=\u001b[39m module(\u001b[39minput\u001b[39;49m)\n\u001b[1;32m    216\u001b[0m     \u001b[39mreturn\u001b[39;00m \u001b[39minput\u001b[39m\n",
      "File \u001b[0;32m~/Documents/Cleantech_Concepts/venv/lib64/python3.11/site-packages/torch/nn/modules/module.py:1518\u001b[0m, in \u001b[0;36mModule._wrapped_call_impl\u001b[0;34m(self, *args, **kwargs)\u001b[0m\n\u001b[1;32m   1516\u001b[0m     \u001b[39mreturn\u001b[39;00m \u001b[39mself\u001b[39m\u001b[39m.\u001b[39m_compiled_call_impl(\u001b[39m*\u001b[39margs, \u001b[39m*\u001b[39m\u001b[39m*\u001b[39mkwargs)  \u001b[39m# type: ignore[misc]\u001b[39;00m\n\u001b[1;32m   1517\u001b[0m \u001b[39melse\u001b[39;00m:\n\u001b[0;32m-> 1518\u001b[0m     \u001b[39mreturn\u001b[39;00m \u001b[39mself\u001b[39;49m\u001b[39m.\u001b[39;49m_call_impl(\u001b[39m*\u001b[39;49margs, \u001b[39m*\u001b[39;49m\u001b[39m*\u001b[39;49mkwargs)\n",
      "File \u001b[0;32m~/Documents/Cleantech_Concepts/venv/lib64/python3.11/site-packages/torch/nn/modules/module.py:1527\u001b[0m, in \u001b[0;36mModule._call_impl\u001b[0;34m(self, *args, **kwargs)\u001b[0m\n\u001b[1;32m   1522\u001b[0m \u001b[39m# If we don't have any hooks, we want to skip the rest of the logic in\u001b[39;00m\n\u001b[1;32m   1523\u001b[0m \u001b[39m# this function, and just call forward.\u001b[39;00m\n\u001b[1;32m   1524\u001b[0m \u001b[39mif\u001b[39;00m \u001b[39mnot\u001b[39;00m (\u001b[39mself\u001b[39m\u001b[39m.\u001b[39m_backward_hooks \u001b[39mor\u001b[39;00m \u001b[39mself\u001b[39m\u001b[39m.\u001b[39m_backward_pre_hooks \u001b[39mor\u001b[39;00m \u001b[39mself\u001b[39m\u001b[39m.\u001b[39m_forward_hooks \u001b[39mor\u001b[39;00m \u001b[39mself\u001b[39m\u001b[39m.\u001b[39m_forward_pre_hooks\n\u001b[1;32m   1525\u001b[0m         \u001b[39mor\u001b[39;00m _global_backward_pre_hooks \u001b[39mor\u001b[39;00m _global_backward_hooks\n\u001b[1;32m   1526\u001b[0m         \u001b[39mor\u001b[39;00m _global_forward_hooks \u001b[39mor\u001b[39;00m _global_forward_pre_hooks):\n\u001b[0;32m-> 1527\u001b[0m     \u001b[39mreturn\u001b[39;00m forward_call(\u001b[39m*\u001b[39;49margs, \u001b[39m*\u001b[39;49m\u001b[39m*\u001b[39;49mkwargs)\n\u001b[1;32m   1529\u001b[0m \u001b[39mtry\u001b[39;00m:\n\u001b[1;32m   1530\u001b[0m     result \u001b[39m=\u001b[39m \u001b[39mNone\u001b[39;00m\n",
      "File \u001b[0;32m~/Documents/Cleantech_Concepts/venv/lib64/python3.11/site-packages/sentence_transformers/models/Transformer.py:66\u001b[0m, in \u001b[0;36mTransformer.forward\u001b[0;34m(self, features)\u001b[0m\n\u001b[1;32m     63\u001b[0m \u001b[39mif\u001b[39;00m \u001b[39m'\u001b[39m\u001b[39mtoken_type_ids\u001b[39m\u001b[39m'\u001b[39m \u001b[39min\u001b[39;00m features:\n\u001b[1;32m     64\u001b[0m     trans_features[\u001b[39m'\u001b[39m\u001b[39mtoken_type_ids\u001b[39m\u001b[39m'\u001b[39m] \u001b[39m=\u001b[39m features[\u001b[39m'\u001b[39m\u001b[39mtoken_type_ids\u001b[39m\u001b[39m'\u001b[39m]\n\u001b[0;32m---> 66\u001b[0m output_states \u001b[39m=\u001b[39m \u001b[39mself\u001b[39;49m\u001b[39m.\u001b[39;49mauto_model(\u001b[39m*\u001b[39;49m\u001b[39m*\u001b[39;49mtrans_features, return_dict\u001b[39m=\u001b[39;49m\u001b[39mFalse\u001b[39;49;00m)\n\u001b[1;32m     67\u001b[0m output_tokens \u001b[39m=\u001b[39m output_states[\u001b[39m0\u001b[39m]\n\u001b[1;32m     69\u001b[0m features\u001b[39m.\u001b[39mupdate({\u001b[39m'\u001b[39m\u001b[39mtoken_embeddings\u001b[39m\u001b[39m'\u001b[39m: output_tokens, \u001b[39m'\u001b[39m\u001b[39mattention_mask\u001b[39m\u001b[39m'\u001b[39m: features[\u001b[39m'\u001b[39m\u001b[39mattention_mask\u001b[39m\u001b[39m'\u001b[39m]})\n",
      "File \u001b[0;32m~/Documents/Cleantech_Concepts/venv/lib64/python3.11/site-packages/torch/nn/modules/module.py:1518\u001b[0m, in \u001b[0;36mModule._wrapped_call_impl\u001b[0;34m(self, *args, **kwargs)\u001b[0m\n\u001b[1;32m   1516\u001b[0m     \u001b[39mreturn\u001b[39;00m \u001b[39mself\u001b[39m\u001b[39m.\u001b[39m_compiled_call_impl(\u001b[39m*\u001b[39margs, \u001b[39m*\u001b[39m\u001b[39m*\u001b[39mkwargs)  \u001b[39m# type: ignore[misc]\u001b[39;00m\n\u001b[1;32m   1517\u001b[0m \u001b[39melse\u001b[39;00m:\n\u001b[0;32m-> 1518\u001b[0m     \u001b[39mreturn\u001b[39;00m \u001b[39mself\u001b[39;49m\u001b[39m.\u001b[39;49m_call_impl(\u001b[39m*\u001b[39;49margs, \u001b[39m*\u001b[39;49m\u001b[39m*\u001b[39;49mkwargs)\n",
      "File \u001b[0;32m~/Documents/Cleantech_Concepts/venv/lib64/python3.11/site-packages/torch/nn/modules/module.py:1527\u001b[0m, in \u001b[0;36mModule._call_impl\u001b[0;34m(self, *args, **kwargs)\u001b[0m\n\u001b[1;32m   1522\u001b[0m \u001b[39m# If we don't have any hooks, we want to skip the rest of the logic in\u001b[39;00m\n\u001b[1;32m   1523\u001b[0m \u001b[39m# this function, and just call forward.\u001b[39;00m\n\u001b[1;32m   1524\u001b[0m \u001b[39mif\u001b[39;00m \u001b[39mnot\u001b[39;00m (\u001b[39mself\u001b[39m\u001b[39m.\u001b[39m_backward_hooks \u001b[39mor\u001b[39;00m \u001b[39mself\u001b[39m\u001b[39m.\u001b[39m_backward_pre_hooks \u001b[39mor\u001b[39;00m \u001b[39mself\u001b[39m\u001b[39m.\u001b[39m_forward_hooks \u001b[39mor\u001b[39;00m \u001b[39mself\u001b[39m\u001b[39m.\u001b[39m_forward_pre_hooks\n\u001b[1;32m   1525\u001b[0m         \u001b[39mor\u001b[39;00m _global_backward_pre_hooks \u001b[39mor\u001b[39;00m _global_backward_hooks\n\u001b[1;32m   1526\u001b[0m         \u001b[39mor\u001b[39;00m _global_forward_hooks \u001b[39mor\u001b[39;00m _global_forward_pre_hooks):\n\u001b[0;32m-> 1527\u001b[0m     \u001b[39mreturn\u001b[39;00m forward_call(\u001b[39m*\u001b[39;49margs, \u001b[39m*\u001b[39;49m\u001b[39m*\u001b[39;49mkwargs)\n\u001b[1;32m   1529\u001b[0m \u001b[39mtry\u001b[39;00m:\n\u001b[1;32m   1530\u001b[0m     result \u001b[39m=\u001b[39m \u001b[39mNone\u001b[39;00m\n",
      "File \u001b[0;32m~/Documents/Cleantech_Concepts/venv/lib64/python3.11/site-packages/transformers/models/mpnet/modeling_mpnet.py:551\u001b[0m, in \u001b[0;36mMPNetModel.forward\u001b[0;34m(self, input_ids, attention_mask, position_ids, head_mask, inputs_embeds, output_attentions, output_hidden_states, return_dict, **kwargs)\u001b[0m\n\u001b[1;32m    549\u001b[0m head_mask \u001b[39m=\u001b[39m \u001b[39mself\u001b[39m\u001b[39m.\u001b[39mget_head_mask(head_mask, \u001b[39mself\u001b[39m\u001b[39m.\u001b[39mconfig\u001b[39m.\u001b[39mnum_hidden_layers)\n\u001b[1;32m    550\u001b[0m embedding_output \u001b[39m=\u001b[39m \u001b[39mself\u001b[39m\u001b[39m.\u001b[39membeddings(input_ids\u001b[39m=\u001b[39minput_ids, position_ids\u001b[39m=\u001b[39mposition_ids, inputs_embeds\u001b[39m=\u001b[39minputs_embeds)\n\u001b[0;32m--> 551\u001b[0m encoder_outputs \u001b[39m=\u001b[39m \u001b[39mself\u001b[39;49m\u001b[39m.\u001b[39;49mencoder(\n\u001b[1;32m    552\u001b[0m     embedding_output,\n\u001b[1;32m    553\u001b[0m     attention_mask\u001b[39m=\u001b[39;49mextended_attention_mask,\n\u001b[1;32m    554\u001b[0m     head_mask\u001b[39m=\u001b[39;49mhead_mask,\n\u001b[1;32m    555\u001b[0m     output_attentions\u001b[39m=\u001b[39;49moutput_attentions,\n\u001b[1;32m    556\u001b[0m     output_hidden_states\u001b[39m=\u001b[39;49moutput_hidden_states,\n\u001b[1;32m    557\u001b[0m     return_dict\u001b[39m=\u001b[39;49mreturn_dict,\n\u001b[1;32m    558\u001b[0m )\n\u001b[1;32m    559\u001b[0m sequence_output \u001b[39m=\u001b[39m encoder_outputs[\u001b[39m0\u001b[39m]\n\u001b[1;32m    560\u001b[0m pooled_output \u001b[39m=\u001b[39m \u001b[39mself\u001b[39m\u001b[39m.\u001b[39mpooler(sequence_output) \u001b[39mif\u001b[39;00m \u001b[39mself\u001b[39m\u001b[39m.\u001b[39mpooler \u001b[39mis\u001b[39;00m \u001b[39mnot\u001b[39;00m \u001b[39mNone\u001b[39;00m \u001b[39melse\u001b[39;00m \u001b[39mNone\u001b[39;00m\n",
      "File \u001b[0;32m~/Documents/Cleantech_Concepts/venv/lib64/python3.11/site-packages/torch/nn/modules/module.py:1518\u001b[0m, in \u001b[0;36mModule._wrapped_call_impl\u001b[0;34m(self, *args, **kwargs)\u001b[0m\n\u001b[1;32m   1516\u001b[0m     \u001b[39mreturn\u001b[39;00m \u001b[39mself\u001b[39m\u001b[39m.\u001b[39m_compiled_call_impl(\u001b[39m*\u001b[39margs, \u001b[39m*\u001b[39m\u001b[39m*\u001b[39mkwargs)  \u001b[39m# type: ignore[misc]\u001b[39;00m\n\u001b[1;32m   1517\u001b[0m \u001b[39melse\u001b[39;00m:\n\u001b[0;32m-> 1518\u001b[0m     \u001b[39mreturn\u001b[39;00m \u001b[39mself\u001b[39;49m\u001b[39m.\u001b[39;49m_call_impl(\u001b[39m*\u001b[39;49margs, \u001b[39m*\u001b[39;49m\u001b[39m*\u001b[39;49mkwargs)\n",
      "File \u001b[0;32m~/Documents/Cleantech_Concepts/venv/lib64/python3.11/site-packages/torch/nn/modules/module.py:1527\u001b[0m, in \u001b[0;36mModule._call_impl\u001b[0;34m(self, *args, **kwargs)\u001b[0m\n\u001b[1;32m   1522\u001b[0m \u001b[39m# If we don't have any hooks, we want to skip the rest of the logic in\u001b[39;00m\n\u001b[1;32m   1523\u001b[0m \u001b[39m# this function, and just call forward.\u001b[39;00m\n\u001b[1;32m   1524\u001b[0m \u001b[39mif\u001b[39;00m \u001b[39mnot\u001b[39;00m (\u001b[39mself\u001b[39m\u001b[39m.\u001b[39m_backward_hooks \u001b[39mor\u001b[39;00m \u001b[39mself\u001b[39m\u001b[39m.\u001b[39m_backward_pre_hooks \u001b[39mor\u001b[39;00m \u001b[39mself\u001b[39m\u001b[39m.\u001b[39m_forward_hooks \u001b[39mor\u001b[39;00m \u001b[39mself\u001b[39m\u001b[39m.\u001b[39m_forward_pre_hooks\n\u001b[1;32m   1525\u001b[0m         \u001b[39mor\u001b[39;00m _global_backward_pre_hooks \u001b[39mor\u001b[39;00m _global_backward_hooks\n\u001b[1;32m   1526\u001b[0m         \u001b[39mor\u001b[39;00m _global_forward_hooks \u001b[39mor\u001b[39;00m _global_forward_pre_hooks):\n\u001b[0;32m-> 1527\u001b[0m     \u001b[39mreturn\u001b[39;00m forward_call(\u001b[39m*\u001b[39;49margs, \u001b[39m*\u001b[39;49m\u001b[39m*\u001b[39;49mkwargs)\n\u001b[1;32m   1529\u001b[0m \u001b[39mtry\u001b[39;00m:\n\u001b[1;32m   1530\u001b[0m     result \u001b[39m=\u001b[39m \u001b[39mNone\u001b[39;00m\n",
      "File \u001b[0;32m~/Documents/Cleantech_Concepts/venv/lib64/python3.11/site-packages/transformers/models/mpnet/modeling_mpnet.py:341\u001b[0m, in \u001b[0;36mMPNetEncoder.forward\u001b[0;34m(self, hidden_states, attention_mask, head_mask, output_attentions, output_hidden_states, return_dict, **kwargs)\u001b[0m\n\u001b[1;32m    338\u001b[0m \u001b[39mif\u001b[39;00m output_hidden_states:\n\u001b[1;32m    339\u001b[0m     all_hidden_states \u001b[39m=\u001b[39m all_hidden_states \u001b[39m+\u001b[39m (hidden_states,)\n\u001b[0;32m--> 341\u001b[0m layer_outputs \u001b[39m=\u001b[39m layer_module(\n\u001b[1;32m    342\u001b[0m     hidden_states,\n\u001b[1;32m    343\u001b[0m     attention_mask,\n\u001b[1;32m    344\u001b[0m     head_mask[i],\n\u001b[1;32m    345\u001b[0m     position_bias,\n\u001b[1;32m    346\u001b[0m     output_attentions\u001b[39m=\u001b[39;49moutput_attentions,\n\u001b[1;32m    347\u001b[0m     \u001b[39m*\u001b[39;49m\u001b[39m*\u001b[39;49mkwargs,\n\u001b[1;32m    348\u001b[0m )\n\u001b[1;32m    349\u001b[0m hidden_states \u001b[39m=\u001b[39m layer_outputs[\u001b[39m0\u001b[39m]\n\u001b[1;32m    351\u001b[0m \u001b[39mif\u001b[39;00m output_attentions:\n",
      "File \u001b[0;32m~/Documents/Cleantech_Concepts/venv/lib64/python3.11/site-packages/torch/nn/modules/module.py:1518\u001b[0m, in \u001b[0;36mModule._wrapped_call_impl\u001b[0;34m(self, *args, **kwargs)\u001b[0m\n\u001b[1;32m   1516\u001b[0m     \u001b[39mreturn\u001b[39;00m \u001b[39mself\u001b[39m\u001b[39m.\u001b[39m_compiled_call_impl(\u001b[39m*\u001b[39margs, \u001b[39m*\u001b[39m\u001b[39m*\u001b[39mkwargs)  \u001b[39m# type: ignore[misc]\u001b[39;00m\n\u001b[1;32m   1517\u001b[0m \u001b[39melse\u001b[39;00m:\n\u001b[0;32m-> 1518\u001b[0m     \u001b[39mreturn\u001b[39;00m \u001b[39mself\u001b[39;49m\u001b[39m.\u001b[39;49m_call_impl(\u001b[39m*\u001b[39;49margs, \u001b[39m*\u001b[39;49m\u001b[39m*\u001b[39;49mkwargs)\n",
      "File \u001b[0;32m~/Documents/Cleantech_Concepts/venv/lib64/python3.11/site-packages/torch/nn/modules/module.py:1527\u001b[0m, in \u001b[0;36mModule._call_impl\u001b[0;34m(self, *args, **kwargs)\u001b[0m\n\u001b[1;32m   1522\u001b[0m \u001b[39m# If we don't have any hooks, we want to skip the rest of the logic in\u001b[39;00m\n\u001b[1;32m   1523\u001b[0m \u001b[39m# this function, and just call forward.\u001b[39;00m\n\u001b[1;32m   1524\u001b[0m \u001b[39mif\u001b[39;00m \u001b[39mnot\u001b[39;00m (\u001b[39mself\u001b[39m\u001b[39m.\u001b[39m_backward_hooks \u001b[39mor\u001b[39;00m \u001b[39mself\u001b[39m\u001b[39m.\u001b[39m_backward_pre_hooks \u001b[39mor\u001b[39;00m \u001b[39mself\u001b[39m\u001b[39m.\u001b[39m_forward_hooks \u001b[39mor\u001b[39;00m \u001b[39mself\u001b[39m\u001b[39m.\u001b[39m_forward_pre_hooks\n\u001b[1;32m   1525\u001b[0m         \u001b[39mor\u001b[39;00m _global_backward_pre_hooks \u001b[39mor\u001b[39;00m _global_backward_hooks\n\u001b[1;32m   1526\u001b[0m         \u001b[39mor\u001b[39;00m _global_forward_hooks \u001b[39mor\u001b[39;00m _global_forward_pre_hooks):\n\u001b[0;32m-> 1527\u001b[0m     \u001b[39mreturn\u001b[39;00m forward_call(\u001b[39m*\u001b[39;49margs, \u001b[39m*\u001b[39;49m\u001b[39m*\u001b[39;49mkwargs)\n\u001b[1;32m   1529\u001b[0m \u001b[39mtry\u001b[39;00m:\n\u001b[1;32m   1530\u001b[0m     result \u001b[39m=\u001b[39m \u001b[39mNone\u001b[39;00m\n",
      "File \u001b[0;32m~/Documents/Cleantech_Concepts/venv/lib64/python3.11/site-packages/transformers/models/mpnet/modeling_mpnet.py:300\u001b[0m, in \u001b[0;36mMPNetLayer.forward\u001b[0;34m(self, hidden_states, attention_mask, head_mask, position_bias, output_attentions, **kwargs)\u001b[0m\n\u001b[1;32m    291\u001b[0m \u001b[39mdef\u001b[39;00m \u001b[39mforward\u001b[39m(\n\u001b[1;32m    292\u001b[0m     \u001b[39mself\u001b[39m,\n\u001b[1;32m    293\u001b[0m     hidden_states,\n\u001b[0;32m   (...)\u001b[0m\n\u001b[1;32m    298\u001b[0m     \u001b[39m*\u001b[39m\u001b[39m*\u001b[39mkwargs,\n\u001b[1;32m    299\u001b[0m ):\n\u001b[0;32m--> 300\u001b[0m     self_attention_outputs \u001b[39m=\u001b[39m \u001b[39mself\u001b[39;49m\u001b[39m.\u001b[39;49mattention(\n\u001b[1;32m    301\u001b[0m         hidden_states,\n\u001b[1;32m    302\u001b[0m         attention_mask,\n\u001b[1;32m    303\u001b[0m         head_mask,\n\u001b[1;32m    304\u001b[0m         position_bias\u001b[39m=\u001b[39;49mposition_bias,\n\u001b[1;32m    305\u001b[0m         output_attentions\u001b[39m=\u001b[39;49moutput_attentions,\n\u001b[1;32m    306\u001b[0m     )\n\u001b[1;32m    307\u001b[0m     attention_output \u001b[39m=\u001b[39m self_attention_outputs[\u001b[39m0\u001b[39m]\n\u001b[1;32m    308\u001b[0m     outputs \u001b[39m=\u001b[39m self_attention_outputs[\u001b[39m1\u001b[39m:]  \u001b[39m# add self attentions if we output attention weights\u001b[39;00m\n",
      "File \u001b[0;32m~/Documents/Cleantech_Concepts/venv/lib64/python3.11/site-packages/torch/nn/modules/module.py:1518\u001b[0m, in \u001b[0;36mModule._wrapped_call_impl\u001b[0;34m(self, *args, **kwargs)\u001b[0m\n\u001b[1;32m   1516\u001b[0m     \u001b[39mreturn\u001b[39;00m \u001b[39mself\u001b[39m\u001b[39m.\u001b[39m_compiled_call_impl(\u001b[39m*\u001b[39margs, \u001b[39m*\u001b[39m\u001b[39m*\u001b[39mkwargs)  \u001b[39m# type: ignore[misc]\u001b[39;00m\n\u001b[1;32m   1517\u001b[0m \u001b[39melse\u001b[39;00m:\n\u001b[0;32m-> 1518\u001b[0m     \u001b[39mreturn\u001b[39;00m \u001b[39mself\u001b[39;49m\u001b[39m.\u001b[39;49m_call_impl(\u001b[39m*\u001b[39;49margs, \u001b[39m*\u001b[39;49m\u001b[39m*\u001b[39;49mkwargs)\n",
      "File \u001b[0;32m~/Documents/Cleantech_Concepts/venv/lib64/python3.11/site-packages/torch/nn/modules/module.py:1527\u001b[0m, in \u001b[0;36mModule._call_impl\u001b[0;34m(self, *args, **kwargs)\u001b[0m\n\u001b[1;32m   1522\u001b[0m \u001b[39m# If we don't have any hooks, we want to skip the rest of the logic in\u001b[39;00m\n\u001b[1;32m   1523\u001b[0m \u001b[39m# this function, and just call forward.\u001b[39;00m\n\u001b[1;32m   1524\u001b[0m \u001b[39mif\u001b[39;00m \u001b[39mnot\u001b[39;00m (\u001b[39mself\u001b[39m\u001b[39m.\u001b[39m_backward_hooks \u001b[39mor\u001b[39;00m \u001b[39mself\u001b[39m\u001b[39m.\u001b[39m_backward_pre_hooks \u001b[39mor\u001b[39;00m \u001b[39mself\u001b[39m\u001b[39m.\u001b[39m_forward_hooks \u001b[39mor\u001b[39;00m \u001b[39mself\u001b[39m\u001b[39m.\u001b[39m_forward_pre_hooks\n\u001b[1;32m   1525\u001b[0m         \u001b[39mor\u001b[39;00m _global_backward_pre_hooks \u001b[39mor\u001b[39;00m _global_backward_hooks\n\u001b[1;32m   1526\u001b[0m         \u001b[39mor\u001b[39;00m _global_forward_hooks \u001b[39mor\u001b[39;00m _global_forward_pre_hooks):\n\u001b[0;32m-> 1527\u001b[0m     \u001b[39mreturn\u001b[39;00m forward_call(\u001b[39m*\u001b[39;49margs, \u001b[39m*\u001b[39;49m\u001b[39m*\u001b[39;49mkwargs)\n\u001b[1;32m   1529\u001b[0m \u001b[39mtry\u001b[39;00m:\n\u001b[1;32m   1530\u001b[0m     result \u001b[39m=\u001b[39m \u001b[39mNone\u001b[39;00m\n",
      "File \u001b[0;32m~/Documents/Cleantech_Concepts/venv/lib64/python3.11/site-packages/transformers/models/mpnet/modeling_mpnet.py:241\u001b[0m, in \u001b[0;36mMPNetAttention.forward\u001b[0;34m(self, hidden_states, attention_mask, head_mask, position_bias, output_attentions, **kwargs)\u001b[0m\n\u001b[1;32m    232\u001b[0m \u001b[39mdef\u001b[39;00m \u001b[39mforward\u001b[39m(\n\u001b[1;32m    233\u001b[0m     \u001b[39mself\u001b[39m,\n\u001b[1;32m    234\u001b[0m     hidden_states,\n\u001b[0;32m   (...)\u001b[0m\n\u001b[1;32m    239\u001b[0m     \u001b[39m*\u001b[39m\u001b[39m*\u001b[39mkwargs,\n\u001b[1;32m    240\u001b[0m ):\n\u001b[0;32m--> 241\u001b[0m     self_outputs \u001b[39m=\u001b[39m \u001b[39mself\u001b[39;49m\u001b[39m.\u001b[39;49mattn(\n\u001b[1;32m    242\u001b[0m         hidden_states,\n\u001b[1;32m    243\u001b[0m         attention_mask,\n\u001b[1;32m    244\u001b[0m         head_mask,\n\u001b[1;32m    245\u001b[0m         position_bias,\n\u001b[1;32m    246\u001b[0m         output_attentions\u001b[39m=\u001b[39;49moutput_attentions,\n\u001b[1;32m    247\u001b[0m     )\n\u001b[1;32m    248\u001b[0m     attention_output \u001b[39m=\u001b[39m \u001b[39mself\u001b[39m\u001b[39m.\u001b[39mLayerNorm(\u001b[39mself\u001b[39m\u001b[39m.\u001b[39mdropout(self_outputs[\u001b[39m0\u001b[39m]) \u001b[39m+\u001b[39m hidden_states)\n\u001b[1;32m    249\u001b[0m     outputs \u001b[39m=\u001b[39m (attention_output,) \u001b[39m+\u001b[39m self_outputs[\u001b[39m1\u001b[39m:]  \u001b[39m# add attentions if we output them\u001b[39;00m\n",
      "File \u001b[0;32m~/Documents/Cleantech_Concepts/venv/lib64/python3.11/site-packages/torch/nn/modules/module.py:1518\u001b[0m, in \u001b[0;36mModule._wrapped_call_impl\u001b[0;34m(self, *args, **kwargs)\u001b[0m\n\u001b[1;32m   1516\u001b[0m     \u001b[39mreturn\u001b[39;00m \u001b[39mself\u001b[39m\u001b[39m.\u001b[39m_compiled_call_impl(\u001b[39m*\u001b[39margs, \u001b[39m*\u001b[39m\u001b[39m*\u001b[39mkwargs)  \u001b[39m# type: ignore[misc]\u001b[39;00m\n\u001b[1;32m   1517\u001b[0m \u001b[39melse\u001b[39;00m:\n\u001b[0;32m-> 1518\u001b[0m     \u001b[39mreturn\u001b[39;00m \u001b[39mself\u001b[39;49m\u001b[39m.\u001b[39;49m_call_impl(\u001b[39m*\u001b[39;49margs, \u001b[39m*\u001b[39;49m\u001b[39m*\u001b[39;49mkwargs)\n",
      "File \u001b[0;32m~/Documents/Cleantech_Concepts/venv/lib64/python3.11/site-packages/torch/nn/modules/module.py:1527\u001b[0m, in \u001b[0;36mModule._call_impl\u001b[0;34m(self, *args, **kwargs)\u001b[0m\n\u001b[1;32m   1522\u001b[0m \u001b[39m# If we don't have any hooks, we want to skip the rest of the logic in\u001b[39;00m\n\u001b[1;32m   1523\u001b[0m \u001b[39m# this function, and just call forward.\u001b[39;00m\n\u001b[1;32m   1524\u001b[0m \u001b[39mif\u001b[39;00m \u001b[39mnot\u001b[39;00m (\u001b[39mself\u001b[39m\u001b[39m.\u001b[39m_backward_hooks \u001b[39mor\u001b[39;00m \u001b[39mself\u001b[39m\u001b[39m.\u001b[39m_backward_pre_hooks \u001b[39mor\u001b[39;00m \u001b[39mself\u001b[39m\u001b[39m.\u001b[39m_forward_hooks \u001b[39mor\u001b[39;00m \u001b[39mself\u001b[39m\u001b[39m.\u001b[39m_forward_pre_hooks\n\u001b[1;32m   1525\u001b[0m         \u001b[39mor\u001b[39;00m _global_backward_pre_hooks \u001b[39mor\u001b[39;00m _global_backward_hooks\n\u001b[1;32m   1526\u001b[0m         \u001b[39mor\u001b[39;00m _global_forward_hooks \u001b[39mor\u001b[39;00m _global_forward_pre_hooks):\n\u001b[0;32m-> 1527\u001b[0m     \u001b[39mreturn\u001b[39;00m forward_call(\u001b[39m*\u001b[39;49margs, \u001b[39m*\u001b[39;49m\u001b[39m*\u001b[39;49mkwargs)\n\u001b[1;32m   1529\u001b[0m \u001b[39mtry\u001b[39;00m:\n\u001b[1;32m   1530\u001b[0m     result \u001b[39m=\u001b[39m \u001b[39mNone\u001b[39;00m\n",
      "File \u001b[0;32m~/Documents/Cleantech_Concepts/venv/lib64/python3.11/site-packages/transformers/models/mpnet/modeling_mpnet.py:188\u001b[0m, in \u001b[0;36mMPNetSelfAttention.forward\u001b[0;34m(self, hidden_states, attention_mask, head_mask, position_bias, output_attentions, **kwargs)\u001b[0m\n\u001b[1;32m    185\u001b[0m     attention_scores \u001b[39m=\u001b[39m attention_scores \u001b[39m+\u001b[39m attention_mask\n\u001b[1;32m    187\u001b[0m \u001b[39m# Normalize the attention scores to probabilities.\u001b[39;00m\n\u001b[0;32m--> 188\u001b[0m attention_probs \u001b[39m=\u001b[39m nn\u001b[39m.\u001b[39;49mfunctional\u001b[39m.\u001b[39;49msoftmax(attention_scores, dim\u001b[39m=\u001b[39;49m\u001b[39m-\u001b[39;49m\u001b[39m1\u001b[39;49m)\n\u001b[1;32m    190\u001b[0m attention_probs \u001b[39m=\u001b[39m \u001b[39mself\u001b[39m\u001b[39m.\u001b[39mdropout(attention_probs)\n\u001b[1;32m    192\u001b[0m \u001b[39mif\u001b[39;00m head_mask \u001b[39mis\u001b[39;00m \u001b[39mnot\u001b[39;00m \u001b[39mNone\u001b[39;00m:\n",
      "File \u001b[0;32m~/Documents/Cleantech_Concepts/venv/lib64/python3.11/site-packages/torch/nn/functional.py:1826\u001b[0m, in \u001b[0;36msoftmax\u001b[0;34m(input, dim, _stacklevel, dtype)\u001b[0m\n\u001b[1;32m   1822\u001b[0m         ret \u001b[39m=\u001b[39m (\u001b[39m-\u001b[39m\u001b[39minput\u001b[39m)\u001b[39m.\u001b[39msoftmax(dim, dtype\u001b[39m=\u001b[39mdtype)\n\u001b[1;32m   1823\u001b[0m     \u001b[39mreturn\u001b[39;00m ret\n\u001b[0;32m-> 1826\u001b[0m \u001b[39mdef\u001b[39;00m \u001b[39msoftmax\u001b[39m(\u001b[39minput\u001b[39m: Tensor, dim: Optional[\u001b[39mint\u001b[39m] \u001b[39m=\u001b[39m \u001b[39mNone\u001b[39;00m, _stacklevel: \u001b[39mint\u001b[39m \u001b[39m=\u001b[39m \u001b[39m3\u001b[39m, dtype: Optional[DType] \u001b[39m=\u001b[39m \u001b[39mNone\u001b[39;00m) \u001b[39m-\u001b[39m\u001b[39m>\u001b[39m Tensor:\n\u001b[1;32m   1827\u001b[0m \u001b[39m    \u001b[39m\u001b[39mr\u001b[39m\u001b[39m\"\"\"Applies a softmax function.\u001b[39;00m\n\u001b[1;32m   1828\u001b[0m \n\u001b[1;32m   1829\u001b[0m \u001b[39m    Softmax is defined as:\u001b[39;00m\n\u001b[0;32m   (...)\u001b[0m\n\u001b[1;32m   1849\u001b[0m \n\u001b[1;32m   1850\u001b[0m \u001b[39m    \"\"\"\u001b[39;00m\n\u001b[1;32m   1851\u001b[0m     \u001b[39mif\u001b[39;00m has_torch_function_unary(\u001b[39minput\u001b[39m):\n",
      "\u001b[0;31mKeyboardInterrupt\u001b[0m: "
     ]
    }
   ],
   "source": [
    "# Generate copy of df_claims_keywords_list\n",
    "df_keywords_list_agg_embeddings = df_keywords_list_agg_pruned.copy()\n",
    "\n",
    "# Perform sentence embedding on the 'keyword_yake' (PatentsView) or 'keywords_yake_claims' (EPO) column\n",
    "df_keywords_list_agg_embeddings['keyword_yake_patentsberta_embedding'] = df_keywords_list_agg_embeddings['keyword_yake_lemma'].progress_apply(\n",
    "    lambda x: model_patentsberta.encode(x)\n",
    ")\n",
    "\n",
    "df_keywords_list_agg_embeddings['keyword_yake_climatebert_embedding'] = df_keywords_list_agg_embeddings['keyword_yake_lemma'].progress_apply(\n",
    "    lambda x: model_climatebert.encode(x)\n",
    ")\n",
    "\n",
    "df_keywords_list_agg_embeddings['keyword_yake_bertforpatents_embedding'] = df_keywords_list_agg_embeddings['keyword_yake_lemma'].progress_apply(\n",
    "    lambda x: model_bertforpatents.encode(x)\n",
    ")"
   ]
  },
  {
   "cell_type": "code",
   "execution_count": null,
   "metadata": {},
   "outputs": [],
   "source": [
    "# Save dataframe to json\n",
    "df_keywords_list_agg_embeddings.to_json('/mnt/hdd01/patentsview/Similarity Search - CPC Classification and Claims/df_keywords_list_agg_uspto_epo_rel_embeddings_noun_chunks.json', orient='records')"
   ]
  }
 ],
 "metadata": {
  "kernelspec": {
   "display_name": "venv",
   "language": "python",
   "name": "python3"
  },
  "language_info": {
   "codemirror_mode": {
    "name": "ipython",
    "version": 3
   },
   "file_extension": ".py",
   "mimetype": "text/x-python",
   "name": "python",
   "nbconvert_exporter": "python",
   "pygments_lexer": "ipython3",
   "version": "3.11.6"
  },
  "orig_nbformat": 4
 },
 "nbformat": 4,
 "nbformat_minor": 2
}
