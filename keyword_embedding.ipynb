{
 "cells": [
  {
   "cell_type": "code",
   "execution_count": 7,
   "metadata": {},
   "outputs": [],
   "source": [
    "import pandas as pd\n",
    "import plotly.express as px\n",
    "# from transformers import AutoTokenizer, AutoModel\n",
    "from sentence_transformers import SentenceTransformer\n",
    "import torch\n",
    "import hdbscan\n",
    "import umap\n",
    "from tqdm import tqdm"
   ]
  },
  {
   "cell_type": "markdown",
   "metadata": {},
   "source": [
    "# Data Preprocessing and Wrangling"
   ]
  },
  {
   "cell_type": "code",
   "execution_count": 8,
   "metadata": {},
   "outputs": [],
   "source": [
    "# Load data\n",
    "df_keywords = pd.read_json('/mnt/hdd01/patentsview/Patentsview - Cleantech Patents/Cleantech Concepts/df_cpc_subclass_keywords_yake.json')"
   ]
  },
  {
   "cell_type": "code",
   "execution_count": 10,
   "metadata": {},
   "outputs": [],
   "source": [
    "# Explode 'keywords_yake_desc_5000' column\n",
    "df_keywords_list = df_keywords.explode('keywords_yake_desc_5000')\n",
    "df_keywords_list = df_keywords_list.reset_index(drop=True)"
   ]
  },
  {
   "cell_type": "code",
   "execution_count": 11,
   "metadata": {},
   "outputs": [],
   "source": [
    "# Delete column keywords_yake and keywords_yake_desc\n",
    "df_keywords_list = df_keywords_list.drop(['keywords_yake', 'keywords_yake_desc'], axis=1)"
   ]
  },
  {
   "cell_type": "markdown",
   "metadata": {},
   "source": [
    "# Embedding"
   ]
  },
  {
   "cell_type": "code",
   "execution_count": 13,
   "metadata": {},
   "outputs": [
    {
     "name": "stdout",
     "output_type": "stream",
     "text": [
      "Using GPU: NVIDIA RTX A4500\n"
     ]
    }
   ],
   "source": [
    "# Ensure a GPU is available and select it for processing\n",
    "if torch.cuda.is_available():\n",
    "    device = torch.device(\"cuda\")\n",
    "    print(f'Using GPU: {torch.cuda.get_device_name()}')\n",
    "else:\n",
    "    device = torch.device(\"cpu\")\n",
    "    print('No GPU available, using CPU.')"
   ]
  },
  {
   "cell_type": "code",
   "execution_count": 22,
   "metadata": {},
   "outputs": [
    {
     "name": "stderr",
     "output_type": "stream",
     "text": [
      "Downloading (…)9a318/.gitattributes: 100%|██████████| 1.23k/1.23k [00:00<00:00, 9.46MB/s]\n",
      "Downloading (…)d2f289a318/README.md: 100%|██████████| 3.12k/3.12k [00:00<00:00, 17.3MB/s]\n",
      "Downloading (…)18/added_tokens.json: 100%|██████████| 4.98k/4.98k [00:00<00:00, 12.0MB/s]\n",
      "Downloading (…)f289a318/config.json: 100%|██████████| 752/752 [00:00<00:00, 4.24MB/s]\n",
      "Downloading (…)2f289a318/merges.txt: 100%|██████████| 456k/456k [00:00<00:00, 1.47MB/s]\n",
      "Downloading model.safetensors: 100%|██████████| 329M/329M [00:03<00:00, 104MB/s]  \n",
      "Downloading pytorch_model.bin: 100%|██████████| 329M/329M [00:08<00:00, 38.8MB/s] \n",
      "Downloading (…)cial_tokens_map.json: 100%|██████████| 280/280 [00:00<00:00, 2.53MB/s]\n",
      "Downloading (…)9a318/tokenizer.json: 100%|██████████| 2.15M/2.15M [00:00<00:00, 4.14MB/s]\n",
      "Downloading (…)okenizer_config.json: 100%|██████████| 1.46k/1.46k [00:00<00:00, 12.1MB/s]\n",
      "Downloading (…)2f289a318/vocab.json: 100%|██████████| 798k/798k [00:00<00:00, 1.95MB/s]\n",
      "No sentence-transformers model found with name /home/thiesen/.cache/torch/sentence_transformers/climatebert_distilroberta-base-climate-f. Creating a new one with MEAN pooling.\n",
      "Some weights of RobertaModel were not initialized from the model checkpoint at /home/thiesen/.cache/torch/sentence_transformers/climatebert_distilroberta-base-climate-f and are newly initialized: ['roberta.pooler.dense.bias', 'roberta.pooler.dense.weight']\n",
      "You should probably TRAIN this model on a down-stream task to be able to use it for predictions and inference.\n"
     ]
    }
   ],
   "source": [
    "# Load the Sentence Transformer model, try 'AI-Growth-Lab/PatentSBERTa' or 'anferico/bert-for-patents' or 'climatebert/distilroberta-base-climate-f'\n",
    "model = SentenceTransformer('climatebert/distilroberta-base-climate-f', device=device)"
   ]
  },
  {
   "cell_type": "code",
   "execution_count": 23,
   "metadata": {},
   "outputs": [],
   "source": [
    "# Convert the column of lists of keywords to a list of strings\n",
    "keywords_list = df_keywords_list['keywords_yake_desc_5000'].tolist()\n",
    "\n",
    "# Compute embeddings (the model will automatically use the GPU if available)\n",
    "keywords_embeddings = model.encode(keywords_list, convert_to_tensor=True)\n",
    "\n",
    "# Convert embeddings tensor to a list of lists and add to dataframe\n",
    "df_keywords_list['keywords_embeddings_climatebert'] = keywords_embeddings.cpu().numpy().tolist()"
   ]
  },
  {
   "cell_type": "code",
   "execution_count": 26,
   "metadata": {},
   "outputs": [],
   "source": [
    "df_keywords_list.to_json('/mnt/hdd01/patentsview/Patentsview - Cleantech Patents/Cleantech Concepts/df_cpc_subclass_keywords_yake_embeddings.json', orient='records')"
   ]
  },
  {
   "cell_type": "markdown",
   "metadata": {},
   "source": [
    "# Dimensionality Reduction with UMAP"
   ]
  },
  {
   "cell_type": "code",
   "execution_count": null,
   "metadata": {},
   "outputs": [],
   "source": [
    "# Perform dimensionality reduction with UMAP\n",
    "reducer = umap.UMAP(random_state=42)\n",
    "embeddings = df_keywords_list['keywords_embeddings_patentsberta'].tolist()\n",
    "umap_embeddings = reducer.fit_transform(embeddings)\n",
    "\n",
    "# Add UMAP embeddings to dataframe\n",
    "df_keywords_list['keywords_embeddings_patentsberta_umap'] = umap_embeddings.tolist()"
   ]
  },
  {
   "cell_type": "markdown",
   "metadata": {},
   "source": [
    "# Clustering with HDBSCAN"
   ]
  },
  {
   "cell_type": "code",
   "execution_count": null,
   "metadata": {},
   "outputs": [],
   "source": [
    "# Perform clustering with HDBSCAN\n",
    "clusterer = hdbscan.HDBSCAN(min_cluster_size=10, metric='euclidean', cluster_selection_method='eom')\n",
    "clusterer.fit(umap_embeddings)\n",
    "\n",
    "# Add HDBSCAN clusters to dataframe\n",
    "df_keywords_list['keywords_embeddings_patentsberta_hdbscan'] = clusterer.labels_.tolist()"
   ]
  }
 ],
 "metadata": {
  "kernelspec": {
   "display_name": "venv",
   "language": "python",
   "name": "python3"
  },
  "language_info": {
   "codemirror_mode": {
    "name": "ipython",
    "version": 3
   },
   "file_extension": ".py",
   "mimetype": "text/x-python",
   "name": "python",
   "nbconvert_exporter": "python",
   "pygments_lexer": "ipython3",
   "version": "3.11.5"
  },
  "orig_nbformat": 4
 },
 "nbformat": 4,
 "nbformat_minor": 2
}
