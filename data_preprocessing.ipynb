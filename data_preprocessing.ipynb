{
 "cells": [
  {
   "cell_type": "code",
   "execution_count": 6,
   "metadata": {},
   "outputs": [],
   "source": [
    "import os\n",
    "import pandas as pd\n",
    "import requests as req\n",
    "import multiprocessing as mp"
   ]
  },
  {
   "cell_type": "markdown",
   "metadata": {},
   "source": [
    "# Download Data from PatentsView"
   ]
  },
  {
   "cell_type": "code",
   "execution_count": 4,
   "metadata": {},
   "outputs": [],
   "source": [
    "links_brf_sum = ['https://s3.amazonaws.com/data.patentsview.org/brief-summary-text/g_brf_sum_text_2023.tsv.zip',\n",
    "'https://s3.amazonaws.com/data.patentsview.org/brief-summary-text/g_brf_sum_text_2022.tsv.zip',\n",
    "'https://s3.amazonaws.com/data.patentsview.org/brief-summary-text/g_brf_sum_text_2021.tsv.zip',\n",
    "'https://s3.amazonaws.com/data.patentsview.org/brief-summary-text/g_brf_sum_text_2020.tsv.zip',\n",
    "'https://s3.amazonaws.com/data.patentsview.org/brief-summary-text/g_brf_sum_text_2019.tsv.zip',\n",
    "'https://s3.amazonaws.com/data.patentsview.org/brief-summary-text/g_brf_sum_text_2018.tsv.zip',\n",
    "'https://s3.amazonaws.com/data.patentsview.org/brief-summary-text/g_brf_sum_text_2017.tsv.zip',\n",
    "'https://s3.amazonaws.com/data.patentsview.org/brief-summary-text/g_brf_sum_text_2016.tsv.zip',\n",
    "'https://s3.amazonaws.com/data.patentsview.org/brief-summary-text/g_brf_sum_text_2015.tsv.zip',\n",
    "'https://s3.amazonaws.com/data.patentsview.org/brief-summary-text/g_brf_sum_text_2014.tsv.zip',\n",
    "'https://s3.amazonaws.com/data.patentsview.org/brief-summary-text/g_brf_sum_text_2013.tsv.zip',\n",
    "'https://s3.amazonaws.com/data.patentsview.org/brief-summary-text/g_brf_sum_text_2012.tsv.zip',\n",
    "'https://s3.amazonaws.com/data.patentsview.org/brief-summary-text/g_brf_sum_text_2011.tsv.zip',\n",
    "'https://s3.amazonaws.com/data.patentsview.org/brief-summary-text/g_brf_sum_text_2010.tsv.zip',\n",
    "'https://s3.amazonaws.com/data.patentsview.org/brief-summary-text/g_brf_sum_text_2009.tsv.zip',\n",
    "'https://s3.amazonaws.com/data.patentsview.org/brief-summary-text/g_brf_sum_text_2008.tsv.zip',\n",
    "'https://s3.amazonaws.com/data.patentsview.org/brief-summary-text/g_brf_sum_text_2007.tsv.zip',\n",
    "'https://s3.amazonaws.com/data.patentsview.org/brief-summary-text/g_brf_sum_text_2006.tsv.zip',\n",
    "'https://s3.amazonaws.com/data.patentsview.org/brief-summary-text/g_brf_sum_text_2005.tsv.zip',\n",
    "'https://s3.amazonaws.com/data.patentsview.org/brief-summary-text/g_brf_sum_text_2004.tsv.zip',\n",
    "'https://s3.amazonaws.com/data.patentsview.org/brief-summary-text/g_brf_sum_text_2003.tsv.zip',\n",
    "'https://s3.amazonaws.com/data.patentsview.org/brief-summary-text/g_brf_sum_text_2002.tsv.zip',\n",
    "'https://s3.amazonaws.com/data.patentsview.org/brief-summary-text/g_brf_sum_text_2001.tsv.zip',\n",
    "'https://s3.amazonaws.com/data.patentsview.org/brief-summary-text/g_brf_sum_text_2000.tsv.zip',\n",
    "'https://s3.amazonaws.com/data.patentsview.org/brief-summary-text/g_brf_sum_text_1999.tsv.zip',\n",
    "'https://s3.amazonaws.com/data.patentsview.org/brief-summary-text/g_brf_sum_text_1998.tsv.zip',\n",
    "'https://s3.amazonaws.com/data.patentsview.org/brief-summary-text/g_brf_sum_text_1997.tsv.zip',\n",
    "'https://s3.amazonaws.com/data.patentsview.org/brief-summary-text/g_brf_sum_text_1996.tsv.zip',\n",
    "'https://s3.amazonaws.com/data.patentsview.org/brief-summary-text/g_brf_sum_text_1995.tsv.zip',\n",
    "'https://s3.amazonaws.com/data.patentsview.org/brief-summary-text/g_brf_sum_text_1994.tsv.zip',\n",
    "'https://s3.amazonaws.com/data.patentsview.org/brief-summary-text/g_brf_sum_text_1993.tsv.zip',\n",
    "'https://s3.amazonaws.com/data.patentsview.org/brief-summary-text/g_brf_sum_text_1992.tsv.zip',\n",
    "'https://s3.amazonaws.com/data.patentsview.org/brief-summary-text/g_brf_sum_text_1991.tsv.zip',\n",
    "'https://s3.amazonaws.com/data.patentsview.org/brief-summary-text/g_brf_sum_text_1990.tsv.zip',\n",
    "'https://s3.amazonaws.com/data.patentsview.org/brief-summary-text/g_brf_sum_text_1989.tsv.zip',\n",
    "'https://s3.amazonaws.com/data.patentsview.org/brief-summary-text/g_brf_sum_text_1988.tsv.zip',\n",
    "'https://s3.amazonaws.com/data.patentsview.org/brief-summary-text/g_brf_sum_text_1987.tsv.zip',\n",
    "'https://s3.amazonaws.com/data.patentsview.org/brief-summary-text/g_brf_sum_text_1986.tsv.zip',\n",
    "'https://s3.amazonaws.com/data.patentsview.org/brief-summary-text/g_brf_sum_text_1985.tsv.zip',\n",
    "'https://s3.amazonaws.com/data.patentsview.org/brief-summary-text/g_brf_sum_text_1984.tsv.zip',\n",
    "'https://s3.amazonaws.com/data.patentsview.org/brief-summary-text/g_brf_sum_text_1983.tsv.zip',\n",
    "'https://s3.amazonaws.com/data.patentsview.org/brief-summary-text/g_brf_sum_text_1982.tsv.zip',\n",
    "'https://s3.amazonaws.com/data.patentsview.org/brief-summary-text/g_brf_sum_text_1981.tsv.zip',\n",
    "'https://s3.amazonaws.com/data.patentsview.org/brief-summary-text/g_brf_sum_text_1980.tsv.zip',\n",
    "'https://s3.amazonaws.com/data.patentsview.org/brief-summary-text/g_brf_sum_text_1979.tsv.zip',\n",
    "'https://s3.amazonaws.com/data.patentsview.org/brief-summary-text/g_brf_sum_text_1978.tsv.zip',\n",
    "'https://s3.amazonaws.com/data.patentsview.org/brief-summary-text/g_brf_sum_text_1977.tsv.zip',\n",
    "'https://s3.amazonaws.com/data.patentsview.org/brief-summary-text/g_brf_sum_text_1976.tsv.zip']"
   ]
  },
  {
   "cell_type": "code",
   "execution_count": null,
   "metadata": {},
   "outputs": [],
   "source": [
    "def download(link):\n",
    "    file_name = link.split('/')[-1]\n",
    "    brf_sum_dir = '/Users/juergenthiesen/Documents/Patentsview/Brief Summary'\n",
    "    print('Downloading ' + file_name)\n",
    "    r = req.get(link, stream=True)\n",
    "    with open(brf_sum_dir + '/' + file_name, 'wb') as f:\n",
    "        for chunk in r.iter_content(chunk_size=1024):\n",
    "            if chunk:\n",
    "                f.write(chunk)\n",
    "    print(file_name + ' downloaded')\n",
    "\n",
    "if __name__ == '__main__':\n",
    "    brf_sum_dir = '/Users/juergenthiesen/Documents/Patentsview/Brief Summary'\n",
    "\n",
    "    if not os.path.exists(brf_sum_dir):\n",
    "        os.makedirs(brf_sum_dir)\n",
    "    \n",
    "    pool = mp.Pool(mp.cpu_count()-2)\n",
    "    pool.map(download, links_brf_sum)\n",
    "    pool.close()"
   ]
  },
  {
   "cell_type": "code",
   "execution_count": 7,
   "metadata": {},
   "outputs": [],
   "source": [
    "links_description = ['https://s3.amazonaws.com/data.patentsview.org/detail-description-text/g_detail_desc_text_2023.tsv.zip',\n",
    "'https://s3.amazonaws.com/data.patentsview.org/detail-description-text/g_detail_desc_text_2022.tsv.zip',\n",
    "'https://s3.amazonaws.com/data.patentsview.org/detail-description-text/g_detail_desc_text_2021.tsv.zip',\n",
    "'https://s3.amazonaws.com/data.patentsview.org/detail-description-text/g_detail_desc_text_2020.tsv.zip',\n",
    "'https://s3.amazonaws.com/data.patentsview.org/detail-description-text/g_detail_desc_text_2019.tsv.zip',\n",
    "'https://s3.amazonaws.com/data.patentsview.org/detail-description-text/g_detail_desc_text_2018.tsv.zip',\n",
    "'https://s3.amazonaws.com/data.patentsview.org/detail-description-text/g_detail_desc_text_2017.tsv.zip',\n",
    "'https://s3.amazonaws.com/data.patentsview.org/detail-description-text/g_detail_desc_text_2016.tsv.zip',\n",
    "'https://s3.amazonaws.com/data.patentsview.org/detail-description-text/g_detail_desc_text_2015.tsv.zip',\n",
    "'https://s3.amazonaws.com/data.patentsview.org/detail-description-text/g_detail_desc_text_2014.tsv.zip',\n",
    "'https://s3.amazonaws.com/data.patentsview.org/detail-description-text/g_detail_desc_text_2013.tsv.zip',\n",
    "'https://s3.amazonaws.com/data.patentsview.org/detail-description-text/g_detail_desc_text_2012.tsv.zip',\n",
    "'https://s3.amazonaws.com/data.patentsview.org/detail-description-text/g_detail_desc_text_2011.tsv.zip',\n",
    "'https://s3.amazonaws.com/data.patentsview.org/detail-description-text/g_detail_desc_text_2010.tsv.zip',\n",
    "'https://s3.amazonaws.com/data.patentsview.org/detail-description-text/g_detail_desc_text_2009.tsv.zip',\n",
    "'https://s3.amazonaws.com/data.patentsview.org/detail-description-text/g_detail_desc_text_2008.tsv.zip',\n",
    "'https://s3.amazonaws.com/data.patentsview.org/detail-description-text/g_detail_desc_text_2007.tsv.zip',\n",
    "'https://s3.amazonaws.com/data.patentsview.org/detail-description-text/g_detail_desc_text_2006.tsv.zip',\n",
    "'https://s3.amazonaws.com/data.patentsview.org/detail-description-text/g_detail_desc_text_2005.tsv.zip',\n",
    "'https://s3.amazonaws.com/data.patentsview.org/detail-description-text/g_detail_desc_text_2004.tsv.zip',\n",
    "'https://s3.amazonaws.com/data.patentsview.org/detail-description-text/g_detail_desc_text_2003.tsv.zip',\n",
    "'https://s3.amazonaws.com/data.patentsview.org/detail-description-text/g_detail_desc_text_2002.tsv.zip',\n",
    "'https://s3.amazonaws.com/data.patentsview.org/detail-description-text/g_detail_desc_text_2001.tsv.zip',\n",
    "'https://s3.amazonaws.com/data.patentsview.org/detail-description-text/g_detail_desc_text_2000.tsv.zip',\n",
    "'https://s3.amazonaws.com/data.patentsview.org/detail-description-text/g_detail_desc_text_1999.tsv.zip',\n",
    "'https://s3.amazonaws.com/data.patentsview.org/detail-description-text/g_detail_desc_text_1998.tsv.zip',\n",
    "'https://s3.amazonaws.com/data.patentsview.org/detail-description-text/g_detail_desc_text_1997.tsv.zip',\n",
    "'https://s3.amazonaws.com/data.patentsview.org/detail-description-text/g_detail_desc_text_1996.tsv.zip',\n",
    "'https://s3.amazonaws.com/data.patentsview.org/detail-description-text/g_detail_desc_text_1995.tsv.zip',\n",
    "'https://s3.amazonaws.com/data.patentsview.org/detail-description-text/g_detail_desc_text_1994.tsv.zip',\n",
    "'https://s3.amazonaws.com/data.patentsview.org/detail-description-text/g_detail_desc_text_1993.tsv.zip',\n",
    "'https://s3.amazonaws.com/data.patentsview.org/detail-description-text/g_detail_desc_text_1992.tsv.zip',\n",
    "'https://s3.amazonaws.com/data.patentsview.org/detail-description-text/g_detail_desc_text_1991.tsv.zip',\n",
    "'https://s3.amazonaws.com/data.patentsview.org/detail-description-text/g_detail_desc_text_1990.tsv.zip',\n",
    "'https://s3.amazonaws.com/data.patentsview.org/detail-description-text/g_detail_desc_text_1989.tsv.zip',\n",
    "'https://s3.amazonaws.com/data.patentsview.org/detail-description-text/g_detail_desc_text_1988.tsv.zip',\n",
    "'https://s3.amazonaws.com/data.patentsview.org/detail-description-text/g_detail_desc_text_1987.tsv.zip',\n",
    "'https://s3.amazonaws.com/data.patentsview.org/detail-description-text/g_detail_desc_text_1986.tsv.zip',\n",
    "'https://s3.amazonaws.com/data.patentsview.org/detail-description-text/g_detail_desc_text_1985.tsv.zip',\n",
    "'https://s3.amazonaws.com/data.patentsview.org/detail-description-text/g_detail_desc_text_1984.tsv.zip',\n",
    "'https://s3.amazonaws.com/data.patentsview.org/detail-description-text/g_detail_desc_text_1983.tsv.zip',\n",
    "'https://s3.amazonaws.com/data.patentsview.org/detail-description-text/g_detail_desc_text_1982.tsv.zip',\n",
    "'https://s3.amazonaws.com/data.patentsview.org/detail-description-text/g_detail_desc_text_1981.tsv.zip',\n",
    "'https://s3.amazonaws.com/data.patentsview.org/detail-description-text/g_detail_desc_text_1980.tsv.zip',\n",
    "'https://s3.amazonaws.com/data.patentsview.org/detail-description-text/g_detail_desc_text_1979.tsv.zip',\n",
    "'https://s3.amazonaws.com/data.patentsview.org/detail-description-text/g_detail_desc_text_1978.tsv.zip',\n",
    "'https://s3.amazonaws.com/data.patentsview.org/detail-description-text/g_detail_desc_text_1977.tsv.zip',\n",
    "'https://s3.amazonaws.com/data.patentsview.org/detail-description-text/g_detail_desc_text_1976.tsv.zip']"
   ]
  },
  {
   "cell_type": "code",
   "execution_count": null,
   "metadata": {},
   "outputs": [],
   "source": [
    "def download(link):\n",
    "    file_name = link.split('/')[-1]\n",
    "    desc_dir = '/Users/juergenthiesen/Documents/Patentsview/Description'\n",
    "    print('Downloading ' + file_name)\n",
    "    r = req.get(link, stream=True)\n",
    "    with open(desc_dir + '/' + file_name, 'wb') as f:\n",
    "        for chunk in r.iter_content(chunk_size=1024):\n",
    "            if chunk:\n",
    "                f.write(chunk)\n",
    "    print(file_name + ' downloaded')\n",
    "\n",
    "if __name__ == '__main__':\n",
    "    desc_dir = '/Users/juergenthiesen/Documents/Patentsview/Description'\n",
    "\n",
    "    if not os.path.exists(desc_dir):\n",
    "        os.makedirs(desc_dir)\n",
    "    \n",
    "    pool = mp.Pool(mp.cpu_count()-2)\n",
    "    pool.map(download, links_description)\n",
    "    pool.close()"
   ]
  },
  {
   "cell_type": "code",
   "execution_count": null,
   "metadata": {},
   "outputs": [],
   "source": [
    "links_claims = ['https://s3.amazonaws.com/data.patentsview.org/claims/g_claims_2023.tsv.zip',\n",
    "'https://s3.amazonaws.com/data.patentsview.org/claims/g_claims_2022.tsv.zip',\n",
    "'https://s3.amazonaws.com/data.patentsview.org/claims/g_claims_2021.tsv.zip',\n",
    "'https://s3.amazonaws.com/data.patentsview.org/claims/g_claims_2020.tsv.zip',\n",
    "'https://s3.amazonaws.com/data.patentsview.org/claims/g_claims_2019.tsv.zip',\n",
    "'https://s3.amazonaws.com/data.patentsview.org/claims/g_claims_2018.tsv.zip',\n",
    "'https://s3.amazonaws.com/data.patentsview.org/claims/g_claims_2017.tsv.zip',\n",
    "'https://s3.amazonaws.com/data.patentsview.org/claims/g_claims_2016.tsv.zip',\n",
    "'https://s3.amazonaws.com/data.patentsview.org/claims/g_claims_2015.tsv.zip',\n",
    "'https://s3.amazonaws.com/data.patentsview.org/claims/g_claims_2014.tsv.zip',\n",
    "'https://s3.amazonaws.com/data.patentsview.org/claims/g_claims_2013.tsv.zip',\n",
    "'https://s3.amazonaws.com/data.patentsview.org/claims/g_claims_2012.tsv.zip',\n",
    "'https://s3.amazonaws.com/data.patentsview.org/claims/g_claims_2011.tsv.zip',\n",
    "'https://s3.amazonaws.com/data.patentsview.org/claims/g_claims_2010.tsv.zip',\n",
    "'https://s3.amazonaws.com/data.patentsview.org/claims/g_claims_2009.tsv.zip',\n",
    "'https://s3.amazonaws.com/data.patentsview.org/claims/g_claims_2008.tsv.zip',\n",
    "'https://s3.amazonaws.com/data.patentsview.org/claims/g_claims_2007.tsv.zip',\n",
    "'https://s3.amazonaws.com/data.patentsview.org/claims/g_claims_2006.tsv.zip',\n",
    "'https://s3.amazonaws.com/data.patentsview.org/claims/g_claims_2005.tsv.zip',\n",
    "'https://s3.amazonaws.com/data.patentsview.org/claims/g_claims_2004.tsv.zip',\n",
    "'https://s3.amazonaws.com/data.patentsview.org/claims/g_claims_2003.tsv.zip',\n",
    "'https://s3.amazonaws.com/data.patentsview.org/claims/g_claims_2002.tsv.zip',\n",
    "'https://s3.amazonaws.com/data.patentsview.org/claims/g_claims_2001.tsv.zip',\n",
    "'https://s3.amazonaws.com/data.patentsview.org/claims/g_claims_2000.tsv.zip',\n",
    "'https://s3.amazonaws.com/data.patentsview.org/claims/g_claims_1999.tsv.zip',\n",
    "'https://s3.amazonaws.com/data.patentsview.org/claims/g_claims_1998.tsv.zip',\n",
    "'https://s3.amazonaws.com/data.patentsview.org/claims/g_claims_1997.tsv.zip',\n",
    "'https://s3.amazonaws.com/data.patentsview.org/claims/g_claims_1996.tsv.zip',\n",
    "'https://s3.amazonaws.com/data.patentsview.org/claims/g_claims_1995.tsv.zip',\n",
    "'https://s3.amazonaws.com/data.patentsview.org/claims/g_claims_1994.tsv.zip',\n",
    "'https://s3.amazonaws.com/data.patentsview.org/claims/g_claims_1993.tsv.zip',\n",
    "'https://s3.amazonaws.com/data.patentsview.org/claims/g_claims_1992.tsv.zip',\n",
    "'https://s3.amazonaws.com/data.patentsview.org/claims/g_claims_1991.tsv.zip',\n",
    "'https://s3.amazonaws.com/data.patentsview.org/claims/g_claims_1990.tsv.zip',\n",
    "'https://s3.amazonaws.com/data.patentsview.org/claims/g_claims_1989.tsv.zip',\n",
    "'https://s3.amazonaws.com/data.patentsview.org/claims/g_claims_1988.tsv.zip',\n",
    "'https://s3.amazonaws.com/data.patentsview.org/claims/g_claims_1987.tsv.zip',\n",
    "'https://s3.amazonaws.com/data.patentsview.org/claims/g_claims_1986.tsv.zip',\n",
    "'https://s3.amazonaws.com/data.patentsview.org/claims/g_claims_1985.tsv.zip',\n",
    "'https://s3.amazonaws.com/data.patentsview.org/claims/g_claims_1984.tsv.zip',\n",
    "'https://s3.amazonaws.com/data.patentsview.org/claims/g_claims_1983.tsv.zip',\n",
    "'https://s3.amazonaws.com/data.patentsview.org/claims/g_claims_1982.tsv.zip',\n",
    "'https://s3.amazonaws.com/data.patentsview.org/claims/g_claims_1981.tsv.zip',\n",
    "'https://s3.amazonaws.com/data.patentsview.org/claims/g_claims_1980.tsv.zip',\n",
    "'https://s3.amazonaws.com/data.patentsview.org/claims/g_claims_1979.tsv.zip',\n",
    "'https://s3.amazonaws.com/data.patentsview.org/claims/g_claims_1978.tsv.zip',\n",
    "'https://s3.amazonaws.com/data.patentsview.org/claims/g_claims_1977.tsv.zip',\n",
    "'https://s3.amazonaws.com/data.patentsview.org/claims/g_claims_1976.tsv.zip']"
   ]
  },
  {
   "cell_type": "code",
   "execution_count": null,
   "metadata": {},
   "outputs": [],
   "source": [
    "def download(link):\n",
    "    file_name = link.split('/')[-1]\n",
    "    claim_dir = '/Users/juergenthiesen/Documents/Patentsview/Claims'\n",
    "    print('Downloading ' + file_name)\n",
    "    r = req.get(link, stream=True)\n",
    "    with open(claim_dir + '/' + file_name, 'wb') as f:\n",
    "        for chunk in r.iter_content(chunk_size=1024):\n",
    "            if chunk:\n",
    "                f.write(chunk)\n",
    "    print(file_name + ' downloaded')\n",
    "\n",
    "if __name__ == '__main__':\n",
    "    claim_dir = '/Users/juergenthiesen/Documents/Patentsview/Claims'\n",
    "    if not os.path.exists(claim_dir):\n",
    "        os.makedirs(claim_dir)\n",
    "\n",
    "    pool = mp.Pool(mp.cpu_count()-2)\n",
    "    pool.map(download, links_claims)\n",
    "    pool.close()"
   ]
  },
  {
   "cell_type": "markdown",
   "metadata": {},
   "source": [
    "# Preprocess PatentsView Data"
   ]
  },
  {
   "cell_type": "code",
   "execution_count": 32,
   "metadata": {},
   "outputs": [
    {
     "name": "stderr",
     "output_type": "stream",
     "text": [
      "/var/folders/0j/wnvgdqzd6ylfts3hrw81r15r0000gn/T/ipykernel_58690/771843872.py:2: DtypeWarning: Columns (0,4) have mixed types. Specify dtype option on import or set low_memory=False.\n",
      "  df_patent = pd.read_csv('/Users/juergenthiesen/Documents/Patentsview/Raw CSV Files/g_patent.csv')\n"
     ]
    }
   ],
   "source": [
    "df_cpc = pd.read_csv('/Users/juergenthiesen/Documents/Patentsview/Raw CSV Files/g_cpc_current.csv')\n",
    "df_patent = pd.read_csv('/Users/juergenthiesen/Documents/Patentsview/Raw CSV Files/g_patent.csv')"
   ]
  },
  {
   "cell_type": "code",
   "execution_count": 33,
   "metadata": {},
   "outputs": [],
   "source": [
    "# Drop all patents without title or abstract\n",
    "df_patent = df_patent.dropna(subset=['patent_title', 'patent_abstract'])"
   ]
  },
  {
   "cell_type": "code",
   "execution_count": 34,
   "metadata": {},
   "outputs": [],
   "source": [
    "# Merge the two dataframes on the patent_id column\n",
    "df = pd.merge(df_cpc, df_patent, on='patent_id')"
   ]
  },
  {
   "cell_type": "code",
   "execution_count": 35,
   "metadata": {},
   "outputs": [
    {
     "name": "stdout",
     "output_type": "stream",
     "text": [
      "cpc_class\n",
      "H01    5909961\n",
      "A61    5531113\n",
      "H04    5293829\n",
      "G06    3923277\n",
      "Y10    2084157\n",
      "        ...   \n",
      "C14       1850\n",
      "G12        618\n",
      "H99          1\n",
      "E99          1\n",
      "A99          1\n",
      "Name: count, Length: 131, dtype: int64\n"
     ]
    }
   ],
   "source": [
    "# Show value counts on the 'cpc_class' column\n",
    "print(df['cpc_class'].value_counts())"
   ]
  },
  {
   "cell_type": "code",
   "execution_count": 36,
   "metadata": {},
   "outputs": [],
   "source": [
    "# Delete any rows in 'cpc_class' unequal to 'Y02'\n",
    "df = df[df['cpc_class'] == 'Y02']"
   ]
  },
  {
   "cell_type": "code",
   "execution_count": 37,
   "metadata": {},
   "outputs": [
    {
     "name": "stdout",
     "output_type": "stream",
     "text": [
      "cpc_group\n",
      "Y02E60/10     56290\n",
      "Y02P70/50     36610\n",
      "Y02T10/12     33506\n",
      "Y02T10/70     27995\n",
      "Y02D10/00     25953\n",
      "              ...  \n",
      "Y02B90/00         1\n",
      "Y02P70/00         1\n",
      "Y02W10/00         1\n",
      "Y02E60/30         1\n",
      "Y02A40/135        1\n",
      "Name: count, Length: 320, dtype: int64\n"
     ]
    }
   ],
   "source": [
    "# Print the value counts of 'cpc_group'\n",
    "print(df['cpc_group'].value_counts())"
   ]
  },
  {
   "cell_type": "code",
   "execution_count": 38,
   "metadata": {},
   "outputs": [],
   "source": [
    "# Extract all characters before the first '/' of the 'cpc_class' column and store the result in new column 'cpc_subclass'\n",
    "df['cpc_subgroup'] = df['cpc_group'].str.split('/').str[0]"
   ]
  },
  {
   "cell_type": "code",
   "execution_count": 39,
   "metadata": {},
   "outputs": [],
   "source": [
    "# Randomly sample 10 patents for each value in 'cpc_subgroup' and store the resulting dataframe in 'df_sample'\n",
    "df_sample = df.groupby('cpc_subgroup').apply(lambda x: x.sample(n=10, random_state=42)).reset_index(drop=True)"
   ]
  },
  {
   "cell_type": "code",
   "execution_count": 40,
   "metadata": {},
   "outputs": [
    {
     "name": "stdout",
     "output_type": "stream",
     "text": [
      "  patent_id  cpc_sequence cpc_section cpc_class cpc_subclass  cpc_group   \n",
      "0   4334499             2           Y       Y02         Y02A  Y02A10/26  \\\n",
      "1   9245082             1           Y       Y02         Y02A  Y02A10/40   \n",
      "2   5259695             5           Y       Y02         Y02A  Y02A10/26   \n",
      "3   9279223             2           Y       Y02         Y02A  Y02A10/00   \n",
      "4  11015330             3           Y       Y02         Y02A  Y02A10/30   \n",
      "\n",
      "     cpc_type  cpc_symbol_position patent_type patent_date   \n",
      "0  additional                  NaN     utility  1982-06-15  \\\n",
      "1  additional                  NaN     utility  2016-01-26   \n",
      "2  additional                  NaN     utility  1993-11-09   \n",
      "3  additional                  NaN     utility  2016-03-08   \n",
      "4  additional                  NaN     utility  2021-05-25   \n",
      "\n",
      "                        patent_title   \n",
      "0       Artificial reef construction  \\\n",
      "1      High-speed shape-based router   \n",
      "2  Artificial reef module and method   \n",
      "3              Sand retention system   \n",
      "4    Toilet with overflow protection   \n",
      "\n",
      "                                     patent_abstract wipo_kind  num_claims   \n",
      "0   An artificial reef construction is provided, ...         A          11  \\\n",
      "1  A high-speed shape-based router is applicable ...        B2          31   \n",
      "2   An essentially equilateral tetrahedron having...         A          12   \n",
      "3  A method of building up and maintaining beach ...        B2          39   \n",
      "4  A toilet includes a base and a basin. The base...        B2          20   \n",
      "\n",
      "   withdrawn                 filename cpc_subgroup  \n",
      "0          0  pftaps19820615_wk24.zip       Y02A10  \n",
      "1          0            ipg160126.xml       Y02A10  \n",
      "2          0  pftaps19931109_wk45.zip       Y02A10  \n",
      "3          0            ipg160308.xml       Y02A10  \n",
      "4          0            ipg210525.xml       Y02A10  \n"
     ]
    }
   ],
   "source": [
    "print(df_sample.head())"
   ]
  },
  {
   "cell_type": "code",
   "execution_count": 41,
   "metadata": {},
   "outputs": [],
   "source": [
    "# Save the merged dataframe as a csv file\n",
    "df_sample.to_csv('/Users/juergenthiesen/Documents/Patentsview/Cleantech Concepts/df_sample_keyphrase.csv', index=False)"
   ]
  }
 ],
 "metadata": {
  "kernelspec": {
   "display_name": "Python 3",
   "language": "python",
   "name": "python3"
  },
  "language_info": {
   "codemirror_mode": {
    "name": "ipython",
    "version": 3
   },
   "file_extension": ".py",
   "mimetype": "text/x-python",
   "name": "python",
   "nbconvert_exporter": "python",
   "pygments_lexer": "ipython3",
   "version": "3.10.10"
  },
  "orig_nbformat": 4
 },
 "nbformat": 4,
 "nbformat_minor": 2
}
