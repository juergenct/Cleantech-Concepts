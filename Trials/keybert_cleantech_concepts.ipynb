{
 "cells": [
  {
   "cell_type": "code",
   "execution_count": 2,
   "metadata": {},
   "outputs": [],
   "source": [
    "import os\n",
    "import pandas as pd\n",
    "from keybert import KeyBERT"
   ]
  },
  {
   "cell_type": "code",
   "execution_count": 3,
   "metadata": {},
   "outputs": [],
   "source": [
    "# Load Data\n",
    "df_patents = pd.read_csv('/Users/juergenthiesen/Documents/Patentsview/Cleantech CSV Files/g_patent_Y02.csv')\n",
    "df_cpc = pd.read_csv('/Users/juergenthiesen/Documents/Patentsview/Cleantech CSV Files/g_cpc_current_Y02.csv')\n",
    "\n",
    "# Drop all classes uneqaul to Y02 from df_cpc\n",
    "df_cpc = df_cpc[df_cpc['cpc_class'].str.contains('Y02')]\n",
    "\n",
    "# Merge data on patent_id, keep duplicates\n",
    "df = pd.merge(df_patents, df_cpc, on='patent_id', how='left')\n",
    "\n",
    "# Drop all data in df with title or abstract NaN\n",
    "df = df.dropna(subset=['patent_title', 'patent_abstract'])\n",
    "\n",
    "# Merge title and abstract with [SEP] token\n",
    "df['patent_title_abstract'] = df['patent_title'] + ' [SEP] ' + df['patent_abstract']\n",
    "\n",
    "# Randomly sample 1000 patents per cpc_subclass\n",
    "df = df.groupby('cpc_subclass').apply(lambda x: x.sample(1000, random_state=42))"
   ]
  },
  {
   "cell_type": "code",
   "execution_count": 4,
   "metadata": {},
   "outputs": [
    {
     "name": "stderr",
     "output_type": "stream",
     "text": [
      "No sentence-transformers model found with name /Users/juergenthiesen/.cache/torch/sentence_transformers/climatebert_distilroberta-base-climate-f. Creating a new one with MEAN pooling.\n",
      "Some weights of the model checkpoint at /Users/juergenthiesen/.cache/torch/sentence_transformers/climatebert_distilroberta-base-climate-f were not used when initializing RobertaModel: ['lm_head.dense.bias', 'lm_head.bias', 'lm_head.layer_norm.bias', 'lm_head.layer_norm.weight', 'lm_head.dense.weight']\n",
      "- This IS expected if you are initializing RobertaModel from the checkpoint of a model trained on another task or with another architecture (e.g. initializing a BertForSequenceClassification model from a BertForPreTraining model).\n",
      "- This IS NOT expected if you are initializing RobertaModel from the checkpoint of a model that you expect to be exactly identical (initializing a BertForSequenceClassification model from a BertForSequenceClassification model).\n",
      "Some weights of RobertaModel were not initialized from the model checkpoint at /Users/juergenthiesen/.cache/torch/sentence_transformers/climatebert_distilroberta-base-climate-f and are newly initialized: ['roberta.pooler.dense.weight', 'roberta.pooler.dense.bias']\n",
      "You should probably TRAIN this model on a down-stream task to be able to use it for predictions and inference.\n"
     ]
    }
   ],
   "source": [
    "# Transform dataframe column 'patent_title_abstract' into a list of strings\n",
    "patent_title_abstract = df['patent_title_abstract'].tolist()\n",
    "\n",
    "# Extract keywords from patent_title_abstract\n",
    "kw_extractor = KeyBERT('climatebert/distilroberta-base-climate-f')"
   ]
  },
  {
   "cell_type": "code",
   "execution_count": 5,
   "metadata": {},
   "outputs": [],
   "source": [
    "keywords = kw_extractor.extract_keywords(patent_title_abstract, keyphrase_ngram_range=(1, 2), stop_words=None)"
   ]
  }
 ],
 "metadata": {
  "kernelspec": {
   "display_name": "Python 3",
   "language": "python",
   "name": "python3"
  },
  "language_info": {
   "codemirror_mode": {
    "name": "ipython",
    "version": 3
   },
   "file_extension": ".py",
   "mimetype": "text/x-python",
   "name": "python",
   "nbconvert_exporter": "python",
   "pygments_lexer": "ipython3",
   "version": "3.10.10"
  },
  "orig_nbformat": 4
 },
 "nbformat": 4,
 "nbformat_minor": 2
}
