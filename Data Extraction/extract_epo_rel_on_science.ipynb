{
 "cells": [
  {
   "cell_type": "code",
   "execution_count": 2,
   "metadata": {},
   "outputs": [],
   "source": [
    "import pandas as pd\n",
    "from tqdm import tqdm\n",
    "tqdm.pandas()"
   ]
  },
  {
   "cell_type": "code",
   "execution_count": 3,
   "metadata": {},
   "outputs": [],
   "source": [
    "df_cleantech_epo = pd.read_csv('/mnt/hdd01/PATSTAT Working Directory/cleantech_ep_granted.csv')\n",
    "df_rel_on_science = pd.read_csv('/mnt/hdd01/Reliance on Science/Raw Files/_pcs_oa.csv')"
   ]
  },
  {
   "cell_type": "code",
   "execution_count": 5,
   "metadata": {},
   "outputs": [],
   "source": [
    "# Pad publn_nr to 7 digits, append 0 in front if necessary\n",
    "df_cleantech_epo['publn_nr'] = df_cleantech_epo['publn_nr'].astype(str).str.zfill(7)"
   ]
  },
  {
   "cell_type": "code",
   "execution_count": 8,
   "metadata": {},
   "outputs": [],
   "source": [
    "# Create new column patent_id in df_rel_on_science, extract number between two hyphens\n",
    "df_rel_on_science['publn_nr'] = df_rel_on_science['patent'].str.extract(r'(\\d+)-')\n",
    "# Drop all rows in df_rel_science where patent does not contain 'ep'\n",
    "df_rel_on_science = df_rel_on_science[df_rel_on_science['patent'].str.contains('ep')]"
   ]
  },
  {
   "cell_type": "code",
   "execution_count": 12,
   "metadata": {},
   "outputs": [],
   "source": [
    "# Pad publn_nr to 7 digits, append 0 in front if necessary\n",
    "df_rel_on_science['publn_nr'] = df_rel_on_science['publn_nr'].astype(str).str.zfill(7)"
   ]
  },
  {
   "cell_type": "code",
   "execution_count": 14,
   "metadata": {},
   "outputs": [],
   "source": [
    "# Merge df_cleantech_epo and df_rel_on_science on publn_nr\n",
    "df_cleantech_epo_rel_on_science = pd.merge(df_cleantech_epo, df_rel_on_science, on='publn_nr', how='inner', validate='many_to_many')\n",
    "# Aggregate df_cleantech_epo_rel_on_science on oaid, list publn_nr, appln_title, cpc_class_symbol\n",
    "df_cleantech_epo_rel_on_science_agg = df_cleantech_epo_rel_on_science.groupby('oaid').agg({'publn_nr': lambda x: list(x), 'appln_title': lambda x: list(x), 'cpc_class_symbol': lambda x: list(x)})"
   ]
  },
  {
   "cell_type": "code",
   "execution_count": 64,
   "metadata": {},
   "outputs": [],
   "source": [
    "# Reset index\n",
    "df_cleantech_epo_rel_on_science_agg.index.name = 'oaid'\n",
    "df_cleantech_epo_rel_on_science_agg.reset_index()\n",
    "\n",
    "# Reorder columns\n",
    "df_cleantech_epo_rel_on_science_agg = df_cleantech_epo_rel_on_science_agg[['oaid', 'publn_nr', 'appln_title', 'cpc_class_symbol']]"
   ]
  },
  {
   "cell_type": "code",
   "execution_count": 66,
   "metadata": {},
   "outputs": [],
   "source": [
    "df_cleantech_epo_rel_on_science_agg.to_json('/mnt/hdd01/PATSTAT Working Directory/Reliance on Science/cleantech_epo_rel_on_science_agg.json', orient='records')"
   ]
  }
 ],
 "metadata": {
  "kernelspec": {
   "display_name": "venv",
   "language": "python",
   "name": "python3"
  },
  "language_info": {
   "codemirror_mode": {
    "name": "ipython",
    "version": 3
   },
   "file_extension": ".py",
   "mimetype": "text/x-python",
   "name": "python",
   "nbconvert_exporter": "python",
   "pygments_lexer": "ipython3",
   "version": "3.11.6"
  }
 },
 "nbformat": 4,
 "nbformat_minor": 2
}
