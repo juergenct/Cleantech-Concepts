{
 "cells": [
  {
   "cell_type": "code",
   "execution_count": 12,
   "metadata": {},
   "outputs": [],
   "source": [
    "import pandas as pd\n",
    "from sqlalchemy import create_engine, URL, text\n",
    "from tqdm import tqdm"
   ]
  },
  {
   "cell_type": "code",
   "execution_count": 13,
   "metadata": {},
   "outputs": [],
   "source": [
    "url_object = URL.create(\n",
    "    drivername='postgresql+psycopg2',\n",
    "    username='tie',\n",
    "    password='TIE%2023!tuhh',\n",
    "    host='134.28.58.100',\n",
    "    port=25432,\n",
    "    database='Patstat',\n",
    ")"
   ]
  },
  {
   "cell_type": "code",
   "execution_count": 14,
   "metadata": {},
   "outputs": [],
   "source": [
    "engine = create_engine(url_object)"
   ]
  },
  {
   "cell_type": "code",
   "execution_count": 30,
   "metadata": {},
   "outputs": [],
   "source": [
    "query_cpc = \"\"\"\n",
    "    CREATE TABLE temp_cpc_patstat AS\n",
    "    SELECT appln_id, cpc_class_symbol\n",
    "    FROM public.tls224_appln_cpc\n",
    "    WHERE cpc_class_symbol LIKE 'Y02%%';\n",
    "\"\"\""
   ]
  },
  {
   "cell_type": "code",
   "execution_count": 31,
   "metadata": {},
   "outputs": [],
   "source": [
    "# Obtain a connection from the engine\n",
    "with engine.connect() as connection:\n",
    "    # Execute the query to create the temporary table\n",
    "    connection.execute(text(query_cpc))\n",
    "\n",
    "    # Fetch data into a pandas DataFrame within the same connection session\n",
    "    df_cpc_patstat = pd.read_sql_query(\"SELECT * FROM temp_cpc_patstat\", connection)"
   ]
  },
  {
   "cell_type": "code",
   "execution_count": 32,
   "metadata": {},
   "outputs": [],
   "source": [
    "# Group by appln_id and aggregate cpc_class_symbol\n",
    "df_cpc_patstat_list = df_cpc_patstat.groupby('appln_id')['cpc_class_symbol'].progress_apply(list).reset_index()"
   ]
  },
  {
   "cell_type": "code",
   "execution_count": 34,
   "metadata": {},
   "outputs": [],
   "source": [
    "# Cast appln_id to string\n",
    "df_cpc_patstat_list['appln_id'] = df_cpc_patstat_list['appln_id'].astype(str)"
   ]
  },
  {
   "cell_type": "code",
   "execution_count": 35,
   "metadata": {},
   "outputs": [],
   "source": [
    "# Delete everything after \".\" in appln_id\n",
    "df_cpc_patstat_list['appln_id'] = df_cpc_patstat_list['appln_id'].str.split('.').str[0]"
   ]
  },
  {
   "cell_type": "code",
   "execution_count": 36,
   "metadata": {},
   "outputs": [
    {
     "data": {
      "text/plain": [
       "543"
      ]
     },
     "execution_count": 36,
     "metadata": {},
     "output_type": "execute_result"
    }
   ],
   "source": [
    "# Insert temporary table into database\n",
    "df_cpc_patstat_list.to_sql('temp_cpc_patstat', engine, if_exists='replace', index=False)"
   ]
  },
  {
   "cell_type": "code",
   "execution_count": 37,
   "metadata": {},
   "outputs": [],
   "source": [
    "query_appln = \"\"\"\n",
    "    SELECT \n",
    "        a.appln_id, \n",
    "        a.appln_auth, \n",
    "        a.granted,\n",
    "        p.publn_nr,\n",
    "        t.appln_title\n",
    "    FROM \n",
    "        tls201_appln AS a\n",
    "    JOIN \n",
    "        temp_cpc_epo AS c \n",
    "    ON \n",
    "        a.appln_id = CAST(c.appln_id AS DOUBLE PRECISION)\n",
    "    LEFT JOIN public.tls211_pat_publn AS p ON a.appln_id = p.appln_id\n",
    "    LEFT JOIN public.tls202_appln_title AS t ON a.appln_id = t.appln_id;\n",
    "\"\"\""
   ]
  },
  {
   "cell_type": "code",
   "execution_count": 38,
   "metadata": {},
   "outputs": [],
   "source": [
    "# Run query for each appln_id in epo_appln_id_list\n",
    "df_appln_cpc_patstat = pd.read_sql(query_appln, engine)"
   ]
  },
  {
   "cell_type": "code",
   "execution_count": 42,
   "metadata": {},
   "outputs": [],
   "source": [
    "# Drop all rows where appln_auth not equal to EP\n",
    "df_appln_cpc_ep = df_appln_cpc_patstat[df_appln_cpc_patstat['appln_auth'] == 'EP']"
   ]
  },
  {
   "cell_type": "code",
   "execution_count": 43,
   "metadata": {},
   "outputs": [],
   "source": [
    "# Drop all rows where granted not equal to Y\n",
    "df_appln_cpc_ep_granted = df_appln_cpc_ep[df_appln_cpc_ep['granted'] == 'Y']"
   ]
  },
  {
   "cell_type": "code",
   "execution_count": 47,
   "metadata": {},
   "outputs": [
    {
     "name": "stderr",
     "output_type": "stream",
     "text": [
      "/tmp/ipykernel_2138098/1801136619.py:2: SettingWithCopyWarning: \n",
      "A value is trying to be set on a copy of a slice from a DataFrame.\n",
      "Try using .loc[row_indexer,col_indexer] = value instead\n",
      "\n",
      "See the caveats in the documentation: https://pandas.pydata.org/pandas-docs/stable/user_guide/indexing.html#returning-a-view-versus-a-copy\n",
      "  df_appln_cpc_ep_granted['appln_id'] = df_appln_cpc_ep_granted['appln_id'].astype(str)\n"
     ]
    }
   ],
   "source": [
    "# Cast column appln_id to string\n",
    "df_appln_cpc_ep_granted['appln_id'] = df_appln_cpc_ep_granted['appln_id'].astype(str)\n",
    "df_appln_cpc_patstat['appln_id'] = df_appln_cpc_patstat['appln_id'].astype(str)"
   ]
  },
  {
   "cell_type": "code",
   "execution_count": 48,
   "metadata": {},
   "outputs": [
    {
     "name": "stderr",
     "output_type": "stream",
     "text": [
      "/tmp/ipykernel_2138098/1341935432.py:2: SettingWithCopyWarning: \n",
      "A value is trying to be set on a copy of a slice from a DataFrame.\n",
      "Try using .loc[row_indexer,col_indexer] = value instead\n",
      "\n",
      "See the caveats in the documentation: https://pandas.pydata.org/pandas-docs/stable/user_guide/indexing.html#returning-a-view-versus-a-copy\n",
      "  df_appln_cpc_ep_granted['appln_id'] = df_appln_cpc_ep_granted['appln_id'].str.split('.').str[0]\n",
      "/tmp/ipykernel_2138098/1341935432.py:6: SettingWithCopyWarning: \n",
      "A value is trying to be set on a copy of a slice from a DataFrame.\n",
      "Try using .loc[row_indexer,col_indexer] = value instead\n",
      "\n",
      "See the caveats in the documentation: https://pandas.pydata.org/pandas-docs/stable/user_guide/indexing.html#returning-a-view-versus-a-copy\n",
      "  df_appln_cpc_ep_granted['appln_id'] = df_appln_cpc_ep_granted['appln_id'].astype(str)\n"
     ]
    }
   ],
   "source": [
    "# Throw away everything after dot in appln_id\n",
    "df_appln_cpc_ep_granted['appln_id'] = df_appln_cpc_ep_granted['appln_id'].str.split('.').str[0]\n",
    "df_appln_cpc_patstat['appln_id'] = df_appln_cpc_patstat['appln_id'].str.split('.').str[0]\n",
    "\n",
    "# Cast appln_id to string\n",
    "df_appln_cpc_ep_granted['appln_id'] = df_appln_cpc_ep_granted['appln_id'].astype(str)\n",
    "df_appln_cpc_patstat['appln_id'] = df_appln_cpc_patstat['appln_id'].astype(str)"
   ]
  },
  {
   "cell_type": "code",
   "execution_count": 49,
   "metadata": {},
   "outputs": [],
   "source": [
    "# Merge df_cpc_ep and df_appln_cpc_ep_granted on appln_id to get cpc_class_symbol for granted patents\n",
    "df_appln_cpc_ep_granted = df_appln_cpc_ep_granted.merge(df_cpc_epo_list, on='appln_id', how='left')\n",
    "df_appln_cpc_patstat = df_appln_cpc_patstat.merge(df_cpc_epo_list, on='appln_id', how='left')"
   ]
  },
  {
   "cell_type": "code",
   "execution_count": 61,
   "metadata": {},
   "outputs": [],
   "source": [
    "# Throw away rows with complicate duplicates\n",
    "df_appln_cpc_ep_granted = df_appln_cpc_ep_granted.drop_duplicates(subset=['appln_id', 'appln_auth', 'granted', 'publn_nr']).reset_index(drop=True)\n",
    "df_appln_cpc_patstat = df_appln_cpc_patstat.drop_duplicates(subset=['appln_id', 'appln_auth', 'granted', 'publn_nr']).reset_index(drop=True)"
   ]
  },
  {
   "cell_type": "code",
   "execution_count": 65,
   "metadata": {},
   "outputs": [],
   "source": [
    "# Save both dataframes to csv\n",
    "df_appln_cpc_ep_granted.to_csv('/mnt/hdd01/PATSTAT Working Directory/cleantech_ep_granted.csv', index=False)\n",
    "df_appln_cpc_patstat.to_csv('/mnt/hdd01/PATSTAT Working Directory/cleantech_patstat_all.csv', index=False)"
   ]
  }
 ],
 "metadata": {
  "kernelspec": {
   "display_name": "venv",
   "language": "python",
   "name": "python3"
  },
  "language_info": {
   "codemirror_mode": {
    "name": "ipython",
    "version": 3
   },
   "file_extension": ".py",
   "mimetype": "text/x-python",
   "name": "python",
   "nbconvert_exporter": "python",
   "pygments_lexer": "ipython3",
   "version": "3.11.6"
  },
  "orig_nbformat": 4
 },
 "nbformat": 4,
 "nbformat_minor": 2
}
