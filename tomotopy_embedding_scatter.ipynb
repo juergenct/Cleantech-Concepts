{
 "cells": [
  {
   "cell_type": "code",
   "execution_count": 9,
   "metadata": {},
   "outputs": [],
   "source": [
    "import os\n",
    "import umap\n",
    "import pandas as pd\n",
    "import numpy as np\n",
    "import tomotopy as tp\n",
    "import plotly.express as px\n",
    "from tqdm import tqdm\n",
    "from flair.embeddings import TransformerWordEmbeddings\n",
    "from flair.data import Sentence"
   ]
  },
  {
   "cell_type": "code",
   "execution_count": 15,
   "metadata": {},
   "outputs": [],
   "source": [
    "# Load model , embed words, UMAP and plot\n",
    "PLDA_model = tp.PLDAModel.load('/Users/juergenthiesen/Documents/Patentsview/Cleantech Concepts/PLDA_PMI_model_cleantech_concepts.bin')"
   ]
  },
  {
   "cell_type": "code",
   "execution_count": 16,
   "metadata": {},
   "outputs": [],
   "source": [
    "# Set up dataframe for word embeddings\n",
    "df_word_embeddings = pd.DataFrame()\n",
    "topics_per_label = PLDA_model.topics_per_label\n",
    "num_label = len(PLDA_model.topic_label_dict)\n",
    "\n",
    "df_word_embeddings['label'] = ''\n",
    "df_word_embeddings['topic_prob'] = ''\n",
    "df_word_embeddings['topic'] = ''\n",
    "df_word_embeddings['prob'] = ''\n",
    "\n",
    "for i in range(0,num_label):\n",
    "    for j in range(0,topics_per_label):\n",
    "        df_word_embeddings.at[i*topics_per_label+j, 'label'] = PLDA_model.topic_label_dict[i]\n",
    "        df_word_embeddings.at[i*topics_per_label+j, 'topic_prob'] = PLDA_model.get_topic_words(i*topics_per_label+j,1)\n",
    "        df_word_embeddings.at[i*topics_per_label+j, 'topic'] = df_word_embeddings.at[i*topics_per_label+j, 'topic_prob'][0][0]\n",
    "        df_word_embeddings.at[i*topics_per_label+j, 'prob'] = df_word_embeddings.at[i*topics_per_label+j, 'topic_prob'][0][1]"
   ]
  },
  {
   "cell_type": "code",
   "execution_count": 17,
   "metadata": {},
   "outputs": [
    {
     "name": "stderr",
     "output_type": "stream",
     "text": [
      "100%|██████████| 80/80 [00:01<00:00, 42.95it/s]\n"
     ]
    }
   ],
   "source": [
    "# Initialize transformer model\n",
    "embedding = TransformerWordEmbeddings('climatebert/distilroberta-base-climate-f')\n",
    "\n",
    "# Generate word embeddings\n",
    "df_word_embeddings['embedding'] = ''\n",
    "\n",
    "for i in tqdm(range(0,len(df_word_embeddings))):\n",
    "    sentence = Sentence(df_word_embeddings.at[i, 'topic'])\n",
    "    embedding.embed(sentence)\n",
    "    for token in sentence:\n",
    "        # print(token.embedding)\n",
    "        df_word_embeddings.at[i, 'embedding'] = token.embedding.numpy()"
   ]
  },
  {
   "cell_type": "code",
   "execution_count": 18,
   "metadata": {},
   "outputs": [],
   "source": [
    "# Reduce dimensionality of word embeddings with UMAP\n",
    "list_embeddings = df_word_embeddings['embedding'].tolist()\n",
    "\n",
    "reducer = umap.UMAP(n_components = 2, random_state = 42)\n",
    "embedding_UMAP = reducer.fit_transform(list_embeddings)\n",
    "\n",
    "df_word_embeddings['embedding_UMAP'] = embedding_UMAP.tolist()"
   ]
  },
  {
   "cell_type": "code",
   "execution_count": 19,
   "metadata": {},
   "outputs": [],
   "source": [
    "fig = px.scatter(\n",
    "    df_word_embeddings,\n",
    "    x=df_word_embeddings['embedding_UMAP'].apply(lambda x: x[0]),\n",
    "    y=df_word_embeddings['embedding_UMAP'].apply(lambda x: x[1]),\n",
    "    color=df_word_embeddings['label'],\n",
    "    color_continuous_scale=\"Plasma\",\n",
    "    hover_name=df_word_embeddings[\"topic\"],\n",
    "    title=f\"UMAP Embeddings of Cleantech marked Y02x Patents\",\n",
    ")\n",
    "fig.write_html(f\"/Users/juergenthiesen/Documents/Patentsview/Cleantech Concepts/Cleantech_Patents_PLDA_PMI.html\")"
   ]
  }
 ],
 "metadata": {
  "kernelspec": {
   "display_name": "Python 3",
   "language": "python",
   "name": "python3"
  },
  "language_info": {
   "codemirror_mode": {
    "name": "ipython",
    "version": 3
   },
   "file_extension": ".py",
   "mimetype": "text/x-python",
   "name": "python",
   "nbconvert_exporter": "python",
   "pygments_lexer": "ipython3",
   "version": "3.10.10"
  },
  "orig_nbformat": 4
 },
 "nbformat": 4,
 "nbformat_minor": 2
}
