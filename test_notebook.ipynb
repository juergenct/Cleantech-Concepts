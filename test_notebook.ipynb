{
 "cells": [
  {
   "cell_type": "code",
   "execution_count": 1,
   "metadata": {},
   "outputs": [],
   "source": [
    "import pandas as pd"
   ]
  },
  {
   "cell_type": "code",
   "execution_count": 2,
   "metadata": {},
   "outputs": [],
   "source": [
    "df = pd.read_json('/mnt/hdd01/patentsview/Reliance on Science - Cleantech Patents/df_oaid_Cleantech_y02_individual_works_lang_detect_title_abstract_yake_noun_chunks.json')"
   ]
  },
  {
   "cell_type": "code",
   "execution_count": 3,
   "metadata": {},
   "outputs": [
    {
     "data": {
      "text/html": [
       "<div>\n",
       "<style scoped>\n",
       "    .dataframe tbody tr th:only-of-type {\n",
       "        vertical-align: middle;\n",
       "    }\n",
       "\n",
       "    .dataframe tbody tr th {\n",
       "        vertical-align: top;\n",
       "    }\n",
       "\n",
       "    .dataframe thead th {\n",
       "        text-align: right;\n",
       "    }\n",
       "</style>\n",
       "<table border=\"1\" class=\"dataframe\">\n",
       "  <thead>\n",
       "    <tr style=\"text-align: right;\">\n",
       "      <th></th>\n",
       "      <th>id</th>\n",
       "      <th>title</th>\n",
       "      <th>abstract</th>\n",
       "      <th>oaid</th>\n",
       "      <th>title_keywords</th>\n",
       "      <th>title_filtered_keywords</th>\n",
       "      <th>abstract_keywords</th>\n",
       "      <th>abstract_filtered_keywords</th>\n",
       "    </tr>\n",
       "  </thead>\n",
       "  <tbody>\n",
       "    <tr>\n",
       "      <th>0</th>\n",
       "      <td>https://openalex.org/W1577603732</td>\n",
       "      <td>Relationship of effective molecular size to sy...</td>\n",
       "      <td>We have examined the effects of a variety of c...</td>\n",
       "      <td>1577603732</td>\n",
       "      <td>effective molecular size; Relationship of effe...</td>\n",
       "      <td>effective molecular size; water-soluble polyme...</td>\n",
       "      <td>variety of chemical; design a molecule; examin...</td>\n",
       "      <td>molecular size; chemical modification; pharmac...</td>\n",
       "    </tr>\n",
       "    <tr>\n",
       "      <th>1</th>\n",
       "      <td>https://openalex.org/W1495215731</td>\n",
       "      <td>Photoautotrophic growth of the cyanobacterium ...</td>\n",
       "      <td>In the cyanobacterium Synechocystis sp. PCC 68...</td>\n",
       "      <td>1495215731</td>\n",
       "      <td>cyanobacterium Synechocystis; Photoautotrophic...</td>\n",
       "      <td>cyanobacterium synechocystis; photoautotrophic...</td>\n",
       "      <td>cytochrome; cyanobacterium Synechocystis; elec...</td>\n",
       "      <td>cytochrome; cyanobacterium synechocystis; elec...</td>\n",
       "    </tr>\n",
       "    <tr>\n",
       "      <th>2</th>\n",
       "      <td>https://openalex.org/W2093403490</td>\n",
       "      <td>Digital PCR hits its stride</td>\n",
       "      <td>As the less familiar cousin of quantitative PC...</td>\n",
       "      <td>2093403490</td>\n",
       "      <td></td>\n",
       "      <td></td>\n",
       "      <td>PCR moves mainstream; quantitative PCR moves; ...</td>\n",
       "      <td>quantitative pcr move; familiar cousin; pcr; r...</td>\n",
       "    </tr>\n",
       "    <tr>\n",
       "      <th>3</th>\n",
       "      <td>https://openalex.org/W2070247891</td>\n",
       "      <td>A General Strategy for Adhesion Enhancement in...</td>\n",
       "      <td>In this work we present a general methodology ...</td>\n",
       "      <td>2070247891</td>\n",
       "      <td>Nanostructured Particle Surfaces; General Stra...</td>\n",
       "      <td>nanostructured particle surface; general strat...</td>\n",
       "      <td>creating nanoscale morphologies; work we prese...</td>\n",
       "      <td>interfacial adhesion; polymeric composite; par...</td>\n",
       "    </tr>\n",
       "    <tr>\n",
       "      <th>4</th>\n",
       "      <td>https://openalex.org/W1501064167</td>\n",
       "      <td>Island operation of the variable speed inducti...</td>\n",
       "      <td>The power generation system with a doubly fed ...</td>\n",
       "      <td>1501064167</td>\n",
       "      <td>speed induction generator; variable speed indu...</td>\n",
       "      <td>speed induction generator; variable speed indu...</td>\n",
       "      <td>doubly fed induction; induction generator oper...</td>\n",
       "      <td>doubly fed induction; stator voltage; power el...</td>\n",
       "    </tr>\n",
       "  </tbody>\n",
       "</table>\n",
       "</div>"
      ],
      "text/plain": [
       "                                 id  \\\n",
       "0  https://openalex.org/W1577603732   \n",
       "1  https://openalex.org/W1495215731   \n",
       "2  https://openalex.org/W2093403490   \n",
       "3  https://openalex.org/W2070247891   \n",
       "4  https://openalex.org/W1501064167   \n",
       "\n",
       "                                               title  \\\n",
       "0  Relationship of effective molecular size to sy...   \n",
       "1  Photoautotrophic growth of the cyanobacterium ...   \n",
       "2                        Digital PCR hits its stride   \n",
       "3  A General Strategy for Adhesion Enhancement in...   \n",
       "4  Island operation of the variable speed inducti...   \n",
       "\n",
       "                                            abstract        oaid  \\\n",
       "0  We have examined the effects of a variety of c...  1577603732   \n",
       "1  In the cyanobacterium Synechocystis sp. PCC 68...  1495215731   \n",
       "2  As the less familiar cousin of quantitative PC...  2093403490   \n",
       "3  In this work we present a general methodology ...  2070247891   \n",
       "4  The power generation system with a doubly fed ...  1501064167   \n",
       "\n",
       "                                      title_keywords  \\\n",
       "0  effective molecular size; Relationship of effe...   \n",
       "1  cyanobacterium Synechocystis; Photoautotrophic...   \n",
       "2                                                      \n",
       "3  Nanostructured Particle Surfaces; General Stra...   \n",
       "4  speed induction generator; variable speed indu...   \n",
       "\n",
       "                             title_filtered_keywords  \\\n",
       "0  effective molecular size; water-soluble polyme...   \n",
       "1  cyanobacterium synechocystis; photoautotrophic...   \n",
       "2                                                      \n",
       "3  nanostructured particle surface; general strat...   \n",
       "4  speed induction generator; variable speed indu...   \n",
       "\n",
       "                                   abstract_keywords  \\\n",
       "0  variety of chemical; design a molecule; examin...   \n",
       "1  cytochrome; cyanobacterium Synechocystis; elec...   \n",
       "2  PCR moves mainstream; quantitative PCR moves; ...   \n",
       "3  creating nanoscale morphologies; work we prese...   \n",
       "4  doubly fed induction; induction generator oper...   \n",
       "\n",
       "                          abstract_filtered_keywords  \n",
       "0  molecular size; chemical modification; pharmac...  \n",
       "1  cytochrome; cyanobacterium synechocystis; elec...  \n",
       "2  quantitative pcr move; familiar cousin; pcr; r...  \n",
       "3  interfacial adhesion; polymeric composite; par...  \n",
       "4  doubly fed induction; stator voltage; power el...  "
      ]
     },
     "execution_count": 3,
     "metadata": {},
     "output_type": "execute_result"
    }
   ],
   "source": [
    "df.head()"
   ]
  },
  {
   "cell_type": "code",
   "execution_count": 4,
   "metadata": {},
   "outputs": [],
   "source": [
    "# Rename abstract_keywords to keywords_yake_abstract, title_keywords to keywords_yake_title, abstract_filtered_keywords to keywords_yake_abstract_noun_chunk and title_filtered_keywords to keywords_yake_title_noun_chunk\n",
    "df.rename(columns={'abstract_keywords': 'keywords_yake_abstract', 'title_keywords': 'keywords_yake_title', 'abstract_filtered_keywords': 'keywords_yake_abstract_noun_chunk', 'title_filtered_keywords': 'keywords_yake_title_noun_chunk'}, inplace=True)"
   ]
  },
  {
   "cell_type": "code",
   "execution_count": null,
   "metadata": {},
   "outputs": [],
   "source": [
    "df.to_json('/mnt/hdd01/patentsview/Reliance on Science - Cleantech Patents/df_oaid_Cleantech_y02_individual_works_lang_detect_title_abstract_yake_noun_chunks.json', orient='records', lines=True)"
   ]
  }
 ],
 "metadata": {
  "kernelspec": {
   "display_name": "venv",
   "language": "python",
   "name": "python3"
  },
  "language_info": {
   "codemirror_mode": {
    "name": "ipython",
    "version": 3
   },
   "file_extension": ".py",
   "mimetype": "text/x-python",
   "name": "python",
   "nbconvert_exporter": "python",
   "pygments_lexer": "ipython3",
   "version": "3.11.7"
  },
  "orig_nbformat": 4
 },
 "nbformat": 4,
 "nbformat_minor": 2
}
