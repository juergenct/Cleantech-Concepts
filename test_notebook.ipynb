{
 "cells": [
  {
   "cell_type": "code",
   "execution_count": 1,
   "metadata": {},
   "outputs": [],
   "source": [
    "import pandas as pd"
   ]
  },
  {
   "cell_type": "code",
   "execution_count": 2,
   "metadata": {},
   "outputs": [],
   "source": [
    "df_1976 = pd.read_csv('/mnt/hdd01/patentsview/Fulltext Data/Description/g_detail_desc_text_1976.tsv.zip', compression='zip', sep='\\t', header=0)"
   ]
  },
  {
   "cell_type": "code",
   "execution_count": 3,
   "metadata": {},
   "outputs": [
    {
     "data": {
      "text/html": [
       "<div>\n",
       "<style scoped>\n",
       "    .dataframe tbody tr th:only-of-type {\n",
       "        vertical-align: middle;\n",
       "    }\n",
       "\n",
       "    .dataframe tbody tr th {\n",
       "        vertical-align: top;\n",
       "    }\n",
       "\n",
       "    .dataframe thead th {\n",
       "        text-align: right;\n",
       "    }\n",
       "</style>\n",
       "<table border=\"1\" class=\"dataframe\">\n",
       "  <thead>\n",
       "    <tr style=\"text-align: right;\">\n",
       "      <th></th>\n",
       "      <th>patent_id</th>\n",
       "      <th>description_text</th>\n",
       "      <th>description_length</th>\n",
       "    </tr>\n",
       "  </thead>\n",
       "  <tbody>\n",
       "    <tr>\n",
       "      <th>0</th>\n",
       "      <td>3948708</td>\n",
       "      <td>Referring now more particularly to the drawing...</td>\n",
       "      <td>2142</td>\n",
       "    </tr>\n",
       "    <tr>\n",
       "      <th>1</th>\n",
       "      <td>3995386</td>\n",
       "      <td>In the embodiment illustrated by FIGS. 1 - 3, ...</td>\n",
       "      <td>1196</td>\n",
       "    </tr>\n",
       "    <tr>\n",
       "      <th>2</th>\n",
       "      <td>3944872</td>\n",
       "      <td>Referring now to FIGS. 1 and 2, a magnetron st...</td>\n",
       "      <td>3239</td>\n",
       "    </tr>\n",
       "    <tr>\n",
       "      <th>3</th>\n",
       "      <td>3974938</td>\n",
       "      <td>The embodiment seen in these Figures is made u...</td>\n",
       "      <td>1331</td>\n",
       "    </tr>\n",
       "    <tr>\n",
       "      <th>4</th>\n",
       "      <td>3931106</td>\n",
       "      <td>The invention is now illustrated by the follow...</td>\n",
       "      <td>3589</td>\n",
       "    </tr>\n",
       "  </tbody>\n",
       "</table>\n",
       "</div>"
      ],
      "text/plain": [
       "  patent_id                                   description_text  \\\n",
       "0   3948708  Referring now more particularly to the drawing...   \n",
       "1   3995386  In the embodiment illustrated by FIGS. 1 - 3, ...   \n",
       "2   3944872  Referring now to FIGS. 1 and 2, a magnetron st...   \n",
       "3   3974938  The embodiment seen in these Figures is made u...   \n",
       "4   3931106  The invention is now illustrated by the follow...   \n",
       "\n",
       "   description_length  \n",
       "0                2142  \n",
       "1                1196  \n",
       "2                3239  \n",
       "3                1331  \n",
       "4                3589  "
      ]
     },
     "execution_count": 3,
     "metadata": {},
     "output_type": "execute_result"
    }
   ],
   "source": [
    "df_1976.head()"
   ]
  },
  {
   "cell_type": "markdown",
   "metadata": {},
   "source": [
    "I want to write data to a postgres database from tsv files, which are stored in one directory on my server. The database is already existing and I want to link the data by appln_id which is not already present in the files. The data has a column named text and a column named patent_id. The patent_id can be linked to the existing table tls211_pat_publn where patent_id can be matched with publn_nr, on the condition that publn_auth = \"US\". The corresponding appln_id can then be found in the row and used to link the new table to the existing database. Also make a new column in the table with publn_auth = \"US\". Provide me the Python code using the library SQLAlchemy."
   ]
  }
 ],
 "metadata": {
  "kernelspec": {
   "display_name": "venv",
   "language": "python",
   "name": "python3"
  },
  "language_info": {
   "codemirror_mode": {
    "name": "ipython",
    "version": 3
   },
   "file_extension": ".py",
   "mimetype": "text/x-python",
   "name": "python",
   "nbconvert_exporter": "python",
   "pygments_lexer": "ipython3",
   "version": "3.11.6"
  },
  "orig_nbformat": 4
 },
 "nbformat": 4,
 "nbformat_minor": 2
}
