{
 "cells": [
  {
   "cell_type": "code",
   "execution_count": 1,
   "metadata": {},
   "outputs": [],
   "source": [
    "import pandas as pd"
   ]
  },
  {
   "cell_type": "code",
   "execution_count": 2,
   "metadata": {},
   "outputs": [],
   "source": [
    "df = pd.read_csv('/mnt/hdd01/patentsview/Non Cleantech Patents - Classifier Set/df_epo_non_cleantech_text_data_abstr_claim.csv')"
   ]
  },
  {
   "cell_type": "code",
   "execution_count": 7,
   "metadata": {},
   "outputs": [],
   "source": [
    "# Delete all rows where appln_lng is not 'en' and where appln_comp is not TITLE or ABSTR\n",
    "df = df[(df['appln_lng'] == 'en') & (df['appln_comp'].isin(['ABSTR', 'TITLE']))]"
   ]
  },
  {
   "cell_type": "code",
   "execution_count": 9,
   "metadata": {},
   "outputs": [],
   "source": [
    "df_title = df[df['appln_comp'] == 'TITLE']\n",
    "df_abstr = df[df['appln_comp'] == 'ABSTR']"
   ]
  },
  {
   "cell_type": "code",
   "execution_count": 10,
   "metadata": {},
   "outputs": [
    {
     "name": "stderr",
     "output_type": "stream",
     "text": [
      "/tmp/ipykernel_1147595/3177503836.py:3: SettingWithCopyWarning: \n",
      "A value is trying to be set on a copy of a slice from a DataFrame.\n",
      "Try using .loc[row_indexer,col_indexer] = value instead\n",
      "\n",
      "See the caveats in the documentation: https://pandas.pydata.org/pandas-docs/stable/user_guide/indexing.html#returning-a-view-versus-a-copy\n",
      "  df_title['kind_order'] = df_title['appln_kind'].map(order)\n",
      "/tmp/ipykernel_1147595/3177503836.py:4: SettingWithCopyWarning: \n",
      "A value is trying to be set on a copy of a slice from a DataFrame.\n",
      "Try using .loc[row_indexer,col_indexer] = value instead\n",
      "\n",
      "See the caveats in the documentation: https://pandas.pydata.org/pandas-docs/stable/user_guide/indexing.html#returning-a-view-versus-a-copy\n",
      "  df_abstr['kind_order'] = df_abstr['appln_kind'].map(order)\n"
     ]
    }
   ],
   "source": [
    "# Create a custom order for appln_kind\n",
    "order = {'B9': 11, 'B8': 10, 'B3': 9, 'B2': 8, 'B1': 7, 'A9': 6, 'A8': 5, 'A4': 4, 'A3': 3, 'A2': 2, 'A1': 1}\n",
    "df_title['kind_order'] = df_title['appln_kind'].map(order)\n",
    "df_abstr['kind_order'] = df_abstr['appln_kind'].map(order)\n",
    "\n",
    "# Sort and group\n",
    "df_title_sorted = df_title.sort_values(by=['appln_comp', 'publn_nr', 'kind_order'], ascending=[True, True, False])\n",
    "df_title_sorted = df_title_sorted.groupby(['appln_comp', 'publn_nr']).first().reset_index()\n",
    "\n",
    "df_abstr_sorted = df_abstr.sort_values(by=['appln_comp', 'publn_nr', 'kind_order'], ascending=[True, True, False])\n",
    "df_abstr_sorted = df_abstr_sorted.groupby(['appln_comp', 'publn_nr']).first().reset_index()\n",
    "\n",
    "# Drop the kind_order column\n",
    "df_title_sorted = df_title_sorted.drop(columns=['kind_order'])\n",
    "df_abstr_sorted = df_abstr_sorted.drop(columns=['kind_order'])"
   ]
  },
  {
   "cell_type": "code",
   "execution_count": 14,
   "metadata": {},
   "outputs": [],
   "source": [
    "# Pivot dataframes on publn_nr\n",
    "df_title_pivot = df_title_sorted.pivot(index='publn_nr', columns='appln_comp', values='appln_text')\n",
    "df_abstr_pivot = df_abstr_sorted.pivot(index='publn_nr', columns='appln_comp', values='appln_text')"
   ]
  },
  {
   "cell_type": "code",
   "execution_count": 16,
   "metadata": {},
   "outputs": [],
   "source": [
    "# Merge the two dataframes and reset index\n",
    "df_merged = pd.merge(df_title_pivot, df_abstr_pivot, on='publn_nr')\n",
    "df_merged = df_merged.reset_index()"
   ]
  },
  {
   "cell_type": "code",
   "execution_count": 17,
   "metadata": {},
   "outputs": [
    {
     "data": {
      "text/html": [
       "<div>\n",
       "<style scoped>\n",
       "    .dataframe tbody tr th:only-of-type {\n",
       "        vertical-align: middle;\n",
       "    }\n",
       "\n",
       "    .dataframe tbody tr th {\n",
       "        vertical-align: top;\n",
       "    }\n",
       "\n",
       "    .dataframe thead th {\n",
       "        text-align: right;\n",
       "    }\n",
       "</style>\n",
       "<table border=\"1\" class=\"dataframe\">\n",
       "  <thead>\n",
       "    <tr style=\"text-align: right;\">\n",
       "      <th>appln_comp</th>\n",
       "      <th>publn_nr</th>\n",
       "      <th>TITLE</th>\n",
       "      <th>ABSTR</th>\n",
       "    </tr>\n",
       "  </thead>\n",
       "  <tbody>\n",
       "    <tr>\n",
       "      <th>0</th>\n",
       "      <td>197</td>\n",
       "      <td>Rechargeable non-aqueous cell with a chalcogen...</td>\n",
       "      <td>&lt;p id=\"pa01\" num=\"0001\"&gt;A non-aqueous secondar...</td>\n",
       "    </tr>\n",
       "    <tr>\n",
       "      <th>1</th>\n",
       "      <td>231</td>\n",
       "      <td>A distribution device for a fluid such as water</td>\n",
       "      <td>&lt;p id=\"pa01\" num=\"0001\"&gt;A distribution device ...</td>\n",
       "    </tr>\n",
       "    <tr>\n",
       "      <th>2</th>\n",
       "      <td>237</td>\n",
       "      <td>Apparatus for the infusion of a labour-inducin...</td>\n",
       "      <td>&lt;p id=\"pa01\" num=\"0001\"&gt;In apparatus for the a...</td>\n",
       "    </tr>\n",
       "    <tr>\n",
       "      <th>3</th>\n",
       "      <td>407</td>\n",
       "      <td>Process for applying a radiation curable coati...</td>\n",
       "      <td>&lt;p id=\"pa01\" num=\"0001\"&gt;A method is provided f...</td>\n",
       "    </tr>\n",
       "    <tr>\n",
       "      <th>4</th>\n",
       "      <td>417</td>\n",
       "      <td>Suction dredger and method of loading the same</td>\n",
       "      <td>&lt;p id=\"pa01\" num=\"0001\"&gt;In a method of loading...</td>\n",
       "    </tr>\n",
       "  </tbody>\n",
       "</table>\n",
       "</div>"
      ],
      "text/plain": [
       "appln_comp  publn_nr                                              TITLE  \\\n",
       "0                197  Rechargeable non-aqueous cell with a chalcogen...   \n",
       "1                231    A distribution device for a fluid such as water   \n",
       "2                237  Apparatus for the infusion of a labour-inducin...   \n",
       "3                407  Process for applying a radiation curable coati...   \n",
       "4                417     Suction dredger and method of loading the same   \n",
       "\n",
       "appln_comp                                              ABSTR  \n",
       "0           <p id=\"pa01\" num=\"0001\">A non-aqueous secondar...  \n",
       "1           <p id=\"pa01\" num=\"0001\">A distribution device ...  \n",
       "2           <p id=\"pa01\" num=\"0001\">In apparatus for the a...  \n",
       "3           <p id=\"pa01\" num=\"0001\">A method is provided f...  \n",
       "4           <p id=\"pa01\" num=\"0001\">In a method of loading...  "
      ]
     },
     "execution_count": 17,
     "metadata": {},
     "output_type": "execute_result"
    }
   ],
   "source": [
    "df_merged.head()"
   ]
  },
  {
   "cell_type": "code",
   "execution_count": 18,
   "metadata": {},
   "outputs": [],
   "source": [
    "from bs4 import BeautifulSoup\n",
    "import re\n",
    "\n",
    "def clean_abstr_text_html(abstr_text):\n",
    "    # If the input is a list, join it into a string\n",
    "    if isinstance(abstr_text, list):\n",
    "        abstr_text = ' '.join(abstr_text)\n",
    "    elif abstr_text is None:\n",
    "        return None\n",
    "\n",
    "    # Remove all instances of <!--(.*?)-->\n",
    "    abstr_text = re.sub(r'<!--.*?-->', ' ', abstr_text)\n",
    "\n",
    "    try:\n",
    "        # Parse the claim_text as HTML\n",
    "        soup = BeautifulSoup(abstr_text, 'html.parser')\n",
    "        \n",
    "        # Extract all text from <p> tags\n",
    "        cleaned_texts = [elem.text for elem in soup.find_all('p') if elem.text]\n",
    "\n",
    "        # Remove claim numbers if they exist\n",
    "        cleaned_texts = [re.sub(r'^\\d+\\.\\s*', '', text) for text in cleaned_texts]\n",
    "\n",
    "        # Join the cleaned texts\n",
    "        cleaned_text = ' '.join(cleaned_texts)\n",
    "\n",
    "    except Exception as e:\n",
    "        return abstr_text  # Return the original text if parsing fails\n",
    "    \n",
    "    return cleaned_text.strip()\n",
    "\n",
    "# Clean abstr text\n",
    "df_merged['ABSTR'] = df_merged['ABSTR'].apply(clean_abstr_text_html)"
   ]
  },
  {
   "cell_type": "code",
   "execution_count": 20,
   "metadata": {},
   "outputs": [],
   "source": [
    "df_merged.to_csv('/mnt/hdd01/patentsview/Non Cleantech Patents - Classifier Set/df_epo_non_cleantech_text_data_abstr_cleaned.csv', index=False)"
   ]
  }
 ],
 "metadata": {
  "kernelspec": {
   "display_name": "venv",
   "language": "python",
   "name": "python3"
  },
  "language_info": {
   "codemirror_mode": {
    "name": "ipython",
    "version": 3
   },
   "file_extension": ".py",
   "mimetype": "text/x-python",
   "name": "python",
   "nbconvert_exporter": "python",
   "pygments_lexer": "ipython3",
   "version": "3.11.7"
  },
  "orig_nbformat": 4
 },
 "nbformat": 4,
 "nbformat_minor": 2
}
