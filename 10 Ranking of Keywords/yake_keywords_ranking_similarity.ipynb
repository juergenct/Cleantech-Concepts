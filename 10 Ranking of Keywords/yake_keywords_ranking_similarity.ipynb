{
 "cells": [
  {
   "cell_type": "code",
   "execution_count": 1,
   "metadata": {},
   "outputs": [],
   "source": [
    "import pandas as pd\n",
    "from sklearn.metrics.pairwise import cosine_similarity"
   ]
  },
  {
   "cell_type": "code",
   "execution_count": 2,
   "metadata": {},
   "outputs": [],
   "source": [
    "df_cleantech_dictionary = pd.read_json('/mnt/hdd01/patentsview/Similarity Search - CPC Classification and Claims/cleantech_keywords_similarity_015_co_occurrence_01.json')\n",
    "df_cleantech_core = pd.read_json('/mnt/hdd01/patentsview/Similarity Search - CPC Classification and Claims/cpc_yake_keywords_list_noun_chunks_embeddings.json')"
   ]
  },
  {
   "cell_type": "code",
   "execution_count": 3,
   "metadata": {},
   "outputs": [
    {
     "data": {
      "text/plain": [
       "Index(['keyword_yake_lemma', 'cleantech',\n",
       "       'keyword_yake_lemma_bertforpatents_embedding'],\n",
       "      dtype='object')"
      ]
     },
     "execution_count": 3,
     "metadata": {},
     "output_type": "execute_result"
    }
   ],
   "source": [
    "df_cleantech_dictionary.columns"
   ]
  },
  {
   "cell_type": "code",
   "execution_count": 8,
   "metadata": {},
   "outputs": [],
   "source": [
    "similarity_matrix = cosine_similarity(df_cleantech_dictionary['keyword_yake_lemma_bertforpatents_embedding'].tolist(), df_cleantech_core['keyword_yake_bertforpatents_embedding'].tolist())"
   ]
  },
  {
   "cell_type": "code",
   "execution_count": 11,
   "metadata": {},
   "outputs": [],
   "source": [
    "# Append most similar keywords + score to df_cleantech_dictionary corresponding to entry in similarity_matrix\n",
    "df_cleantech_dictionary['keyword_yake_bertforpatents_embedding_most_similar'] = similarity_matrix.argmax(axis=1)\n",
    "# Search for the most similar keyword in df_cleantech_core and append it to df_cleantech_dictionary\n",
    "df_cleantech_dictionary['keyword_yake_bertforpatents_embedding_most_similar'] = df_cleantech_dictionary['keyword_yake_bertforpatents_embedding_most_similar'].apply(lambda x: df_cleantech_core['keyword_yake_lemma'][x])\n",
    "\n",
    "# Append similarity score to df_cleantech_dictionary corresponding to entry in similarity_matrix\n",
    "df_cleantech_dictionary['keyword_yake_bertforpatents_embedding_similarity_score'] = similarity_matrix.max(axis=1)"
   ]
  },
  {
   "cell_type": "code",
   "execution_count": 15,
   "metadata": {},
   "outputs": [],
   "source": [
    "df_cleantech_dictionary.to_json('/mnt/hdd01/patentsview/Similarity Search - CPC Classification and Claims/cleantech_keywords_similarity_015_co_occurrence_01_most_similar.json')"
   ]
  }
 ],
 "metadata": {
  "kernelspec": {
   "display_name": "venv",
   "language": "python",
   "name": "python3"
  },
  "language_info": {
   "codemirror_mode": {
    "name": "ipython",
    "version": 3
   },
   "file_extension": ".py",
   "mimetype": "text/x-python",
   "name": "python",
   "nbconvert_exporter": "python",
   "pygments_lexer": "ipython3",
   "version": "3.11.6"
  }
 },
 "nbformat": 4,
 "nbformat_minor": 2
}
