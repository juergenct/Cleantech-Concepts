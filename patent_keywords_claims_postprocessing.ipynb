{
 "cells": [
  {
   "cell_type": "code",
   "execution_count": 1,
   "metadata": {},
   "outputs": [],
   "source": [
    "import pandas as pd\n",
    "from tqdm import tqdm\n",
    "tqdm.pandas()"
   ]
  },
  {
   "cell_type": "code",
   "execution_count": 2,
   "metadata": {},
   "outputs": [],
   "source": [
    "df_claims_keywords = pd.read_json('/mnt/hdd01/patentsview/Patentsview - Cleantech Patents/Cleantech Concepts/Yake/g_patent_claims_cleantech_yake.json')"
   ]
  },
  {
   "cell_type": "code",
   "execution_count": 7,
   "metadata": {},
   "outputs": [
    {
     "data": {
      "text/html": [
       "<div>\n",
       "<style scoped>\n",
       "    .dataframe tbody tr th:only-of-type {\n",
       "        vertical-align: middle;\n",
       "    }\n",
       "\n",
       "    .dataframe tbody tr th {\n",
       "        vertical-align: top;\n",
       "    }\n",
       "\n",
       "    .dataframe thead th {\n",
       "        text-align: right;\n",
       "    }\n",
       "</style>\n",
       "<table border=\"1\" class=\"dataframe\">\n",
       "  <thead>\n",
       "    <tr style=\"text-align: right;\">\n",
       "      <th></th>\n",
       "      <th>patent_id</th>\n",
       "      <th>claim_fulltext</th>\n",
       "      <th>keywords_yake</th>\n",
       "    </tr>\n",
       "  </thead>\n",
       "  <tbody>\n",
       "    <tr>\n",
       "      <th>0</th>\n",
       "      <td>10000011</td>\n",
       "      <td>A method of reducing distortion in an additiv...</td>\n",
       "      <td>[[shrinking supports, 0.0013617439], [part, 0....</td>\n",
       "    </tr>\n",
       "    <tr>\n",
       "      <th>1</th>\n",
       "      <td>10000017</td>\n",
       "      <td>A method for securing an attachment ( 3 , 33 ...</td>\n",
       "      <td>[[[adhesion surface, 0.0019894983000000002], [...</td>\n",
       "    </tr>\n",
       "    <tr>\n",
       "      <th>2</th>\n",
       "      <td>10000021</td>\n",
       "      <td>A method for manufacturing a three-dimensiona...</td>\n",
       "      <td>[[[cavity metal mold, 0.0006303933], [predeter...</td>\n",
       "    </tr>\n",
       "    <tr>\n",
       "      <th>3</th>\n",
       "      <td>10000025</td>\n",
       "      <td>A method of laying up plies in an aircraft wi...</td>\n",
       "      <td>[[[aircraft wing skin, 0.0008585078000000001],...</td>\n",
       "    </tr>\n",
       "    <tr>\n",
       "      <th>4</th>\n",
       "      <td>10000033</td>\n",
       "      <td>A method of making a storage bag, comprising:...</td>\n",
       "      <td>[[[closure element, 0.002612919], [sidewall, 0...</td>\n",
       "    </tr>\n",
       "  </tbody>\n",
       "</table>\n",
       "</div>"
      ],
      "text/plain": [
       "   patent_id                                     claim_fulltext  \\\n",
       "0   10000011   A method of reducing distortion in an additiv...   \n",
       "1   10000017   A method for securing an attachment ( 3 , 33 ...   \n",
       "2   10000021   A method for manufacturing a three-dimensiona...   \n",
       "3   10000025   A method of laying up plies in an aircraft wi...   \n",
       "4   10000033   A method of making a storage bag, comprising:...   \n",
       "\n",
       "                                       keywords_yake  \n",
       "0  [[shrinking supports, 0.0013617439], [part, 0....  \n",
       "1  [[[adhesion surface, 0.0019894983000000002], [...  \n",
       "2  [[[cavity metal mold, 0.0006303933], [predeter...  \n",
       "3  [[[aircraft wing skin, 0.0008585078000000001],...  \n",
       "4  [[[closure element, 0.002612919], [sidewall, 0...  "
      ]
     },
     "execution_count": 7,
     "metadata": {},
     "output_type": "execute_result"
    }
   ],
   "source": [
    "df_claims_keywords.head()"
   ]
  },
  {
   "cell_type": "code",
   "execution_count": 4,
   "metadata": {},
   "outputs": [],
   "source": [
    "df_patent = pd.read_json('/mnt/hdd01/patentsview/Patentsview - Cleantech Patents/df_patentsview_patent_cpc_grouped_cleantech.json')"
   ]
  },
  {
   "cell_type": "code",
   "execution_count": 5,
   "metadata": {},
   "outputs": [
    {
     "data": {
      "text/html": [
       "<div>\n",
       "<style scoped>\n",
       "    .dataframe tbody tr th:only-of-type {\n",
       "        vertical-align: middle;\n",
       "    }\n",
       "\n",
       "    .dataframe tbody tr th {\n",
       "        vertical-align: top;\n",
       "    }\n",
       "\n",
       "    .dataframe thead th {\n",
       "        text-align: right;\n",
       "    }\n",
       "</style>\n",
       "<table border=\"1\" class=\"dataframe\">\n",
       "  <thead>\n",
       "    <tr style=\"text-align: right;\">\n",
       "      <th></th>\n",
       "      <th>patent_id</th>\n",
       "      <th>patent_type</th>\n",
       "      <th>patent_date</th>\n",
       "      <th>patent_title</th>\n",
       "      <th>patent_abstract</th>\n",
       "      <th>wipo_kind</th>\n",
       "      <th>num_claims</th>\n",
       "      <th>withdrawn</th>\n",
       "      <th>filename</th>\n",
       "      <th>cpc</th>\n",
       "    </tr>\n",
       "  </thead>\n",
       "  <tbody>\n",
       "    <tr>\n",
       "      <th>0</th>\n",
       "      <td>10000011</td>\n",
       "      <td>utility</td>\n",
       "      <td>2018-06-19</td>\n",
       "      <td>Supports for sintering additively manufactured...</td>\n",
       "      <td>To reduce distortion in an additively manufact...</td>\n",
       "      <td>B1</td>\n",
       "      <td>30</td>\n",
       "      <td>0</td>\n",
       "      <td>ipg180619.xml</td>\n",
       "      <td>{'1': {'cpc_sequence': 19, 'cpc_section': 'Y',...</td>\n",
       "    </tr>\n",
       "    <tr>\n",
       "      <th>1</th>\n",
       "      <td>10000017</td>\n",
       "      <td>utility</td>\n",
       "      <td>2018-06-19</td>\n",
       "      <td>Method for mounting a vortex generator and mou...</td>\n",
       "      <td>The invention relates to a method for securing...</td>\n",
       "      <td>B2</td>\n",
       "      <td>21</td>\n",
       "      <td>0</td>\n",
       "      <td>ipg180619.xml</td>\n",
       "      <td>{'1': {'cpc_sequence': 20, 'cpc_section': 'Y',...</td>\n",
       "    </tr>\n",
       "    <tr>\n",
       "      <th>2</th>\n",
       "      <td>10000021</td>\n",
       "      <td>utility</td>\n",
       "      <td>2018-06-19</td>\n",
       "      <td>Method for manufacturing three-dimensional sha...</td>\n",
       "      <td>There is provided a method for manufacturing a...</td>\n",
       "      <td>B2</td>\n",
       "      <td>4</td>\n",
       "      <td>0</td>\n",
       "      <td>ipg180619.xml</td>\n",
       "      <td>{'1': {'cpc_sequence': 11, 'cpc_section': 'Y',...</td>\n",
       "    </tr>\n",
       "    <tr>\n",
       "      <th>3</th>\n",
       "      <td>10000025</td>\n",
       "      <td>utility</td>\n",
       "      <td>2018-06-19</td>\n",
       "      <td>Optimized cross-ply orientation in composite l...</td>\n",
       "      <td>A composite laminate has a primary axis of loa...</td>\n",
       "      <td>B2</td>\n",
       "      <td>9</td>\n",
       "      <td>0</td>\n",
       "      <td>ipg180619.xml</td>\n",
       "      <td>{'1': {'cpc_sequence': 10, 'cpc_section': 'Y',...</td>\n",
       "    </tr>\n",
       "    <tr>\n",
       "      <th>4</th>\n",
       "      <td>10000033</td>\n",
       "      <td>utility</td>\n",
       "      <td>2018-06-19</td>\n",
       "      <td>Washable, waterproof, sealable and reusable st...</td>\n",
       "      <td>Disclosed are embodiments of a versatile stora...</td>\n",
       "      <td>B2</td>\n",
       "      <td>20</td>\n",
       "      <td>0</td>\n",
       "      <td>ipg180619.xml</td>\n",
       "      <td>{'1': {'cpc_sequence': 37, 'cpc_section': 'Y',...</td>\n",
       "    </tr>\n",
       "  </tbody>\n",
       "</table>\n",
       "</div>"
      ],
      "text/plain": [
       "   patent_id patent_type patent_date  \\\n",
       "0   10000011     utility  2018-06-19   \n",
       "1   10000017     utility  2018-06-19   \n",
       "2   10000021     utility  2018-06-19   \n",
       "3   10000025     utility  2018-06-19   \n",
       "4   10000033     utility  2018-06-19   \n",
       "\n",
       "                                        patent_title  \\\n",
       "0  Supports for sintering additively manufactured...   \n",
       "1  Method for mounting a vortex generator and mou...   \n",
       "2  Method for manufacturing three-dimensional sha...   \n",
       "3  Optimized cross-ply orientation in composite l...   \n",
       "4  Washable, waterproof, sealable and reusable st...   \n",
       "\n",
       "                                     patent_abstract wipo_kind  num_claims  \\\n",
       "0  To reduce distortion in an additively manufact...        B1          30   \n",
       "1  The invention relates to a method for securing...        B2          21   \n",
       "2  There is provided a method for manufacturing a...        B2           4   \n",
       "3  A composite laminate has a primary axis of loa...        B2           9   \n",
       "4  Disclosed are embodiments of a versatile stora...        B2          20   \n",
       "\n",
       "   withdrawn       filename                                                cpc  \n",
       "0          0  ipg180619.xml  {'1': {'cpc_sequence': 19, 'cpc_section': 'Y',...  \n",
       "1          0  ipg180619.xml  {'1': {'cpc_sequence': 20, 'cpc_section': 'Y',...  \n",
       "2          0  ipg180619.xml  {'1': {'cpc_sequence': 11, 'cpc_section': 'Y',...  \n",
       "3          0  ipg180619.xml  {'1': {'cpc_sequence': 10, 'cpc_section': 'Y',...  \n",
       "4          0  ipg180619.xml  {'1': {'cpc_sequence': 37, 'cpc_section': 'Y',...  "
      ]
     },
     "execution_count": 5,
     "metadata": {},
     "output_type": "execute_result"
    }
   ],
   "source": [
    "df_patent.head()"
   ]
  },
  {
   "cell_type": "code",
   "execution_count": 8,
   "metadata": {},
   "outputs": [],
   "source": [
    "# Merge df_claims_keywords and df_patent, keep columns patent_date, patent_title, cpc from df_patent and all columns from df_claims_keywords\n",
    "df_patent_claims_keywords = pd.merge(df_claims_keywords, df_patent[['patent_id', 'patent_date', 'patent_title', 'cpc']], on='patent_id', how='left')"
   ]
  },
  {
   "cell_type": "code",
   "execution_count": 12,
   "metadata": {},
   "outputs": [
    {
     "data": {
      "text/plain": [
       "{'1': {'cpc_sequence': 24,\n",
       "  'cpc_section': 'Y',\n",
       "  'cpc_class': 'Y02',\n",
       "  'cpc_subclass': 'Y02T',\n",
       "  'cpc_group': 'Y02T10/64',\n",
       "  'cpc_type': 'additional',\n",
       "  'cpc_symbol_position': None,\n",
       "  'cpc_subgroup': 'Y02T10'},\n",
       " '2': {'cpc_sequence': 25,\n",
       "  'cpc_section': 'Y',\n",
       "  'cpc_class': 'Y02',\n",
       "  'cpc_subclass': 'Y02T',\n",
       "  'cpc_group': 'Y02T10/72',\n",
       "  'cpc_type': 'additional',\n",
       "  'cpc_symbol_position': None,\n",
       "  'cpc_subgroup': 'Y02T10'}}"
      ]
     },
     "execution_count": 12,
     "metadata": {},
     "output_type": "execute_result"
    }
   ],
   "source": [
    "df_patent_claims_keywords['cpc'][10]"
   ]
  },
  {
   "cell_type": "code",
   "execution_count": 24,
   "metadata": {},
   "outputs": [
    {
     "name": "stderr",
     "output_type": "stream",
     "text": [
      "100%|██████████| 515742/515742 [00:39<00:00, 13052.07it/s]\n"
     ]
    }
   ],
   "source": [
    "# Extract CPC subclasses and subgroups of patents\n",
    "def extract_subclass_and_subgroup(cpc_dict):\n",
    "    subclasses = []\n",
    "    subgroups = []\n",
    "    for key, value in cpc_dict.items():\n",
    "        subclasses.append(value.get('cpc_subclass', None))\n",
    "        subgroups.append(value.get('cpc_group', None))\n",
    "    # Only keep unique values\n",
    "    subclasses = list(set(subclasses))\n",
    "    subgroups = list(set(subgroups))\n",
    "    return pd.Series([subclasses, subgroups])\n",
    "\n",
    "# Apply the function to the 'cpc' column\n",
    "df_patent_claims_keywords[['cpc_subclass_list', 'cpc_group_list']] = df_patent_claims_keywords['cpc'].progress_apply(extract_subclass_and_subgroup)"
   ]
  },
  {
   "cell_type": "code",
   "execution_count": 27,
   "metadata": {},
   "outputs": [],
   "source": [
    "df_patent_claims_keywords.to_json('/mnt/hdd01/patentsview/Patentsview - Cleantech Patents/Cleantech Concepts/Yake/g_patent_claims_cleantech_yake_cpc.json')"
   ]
  }
 ],
 "metadata": {
  "kernelspec": {
   "display_name": "venv",
   "language": "python",
   "name": "python3"
  },
  "language_info": {
   "codemirror_mode": {
    "name": "ipython",
    "version": 3
   },
   "file_extension": ".py",
   "mimetype": "text/x-python",
   "name": "python",
   "nbconvert_exporter": "python",
   "pygments_lexer": "ipython3",
   "version": "3.11.5"
  },
  "orig_nbformat": 4
 },
 "nbformat": 4,
 "nbformat_minor": 2
}
