{
 "cells": [
  {
   "cell_type": "code",
   "execution_count": 1,
   "metadata": {},
   "outputs": [],
   "source": [
    "import pandas as pd\n",
    "from tqdm import tqdm\n",
    "tqdm.pandas()"
   ]
  },
  {
   "cell_type": "code",
   "execution_count": 2,
   "metadata": {},
   "outputs": [],
   "source": [
    "df_claims_yake = pd.read_json('/mnt/hdd01/patentsview/Similarity Search - CPC Classification and Claims/epo_yake_keywords_list_noun_chunks.json')"
   ]
  },
  {
   "cell_type": "code",
   "execution_count": 5,
   "metadata": {},
   "outputs": [
    {
     "data": {
      "text/html": [
       "<div>\n",
       "<style scoped>\n",
       "    .dataframe tbody tr th:only-of-type {\n",
       "        vertical-align: middle;\n",
       "    }\n",
       "\n",
       "    .dataframe tbody tr th {\n",
       "        vertical-align: top;\n",
       "    }\n",
       "\n",
       "    .dataframe thead th {\n",
       "        text-align: right;\n",
       "    }\n",
       "</style>\n",
       "<table border=\"1\" class=\"dataframe\">\n",
       "  <thead>\n",
       "    <tr style=\"text-align: right;\">\n",
       "      <th></th>\n",
       "      <th>keyword_yake_lemma</th>\n",
       "      <th>yake_conf_score</th>\n",
       "      <th>publn_nr</th>\n",
       "      <th>cpc_class_symbol</th>\n",
       "      <th>abs_frequency</th>\n",
       "    </tr>\n",
       "  </thead>\n",
       "  <tbody>\n",
       "    <tr>\n",
       "      <th>0</th>\n",
       "      <td>aa</td>\n",
       "      <td>0.029469</td>\n",
       "      <td>[108572, 3619090]</td>\n",
       "      <td>[Y02P  70/50, Y02T  10/64, Y02T  10/72]</td>\n",
       "      <td>2</td>\n",
       "    </tr>\n",
       "    <tr>\n",
       "      <th>1</th>\n",
       "      <td>aaa</td>\n",
       "      <td>0.087259</td>\n",
       "      <td>[719358, 1042828, 1142043, 2982004, 3041468, 3...</td>\n",
       "      <td>[Y02W  30/64, Y02E  60/10, Y02P  70/50, Y02E  ...</td>\n",
       "      <td>7</td>\n",
       "    </tr>\n",
       "    <tr>\n",
       "      <th>2</th>\n",
       "      <td>aaa battery</td>\n",
       "      <td>0.000393</td>\n",
       "      <td>[1230699]</td>\n",
       "      <td>[Y02E  60/10]</td>\n",
       "      <td>1</td>\n",
       "    </tr>\n",
       "    <tr>\n",
       "      <th>3</th>\n",
       "      <td>aaa cylindrical size</td>\n",
       "      <td>0.002566</td>\n",
       "      <td>[3188284]</td>\n",
       "      <td>[Y02E  60/10]</td>\n",
       "      <td>1</td>\n",
       "    </tr>\n",
       "    <tr>\n",
       "      <th>4</th>\n",
       "      <td>aaa server</td>\n",
       "      <td>0.007459</td>\n",
       "      <td>[2955940]</td>\n",
       "      <td>[Y02D  30/70]</td>\n",
       "      <td>1</td>\n",
       "    </tr>\n",
       "  </tbody>\n",
       "</table>\n",
       "</div>"
      ],
      "text/plain": [
       "     keyword_yake_lemma  yake_conf_score  \\\n",
       "0                    aa         0.029469   \n",
       "1                   aaa         0.087259   \n",
       "2           aaa battery         0.000393   \n",
       "3  aaa cylindrical size         0.002566   \n",
       "4            aaa server         0.007459   \n",
       "\n",
       "                                            publn_nr  \\\n",
       "0                                  [108572, 3619090]   \n",
       "1  [719358, 1042828, 1142043, 2982004, 3041468, 3...   \n",
       "2                                          [1230699]   \n",
       "3                                          [3188284]   \n",
       "4                                          [2955940]   \n",
       "\n",
       "                                    cpc_class_symbol  abs_frequency  \n",
       "0            [Y02P  70/50, Y02T  10/64, Y02T  10/72]              2  \n",
       "1  [Y02W  30/64, Y02E  60/10, Y02P  70/50, Y02E  ...              7  \n",
       "2                                      [Y02E  60/10]              1  \n",
       "3                                      [Y02E  60/10]              1  \n",
       "4                                      [Y02D  30/70]              1  "
      ]
     },
     "execution_count": 5,
     "metadata": {},
     "output_type": "execute_result"
    }
   ],
   "source": [
    "df_claims_yake.head()"
   ]
  },
  {
   "cell_type": "code",
   "execution_count": 8,
   "metadata": {},
   "outputs": [
    {
     "data": {
      "text/plain": [
       "int"
      ]
     },
     "execution_count": 8,
     "metadata": {},
     "output_type": "execute_result"
    }
   ],
   "source": [
    "type(df_claims_yake['publn_nr'][0][0])"
   ]
  }
 ],
 "metadata": {
  "kernelspec": {
   "display_name": "venv",
   "language": "python",
   "name": "python3"
  },
  "language_info": {
   "codemirror_mode": {
    "name": "ipython",
    "version": 3
   },
   "file_extension": ".py",
   "mimetype": "text/x-python",
   "name": "python",
   "nbconvert_exporter": "python",
   "pygments_lexer": "ipython3",
   "version": "3.11.6"
  },
  "orig_nbformat": 4
 },
 "nbformat": 4,
 "nbformat_minor": 2
}
