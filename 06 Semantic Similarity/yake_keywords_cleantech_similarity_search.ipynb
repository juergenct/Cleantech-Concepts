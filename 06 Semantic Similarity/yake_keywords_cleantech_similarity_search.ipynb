{
 "cells": [
  {
   "cell_type": "code",
   "execution_count": 1,
   "metadata": {},
   "outputs": [],
   "source": [
    "import pandas as pd\n",
    "import numpy as np\n",
    "from tqdm import tqdm\n",
    "tqdm.pandas()"
   ]
  },
  {
   "cell_type": "code",
   "execution_count": 2,
   "metadata": {},
   "outputs": [
    {
     "name": "stderr",
     "output_type": "stream",
     "text": [
      "100%|██████████| 467/467 [00:00<00:00, 58927.20it/s]\n",
      "100%|██████████| 467/467 [00:00<00:00, 59723.14it/s]\n",
      "100%|██████████| 467/467 [00:00<00:00, 46044.66it/s]\n"
     ]
    }
   ],
   "source": [
    "df_keywords_titles = pd.read_json('/mnt/hdd01/patentsview/Similarity Search - CPC Classification and Claims/cpc_yake_keywords_list_noun_chunks_embeddings.json')\n",
    "\n",
    "# Convert columns 'keyword_patentsberta_embedding', 'keyword_climatebert_embedding', 'keyword_bertforpatents_embedding' to numpy arrays\n",
    "df_keywords_titles['keyword_yake_patentsberta_embedding'] = df_keywords_titles['keyword_yake_patentsberta_embedding'].progress_apply(lambda x: np.array(x, dtype=np.float32))\n",
    "df_keywords_titles['keyword_yake_climatebert_embedding'] = df_keywords_titles['keyword_yake_climatebert_embedding'].progress_apply(lambda x: np.array(x, dtype=np.float32))\n",
    "df_keywords_titles['keyword_yake_bertforpatents_embedding'] = df_keywords_titles['keyword_yake_bertforpatents_embedding'].progress_apply(lambda x: np.array(x, dtype=np.float32))"
   ]
  },
  {
   "cell_type": "code",
   "execution_count": 3,
   "metadata": {},
   "outputs": [
    {
     "name": "stderr",
     "output_type": "stream",
     "text": [
      "100%|██████████| 151044/151044 [00:02<00:00, 54816.50it/s]\n",
      "100%|██████████| 151044/151044 [00:02<00:00, 55158.06it/s]\n",
      "100%|██████████| 151044/151044 [00:03<00:00, 41854.43it/s]\n"
     ]
    }
   ],
   "source": [
    "df_keywords_claims = pd.read_json('/mnt/hdd01/patentsview/Similarity Search - CPC Classification and Claims/df_keywords_list_agg_uspto_epo_rel_embeddings_noun_chunks.json')\n",
    "\n",
    "# Convert columns 'keyword_yake_patentsberta_embedding', 'keyword_yake_climatebert_embedding', 'keyword_yake_bertforpatents_embedding' to numpy arrays\n",
    "df_keywords_claims['keyword_yake_patentsberta_embedding'] = df_keywords_claims['keyword_yake_patentsberta_embedding'].progress_apply(lambda x: np.array(x, dtype=np.float32))\n",
    "df_keywords_claims['keyword_yake_climatebert_embedding'] = df_keywords_claims['keyword_yake_climatebert_embedding'].progress_apply(lambda x: np.array(x, dtype=np.float32))\n",
    "df_keywords_claims['keyword_yake_bertforpatents_embedding'] = df_keywords_claims['keyword_yake_bertforpatents_embedding'].progress_apply(lambda x: np.array(x, dtype=np.float32))"
   ]
  },
  {
   "cell_type": "markdown",
   "metadata": {},
   "source": [
    "# Testing"
   ]
  },
  {
   "cell_type": "code",
   "execution_count": 27,
   "metadata": {},
   "outputs": [
    {
     "name": "stderr",
     "output_type": "stream",
     "text": [
      "100%|██████████| 467/467 [00:00<00:00, 637195.83it/s]"
     ]
    },
    {
     "name": "stdout",
     "output_type": "stream",
     "text": [
      "    keyword_yake_lemma        cpc_class_symbol\n",
      "460        wind energy  [Y02E10/70, Y02W10/33]\n"
     ]
    },
    {
     "name": "stderr",
     "output_type": "stream",
     "text": [
      "\n"
     ]
    }
   ],
   "source": [
    "# Print out all keyword_yake_lemma for cpc_class_symbol = Y02W\n",
    "print(df_keywords_titles[df_keywords_titles['cpc_class_symbol'].progress_apply(lambda x: 'Y02W10/33' in x)][['keyword_yake_lemma', 'cpc_class_symbol']])"
   ]
  },
  {
   "cell_type": "code",
   "execution_count": 45,
   "metadata": {},
   "outputs": [],
   "source": [
    "# Set search test to row with keyword = solar cells\n",
    "df_search_test_titles = df_keywords_titles[df_keywords_titles['keyword_yake_lemma'] == 'wind energy']"
   ]
  },
  {
   "cell_type": "code",
   "execution_count": 46,
   "metadata": {},
   "outputs": [],
   "source": [
    "# Reset index of df_search_test_titles\n",
    "df_search_test_titles.reset_index(drop=True, inplace=True)"
   ]
  },
  {
   "cell_type": "code",
   "execution_count": 47,
   "metadata": {},
   "outputs": [
    {
     "data": {
      "text/html": [
       "<div>\n",
       "<style scoped>\n",
       "    .dataframe tbody tr th:only-of-type {\n",
       "        vertical-align: middle;\n",
       "    }\n",
       "\n",
       "    .dataframe tbody tr th {\n",
       "        vertical-align: top;\n",
       "    }\n",
       "\n",
       "    .dataframe thead th {\n",
       "        text-align: right;\n",
       "    }\n",
       "</style>\n",
       "<table border=\"1\" class=\"dataframe\">\n",
       "  <thead>\n",
       "    <tr style=\"text-align: right;\">\n",
       "      <th></th>\n",
       "      <th>keyword_yake_lemma</th>\n",
       "      <th>yake_conf_score</th>\n",
       "      <th>cpc_class_symbol</th>\n",
       "      <th>keyword_yake_patentsberta_embedding</th>\n",
       "      <th>keyword_yake_climatebert_embedding</th>\n",
       "      <th>keyword_yake_bertforpatents_embedding</th>\n",
       "    </tr>\n",
       "  </thead>\n",
       "  <tbody>\n",
       "    <tr>\n",
       "      <th>0</th>\n",
       "      <td>wind energy</td>\n",
       "      <td>0.037556</td>\n",
       "      <td>[Y02E10/70, Y02W10/33]</td>\n",
       "      <td>[-0.13935463, -0.22561637, -0.41005242, 0.1530...</td>\n",
       "      <td>[-0.024680587, 0.121622354, -0.023151487, -0.1...</td>\n",
       "      <td>[0.027174294, -0.26510686, 0.42312163, -0.7440...</td>\n",
       "    </tr>\n",
       "  </tbody>\n",
       "</table>\n",
       "</div>"
      ],
      "text/plain": [
       "  keyword_yake_lemma  yake_conf_score        cpc_class_symbol  \\\n",
       "0        wind energy         0.037556  [Y02E10/70, Y02W10/33]   \n",
       "\n",
       "                 keyword_yake_patentsberta_embedding  \\\n",
       "0  [-0.13935463, -0.22561637, -0.41005242, 0.1530...   \n",
       "\n",
       "                  keyword_yake_climatebert_embedding  \\\n",
       "0  [-0.024680587, 0.121622354, -0.023151487, -0.1...   \n",
       "\n",
       "               keyword_yake_bertforpatents_embedding  \n",
       "0  [0.027174294, -0.26510686, 0.42312163, -0.7440...  "
      ]
     },
     "execution_count": 47,
     "metadata": {},
     "output_type": "execute_result"
    }
   ],
   "source": [
    "df_search_test_titles"
   ]
  },
  {
   "cell_type": "markdown",
   "metadata": {},
   "source": [
    "# Similarity Search"
   ]
  },
  {
   "cell_type": "code",
   "execution_count": 4,
   "metadata": {},
   "outputs": [],
   "source": [
    "import faiss\n",
    "from sklearn.preprocessing import normalize\n",
    "from sklearn.neighbors import NearestNeighbors"
   ]
  },
  {
   "cell_type": "markdown",
   "metadata": {},
   "source": [
    "# Euclidean Distance - kNN"
   ]
  },
  {
   "cell_type": "code",
   "execution_count": null,
   "metadata": {},
   "outputs": [],
   "source": [
    "# Eucledian distance\n",
    "index_bertforpatents = faiss.IndexFlatL2(1024)   # build the index\n",
    "index_climatebert = faiss.IndexFlatL2(768)   # build the index\n",
    "index_patentsberta = faiss.IndexFlatL2(768)   # build the index\n",
    "\n",
    "# Add df_keywords_claims column 'keyword_yake_bertforpatents_embedding' to index\n",
    "index_bertforpatents.add(np.array(df_keywords_claims['keyword_yake_bertforpatents_embedding'].tolist()))\n",
    "index_climatebert.add(np.array(df_keywords_claims['keyword_yake_climatebert_embedding'].tolist()))\n",
    "index_patentsberta.add(np.array(df_keywords_claims['keyword_yake_patentsberta_embedding'].tolist()))\n",
    "\n",
    "query_vector_bertforpatents = np.array(df_search_test_titles['keyword_bertforpatents_embedding'][0]).reshape(1, -1)\n",
    "query_vector_climatebert = np.array(df_search_test_titles['keyword_climatebert_embedding'][0]).reshape(1, -1)\n",
    "query_vector_patentsberta = np.array(df_search_test_titles['keyword_patentsberta_embedding'][0]).reshape(1, -1)"
   ]
  },
  {
   "cell_type": "code",
   "execution_count": null,
   "metadata": {},
   "outputs": [],
   "source": [
    "k = 25\n",
    "D_bertforpatents, I_bertforpatents = index_bertforpatents.search(query_vector_bertforpatents, k)\n",
    "D_climatebert, I_climatebert = index_climatebert.search(query_vector_climatebert, k)\n",
    "D_patentsberta, I_patentsberta = index_patentsberta.search(query_vector_patentsberta, k)"
   ]
  },
  {
   "cell_type": "code",
   "execution_count": null,
   "metadata": {},
   "outputs": [],
   "source": [
    "# Print row of df_keywords_claims that match the index\n",
    "df_keywords_claims.iloc[I_patentsberta[0]]"
   ]
  },
  {
   "cell_type": "markdown",
   "metadata": {},
   "source": [
    "# Cosine Similarity - kNN"
   ]
  },
  {
   "cell_type": "code",
   "execution_count": 48,
   "metadata": {},
   "outputs": [],
   "source": [
    "# Cosine similarity\n",
    "index_bertforpatents = faiss.index_factory(1024, \"Flat\", faiss.METRIC_INNER_PRODUCT)\n",
    "index_climatebert = faiss.index_factory(768, \"Flat\", faiss.METRIC_INNER_PRODUCT)\n",
    "index_patentsberta = faiss.index_factory(768, \"Flat\", faiss.METRIC_INNER_PRODUCT)\n",
    "\n",
    "faiss.normalize_L2(np.array(df_keywords_claims['keyword_yake_bertforpatents_embedding'].tolist()))\n",
    "faiss.normalize_L2(np.array(df_keywords_claims['keyword_yake_climatebert_embedding'].tolist()))\n",
    "faiss.normalize_L2(np.array(df_keywords_claims['keyword_yake_patentsberta_embedding'].tolist()))\n",
    "\n",
    "index_bertforpatents.add(np.array(df_keywords_claims['keyword_yake_bertforpatents_embedding'].tolist()))\n",
    "index_climatebert.add(np.array(df_keywords_claims['keyword_yake_climatebert_embedding'].tolist()))\n",
    "index_patentsberta.add(np.array(df_keywords_claims['keyword_yake_patentsberta_embedding'].tolist()))\n",
    "\n",
    "query_vector_bertforpatents = np.array(df_search_test_titles['keyword_yake_bertforpatents_embedding'][0]).reshape(1, -1)\n",
    "query_vector_climatebert = np.array(df_search_test_titles['keyword_yake_climatebert_embedding'][0]).reshape(1, -1)\n",
    "query_vector_patentsberta = np.array(df_search_test_titles['keyword_yake_patentsberta_embedding'][0]).reshape(1, -1)\n",
    "\n",
    "faiss.normalize_L2(query_vector_bertforpatents)\n",
    "faiss.normalize_L2(query_vector_climatebert)\n",
    "faiss.normalize_L2(query_vector_patentsberta)"
   ]
  },
  {
   "cell_type": "code",
   "execution_count": 49,
   "metadata": {},
   "outputs": [],
   "source": [
    "k = 6\n",
    "D_bertforpatents, I_bertforpatents = index_bertforpatents.search(query_vector_bertforpatents, k)\n",
    "D_climatebert, I_climatebert = index_climatebert.search(query_vector_climatebert, k)\n",
    "D_patentsberta, I_patentsberta = index_patentsberta.search(query_vector_patentsberta, k)"
   ]
  },
  {
   "cell_type": "code",
   "execution_count": 50,
   "metadata": {},
   "outputs": [
    {
     "data": {
      "text/html": [
       "<div>\n",
       "<style scoped>\n",
       "    .dataframe tbody tr th:only-of-type {\n",
       "        vertical-align: middle;\n",
       "    }\n",
       "\n",
       "    .dataframe tbody tr th {\n",
       "        vertical-align: top;\n",
       "    }\n",
       "\n",
       "    .dataframe thead th {\n",
       "        text-align: right;\n",
       "    }\n",
       "</style>\n",
       "<table border=\"1\" class=\"dataframe\">\n",
       "  <thead>\n",
       "    <tr style=\"text-align: right;\">\n",
       "      <th></th>\n",
       "      <th>keyword_yake_lemma</th>\n",
       "      <th>yake_conf_score</th>\n",
       "      <th>abs_frequency</th>\n",
       "      <th>patent_id</th>\n",
       "      <th>publn_nr</th>\n",
       "      <th>oaid</th>\n",
       "      <th>cpc_group</th>\n",
       "      <th>cpc_class_symbol</th>\n",
       "      <th>keyword_yake_patentsberta_embedding</th>\n",
       "      <th>keyword_yake_climatebert_embedding</th>\n",
       "      <th>keyword_yake_bertforpatents_embedding</th>\n",
       "    </tr>\n",
       "  </thead>\n",
       "  <tbody>\n",
       "    <tr>\n",
       "      <th>149171</th>\n",
       "      <td>wind energy</td>\n",
       "      <td>0.042034</td>\n",
       "      <td>134</td>\n",
       "      <td>[8368239, 6677683, 7694473, 11128231, 7932620,...</td>\n",
       "      <td>[2400619, 2811159, 1588049, 1726088, 2495434, ...</td>\n",
       "      <td>[2009362773, 2040229032, 2134988099, 208502141...</td>\n",
       "      <td>[Y02E40/30, Y02E60/50, Y02E10/50, Y02E10/76, Y...</td>\n",
       "      <td>[Y02P  80/10, Y02E  10/46, Y02E  10/70, Y02B  ...</td>\n",
       "      <td>[-0.13935463, -0.22561637, -0.41005242, 0.1530...</td>\n",
       "      <td>[-0.024680587, 0.121622354, -0.023151487, -0.1...</td>\n",
       "      <td>[0.027174294, -0.26510686, 0.42312163, -0.7440...</td>\n",
       "    </tr>\n",
       "    <tr>\n",
       "      <th>149175</th>\n",
       "      <td>wind energy generation</td>\n",
       "      <td>0.023001</td>\n",
       "      <td>5</td>\n",
       "      <td>[7606638, 8138619, 8774949, 9366232]</td>\n",
       "      <td>[3501080]</td>\n",
       "      <td>[2011363340, 2081553571, 2358301737, 199932612...</td>\n",
       "      <td>[]</td>\n",
       "      <td>[]</td>\n",
       "      <td>[-0.16996582, -0.24660143, -0.4050405, 0.21332...</td>\n",
       "      <td>[0.05130585, 0.037141915, -0.011692343, -0.140...</td>\n",
       "      <td>[0.10602985, -0.09561676, 0.34691587, -0.92305...</td>\n",
       "    </tr>\n",
       "    <tr>\n",
       "      <th>149172</th>\n",
       "      <td>wind energy conversion</td>\n",
       "      <td>0.011451</td>\n",
       "      <td>54</td>\n",
       "      <td>[7116006, 6641367, 10408189, 8851828, 8937399,...</td>\n",
       "      <td>[33318, 2840258, 2035698, 1222388, 3054153, 21...</td>\n",
       "      <td>[2088567219, 2105830722, 2059219910, 210121622...</td>\n",
       "      <td>[Y02B10/70, Y02E60/16, Y02P90/50, Y02T70/5236,...</td>\n",
       "      <td>[Y02E  10/728, Y02E  10/72, Y02E  60/36]</td>\n",
       "      <td>[-0.023859166, -0.2339391, -0.36079568, 0.2357...</td>\n",
       "      <td>[0.06923427, 0.13018538, -0.019503046, -0.1241...</td>\n",
       "      <td>[0.28009745, -0.087188385, 0.3997029, -0.94693...</td>\n",
       "    </tr>\n",
       "    <tr>\n",
       "      <th>149203</th>\n",
       "      <td>wind power</td>\n",
       "      <td>0.035548</td>\n",
       "      <td>249</td>\n",
       "      <td>[8598731, 10509868, 10521525, 7569944, 1133483...</td>\n",
       "      <td>[2599175, 2478610, 2304231, 2454803, 3054153, ...</td>\n",
       "      <td>[1989879055, 2020802965, 2138128951, 214698100...</td>\n",
       "      <td>[Y02B10/70, Y02C20/20, Y02E60/32, Y02B20/72, Y...</td>\n",
       "      <td>[Y02E  60/10, Y02E  40/50, Y02T  50/60, Y02P  ...</td>\n",
       "      <td>[-0.15514976, -0.33485973, -0.38647285, 0.1456...</td>\n",
       "      <td>[-0.04475324, 0.12447504, 0.0034881362, -0.145...</td>\n",
       "      <td>[0.5202647, -0.16505587, 0.02494584, -0.914383...</td>\n",
       "    </tr>\n",
       "    <tr>\n",
       "      <th>149174</th>\n",
       "      <td>wind energy generating</td>\n",
       "      <td>0.007320</td>\n",
       "      <td>6</td>\n",
       "      <td>[9447774, 7547984, 7525210, 8197208, 7741727, ...</td>\n",
       "      <td>[]</td>\n",
       "      <td>[]</td>\n",
       "      <td>[Y02B10/70, Y02E10/56, Y02E10/72, Y02E10/50, Y...</td>\n",
       "      <td>[]</td>\n",
       "      <td>[-0.18674615, -0.20287327, -0.37713137, 0.2543...</td>\n",
       "      <td>[0.07267913, 0.16291437, -0.013103838, -0.1352...</td>\n",
       "      <td>[0.50781286, 0.13417198, 0.3842438, -0.5118474...</td>\n",
       "    </tr>\n",
       "    <tr>\n",
       "      <th>149183</th>\n",
       "      <td>wind energy turbine</td>\n",
       "      <td>0.013775</td>\n",
       "      <td>16</td>\n",
       "      <td>[7168251, 11065840, 10927811, 7470114, 7762771]</td>\n",
       "      <td>[1754886, 1798414, 1616066, 1337755, 1754887, ...</td>\n",
       "      <td>[2078810650]</td>\n",
       "      <td>[Y02B10/30, Y02P70/50, Y02E10/72]</td>\n",
       "      <td>[Y02P  70/50, Y02E  10/74, Y02E  10/76, Y02E  ...</td>\n",
       "      <td>[-0.09484156, -0.4393699, -0.3285693, 0.120928...</td>\n",
       "      <td>[-0.0023944834, 0.14874709, -0.014920734, -0.1...</td>\n",
       "      <td>[0.29088497, -0.03869297, 0.8150261, -0.576195...</td>\n",
       "    </tr>\n",
       "  </tbody>\n",
       "</table>\n",
       "</div>"
      ],
      "text/plain": [
       "            keyword_yake_lemma  yake_conf_score  abs_frequency  \\\n",
       "149171             wind energy         0.042034            134   \n",
       "149175  wind energy generation         0.023001              5   \n",
       "149172  wind energy conversion         0.011451             54   \n",
       "149203              wind power         0.035548            249   \n",
       "149174  wind energy generating         0.007320              6   \n",
       "149183     wind energy turbine         0.013775             16   \n",
       "\n",
       "                                                patent_id  \\\n",
       "149171  [8368239, 6677683, 7694473, 11128231, 7932620,...   \n",
       "149175               [7606638, 8138619, 8774949, 9366232]   \n",
       "149172  [7116006, 6641367, 10408189, 8851828, 8937399,...   \n",
       "149203  [8598731, 10509868, 10521525, 7569944, 1133483...   \n",
       "149174  [9447774, 7547984, 7525210, 8197208, 7741727, ...   \n",
       "149183    [7168251, 11065840, 10927811, 7470114, 7762771]   \n",
       "\n",
       "                                                 publn_nr  \\\n",
       "149171  [2400619, 2811159, 1588049, 1726088, 2495434, ...   \n",
       "149175                                          [3501080]   \n",
       "149172  [33318, 2840258, 2035698, 1222388, 3054153, 21...   \n",
       "149203  [2599175, 2478610, 2304231, 2454803, 3054153, ...   \n",
       "149174                                                 []   \n",
       "149183  [1754886, 1798414, 1616066, 1337755, 1754887, ...   \n",
       "\n",
       "                                                     oaid  \\\n",
       "149171  [2009362773, 2040229032, 2134988099, 208502141...   \n",
       "149175  [2011363340, 2081553571, 2358301737, 199932612...   \n",
       "149172  [2088567219, 2105830722, 2059219910, 210121622...   \n",
       "149203  [1989879055, 2020802965, 2138128951, 214698100...   \n",
       "149174                                                 []   \n",
       "149183                                       [2078810650]   \n",
       "\n",
       "                                                cpc_group  \\\n",
       "149171  [Y02E40/30, Y02E60/50, Y02E10/50, Y02E10/76, Y...   \n",
       "149175                                                 []   \n",
       "149172  [Y02B10/70, Y02E60/16, Y02P90/50, Y02T70/5236,...   \n",
       "149203  [Y02B10/70, Y02C20/20, Y02E60/32, Y02B20/72, Y...   \n",
       "149174  [Y02B10/70, Y02E10/56, Y02E10/72, Y02E10/50, Y...   \n",
       "149183                  [Y02B10/30, Y02P70/50, Y02E10/72]   \n",
       "\n",
       "                                         cpc_class_symbol  \\\n",
       "149171  [Y02P  80/10, Y02E  10/46, Y02E  10/70, Y02B  ...   \n",
       "149175                                                 []   \n",
       "149172           [Y02E  10/728, Y02E  10/72, Y02E  60/36]   \n",
       "149203  [Y02E  60/10, Y02E  40/50, Y02T  50/60, Y02P  ...   \n",
       "149174                                                 []   \n",
       "149183  [Y02P  70/50, Y02E  10/74, Y02E  10/76, Y02E  ...   \n",
       "\n",
       "                      keyword_yake_patentsberta_embedding  \\\n",
       "149171  [-0.13935463, -0.22561637, -0.41005242, 0.1530...   \n",
       "149175  [-0.16996582, -0.24660143, -0.4050405, 0.21332...   \n",
       "149172  [-0.023859166, -0.2339391, -0.36079568, 0.2357...   \n",
       "149203  [-0.15514976, -0.33485973, -0.38647285, 0.1456...   \n",
       "149174  [-0.18674615, -0.20287327, -0.37713137, 0.2543...   \n",
       "149183  [-0.09484156, -0.4393699, -0.3285693, 0.120928...   \n",
       "\n",
       "                       keyword_yake_climatebert_embedding  \\\n",
       "149171  [-0.024680587, 0.121622354, -0.023151487, -0.1...   \n",
       "149175  [0.05130585, 0.037141915, -0.011692343, -0.140...   \n",
       "149172  [0.06923427, 0.13018538, -0.019503046, -0.1241...   \n",
       "149203  [-0.04475324, 0.12447504, 0.0034881362, -0.145...   \n",
       "149174  [0.07267913, 0.16291437, -0.013103838, -0.1352...   \n",
       "149183  [-0.0023944834, 0.14874709, -0.014920734, -0.1...   \n",
       "\n",
       "                    keyword_yake_bertforpatents_embedding  \n",
       "149171  [0.027174294, -0.26510686, 0.42312163, -0.7440...  \n",
       "149175  [0.10602985, -0.09561676, 0.34691587, -0.92305...  \n",
       "149172  [0.28009745, -0.087188385, 0.3997029, -0.94693...  \n",
       "149203  [0.5202647, -0.16505587, 0.02494584, -0.914383...  \n",
       "149174  [0.50781286, 0.13417198, 0.3842438, -0.5118474...  \n",
       "149183  [0.29088497, -0.03869297, 0.8150261, -0.576195...  "
      ]
     },
     "execution_count": 50,
     "metadata": {},
     "output_type": "execute_result"
    }
   ],
   "source": [
    "# Print row of df_keywords_claims that match the index\n",
    "df_keywords_claims.iloc[I_bertforpatents[0]]"
   ]
  },
  {
   "cell_type": "markdown",
   "metadata": {},
   "source": [
    "# Cosine Similarity - Margin"
   ]
  },
  {
   "cell_type": "code",
   "execution_count": 22,
   "metadata": {},
   "outputs": [
    {
     "data": {
      "text/html": [
       "<style>#sk-container-id-3 {color: black;}#sk-container-id-3 pre{padding: 0;}#sk-container-id-3 div.sk-toggleable {background-color: white;}#sk-container-id-3 label.sk-toggleable__label {cursor: pointer;display: block;width: 100%;margin-bottom: 0;padding: 0.3em;box-sizing: border-box;text-align: center;}#sk-container-id-3 label.sk-toggleable__label-arrow:before {content: \"▸\";float: left;margin-right: 0.25em;color: #696969;}#sk-container-id-3 label.sk-toggleable__label-arrow:hover:before {color: black;}#sk-container-id-3 div.sk-estimator:hover label.sk-toggleable__label-arrow:before {color: black;}#sk-container-id-3 div.sk-toggleable__content {max-height: 0;max-width: 0;overflow: hidden;text-align: left;background-color: #f0f8ff;}#sk-container-id-3 div.sk-toggleable__content pre {margin: 0.2em;color: black;border-radius: 0.25em;background-color: #f0f8ff;}#sk-container-id-3 input.sk-toggleable__control:checked~div.sk-toggleable__content {max-height: 200px;max-width: 100%;overflow: auto;}#sk-container-id-3 input.sk-toggleable__control:checked~label.sk-toggleable__label-arrow:before {content: \"▾\";}#sk-container-id-3 div.sk-estimator input.sk-toggleable__control:checked~label.sk-toggleable__label {background-color: #d4ebff;}#sk-container-id-3 div.sk-label input.sk-toggleable__control:checked~label.sk-toggleable__label {background-color: #d4ebff;}#sk-container-id-3 input.sk-hidden--visually {border: 0;clip: rect(1px 1px 1px 1px);clip: rect(1px, 1px, 1px, 1px);height: 1px;margin: -1px;overflow: hidden;padding: 0;position: absolute;width: 1px;}#sk-container-id-3 div.sk-estimator {font-family: monospace;background-color: #f0f8ff;border: 1px dotted black;border-radius: 0.25em;box-sizing: border-box;margin-bottom: 0.5em;}#sk-container-id-3 div.sk-estimator:hover {background-color: #d4ebff;}#sk-container-id-3 div.sk-parallel-item::after {content: \"\";width: 100%;border-bottom: 1px solid gray;flex-grow: 1;}#sk-container-id-3 div.sk-label:hover label.sk-toggleable__label {background-color: #d4ebff;}#sk-container-id-3 div.sk-serial::before {content: \"\";position: absolute;border-left: 1px solid gray;box-sizing: border-box;top: 0;bottom: 0;left: 50%;z-index: 0;}#sk-container-id-3 div.sk-serial {display: flex;flex-direction: column;align-items: center;background-color: white;padding-right: 0.2em;padding-left: 0.2em;position: relative;}#sk-container-id-3 div.sk-item {position: relative;z-index: 1;}#sk-container-id-3 div.sk-parallel {display: flex;align-items: stretch;justify-content: center;background-color: white;position: relative;}#sk-container-id-3 div.sk-item::before, #sk-container-id-3 div.sk-parallel-item::before {content: \"\";position: absolute;border-left: 1px solid gray;box-sizing: border-box;top: 0;bottom: 0;left: 50%;z-index: -1;}#sk-container-id-3 div.sk-parallel-item {display: flex;flex-direction: column;z-index: 1;position: relative;background-color: white;}#sk-container-id-3 div.sk-parallel-item:first-child::after {align-self: flex-end;width: 50%;}#sk-container-id-3 div.sk-parallel-item:last-child::after {align-self: flex-start;width: 50%;}#sk-container-id-3 div.sk-parallel-item:only-child::after {width: 0;}#sk-container-id-3 div.sk-dashed-wrapped {border: 1px dashed gray;margin: 0 0.4em 0.5em 0.4em;box-sizing: border-box;padding-bottom: 0.4em;background-color: white;}#sk-container-id-3 div.sk-label label {font-family: monospace;font-weight: bold;display: inline-block;line-height: 1.2em;}#sk-container-id-3 div.sk-label-container {text-align: center;}#sk-container-id-3 div.sk-container {/* jupyter's `normalize.less` sets `[hidden] { display: none; }` but bootstrap.min.css set `[hidden] { display: none !important; }` so we also need the `!important` here to be able to override the default hidden behavior on the sphinx rendered scikit-learn.org. See: https://github.com/scikit-learn/scikit-learn/issues/21755 */display: inline-block !important;position: relative;}#sk-container-id-3 div.sk-text-repr-fallback {display: none;}</style><div id=\"sk-container-id-3\" class=\"sk-top-container\"><div class=\"sk-text-repr-fallback\"><pre>NearestNeighbors(metric=&#x27;cosine&#x27;, radius=0.5)</pre><b>In a Jupyter environment, please rerun this cell to show the HTML representation or trust the notebook. <br />On GitHub, the HTML representation is unable to render, please try loading this page with nbviewer.org.</b></div><div class=\"sk-container\" hidden><div class=\"sk-item\"><div class=\"sk-estimator sk-toggleable\"><input class=\"sk-toggleable__control sk-hidden--visually\" id=\"sk-estimator-id-3\" type=\"checkbox\" checked><label for=\"sk-estimator-id-3\" class=\"sk-toggleable__label sk-toggleable__label-arrow\">NearestNeighbors</label><div class=\"sk-toggleable__content\"><pre>NearestNeighbors(metric=&#x27;cosine&#x27;, radius=0.5)</pre></div></div></div></div></div>"
      ],
      "text/plain": [
       "NearestNeighbors(metric='cosine', radius=0.5)"
      ]
     },
     "execution_count": 22,
     "metadata": {},
     "output_type": "execute_result"
    }
   ],
   "source": [
    "# Convert lists of embeddings to a 2D array\n",
    "bertforpatents_embeddings = np.vstack(df_keywords_claims['keyword_yake_bertforpatents_embedding'].apply(np.array))\n",
    "climatebert_embeddings = np.vstack(df_keywords_claims['keyword_yake_climatebert_embedding'].apply(np.array))\n",
    "patentsberta_embeddings = np.vstack(df_keywords_claims['keyword_yake_patentsberta_embedding'].apply(np.array))\n",
    "\n",
    "# Normalize embeddings\n",
    "bertforpatents_embeddings_normalized = normalize(bertforpatents_embeddings)\n",
    "climatebert_embeddings_normalized = normalize(climatebert_embeddings)\n",
    "patentsberta_embeddings_normalized = normalize(patentsberta_embeddings)\n",
    "\n",
    "# Initialize NearestNeighbors with radius\n",
    "radius = 0.5 # 0.1 # 0.5 # 0.25  # Adjust based on your requirements\n",
    "nn_bertforpatents = NearestNeighbors(radius=radius, metric='cosine')\n",
    "nn_climatebert = NearestNeighbors(radius=radius, metric='cosine')\n",
    "nn_patentsberta = NearestNeighbors(radius=radius, metric='cosine')\n",
    "\n",
    "# Fit the models with normalized embeddings\n",
    "nn_bertforpatents.fit(bertforpatents_embeddings_normalized)\n",
    "nn_climatebert.fit(climatebert_embeddings_normalized)\n",
    "nn_patentsberta.fit(patentsberta_embeddings_normalized)"
   ]
  },
  {
   "cell_type": "code",
   "execution_count": 23,
   "metadata": {},
   "outputs": [
    {
     "data": {
      "text/html": [
       "<div>\n",
       "<style scoped>\n",
       "    .dataframe tbody tr th:only-of-type {\n",
       "        vertical-align: middle;\n",
       "    }\n",
       "\n",
       "    .dataframe tbody tr th {\n",
       "        vertical-align: top;\n",
       "    }\n",
       "\n",
       "    .dataframe thead th {\n",
       "        text-align: right;\n",
       "    }\n",
       "</style>\n",
       "<table border=\"1\" class=\"dataframe\">\n",
       "  <thead>\n",
       "    <tr style=\"text-align: right;\">\n",
       "      <th></th>\n",
       "      <th>keyword_yake_lemma</th>\n",
       "      <th>yake_conf_score</th>\n",
       "      <th>cpc_class_symbol</th>\n",
       "      <th>keyword_yake_patentsberta_embedding</th>\n",
       "      <th>keyword_yake_climatebert_embedding</th>\n",
       "      <th>keyword_yake_bertforpatents_embedding</th>\n",
       "      <th>keywords_bertforpatents</th>\n",
       "      <th>keywords_climatebert</th>\n",
       "      <th>keywords_patentsberta</th>\n",
       "      <th>neighbors_bertforpatents</th>\n",
       "      <th>neighbors_climatebert</th>\n",
       "      <th>neighbors_patentsberta</th>\n",
       "    </tr>\n",
       "  </thead>\n",
       "  <tbody>\n",
       "    <tr>\n",
       "      <th>0</th>\n",
       "      <td>abiotic stress</td>\n",
       "      <td>0.025709</td>\n",
       "      <td>[Y02A40/13]</td>\n",
       "      <td>[-0.39456344, -0.7677266, -0.381351, 0.1383062...</td>\n",
       "      <td>[-0.014673094, 0.11892946, 0.0026377938, -0.01...</td>\n",
       "      <td>[0.10681355, -0.69053596, 0.47798485, 0.076534...</td>\n",
       "      <td>[abiotic stress, abiotic stress condition, abi...</td>\n",
       "      <td>[aa, aa concrete, aaa, aaa server, aab, aabb, ...</td>\n",
       "      <td>[abiotic stress, abiotic stress condition, abi...</td>\n",
       "      <td>[111, 112, 113, 114]</td>\n",
       "      <td>[0, 1, 2, 3, 4, 5, 6, 7, 8, 9, 10, 11, 12, 13,...</td>\n",
       "      <td>[111, 112, 113]</td>\n",
       "    </tr>\n",
       "    <tr>\n",
       "      <th>1</th>\n",
       "      <td>absorption based system</td>\n",
       "      <td>0.008321</td>\n",
       "      <td>[Y02B30/62]</td>\n",
       "      <td>[-0.11752392, -0.7287776, -0.18765274, 0.01301...</td>\n",
       "      <td>[0.010742969, 0.083290644, -0.02593848, -0.048...</td>\n",
       "      <td>[-0.3856159, 0.8286994, 0.39117292, -0.2979813...</td>\n",
       "      <td>[]</td>\n",
       "      <td>[aa, aa concrete, aaa, aaa server, aab, aabb, ...</td>\n",
       "      <td>[absorption system]</td>\n",
       "      <td>[]</td>\n",
       "      <td>[0, 1, 2, 3, 4, 5, 6, 7, 8, 9, 10, 11, 12, 13,...</td>\n",
       "      <td>[361]</td>\n",
       "    </tr>\n",
       "    <tr>\n",
       "      <th>2</th>\n",
       "      <td>acid</td>\n",
       "      <td>0.297366</td>\n",
       "      <td>[Y02P20/30]</td>\n",
       "      <td>[0.15585586, -0.46968186, -0.384583, 0.1502907...</td>\n",
       "      <td>[-0.039344836, 0.11001184, 0.0187124, 0.004480...</td>\n",
       "      <td>[-0.4963131, -0.19806552, 0.24239738, -0.06992...</td>\n",
       "      <td>[]</td>\n",
       "      <td>[aa, aa concrete, aaa, aaa server, aab, aabb, ...</td>\n",
       "      <td>[]</td>\n",
       "      <td>[]</td>\n",
       "      <td>[0, 1, 2, 3, 4, 5, 6, 7, 8, 9, 10, 11, 12, 13,...</td>\n",
       "      <td>[]</td>\n",
       "    </tr>\n",
       "    <tr>\n",
       "      <th>3</th>\n",
       "      <td>acid or caprolactam</td>\n",
       "      <td>0.097004</td>\n",
       "      <td>[Y02P20/30]</td>\n",
       "      <td>[0.06250752, -0.7046676, -0.32794353, 0.009134...</td>\n",
       "      <td>[0.0009763143, 0.08154529, 0.042667452, -0.020...</td>\n",
       "      <td>[-0.40428108, 0.24819246, 0.43703476, -0.73723...</td>\n",
       "      <td>[caprolactam]</td>\n",
       "      <td>[aa, aa concrete, aaa, aaa server, aab, aabb, ...</td>\n",
       "      <td>[]</td>\n",
       "      <td>[17430]</td>\n",
       "      <td>[0, 1, 2, 3, 4, 5, 6, 7, 8, 9, 10, 11, 12, 13,...</td>\n",
       "      <td>[]</td>\n",
       "    </tr>\n",
       "    <tr>\n",
       "      <th>4</th>\n",
       "      <td>active power filtering</td>\n",
       "      <td>0.008321</td>\n",
       "      <td>[Y02E40/20]</td>\n",
       "      <td>[-0.20968668, -0.887124, -0.2824073, -0.101121...</td>\n",
       "      <td>[0.022758853, 0.12130108, -0.0364266, 0.024433...</td>\n",
       "      <td>[-0.75558263, 0.27234003, -0.737954, -1.259309...</td>\n",
       "      <td>[]</td>\n",
       "      <td>[aa, aa concrete, aaa, aaa server, aab, aabb, ...</td>\n",
       "      <td>[active power filter]</td>\n",
       "      <td>[]</td>\n",
       "      <td>[0, 1, 2, 3, 4, 5, 6, 7, 8, 9, 10, 11, 12, 13,...</td>\n",
       "      <td>[2023]</td>\n",
       "    </tr>\n",
       "  </tbody>\n",
       "</table>\n",
       "</div>"
      ],
      "text/plain": [
       "        keyword_yake_lemma  yake_conf_score cpc_class_symbol  \\\n",
       "0           abiotic stress         0.025709      [Y02A40/13]   \n",
       "1  absorption based system         0.008321      [Y02B30/62]   \n",
       "2                     acid         0.297366      [Y02P20/30]   \n",
       "3      acid or caprolactam         0.097004      [Y02P20/30]   \n",
       "4   active power filtering         0.008321      [Y02E40/20]   \n",
       "\n",
       "                 keyword_yake_patentsberta_embedding  \\\n",
       "0  [-0.39456344, -0.7677266, -0.381351, 0.1383062...   \n",
       "1  [-0.11752392, -0.7287776, -0.18765274, 0.01301...   \n",
       "2  [0.15585586, -0.46968186, -0.384583, 0.1502907...   \n",
       "3  [0.06250752, -0.7046676, -0.32794353, 0.009134...   \n",
       "4  [-0.20968668, -0.887124, -0.2824073, -0.101121...   \n",
       "\n",
       "                  keyword_yake_climatebert_embedding  \\\n",
       "0  [-0.014673094, 0.11892946, 0.0026377938, -0.01...   \n",
       "1  [0.010742969, 0.083290644, -0.02593848, -0.048...   \n",
       "2  [-0.039344836, 0.11001184, 0.0187124, 0.004480...   \n",
       "3  [0.0009763143, 0.08154529, 0.042667452, -0.020...   \n",
       "4  [0.022758853, 0.12130108, -0.0364266, 0.024433...   \n",
       "\n",
       "               keyword_yake_bertforpatents_embedding  \\\n",
       "0  [0.10681355, -0.69053596, 0.47798485, 0.076534...   \n",
       "1  [-0.3856159, 0.8286994, 0.39117292, -0.2979813...   \n",
       "2  [-0.4963131, -0.19806552, 0.24239738, -0.06992...   \n",
       "3  [-0.40428108, 0.24819246, 0.43703476, -0.73723...   \n",
       "4  [-0.75558263, 0.27234003, -0.737954, -1.259309...   \n",
       "\n",
       "                             keywords_bertforpatents  \\\n",
       "0  [abiotic stress, abiotic stress condition, abi...   \n",
       "1                                                 []   \n",
       "2                                                 []   \n",
       "3                                      [caprolactam]   \n",
       "4                                                 []   \n",
       "\n",
       "                                keywords_climatebert  \\\n",
       "0  [aa, aa concrete, aaa, aaa server, aab, aabb, ...   \n",
       "1  [aa, aa concrete, aaa, aaa server, aab, aabb, ...   \n",
       "2  [aa, aa concrete, aaa, aaa server, aab, aabb, ...   \n",
       "3  [aa, aa concrete, aaa, aaa server, aab, aabb, ...   \n",
       "4  [aa, aa concrete, aaa, aaa server, aab, aabb, ...   \n",
       "\n",
       "                               keywords_patentsberta neighbors_bertforpatents  \\\n",
       "0  [abiotic stress, abiotic stress condition, abi...     [111, 112, 113, 114]   \n",
       "1                                [absorption system]                       []   \n",
       "2                                                 []                       []   \n",
       "3                                                 []                  [17430]   \n",
       "4                              [active power filter]                       []   \n",
       "\n",
       "                               neighbors_climatebert neighbors_patentsberta  \n",
       "0  [0, 1, 2, 3, 4, 5, 6, 7, 8, 9, 10, 11, 12, 13,...        [111, 112, 113]  \n",
       "1  [0, 1, 2, 3, 4, 5, 6, 7, 8, 9, 10, 11, 12, 13,...                  [361]  \n",
       "2  [0, 1, 2, 3, 4, 5, 6, 7, 8, 9, 10, 11, 12, 13,...                     []  \n",
       "3  [0, 1, 2, 3, 4, 5, 6, 7, 8, 9, 10, 11, 12, 13,...                     []  \n",
       "4  [0, 1, 2, 3, 4, 5, 6, 7, 8, 9, 10, 11, 12, 13,...                 [2023]  "
      ]
     },
     "execution_count": 23,
     "metadata": {},
     "output_type": "execute_result"
    }
   ],
   "source": [
    "df_keywords_titles.head()"
   ]
  },
  {
   "cell_type": "code",
   "execution_count": 24,
   "metadata": {},
   "outputs": [
    {
     "name": "stderr",
     "output_type": "stream",
     "text": [
      "100%|██████████| 467/467 [00:00<00:00, 703317.76it/s]\n",
      "100%|██████████| 467/467 [00:00<00:00, 879147.20it/s]\n",
      "100%|██████████| 467/467 [00:00<00:00, 979369.98it/s]\n",
      "100%|██████████| 467/467 [00:00<00:00, 986770.76it/s]\n",
      "100%|██████████| 467/467 [00:00<00:00, 907664.49it/s]\n",
      "100%|██████████| 467/467 [00:00<00:00, 992269.49it/s]\n",
      "467it [07:17,  1.07it/s]\n"
     ]
    }
   ],
   "source": [
    "# Helper function to get keywords by indices\n",
    "def get_keywords_by_indices(indices, df_source):\n",
    "    return df_source.iloc[indices]['keyword_yake_lemma'].tolist() if indices.size else []\n",
    "\n",
    "# Extend df_keywords_titles with columns for keywords corresponding to the neighbor indices with empty lists\n",
    "df_keywords_titles['neighbors_bertforpatents'] = df_keywords_titles['keyword_yake_bertforpatents_embedding'].progress_apply(lambda x: [])\n",
    "df_keywords_titles['neighbors_climatebert'] = df_keywords_titles['keyword_yake_climatebert_embedding'].progress_apply(lambda x: [])\n",
    "df_keywords_titles['neighbors_patentsberta'] = df_keywords_titles['keyword_yake_patentsberta_embedding'].progress_apply(lambda x: [])\n",
    "\n",
    "df_keywords_titles['keywords_bertforpatents'] = df_keywords_titles['keyword_yake_bertforpatents_embedding'].progress_apply(lambda x: [])\n",
    "df_keywords_titles['keywords_climatebert'] = df_keywords_titles['keyword_yake_climatebert_embedding'].progress_apply(lambda x: [])\n",
    "df_keywords_titles['keywords_patentsberta'] = df_keywords_titles['keyword_yake_patentsberta_embedding'].progress_apply(lambda x: [])\n",
    "\n",
    "# Loop over each row in the DataFrame to use each set of embeddings as query vectors\n",
    "for index, row in tqdm(df_keywords_titles.iterrows()):\n",
    "    # Extract and normalize the query vectors\n",
    "    query_vector_bertforpatents = normalize(np.array([row['keyword_yake_bertforpatents_embedding']]).reshape(1, -1))\n",
    "    query_vector_climatebert = normalize(np.array([row['keyword_yake_climatebert_embedding']]).reshape(1, -1))\n",
    "    query_vector_patentsberta = normalize(np.array([row['keyword_yake_patentsberta_embedding']]).reshape(1, -1))\n",
    "    \n",
    "    # Find neighbors within the radius for each model\n",
    "    indices_bertforpatents = nn_bertforpatents.radius_neighbors(query_vector_bertforpatents, return_distance=False)\n",
    "    indices_climatebert = nn_climatebert.radius_neighbors(query_vector_climatebert, return_distance=False)\n",
    "    indices_patentsberta = nn_patentsberta.radius_neighbors(query_vector_patentsberta, return_distance=False)\n",
    "    \n",
    "    # Get the neighbors, or an empty array if none are found\n",
    "    neighbors_bertforpatents = indices_bertforpatents[0] if indices_bertforpatents[0].size else np.array([])\n",
    "    neighbors_climatebert = indices_climatebert[0] if indices_climatebert[0].size else np.array([])\n",
    "    neighbors_patentsberta = indices_patentsberta[0] if indices_patentsberta[0].size else np.array([])\n",
    "    \n",
    "    # Get the keywords from df_keywords_claims corresponding to the indices\n",
    "    keywords_bertforpatents = get_keywords_by_indices(neighbors_bertforpatents, df_keywords_claims)\n",
    "    keywords_climatebert = get_keywords_by_indices(neighbors_climatebert, df_keywords_claims)\n",
    "    keywords_patentsberta = get_keywords_by_indices(neighbors_patentsberta, df_keywords_claims)\n",
    "\n",
    "    # Assign the neighbors and keywords back to the DataFrame\n",
    "    df_keywords_titles.at[index, 'neighbors_bertforpatents'] = neighbors_bertforpatents.tolist()\n",
    "    df_keywords_titles.at[index, 'neighbors_climatebert'] = neighbors_climatebert.tolist()\n",
    "    df_keywords_titles.at[index, 'neighbors_patentsberta'] = neighbors_patentsberta.tolist()\n",
    "    df_keywords_titles.at[index, 'keywords_bertforpatents'] = keywords_bertforpatents\n",
    "    df_keywords_titles.at[index, 'keywords_climatebert'] = keywords_climatebert\n",
    "    df_keywords_titles.at[index, 'keywords_patentsberta'] = keywords_patentsberta"
   ]
  },
  {
   "cell_type": "code",
   "execution_count": 25,
   "metadata": {},
   "outputs": [],
   "source": [
    "df_keywords_titles.to_json('/mnt/hdd01/patentsview/Similarity Search - CPC Classification and Claims/df_keyword_titles_cosine_similarity_radius_05_noun_chunks.json')"
   ]
  }
 ],
 "metadata": {
  "kernelspec": {
   "display_name": "venv",
   "language": "python",
   "name": "python3"
  },
  "language_info": {
   "codemirror_mode": {
    "name": "ipython",
    "version": 3
   },
   "file_extension": ".py",
   "mimetype": "text/x-python",
   "name": "python",
   "nbconvert_exporter": "python",
   "pygments_lexer": "ipython3",
   "version": "3.11.6"
  }
 },
 "nbformat": 4,
 "nbformat_minor": 2
}
