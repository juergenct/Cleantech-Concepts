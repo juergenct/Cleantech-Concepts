{
 "cells": [
  {
   "cell_type": "code",
   "execution_count": 2,
   "metadata": {},
   "outputs": [],
   "source": [
    "import pandas as pd\n",
    "import numpy as np\n",
    "from tqdm import tqdm\n",
    "import multiprocessing as mp\n",
    "tqdm.pandas()\n",
    "\n",
    "column = 'claim_fulltext' # 'title', 'abstract' or 'claim_fulltext'"
   ]
  },
  {
   "cell_type": "code",
   "execution_count": 3,
   "metadata": {},
   "outputs": [
    {
     "name": "stderr",
     "output_type": "stream",
     "text": [
      "100%|██████████| 4777/4777 [00:00<00:00, 44088.30it/s]\n"
     ]
    }
   ],
   "source": [
    "# df_keywords_titles = pd.read_json('/mnt/hdd01/patentsview/Similarity Search - CPC Classification and Claims/cpc_yake_keywords_list_noun_chunks_embeddings.json')\n",
    "# df_keywords_titles = pd.read_json(f\"/home/thiesen/Documents/Cleantech_Concepts/cleantech_keywords_similarity_015_co_occurrence_025_title.json\")\n",
    "df_keywords_titles = pd.read_json(f\"/home/thiesen/Documents/Cleantech_Concepts/cleantech_keywords_similarity_005_co_occurrence_025_abstract.json\")\n",
    "\n",
    "# Convert columns 'keyword_patentsberta_embedding', 'keyword_climatebert_embedding', 'keyword_bertforpatents_embedding' to numpy arrays\n",
    "# df_keywords_titles['keyword_yake_patentsberta_embedding'] = df_keywords_titles['keyword_yake_patentsberta_embedding'].progress_apply(lambda x: np.array(x, dtype=np.float32))\n",
    "# df_keywords_titles['keyword_yake_climatebert_embedding'] = df_keywords_titles['keyword_yake_climatebert_embedding'].progress_apply(lambda x: np.array(x, dtype=np.float32))\n",
    "df_keywords_titles['keyword_yake_lemma_bertforpatents_embedding'] = df_keywords_titles['keyword_yake_lemma_bertforpatents_embedding'].progress_apply(lambda x: np.array(x, dtype=np.float32))"
   ]
  },
  {
   "cell_type": "code",
   "execution_count": 4,
   "metadata": {},
   "outputs": [
    {
     "name": "stderr",
     "output_type": "stream",
     "text": [
      "100%|██████████| 77332/77332 [00:01<00:00, 42088.85it/s]\n"
     ]
    }
   ],
   "source": [
    "df_keywords_list = pd.read_json(f'/mnt/hdd01/patentsview/Similarity Search - CPC Classification and Claims/df_keywords_list_agg_uspto_epo_rel_embeddings_{column}_noun_chunks.json')\n",
    "\n",
    "# Convert columns 'keyword_yake_patentsberta_embedding', 'keyword_yake_climatebert_embedding', 'keyword_yake_bertforpatents_embedding' to numpy arrays\n",
    "# df_keywords_list[f'keywords_yake_{column}_patentsberta_embedding'] = df_keywords_list[f'keywords_yake_{column}_patentsberta_embedding'].progress_apply(lambda x: np.array(x, dtype=np.float32))\n",
    "df_keywords_list[f'keywords_yake_{column}_bertforpatents_embedding'] = df_keywords_list[f'keywords_yake_{column}_bertforpatents_embedding'].progress_apply(lambda x: np.array(x, dtype=np.float32))\n",
    "# df_keywords_list[f'keywords_yake_{column}_climatebert_embedding'] = df_keywords_list[f'keywords_yake_{column}_climatebert_embedding'].progress_apply(lambda x: np.array(x, dtype=np.float32))"
   ]
  },
  {
   "cell_type": "markdown",
   "metadata": {},
   "source": [
    "# Testing"
   ]
  },
  {
   "cell_type": "code",
   "execution_count": null,
   "metadata": {},
   "outputs": [],
   "source": [
    "# Print out all keyword_yake_lemma for cpc_class_symbol = Y02W\n",
    "print(df_keywords_titles[df_keywords_titles['cpc_class_symbol'].progress_apply(lambda x: 'Y02W' in x)][['keyword_yake_lemma', 'cpc_class_symbol']])"
   ]
  },
  {
   "cell_type": "code",
   "execution_count": 4,
   "metadata": {},
   "outputs": [
    {
     "ename": "KeyError",
     "evalue": "'keyword_yake_lemma_title'",
     "output_type": "error",
     "traceback": [
      "\u001b[0;31m---------------------------------------------------------------------------\u001b[0m",
      "\u001b[0;31mKeyError\u001b[0m                                  Traceback (most recent call last)",
      "File \u001b[0;32m~/Documents/Cleantech_Concepts/venv/lib64/python3.11/site-packages/pandas/core/indexes/base.py:3790\u001b[0m, in \u001b[0;36mIndex.get_loc\u001b[0;34m(self, key)\u001b[0m\n\u001b[1;32m   3789\u001b[0m \u001b[38;5;28;01mtry\u001b[39;00m:\n\u001b[0;32m-> 3790\u001b[0m     \u001b[38;5;28;01mreturn\u001b[39;00m \u001b[38;5;28;43mself\u001b[39;49m\u001b[38;5;241;43m.\u001b[39;49m\u001b[43m_engine\u001b[49m\u001b[38;5;241;43m.\u001b[39;49m\u001b[43mget_loc\u001b[49m\u001b[43m(\u001b[49m\u001b[43mcasted_key\u001b[49m\u001b[43m)\u001b[49m\n\u001b[1;32m   3791\u001b[0m \u001b[38;5;28;01mexcept\u001b[39;00m \u001b[38;5;167;01mKeyError\u001b[39;00m \u001b[38;5;28;01mas\u001b[39;00m err:\n",
      "File \u001b[0;32mindex.pyx:152\u001b[0m, in \u001b[0;36mpandas._libs.index.IndexEngine.get_loc\u001b[0;34m()\u001b[0m\n",
      "File \u001b[0;32mindex.pyx:181\u001b[0m, in \u001b[0;36mpandas._libs.index.IndexEngine.get_loc\u001b[0;34m()\u001b[0m\n",
      "File \u001b[0;32mpandas/_libs/hashtable_class_helper.pxi:7080\u001b[0m, in \u001b[0;36mpandas._libs.hashtable.PyObjectHashTable.get_item\u001b[0;34m()\u001b[0m\n",
      "File \u001b[0;32mpandas/_libs/hashtable_class_helper.pxi:7088\u001b[0m, in \u001b[0;36mpandas._libs.hashtable.PyObjectHashTable.get_item\u001b[0;34m()\u001b[0m\n",
      "\u001b[0;31mKeyError\u001b[0m: 'keyword_yake_lemma_title'",
      "\nThe above exception was the direct cause of the following exception:\n",
      "\u001b[0;31mKeyError\u001b[0m                                  Traceback (most recent call last)",
      "Cell \u001b[0;32mIn[4], line 2\u001b[0m\n\u001b[1;32m      1\u001b[0m \u001b[38;5;66;03m# Set search test to row with keyword = solar cells\u001b[39;00m\n\u001b[0;32m----> 2\u001b[0m df_search_test_titles \u001b[38;5;241m=\u001b[39m df_keywords_titles[\u001b[43mdf_keywords_titles\u001b[49m\u001b[43m[\u001b[49m\u001b[38;5;124;43mf\u001b[39;49m\u001b[38;5;124;43m'\u001b[39;49m\u001b[38;5;124;43mkeyword_yake_lemma_\u001b[39;49m\u001b[38;5;132;43;01m{\u001b[39;49;00m\u001b[43mcolumn\u001b[49m\u001b[38;5;132;43;01m}\u001b[39;49;00m\u001b[38;5;124;43m'\u001b[39;49m\u001b[43m]\u001b[49m \u001b[38;5;241m==\u001b[39m \u001b[38;5;124m'\u001b[39m\u001b[38;5;124mrenewable energy\u001b[39m\u001b[38;5;124m'\u001b[39m]\n",
      "File \u001b[0;32m~/Documents/Cleantech_Concepts/venv/lib64/python3.11/site-packages/pandas/core/frame.py:3896\u001b[0m, in \u001b[0;36mDataFrame.__getitem__\u001b[0;34m(self, key)\u001b[0m\n\u001b[1;32m   3894\u001b[0m \u001b[38;5;28;01mif\u001b[39;00m \u001b[38;5;28mself\u001b[39m\u001b[38;5;241m.\u001b[39mcolumns\u001b[38;5;241m.\u001b[39mnlevels \u001b[38;5;241m>\u001b[39m \u001b[38;5;241m1\u001b[39m:\n\u001b[1;32m   3895\u001b[0m     \u001b[38;5;28;01mreturn\u001b[39;00m \u001b[38;5;28mself\u001b[39m\u001b[38;5;241m.\u001b[39m_getitem_multilevel(key)\n\u001b[0;32m-> 3896\u001b[0m indexer \u001b[38;5;241m=\u001b[39m \u001b[38;5;28;43mself\u001b[39;49m\u001b[38;5;241;43m.\u001b[39;49m\u001b[43mcolumns\u001b[49m\u001b[38;5;241;43m.\u001b[39;49m\u001b[43mget_loc\u001b[49m\u001b[43m(\u001b[49m\u001b[43mkey\u001b[49m\u001b[43m)\u001b[49m\n\u001b[1;32m   3897\u001b[0m \u001b[38;5;28;01mif\u001b[39;00m is_integer(indexer):\n\u001b[1;32m   3898\u001b[0m     indexer \u001b[38;5;241m=\u001b[39m [indexer]\n",
      "File \u001b[0;32m~/Documents/Cleantech_Concepts/venv/lib64/python3.11/site-packages/pandas/core/indexes/base.py:3797\u001b[0m, in \u001b[0;36mIndex.get_loc\u001b[0;34m(self, key)\u001b[0m\n\u001b[1;32m   3792\u001b[0m     \u001b[38;5;28;01mif\u001b[39;00m \u001b[38;5;28misinstance\u001b[39m(casted_key, \u001b[38;5;28mslice\u001b[39m) \u001b[38;5;129;01mor\u001b[39;00m (\n\u001b[1;32m   3793\u001b[0m         \u001b[38;5;28misinstance\u001b[39m(casted_key, abc\u001b[38;5;241m.\u001b[39mIterable)\n\u001b[1;32m   3794\u001b[0m         \u001b[38;5;129;01mand\u001b[39;00m \u001b[38;5;28many\u001b[39m(\u001b[38;5;28misinstance\u001b[39m(x, \u001b[38;5;28mslice\u001b[39m) \u001b[38;5;28;01mfor\u001b[39;00m x \u001b[38;5;129;01min\u001b[39;00m casted_key)\n\u001b[1;32m   3795\u001b[0m     ):\n\u001b[1;32m   3796\u001b[0m         \u001b[38;5;28;01mraise\u001b[39;00m InvalidIndexError(key)\n\u001b[0;32m-> 3797\u001b[0m     \u001b[38;5;28;01mraise\u001b[39;00m \u001b[38;5;167;01mKeyError\u001b[39;00m(key) \u001b[38;5;28;01mfrom\u001b[39;00m \u001b[38;5;21;01merr\u001b[39;00m\n\u001b[1;32m   3798\u001b[0m \u001b[38;5;28;01mexcept\u001b[39;00m \u001b[38;5;167;01mTypeError\u001b[39;00m:\n\u001b[1;32m   3799\u001b[0m     \u001b[38;5;66;03m# If we have a listlike key, _check_indexing_error will raise\u001b[39;00m\n\u001b[1;32m   3800\u001b[0m     \u001b[38;5;66;03m#  InvalidIndexError. Otherwise we fall through and re-raise\u001b[39;00m\n\u001b[1;32m   3801\u001b[0m     \u001b[38;5;66;03m#  the TypeError.\u001b[39;00m\n\u001b[1;32m   3802\u001b[0m     \u001b[38;5;28mself\u001b[39m\u001b[38;5;241m.\u001b[39m_check_indexing_error(key)\n",
      "\u001b[0;31mKeyError\u001b[0m: 'keyword_yake_lemma_title'"
     ]
    }
   ],
   "source": [
    "# Set search test to row with keyword = solar cells\n",
    "df_search_test_titles = df_keywords_titles[df_keywords_titles[f'keyword_yake_lemma_{column}'] == 'renewable energy']"
   ]
  },
  {
   "cell_type": "code",
   "execution_count": null,
   "metadata": {},
   "outputs": [],
   "source": [
    "# Reset index of df_search_test_titles\n",
    "df_search_test_titles.reset_index(drop=True, inplace=True)"
   ]
  },
  {
   "cell_type": "code",
   "execution_count": null,
   "metadata": {},
   "outputs": [],
   "source": [
    "df_search_test_titles"
   ]
  },
  {
   "cell_type": "markdown",
   "metadata": {},
   "source": [
    "# Similarity Search"
   ]
  },
  {
   "cell_type": "code",
   "execution_count": 5,
   "metadata": {},
   "outputs": [],
   "source": [
    "import faiss\n",
    "from sklearn.preprocessing import normalize\n",
    "from sklearn.neighbors import NearestNeighbors"
   ]
  },
  {
   "cell_type": "markdown",
   "metadata": {},
   "source": [
    "# Euclidean Distance - kNN"
   ]
  },
  {
   "cell_type": "code",
   "execution_count": null,
   "metadata": {},
   "outputs": [],
   "source": [
    "# Eucledian distance\n",
    "index_bertforpatents = faiss.IndexFlatL2(1024)   # build the index\n",
    "index_climatebert = faiss.IndexFlatL2(768)   # build the index\n",
    "index_patentsberta = faiss.IndexFlatL2(768)   # build the index\n",
    "\n",
    "# Add df_keywords_claims column 'keyword_yake_bertforpatents_embedding' to index\n",
    "index_bertforpatents.add(np.array(df_keywords_list[f'keyword_yake_bertforpatents_embedding_{column}'].tolist()))\n",
    "index_climatebert.add(np.array(df_keywords_list[f'keyword_yake_climatebert_embedding_{column}'].tolist()))\n",
    "index_patentsberta.add(np.array(df_keywords_list[f'keyword_yake_patentsberta_embedding_{column}'].tolist()))\n",
    "\n",
    "query_vector_bertforpatents = np.array(df_search_test_titles['keyword_yake_bertforpatents_embedding'][0]).reshape(1, -1)\n",
    "query_vector_climatebert = np.array(df_search_test_titles['keyword_yake_climatebert_embedding'][0]).reshape(1, -1)\n",
    "query_vector_patentsberta = np.array(df_search_test_titles['keyword_yake_patentsberta_embedding'][0]).reshape(1, -1)"
   ]
  },
  {
   "cell_type": "code",
   "execution_count": null,
   "metadata": {},
   "outputs": [],
   "source": [
    "k = 25\n",
    "D_bertforpatents, I_bertforpatents = index_bertforpatents.search(query_vector_bertforpatents, k)\n",
    "D_climatebert, I_climatebert = index_climatebert.search(query_vector_climatebert, k)\n",
    "D_patentsberta, I_patentsberta = index_patentsberta.search(query_vector_patentsberta, k)"
   ]
  },
  {
   "cell_type": "code",
   "execution_count": null,
   "metadata": {},
   "outputs": [],
   "source": [
    "# Print row of df_keywords_claims that match the index\n",
    "df_keywords_list.iloc[I_bertforpatents[0]]"
   ]
  },
  {
   "cell_type": "markdown",
   "metadata": {},
   "source": [
    "# Cosine Similarity - kNN"
   ]
  },
  {
   "cell_type": "code",
   "execution_count": null,
   "metadata": {},
   "outputs": [],
   "source": [
    "# Cosine similarity\n",
    "index_bertforpatents = faiss.index_factory(1024, \"Flat\", faiss.METRIC_INNER_PRODUCT)\n",
    "index_climatebert = faiss.index_factory(768, \"Flat\", faiss.METRIC_INNER_PRODUCT)\n",
    "index_patentsberta = faiss.index_factory(768, \"Flat\", faiss.METRIC_INNER_PRODUCT)\n",
    "\n",
    "faiss.normalize_L2(np.array(df_keywords_list[f'keyword_yake_bertforpatents_embedding_{column}'].tolist()))\n",
    "faiss.normalize_L2(np.array(df_keywords_list[f'keyword_yake_climatebert_embedding_{column}'].tolist()))\n",
    "faiss.normalize_L2(np.array(df_keywords_list[f'keyword_yake_patentsberta_embedding_{column}'].tolist()))\n",
    "\n",
    "index_bertforpatents.add(np.array(df_keywords_list[f'keyword_yake_bertforpatents_embedding_{column}'].tolist()))\n",
    "index_climatebert.add(np.array(df_keywords_list[f'keyword_yake_climatebert_embedding_{column}'].tolist()))\n",
    "index_patentsberta.add(np.array(df_keywords_list[f'keyword_yake_patentsberta_embedding_{column}'].tolist()))\n",
    "\n",
    "query_vector_bertforpatents = np.array(df_search_test_titles[f'keyword_yake_bertforpatents_embedding_{column}'][0]).reshape(1, -1)\n",
    "query_vector_climatebert = np.array(df_search_test_titles[f'keyword_yake_climatebert_embedding_{column}'][0]).reshape(1, -1)\n",
    "query_vector_patentsberta = np.array(df_search_test_titles[f'keyword_yake_patentsberta_embedding_{column}'][0]).reshape(1, -1)\n",
    "\n",
    "faiss.normalize_L2(query_vector_bertforpatents)\n",
    "faiss.normalize_L2(query_vector_climatebert)\n",
    "faiss.normalize_L2(query_vector_patentsberta)"
   ]
  },
  {
   "cell_type": "code",
   "execution_count": null,
   "metadata": {},
   "outputs": [],
   "source": [
    "k = 6\n",
    "D_bertforpatents, I_bertforpatents = index_bertforpatents.search(query_vector_bertforpatents, k)\n",
    "D_climatebert, I_climatebert = index_climatebert.search(query_vector_climatebert, k)\n",
    "D_patentsberta, I_patentsberta = index_patentsberta.search(query_vector_patentsberta, k)"
   ]
  },
  {
   "cell_type": "code",
   "execution_count": null,
   "metadata": {},
   "outputs": [],
   "source": [
    "# Print row of df_keywords_claims that match the index\n",
    "df_keywords_list.iloc[I_bertforpatents[0]]"
   ]
  },
  {
   "cell_type": "markdown",
   "metadata": {},
   "source": [
    "# Cosine Similarity - Margin"
   ]
  },
  {
   "cell_type": "code",
   "execution_count": 26,
   "metadata": {},
   "outputs": [
    {
     "data": {
      "text/html": [
       "<style>#sk-container-id-5 {color: black;}#sk-container-id-5 pre{padding: 0;}#sk-container-id-5 div.sk-toggleable {background-color: white;}#sk-container-id-5 label.sk-toggleable__label {cursor: pointer;display: block;width: 100%;margin-bottom: 0;padding: 0.3em;box-sizing: border-box;text-align: center;}#sk-container-id-5 label.sk-toggleable__label-arrow:before {content: \"▸\";float: left;margin-right: 0.25em;color: #696969;}#sk-container-id-5 label.sk-toggleable__label-arrow:hover:before {color: black;}#sk-container-id-5 div.sk-estimator:hover label.sk-toggleable__label-arrow:before {color: black;}#sk-container-id-5 div.sk-toggleable__content {max-height: 0;max-width: 0;overflow: hidden;text-align: left;background-color: #f0f8ff;}#sk-container-id-5 div.sk-toggleable__content pre {margin: 0.2em;color: black;border-radius: 0.25em;background-color: #f0f8ff;}#sk-container-id-5 input.sk-toggleable__control:checked~div.sk-toggleable__content {max-height: 200px;max-width: 100%;overflow: auto;}#sk-container-id-5 input.sk-toggleable__control:checked~label.sk-toggleable__label-arrow:before {content: \"▾\";}#sk-container-id-5 div.sk-estimator input.sk-toggleable__control:checked~label.sk-toggleable__label {background-color: #d4ebff;}#sk-container-id-5 div.sk-label input.sk-toggleable__control:checked~label.sk-toggleable__label {background-color: #d4ebff;}#sk-container-id-5 input.sk-hidden--visually {border: 0;clip: rect(1px 1px 1px 1px);clip: rect(1px, 1px, 1px, 1px);height: 1px;margin: -1px;overflow: hidden;padding: 0;position: absolute;width: 1px;}#sk-container-id-5 div.sk-estimator {font-family: monospace;background-color: #f0f8ff;border: 1px dotted black;border-radius: 0.25em;box-sizing: border-box;margin-bottom: 0.5em;}#sk-container-id-5 div.sk-estimator:hover {background-color: #d4ebff;}#sk-container-id-5 div.sk-parallel-item::after {content: \"\";width: 100%;border-bottom: 1px solid gray;flex-grow: 1;}#sk-container-id-5 div.sk-label:hover label.sk-toggleable__label {background-color: #d4ebff;}#sk-container-id-5 div.sk-serial::before {content: \"\";position: absolute;border-left: 1px solid gray;box-sizing: border-box;top: 0;bottom: 0;left: 50%;z-index: 0;}#sk-container-id-5 div.sk-serial {display: flex;flex-direction: column;align-items: center;background-color: white;padding-right: 0.2em;padding-left: 0.2em;position: relative;}#sk-container-id-5 div.sk-item {position: relative;z-index: 1;}#sk-container-id-5 div.sk-parallel {display: flex;align-items: stretch;justify-content: center;background-color: white;position: relative;}#sk-container-id-5 div.sk-item::before, #sk-container-id-5 div.sk-parallel-item::before {content: \"\";position: absolute;border-left: 1px solid gray;box-sizing: border-box;top: 0;bottom: 0;left: 50%;z-index: -1;}#sk-container-id-5 div.sk-parallel-item {display: flex;flex-direction: column;z-index: 1;position: relative;background-color: white;}#sk-container-id-5 div.sk-parallel-item:first-child::after {align-self: flex-end;width: 50%;}#sk-container-id-5 div.sk-parallel-item:last-child::after {align-self: flex-start;width: 50%;}#sk-container-id-5 div.sk-parallel-item:only-child::after {width: 0;}#sk-container-id-5 div.sk-dashed-wrapped {border: 1px dashed gray;margin: 0 0.4em 0.5em 0.4em;box-sizing: border-box;padding-bottom: 0.4em;background-color: white;}#sk-container-id-5 div.sk-label label {font-family: monospace;font-weight: bold;display: inline-block;line-height: 1.2em;}#sk-container-id-5 div.sk-label-container {text-align: center;}#sk-container-id-5 div.sk-container {/* jupyter's `normalize.less` sets `[hidden] { display: none; }` but bootstrap.min.css set `[hidden] { display: none !important; }` so we also need the `!important` here to be able to override the default hidden behavior on the sphinx rendered scikit-learn.org. See: https://github.com/scikit-learn/scikit-learn/issues/21755 */display: inline-block !important;position: relative;}#sk-container-id-5 div.sk-text-repr-fallback {display: none;}</style><div id=\"sk-container-id-5\" class=\"sk-top-container\"><div class=\"sk-text-repr-fallback\"><pre>NearestNeighbors(metric=&#x27;cosine&#x27;, radius=0.25)</pre><b>In a Jupyter environment, please rerun this cell to show the HTML representation or trust the notebook. <br />On GitHub, the HTML representation is unable to render, please try loading this page with nbviewer.org.</b></div><div class=\"sk-container\" hidden><div class=\"sk-item\"><div class=\"sk-estimator sk-toggleable\"><input class=\"sk-toggleable__control sk-hidden--visually\" id=\"sk-estimator-id-5\" type=\"checkbox\" checked><label for=\"sk-estimator-id-5\" class=\"sk-toggleable__label sk-toggleable__label-arrow\">NearestNeighbors</label><div class=\"sk-toggleable__content\"><pre>NearestNeighbors(metric=&#x27;cosine&#x27;, radius=0.25)</pre></div></div></div></div></div>"
      ],
      "text/plain": [
       "NearestNeighbors(metric='cosine', radius=0.25)"
      ]
     },
     "execution_count": 26,
     "metadata": {},
     "output_type": "execute_result"
    }
   ],
   "source": [
    "# Convert lists of embeddings to a 2D array\n",
    "bertforpatents_embeddings = np.vstack(df_keywords_list[f'keywords_yake_{column}_bertforpatents_embedding'].apply(np.array))\n",
    "# climatebert_embeddings = np.vstack(df_keywords_list[f'keywords_yake_{column}_climatebert_embedding'].apply(np.array))\n",
    "# patentsberta_embeddings = np.vstack(df_keywords_list[f'keywords_yake_{column}_patentsberta_embedding'].apply(np.array))\n",
    "\n",
    "# Normalize embeddings\n",
    "# bertforpatents_embeddings_normalized = normalize(bertforpatents_embeddings)\n",
    "# climatebert_embeddings_normalized = normalize(climatebert_embeddings)\n",
    "# patentsberta_embeddings_normalized = normalize(patentsberta_embeddings)\n",
    "\n",
    "# Initialize NearestNeighbors with radius\n",
    "radius = 0.25\n",
    "nn_bertforpatents = NearestNeighbors(radius=radius, metric='cosine')\n",
    "# nn_climatebert = NearestNeighbors(radius=radius, metric='cosine')\n",
    "# nn_patentsberta = NearestNeighbors(radius=radius, metric='cosine')\n",
    "\n",
    "# Fit the models with normalized embeddings\n",
    "nn_bertforpatents.fit(bertforpatents_embeddings)\n",
    "# nn_climatebert.fit(climatebert_embeddings)\n",
    "# nn_patentsberta.fit(patentsberta_embeddings)"
   ]
  },
  {
   "cell_type": "code",
   "execution_count": 19,
   "metadata": {},
   "outputs": [
    {
     "data": {
      "text/html": [
       "<div>\n",
       "<style scoped>\n",
       "    .dataframe tbody tr th:only-of-type {\n",
       "        vertical-align: middle;\n",
       "    }\n",
       "\n",
       "    .dataframe tbody tr th {\n",
       "        vertical-align: top;\n",
       "    }\n",
       "\n",
       "    .dataframe thead th {\n",
       "        text-align: right;\n",
       "    }\n",
       "</style>\n",
       "<table border=\"1\" class=\"dataframe\">\n",
       "  <thead>\n",
       "    <tr style=\"text-align: right;\">\n",
       "      <th></th>\n",
       "      <th>keyword_yake_lemma</th>\n",
       "      <th>cleantech</th>\n",
       "      <th>keyword_yake_lemma_bertforpatents_embedding</th>\n",
       "      <th>neighbors_keyword_yake_lemma_bertforpatents_embedding</th>\n",
       "      <th>keywords_keyword_yake_lemma_bertforpatents_embedding</th>\n",
       "    </tr>\n",
       "  </thead>\n",
       "  <tbody>\n",
       "    <tr>\n",
       "      <th>0</th>\n",
       "      <td>aberrant</td>\n",
       "      <td>1</td>\n",
       "      <td>[0.2693934, 0.34846523, 0.6860294, 1.3137959, ...</td>\n",
       "      <td>[]</td>\n",
       "      <td>[]</td>\n",
       "    </tr>\n",
       "    <tr>\n",
       "      <th>1</th>\n",
       "      <td>abundant</td>\n",
       "      <td>1</td>\n",
       "      <td>[0.77166766, 0.18851693, 0.10953981, -0.604916...</td>\n",
       "      <td>[]</td>\n",
       "      <td>[]</td>\n",
       "    </tr>\n",
       "    <tr>\n",
       "      <th>2</th>\n",
       "      <td>accumulator</td>\n",
       "      <td>1</td>\n",
       "      <td>[0.50462705, -0.35983017, 0.38170147, 0.249620...</td>\n",
       "      <td>[406]</td>\n",
       "      <td>[accumulator]</td>\n",
       "    </tr>\n",
       "    <tr>\n",
       "      <th>3</th>\n",
       "      <td>accurate</td>\n",
       "      <td>1</td>\n",
       "      <td>[-0.7603557, 0.65543747, -0.50152314, -0.68986...</td>\n",
       "      <td>[423]</td>\n",
       "      <td>[accurate]</td>\n",
       "    </tr>\n",
       "    <tr>\n",
       "      <th>4</th>\n",
       "      <td>acidic</td>\n",
       "      <td>1</td>\n",
       "      <td>[-0.22680497, -0.63909197, 0.3487114, -0.08208...</td>\n",
       "      <td>[602]</td>\n",
       "      <td>[acidic]</td>\n",
       "    </tr>\n",
       "  </tbody>\n",
       "</table>\n",
       "</div>"
      ],
      "text/plain": [
       "  keyword_yake_lemma  cleantech  \\\n",
       "0           aberrant          1   \n",
       "1           abundant          1   \n",
       "2        accumulator          1   \n",
       "3           accurate          1   \n",
       "4             acidic          1   \n",
       "\n",
       "         keyword_yake_lemma_bertforpatents_embedding  \\\n",
       "0  [0.2693934, 0.34846523, 0.6860294, 1.3137959, ...   \n",
       "1  [0.77166766, 0.18851693, 0.10953981, -0.604916...   \n",
       "2  [0.50462705, -0.35983017, 0.38170147, 0.249620...   \n",
       "3  [-0.7603557, 0.65543747, -0.50152314, -0.68986...   \n",
       "4  [-0.22680497, -0.63909197, 0.3487114, -0.08208...   \n",
       "\n",
       "  neighbors_keyword_yake_lemma_bertforpatents_embedding  \\\n",
       "0                                                 []      \n",
       "1                                                 []      \n",
       "2                                              [406]      \n",
       "3                                              [423]      \n",
       "4                                              [602]      \n",
       "\n",
       "  keywords_keyword_yake_lemma_bertforpatents_embedding  \n",
       "0                                                 []    \n",
       "1                                                 []    \n",
       "2                                      [accumulator]    \n",
       "3                                         [accurate]    \n",
       "4                                           [acidic]    "
      ]
     },
     "execution_count": 19,
     "metadata": {},
     "output_type": "execute_result"
    }
   ],
   "source": [
    "df_keywords_titles.head()"
   ]
  },
  {
   "cell_type": "code",
   "execution_count": 20,
   "metadata": {},
   "outputs": [
    {
     "data": {
      "text/html": [
       "<div>\n",
       "<style scoped>\n",
       "    .dataframe tbody tr th:only-of-type {\n",
       "        vertical-align: middle;\n",
       "    }\n",
       "\n",
       "    .dataframe tbody tr th {\n",
       "        vertical-align: top;\n",
       "    }\n",
       "\n",
       "    .dataframe thead th {\n",
       "        text-align: right;\n",
       "    }\n",
       "</style>\n",
       "<table border=\"1\" class=\"dataframe\">\n",
       "  <thead>\n",
       "    <tr style=\"text-align: right;\">\n",
       "      <th></th>\n",
       "      <th>keywords_yake_claim_fulltext_lemma</th>\n",
       "      <th>abs_frequency</th>\n",
       "      <th>patent_id</th>\n",
       "      <th>publn_nr</th>\n",
       "      <th>oaid</th>\n",
       "      <th>keywords_yake_claim_fulltext_patentsberta_embedding</th>\n",
       "      <th>keywords_yake_claim_fulltext_climatebert_embedding</th>\n",
       "      <th>keywords_yake_claim_fulltext_bertforpatents_embedding</th>\n",
       "    </tr>\n",
       "  </thead>\n",
       "  <tbody>\n",
       "    <tr>\n",
       "      <th>0</th>\n",
       "      <td>aaa</td>\n",
       "      <td>35</td>\n",
       "      <td>[5626983, 9949165, 6492046, 5191275, 8758921, ...</td>\n",
       "      <td>[1142043, 3363790, 3041827, 1042828, 2982004]</td>\n",
       "      <td>[]</td>\n",
       "      <td>[-0.009164794300000001, -0.5787734985, -0.3139...</td>\n",
       "      <td>[-0.0193257574, -0.0141516225, 0.0131431855, 0...</td>\n",
       "      <td>[-0.4226518, -0.8338707, -0.44803128, 0.144316...</td>\n",
       "    </tr>\n",
       "    <tr>\n",
       "      <th>1</th>\n",
       "      <td>aac</td>\n",
       "      <td>7</td>\n",
       "      <td>[9067969, 7236059, 9524014, 6294352, 6417158, ...</td>\n",
       "      <td>[]</td>\n",
       "      <td>[]</td>\n",
       "      <td>[-0.1441015601, -0.5350900292, -0.2306492031, ...</td>\n",
       "      <td>[0.025997683400000002, 0.0462871417, 0.0207896...</td>\n",
       "      <td>[0.48455638, -0.2590338, -0.6084336, 0.1693312...</td>\n",
       "    </tr>\n",
       "    <tr>\n",
       "      <th>2</th>\n",
       "      <td>aar</td>\n",
       "      <td>5</td>\n",
       "      <td>[5986108, 9458069]</td>\n",
       "      <td>[3103867, 2946009, 3385375]</td>\n",
       "      <td>[]</td>\n",
       "      <td>[-0.1567861736, -0.6682188511, -0.2236177772, ...</td>\n",
       "      <td>[-0.0596974939, 0.0217031986, 0.09825296700000...</td>\n",
       "      <td>[-0.3915314, 0.0007248279, -0.173878, 0.000474...</td>\n",
       "    </tr>\n",
       "    <tr>\n",
       "      <th>3</th>\n",
       "      <td>aav</td>\n",
       "      <td>15</td>\n",
       "      <td>[10119125, 9695220, 11104885, 10980896, 717289...</td>\n",
       "      <td>[3060575, 1135468, 3459965, 3062884]</td>\n",
       "      <td>[]</td>\n",
       "      <td>[-0.16056068240000002, -1.0209388733, -0.22905...</td>\n",
       "      <td>[-0.0716600269, -0.0178589281, 0.0750997365, -...</td>\n",
       "      <td>[0.0051265955, -0.9149596, -0.28275645, -0.387...</td>\n",
       "    </tr>\n",
       "    <tr>\n",
       "      <th>4</th>\n",
       "      <td>aav capsid polypeptide</td>\n",
       "      <td>7</td>\n",
       "      <td>[10119125, 9695220, 11104885, 10526584, 9719070]</td>\n",
       "      <td>[3060575, 3459965]</td>\n",
       "      <td>[]</td>\n",
       "      <td>[-0.1696463823, -0.8892566562, -0.203945100300...</td>\n",
       "      <td>[-0.0224281326, 0.1100657359, 0.04343590140000...</td>\n",
       "      <td>[-0.46955767, 0.11430413, -0.46052542, -0.5106...</td>\n",
       "    </tr>\n",
       "  </tbody>\n",
       "</table>\n",
       "</div>"
      ],
      "text/plain": [
       "  keywords_yake_claim_fulltext_lemma  abs_frequency  \\\n",
       "0                                aaa             35   \n",
       "1                                aac              7   \n",
       "2                                aar              5   \n",
       "3                                aav             15   \n",
       "4             aav capsid polypeptide              7   \n",
       "\n",
       "                                           patent_id  \\\n",
       "0  [5626983, 9949165, 6492046, 5191275, 8758921, ...   \n",
       "1  [9067969, 7236059, 9524014, 6294352, 6417158, ...   \n",
       "2                                 [5986108, 9458069]   \n",
       "3  [10119125, 9695220, 11104885, 10980896, 717289...   \n",
       "4   [10119125, 9695220, 11104885, 10526584, 9719070]   \n",
       "\n",
       "                                        publn_nr oaid  \\\n",
       "0  [1142043, 3363790, 3041827, 1042828, 2982004]   []   \n",
       "1                                             []   []   \n",
       "2                    [3103867, 2946009, 3385375]   []   \n",
       "3           [3060575, 1135468, 3459965, 3062884]   []   \n",
       "4                             [3060575, 3459965]   []   \n",
       "\n",
       "  keywords_yake_claim_fulltext_patentsberta_embedding  \\\n",
       "0  [-0.009164794300000001, -0.5787734985, -0.3139...    \n",
       "1  [-0.1441015601, -0.5350900292, -0.2306492031, ...    \n",
       "2  [-0.1567861736, -0.6682188511, -0.2236177772, ...    \n",
       "3  [-0.16056068240000002, -1.0209388733, -0.22905...    \n",
       "4  [-0.1696463823, -0.8892566562, -0.203945100300...    \n",
       "\n",
       "  keywords_yake_claim_fulltext_climatebert_embedding  \\\n",
       "0  [-0.0193257574, -0.0141516225, 0.0131431855, 0...   \n",
       "1  [0.025997683400000002, 0.0462871417, 0.0207896...   \n",
       "2  [-0.0596974939, 0.0217031986, 0.09825296700000...   \n",
       "3  [-0.0716600269, -0.0178589281, 0.0750997365, -...   \n",
       "4  [-0.0224281326, 0.1100657359, 0.04343590140000...   \n",
       "\n",
       "  keywords_yake_claim_fulltext_bertforpatents_embedding  \n",
       "0  [-0.4226518, -0.8338707, -0.44803128, 0.144316...     \n",
       "1  [0.48455638, -0.2590338, -0.6084336, 0.1693312...     \n",
       "2  [-0.3915314, 0.0007248279, -0.173878, 0.000474...     \n",
       "3  [0.0051265955, -0.9149596, -0.28275645, -0.387...     \n",
       "4  [-0.46955767, 0.11430413, -0.46052542, -0.5106...     "
      ]
     },
     "execution_count": 20,
     "metadata": {},
     "output_type": "execute_result"
    }
   ],
   "source": [
    "df_keywords_list.head()"
   ]
  },
  {
   "cell_type": "code",
   "execution_count": 27,
   "metadata": {},
   "outputs": [
    {
     "name": "stderr",
     "output_type": "stream",
     "text": [
      "100%|██████████| 4777/4777 [02:55<00:00, 27.15it/s]\n"
     ]
    }
   ],
   "source": [
    "# Define the embeddings to process\n",
    "# embeddings = [f'keyword_yake_bertforpatents_embedding', f'keyword_yake_climatebert_embedding', f'keyword_yake_patentsberta_embedding']\n",
    "embeddings = ['keyword_yake_lemma_bertforpatents_embedding']\n",
    "# nn_models = [nn_bertforpatents, nn_climatebert, nn_patentsberta]\n",
    "nn_models = [nn_bertforpatents]\n",
    "k_neighbors = 100  # Maximum number of neighbors to return\n",
    "\n",
    "def get_keywords_by_indices(indices, df_source, k_neighbors=k_neighbors):\n",
    "    return df_source.iloc[indices[:k_neighbors]][f'keywords_yake_{column}_lemma'].tolist() if len(indices) else []\n",
    "\n",
    "def process_embeddings(row, nn_model, df_keywords_list, k_neighbors=k_neighbors):\n",
    "    # query_vector = normalize(np.array([row]).reshape(1, -1))\n",
    "    query_vector = np.array([row]).reshape(1, -1)\n",
    "    distances, indices = nn_model.radius_neighbors(query_vector)\n",
    "    neighbors = indices[0][:k_neighbors] if indices[0].size else np.array([])\n",
    "    keywords = get_keywords_by_indices(neighbors, df_keywords_list, k_neighbors)\n",
    "    return neighbors.tolist(), keywords\n",
    "\n",
    "# # Process each embedding\n",
    "# for embedding, nn_model in zip(embeddings, nn_models):\n",
    "#     neighbors_col = f'neighbors_{embedding}'\n",
    "#     keywords_col = f'keywords_{embedding}'\n",
    "\n",
    "#     results = df_keywords_titles[embedding].progress_apply(lambda x: process_embeddings(x, nn_model, df_keywords_list, k_neighbors))\n",
    "#     df_keywords_titles[neighbors_col] = results.progress_apply(lambda x: x[0])\n",
    "#     df_keywords_titles[keywords_col] = results.progress_apply(lambda x: x[1])\n",
    "\n",
    "def process_row(x):\n",
    "    return process_embeddings(x, nn_model, df_keywords_list, k_neighbors)\n",
    "\n",
    "pool = mp.Pool(mp.cpu_count())\n",
    "\n",
    "for embedding, nn_model in zip(embeddings, nn_models):\n",
    "    neighbors_col = f'neighbors_{embedding}'\n",
    "    keywords_col = f'keywords_{embedding}'\n",
    "\n",
    "    results = list(tqdm(pool.imap(process_row, df_keywords_titles[embedding]), total=df_keywords_titles[embedding].shape[0]))\n",
    "    df_keywords_titles[neighbors_col] = [result[0] for result in results]\n",
    "    df_keywords_titles[keywords_col] = [result[1] for result in results]\n",
    "\n",
    "pool.close()"
   ]
  },
  {
   "cell_type": "code",
   "execution_count": 28,
   "metadata": {},
   "outputs": [],
   "source": [
    "df_keywords_titles.to_json(f\"/mnt/hdd01/patentsview/Similarity Search - CPC Classification and Claims/Similarity Search/df_keyword_{column}s_cosine_similarity_radius_{str(radius).replace('.','')}_neighbors_{str(k_neighbors)}_noun_chunks.json\", orient='records')"
   ]
  },
  {
   "cell_type": "code",
   "execution_count": 42,
   "metadata": {},
   "outputs": [
    {
     "data": {
      "text/plain": [
       "2370"
      ]
     },
     "execution_count": 42,
     "metadata": {},
     "output_type": "execute_result"
    }
   ],
   "source": [
    "len(df_keywords_titles)"
   ]
  },
  {
   "cell_type": "code",
   "execution_count": null,
   "metadata": {},
   "outputs": [],
   "source": [
    "df_keywords_titles.head()"
   ]
  }
 ],
 "metadata": {
  "kernelspec": {
   "display_name": "venv",
   "language": "python",
   "name": "python3"
  },
  "language_info": {
   "codemirror_mode": {
    "name": "ipython",
    "version": 3
   },
   "file_extension": ".py",
   "mimetype": "text/x-python",
   "name": "python",
   "nbconvert_exporter": "python",
   "pygments_lexer": "ipython3",
   "version": "3.11.7"
  }
 },
 "nbformat": 4,
 "nbformat_minor": 2
}
