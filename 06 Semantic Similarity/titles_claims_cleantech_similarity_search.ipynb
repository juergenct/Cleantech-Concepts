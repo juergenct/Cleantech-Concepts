{
 "cells": [
  {
   "cell_type": "code",
   "execution_count": 1,
   "metadata": {},
   "outputs": [],
   "source": [
    "import pandas as pd\n",
    "import numpy as np\n",
    "from tqdm import tqdm\n",
    "tqdm.pandas()"
   ]
  },
  {
   "cell_type": "code",
   "execution_count": 3,
   "metadata": {},
   "outputs": [
    {
     "name": "stderr",
     "output_type": "stream",
     "text": [
      "100%|██████████| 506/506 [00:00<00:00, 58579.02it/s]\n",
      "100%|██████████| 506/506 [00:00<00:00, 61146.04it/s]\n",
      "100%|██████████| 506/506 [00:00<00:00, 47068.48it/s]\n"
     ]
    }
   ],
   "source": [
    "df_keywords_titles = pd.read_json('/mnt/hdd01/patentsview/Similarity Search - CPC Classification and Claims/df_keyword_y02_classification_embeddings_processed.json')\n",
    "\n",
    "# Convert columns 'keyword_patentsberta_embedding', 'keyword_climatebert_embedding', 'keyword_bertforpatents_embedding' to numpy arrays\n",
    "df_keywords_titles['keyword_patentsberta_embedding'] = df_keywords_titles['keyword_patentsberta_embedding'].progress_apply(lambda x: np.array(x, dtype=np.float32))\n",
    "df_keywords_titles['keyword_climatebert_embedding'] = df_keywords_titles['keyword_climatebert_embedding'].progress_apply(lambda x: np.array(x, dtype=np.float32))\n",
    "df_keywords_titles['keyword_bertforpatents_embedding'] = df_keywords_titles['keyword_bertforpatents_embedding'].progress_apply(lambda x: np.array(x, dtype=np.float32))"
   ]
  },
  {
   "cell_type": "code",
   "execution_count": 4,
   "metadata": {},
   "outputs": [
    {
     "name": "stderr",
     "output_type": "stream",
     "text": [
      "100%|██████████| 119212/119212 [00:02<00:00, 56894.35it/s]\n",
      "100%|██████████| 119212/119212 [00:02<00:00, 56850.77it/s]\n",
      "100%|██████████| 119212/119212 [00:02<00:00, 43091.00it/s]\n"
     ]
    }
   ],
   "source": [
    "df_keywords_claims = pd.read_json('/mnt/hdd01/patentsview/Similarity Search - CPC Classification and Claims/df_keywords_list_agg_uspto_epo_rel_embeddings.json')\n",
    "\n",
    "# Convert columns 'keyword_yake_patentsberta_embedding', 'keyword_yake_climatebert_embedding', 'keyword_yake_bertforpatents_embedding' to numpy arrays\n",
    "df_keywords_claims['keyword_yake_patentsberta_embedding'] = df_keywords_claims['keyword_yake_patentsberta_embedding'].progress_apply(lambda x: np.array(x, dtype=np.float32))\n",
    "df_keywords_claims['keyword_yake_climatebert_embedding'] = df_keywords_claims['keyword_yake_climatebert_embedding'].progress_apply(lambda x: np.array(x, dtype=np.float32))\n",
    "df_keywords_claims['keyword_yake_bertforpatents_embedding'] = df_keywords_claims['keyword_yake_bertforpatents_embedding'].progress_apply(lambda x: np.array(x, dtype=np.float32))"
   ]
  },
  {
   "cell_type": "markdown",
   "metadata": {},
   "source": [
    "# Testing"
   ]
  },
  {
   "cell_type": "code",
   "execution_count": 5,
   "metadata": {},
   "outputs": [
    {
     "data": {
      "text/html": [
       "<div>\n",
       "<style scoped>\n",
       "    .dataframe tbody tr th:only-of-type {\n",
       "        vertical-align: middle;\n",
       "    }\n",
       "\n",
       "    .dataframe tbody tr th {\n",
       "        vertical-align: top;\n",
       "    }\n",
       "\n",
       "    .dataframe thead th {\n",
       "        text-align: right;\n",
       "    }\n",
       "</style>\n",
       "<table border=\"1\" class=\"dataframe\">\n",
       "  <thead>\n",
       "    <tr style=\"text-align: right;\">\n",
       "      <th></th>\n",
       "      <th>keyword</th>\n",
       "      <th>cpc_subclass</th>\n",
       "      <th>yake_confidence</th>\n",
       "      <th>cpc_classification</th>\n",
       "      <th>keyword_patentsberta_embedding</th>\n",
       "      <th>keyword_climatebert_embedding</th>\n",
       "      <th>keyword_bertforpatents_embedding</th>\n",
       "    </tr>\n",
       "  </thead>\n",
       "  <tbody>\n",
       "    <tr>\n",
       "      <th>408</th>\n",
       "      <td>integrating renewable energies</td>\n",
       "      <td>Y02B</td>\n",
       "      <td>0.016559</td>\n",
       "      <td>[Y02B10/70]</td>\n",
       "      <td>[0.0085369125, -0.27431762, -0.38026205, 0.115...</td>\n",
       "      <td>[-0.0068912036, 0.083790846, 0.029009134, 0.04...</td>\n",
       "      <td>[-0.64233226, -0.06896591, 0.97839415, -0.4392...</td>\n",
       "    </tr>\n",
       "    <tr>\n",
       "      <th>417</th>\n",
       "      <td>renewable energies</td>\n",
       "      <td>Y02W</td>\n",
       "      <td>0.049404</td>\n",
       "      <td>[Y02A40/58, Y02A40/924, Y02P60/12, Y02P60/52, ...</td>\n",
       "      <td>[0.19664274, -0.14419907, -0.42156896, -0.0085...</td>\n",
       "      <td>[0.0091875475, 0.18294825, 0.012616519, -0.066...</td>\n",
       "      <td>[-0.15973344, -0.056596946, 1.0088742, -0.2141...</td>\n",
       "    </tr>\n",
       "  </tbody>\n",
       "</table>\n",
       "</div>"
      ],
      "text/plain": [
       "                            keyword cpc_subclass  yake_confidence  \\\n",
       "408  integrating renewable energies         Y02B         0.016559   \n",
       "417              renewable energies         Y02W         0.049404   \n",
       "\n",
       "                                    cpc_classification  \\\n",
       "408                                        [Y02B10/70]   \n",
       "417  [Y02A40/58, Y02A40/924, Y02P60/12, Y02P60/52, ...   \n",
       "\n",
       "                        keyword_patentsberta_embedding  \\\n",
       "408  [0.0085369125, -0.27431762, -0.38026205, 0.115...   \n",
       "417  [0.19664274, -0.14419907, -0.42156896, -0.0085...   \n",
       "\n",
       "                         keyword_climatebert_embedding  \\\n",
       "408  [-0.0068912036, 0.083790846, 0.029009134, 0.04...   \n",
       "417  [0.0091875475, 0.18294825, 0.012616519, -0.066...   \n",
       "\n",
       "                      keyword_bertforpatents_embedding  \n",
       "408  [-0.64233226, -0.06896591, 0.97839415, -0.4392...  \n",
       "417  [-0.15973344, -0.056596946, 1.0088742, -0.2141...  "
      ]
     },
     "execution_count": 5,
     "metadata": {},
     "output_type": "execute_result"
    }
   ],
   "source": [
    "# Print out all 'keyword' that contain 'xxx'\n",
    "df_keywords_titles[df_keywords_titles['keyword'].str.contains('renewable energies')]"
   ]
  },
  {
   "cell_type": "code",
   "execution_count": 32,
   "metadata": {},
   "outputs": [],
   "source": [
    "# Set search test to row with keyword = solar cells\n",
    "df_search_test_titles = df_keywords_titles[df_keywords_titles['keyword'] == 'wind energy']"
   ]
  },
  {
   "cell_type": "code",
   "execution_count": 33,
   "metadata": {},
   "outputs": [],
   "source": [
    "# Reset index of df_search_test_titles\n",
    "df_search_test_titles.reset_index(drop=True, inplace=True)"
   ]
  },
  {
   "cell_type": "code",
   "execution_count": 34,
   "metadata": {},
   "outputs": [
    {
     "data": {
      "text/html": [
       "<div>\n",
       "<style scoped>\n",
       "    .dataframe tbody tr th:only-of-type {\n",
       "        vertical-align: middle;\n",
       "    }\n",
       "\n",
       "    .dataframe tbody tr th {\n",
       "        vertical-align: top;\n",
       "    }\n",
       "\n",
       "    .dataframe thead th {\n",
       "        text-align: right;\n",
       "    }\n",
       "</style>\n",
       "<table border=\"1\" class=\"dataframe\">\n",
       "  <thead>\n",
       "    <tr style=\"text-align: right;\">\n",
       "      <th></th>\n",
       "      <th>keyword</th>\n",
       "      <th>cpc_subclass</th>\n",
       "      <th>yake_confidence</th>\n",
       "      <th>cpc_classification</th>\n",
       "      <th>keyword_patentsberta_embedding</th>\n",
       "      <th>keyword_climatebert_embedding</th>\n",
       "      <th>keyword_bertforpatents_embedding</th>\n",
       "    </tr>\n",
       "  </thead>\n",
       "  <tbody>\n",
       "    <tr>\n",
       "      <th>0</th>\n",
       "      <td>wind energy</td>\n",
       "      <td>Y02W</td>\n",
       "      <td>0.025709</td>\n",
       "      <td>[Y02E10/70, Y02W10/33]</td>\n",
       "      <td>[-0.13935463, -0.22561637, -0.41005242, 0.1530...</td>\n",
       "      <td>[-0.024680587, 0.121622354, -0.023151487, -0.1...</td>\n",
       "      <td>[0.027174294, -0.26510686, 0.42312163, -0.7440...</td>\n",
       "    </tr>\n",
       "  </tbody>\n",
       "</table>\n",
       "</div>"
      ],
      "text/plain": [
       "       keyword cpc_subclass  yake_confidence      cpc_classification  \\\n",
       "0  wind energy         Y02W         0.025709  [Y02E10/70, Y02W10/33]   \n",
       "\n",
       "                      keyword_patentsberta_embedding  \\\n",
       "0  [-0.13935463, -0.22561637, -0.41005242, 0.1530...   \n",
       "\n",
       "                       keyword_climatebert_embedding  \\\n",
       "0  [-0.024680587, 0.121622354, -0.023151487, -0.1...   \n",
       "\n",
       "                    keyword_bertforpatents_embedding  \n",
       "0  [0.027174294, -0.26510686, 0.42312163, -0.7440...  "
      ]
     },
     "execution_count": 34,
     "metadata": {},
     "output_type": "execute_result"
    }
   ],
   "source": [
    "df_search_test_titles"
   ]
  },
  {
   "cell_type": "markdown",
   "metadata": {},
   "source": [
    "# Similarity Search"
   ]
  },
  {
   "cell_type": "code",
   "execution_count": 9,
   "metadata": {},
   "outputs": [],
   "source": [
    "import faiss\n",
    "from sklearn.preprocessing import normalize\n",
    "from sklearn.neighbors import NearestNeighbors"
   ]
  },
  {
   "cell_type": "markdown",
   "metadata": {},
   "source": [
    "# Euclidean Distance - kNN"
   ]
  },
  {
   "cell_type": "code",
   "execution_count": null,
   "metadata": {},
   "outputs": [],
   "source": [
    "# Eucledian distance\n",
    "index_bertforpatents = faiss.IndexFlatL2(1024)   # build the index\n",
    "index_climatebert = faiss.IndexFlatL2(768)   # build the index\n",
    "index_patentsberta = faiss.IndexFlatL2(768)   # build the index\n",
    "\n",
    "# Add df_keywords_claims column 'keyword_yake_bertforpatents_embedding' to index\n",
    "index_bertforpatents.add(np.array(df_keywords_claims['keyword_yake_bertforpatents_embedding'].tolist()))\n",
    "index_climatebert.add(np.array(df_keywords_claims['keyword_yake_climatebert_embedding'].tolist()))\n",
    "index_patentsberta.add(np.array(df_keywords_claims['keyword_yake_patentsberta_embedding'].tolist()))\n",
    "\n",
    "query_vector_bertforpatents = np.array(df_search_test_titles['keyword_bertforpatents_embedding'][0]).reshape(1, -1)\n",
    "query_vector_climatebert = np.array(df_search_test_titles['keyword_climatebert_embedding'][0]).reshape(1, -1)\n",
    "query_vector_patentsberta = np.array(df_search_test_titles['keyword_patentsberta_embedding'][0]).reshape(1, -1)"
   ]
  },
  {
   "cell_type": "code",
   "execution_count": null,
   "metadata": {},
   "outputs": [],
   "source": [
    "k = 25\n",
    "D_bertforpatents, I_bertforpatents = index_bertforpatents.search(query_vector_bertforpatents, k)\n",
    "D_climatebert, I_climatebert = index_climatebert.search(query_vector_climatebert, k)\n",
    "D_patentsberta, I_patentsberta = index_patentsberta.search(query_vector_patentsberta, k)"
   ]
  },
  {
   "cell_type": "code",
   "execution_count": null,
   "metadata": {},
   "outputs": [],
   "source": [
    "# Print row of df_keywords_claims that match the index\n",
    "df_keywords_claims.iloc[I_patentsberta[0]]"
   ]
  },
  {
   "cell_type": "markdown",
   "metadata": {},
   "source": [
    "# Cosine Similarity - kNN"
   ]
  },
  {
   "cell_type": "code",
   "execution_count": null,
   "metadata": {},
   "outputs": [],
   "source": [
    "# Cosine similarity\n",
    "index_bertforpatents = faiss.index_factory(1024, \"Flat\", faiss.METRIC_INNER_PRODUCT)\n",
    "index_climatebert = faiss.index_factory(768, \"Flat\", faiss.METRIC_INNER_PRODUCT)\n",
    "index_patentsberta = faiss.index_factory(768, \"Flat\", faiss.METRIC_INNER_PRODUCT)\n",
    "\n",
    "faiss.normalize_L2(np.array(df_keywords_claims['keyword_yake_bertforpatents_embedding'].tolist()))\n",
    "faiss.normalize_L2(np.array(df_keywords_claims['keyword_yake_climatebert_embedding'].tolist()))\n",
    "faiss.normalize_L2(np.array(df_keywords_claims['keyword_yake_patentsberta_embedding'].tolist()))\n",
    "\n",
    "index_bertforpatents.add(np.array(df_keywords_claims['keyword_yake_bertforpatents_embedding'].tolist()))\n",
    "index_climatebert.add(np.array(df_keywords_claims['keyword_yake_climatebert_embedding'].tolist()))\n",
    "index_patentsberta.add(np.array(df_keywords_claims['keyword_yake_patentsberta_embedding'].tolist()))\n",
    "\n",
    "query_vector_bertforpatents = np.array(df_search_test_titles['keyword_bertforpatents_embedding'][0]).reshape(1, -1)\n",
    "query_vector_climatebert = np.array(df_search_test_titles['keyword_climatebert_embedding'][0]).reshape(1, -1)\n",
    "query_vector_patentsberta = np.array(df_search_test_titles['keyword_patentsberta_embedding'][0]).reshape(1, -1)\n",
    "\n",
    "faiss.normalize_L2(query_vector_bertforpatents)\n",
    "faiss.normalize_L2(query_vector_climatebert)\n",
    "faiss.normalize_L2(query_vector_patentsberta)"
   ]
  },
  {
   "cell_type": "code",
   "execution_count": null,
   "metadata": {},
   "outputs": [],
   "source": [
    "k = 6\n",
    "D_bertforpatents, I_bertforpatents = index_bertforpatents.search(query_vector_bertforpatents, k)\n",
    "D_climatebert, I_climatebert = index_climatebert.search(query_vector_climatebert, k)\n",
    "D_patentsberta, I_patentsberta = index_patentsberta.search(query_vector_patentsberta, k)"
   ]
  },
  {
   "cell_type": "code",
   "execution_count": null,
   "metadata": {},
   "outputs": [],
   "source": [
    "# Print row of df_keywords_claims that match the index\n",
    "df_keywords_claims.iloc[I_bertforpatents[0]]"
   ]
  },
  {
   "cell_type": "markdown",
   "metadata": {},
   "source": [
    "# Cosine Similarity - Margin"
   ]
  },
  {
   "cell_type": "code",
   "execution_count": 35,
   "metadata": {},
   "outputs": [
    {
     "data": {
      "text/html": [
       "<style>#sk-container-id-7 {color: black;}#sk-container-id-7 pre{padding: 0;}#sk-container-id-7 div.sk-toggleable {background-color: white;}#sk-container-id-7 label.sk-toggleable__label {cursor: pointer;display: block;width: 100%;margin-bottom: 0;padding: 0.3em;box-sizing: border-box;text-align: center;}#sk-container-id-7 label.sk-toggleable__label-arrow:before {content: \"▸\";float: left;margin-right: 0.25em;color: #696969;}#sk-container-id-7 label.sk-toggleable__label-arrow:hover:before {color: black;}#sk-container-id-7 div.sk-estimator:hover label.sk-toggleable__label-arrow:before {color: black;}#sk-container-id-7 div.sk-toggleable__content {max-height: 0;max-width: 0;overflow: hidden;text-align: left;background-color: #f0f8ff;}#sk-container-id-7 div.sk-toggleable__content pre {margin: 0.2em;color: black;border-radius: 0.25em;background-color: #f0f8ff;}#sk-container-id-7 input.sk-toggleable__control:checked~div.sk-toggleable__content {max-height: 200px;max-width: 100%;overflow: auto;}#sk-container-id-7 input.sk-toggleable__control:checked~label.sk-toggleable__label-arrow:before {content: \"▾\";}#sk-container-id-7 div.sk-estimator input.sk-toggleable__control:checked~label.sk-toggleable__label {background-color: #d4ebff;}#sk-container-id-7 div.sk-label input.sk-toggleable__control:checked~label.sk-toggleable__label {background-color: #d4ebff;}#sk-container-id-7 input.sk-hidden--visually {border: 0;clip: rect(1px 1px 1px 1px);clip: rect(1px, 1px, 1px, 1px);height: 1px;margin: -1px;overflow: hidden;padding: 0;position: absolute;width: 1px;}#sk-container-id-7 div.sk-estimator {font-family: monospace;background-color: #f0f8ff;border: 1px dotted black;border-radius: 0.25em;box-sizing: border-box;margin-bottom: 0.5em;}#sk-container-id-7 div.sk-estimator:hover {background-color: #d4ebff;}#sk-container-id-7 div.sk-parallel-item::after {content: \"\";width: 100%;border-bottom: 1px solid gray;flex-grow: 1;}#sk-container-id-7 div.sk-label:hover label.sk-toggleable__label {background-color: #d4ebff;}#sk-container-id-7 div.sk-serial::before {content: \"\";position: absolute;border-left: 1px solid gray;box-sizing: border-box;top: 0;bottom: 0;left: 50%;z-index: 0;}#sk-container-id-7 div.sk-serial {display: flex;flex-direction: column;align-items: center;background-color: white;padding-right: 0.2em;padding-left: 0.2em;position: relative;}#sk-container-id-7 div.sk-item {position: relative;z-index: 1;}#sk-container-id-7 div.sk-parallel {display: flex;align-items: stretch;justify-content: center;background-color: white;position: relative;}#sk-container-id-7 div.sk-item::before, #sk-container-id-7 div.sk-parallel-item::before {content: \"\";position: absolute;border-left: 1px solid gray;box-sizing: border-box;top: 0;bottom: 0;left: 50%;z-index: -1;}#sk-container-id-7 div.sk-parallel-item {display: flex;flex-direction: column;z-index: 1;position: relative;background-color: white;}#sk-container-id-7 div.sk-parallel-item:first-child::after {align-self: flex-end;width: 50%;}#sk-container-id-7 div.sk-parallel-item:last-child::after {align-self: flex-start;width: 50%;}#sk-container-id-7 div.sk-parallel-item:only-child::after {width: 0;}#sk-container-id-7 div.sk-dashed-wrapped {border: 1px dashed gray;margin: 0 0.4em 0.5em 0.4em;box-sizing: border-box;padding-bottom: 0.4em;background-color: white;}#sk-container-id-7 div.sk-label label {font-family: monospace;font-weight: bold;display: inline-block;line-height: 1.2em;}#sk-container-id-7 div.sk-label-container {text-align: center;}#sk-container-id-7 div.sk-container {/* jupyter's `normalize.less` sets `[hidden] { display: none; }` but bootstrap.min.css set `[hidden] { display: none !important; }` so we also need the `!important` here to be able to override the default hidden behavior on the sphinx rendered scikit-learn.org. See: https://github.com/scikit-learn/scikit-learn/issues/21755 */display: inline-block !important;position: relative;}#sk-container-id-7 div.sk-text-repr-fallback {display: none;}</style><div id=\"sk-container-id-7\" class=\"sk-top-container\"><div class=\"sk-text-repr-fallback\"><pre>NearestNeighbors(metric=&#x27;cosine&#x27;, radius=0.25)</pre><b>In a Jupyter environment, please rerun this cell to show the HTML representation or trust the notebook. <br />On GitHub, the HTML representation is unable to render, please try loading this page with nbviewer.org.</b></div><div class=\"sk-container\" hidden><div class=\"sk-item\"><div class=\"sk-estimator sk-toggleable\"><input class=\"sk-toggleable__control sk-hidden--visually\" id=\"sk-estimator-id-7\" type=\"checkbox\" checked><label for=\"sk-estimator-id-7\" class=\"sk-toggleable__label sk-toggleable__label-arrow\">NearestNeighbors</label><div class=\"sk-toggleable__content\"><pre>NearestNeighbors(metric=&#x27;cosine&#x27;, radius=0.25)</pre></div></div></div></div></div>"
      ],
      "text/plain": [
       "NearestNeighbors(metric='cosine', radius=0.25)"
      ]
     },
     "execution_count": 35,
     "metadata": {},
     "output_type": "execute_result"
    }
   ],
   "source": [
    "# Convert lists of embeddings to a 2D array\n",
    "bertforpatents_embeddings = np.vstack(df_keywords_claims['keyword_yake_bertforpatents_embedding'].apply(np.array))\n",
    "climatebert_embeddings = np.vstack(df_keywords_claims['keyword_yake_climatebert_embedding'].apply(np.array))\n",
    "patentsberta_embeddings = np.vstack(df_keywords_claims['keyword_yake_patentsberta_embedding'].apply(np.array))\n",
    "\n",
    "# Normalize embeddings\n",
    "bertforpatents_embeddings_normalized = normalize(bertforpatents_embeddings)\n",
    "climatebert_embeddings_normalized = normalize(climatebert_embeddings)\n",
    "patentsberta_embeddings_normalized = normalize(patentsberta_embeddings)\n",
    "\n",
    "# Initialize NearestNeighbors with radius\n",
    "radius = 0.25  # Adjust based on your requirements\n",
    "nn_bertforpatents = NearestNeighbors(radius=radius, metric='cosine')\n",
    "nn_climatebert = NearestNeighbors(radius=radius, metric='cosine')\n",
    "nn_patentsberta = NearestNeighbors(radius=radius, metric='cosine')\n",
    "\n",
    "# Fit the models with normalized embeddings\n",
    "nn_bertforpatents.fit(bertforpatents_embeddings_normalized)\n",
    "nn_climatebert.fit(climatebert_embeddings_normalized)\n",
    "nn_patentsberta.fit(patentsberta_embeddings_normalized)"
   ]
  },
  {
   "cell_type": "code",
   "execution_count": 50,
   "metadata": {},
   "outputs": [
    {
     "name": "stderr",
     "output_type": "stream",
     "text": [
      "506it [04:50,  1.74it/s]\n"
     ]
    }
   ],
   "source": [
    "# Helper function to get keywords by indices\n",
    "def get_keywords_by_indices(indices, df_source):\n",
    "    return df_source.iloc[indices]['keyword_yake'].tolist() if indices.size else []\n",
    "\n",
    "# Extend df_keywords_titles with columns for keywords corresponding to the neighbor indices\n",
    "df_keywords_titles['keywords_bertforpatents'] = None\n",
    "df_keywords_titles['keywords_climatebert'] = None\n",
    "df_keywords_titles['keywords_patentsberta'] = None\n",
    "\n",
    "from joblib import parallel_backend\n",
    "\n",
    "with parallel_backend('threading', n_jobs=12):\n",
    "    # Your scikit-learn code here\n",
    "    # Loop over each row in the DataFrame to use each set of embeddings as query vectors\n",
    "    for index, row in tqdm(df_keywords_titles.iterrows()):\n",
    "        # Extract and normalize the query vectors\n",
    "        query_vector_bertforpatents = normalize(np.array([row['keyword_bertforpatents_embedding']]).reshape(1, -1))\n",
    "        query_vector_climatebert = normalize(np.array([row['keyword_climatebert_embedding']]).reshape(1, -1))\n",
    "        query_vector_patentsberta = normalize(np.array([row['keyword_patentsberta_embedding']]).reshape(1, -1))\n",
    "        \n",
    "        # Find neighbors within the radius for each model\n",
    "        indices_bertforpatents = nn_bertforpatents.radius_neighbors(query_vector_bertforpatents, return_distance=False)\n",
    "        indices_climatebert = nn_climatebert.radius_neighbors(query_vector_climatebert, return_distance=False)\n",
    "        indices_patentsberta = nn_patentsberta.radius_neighbors(query_vector_patentsberta, return_distance=False)\n",
    "        \n",
    "        # Get the neighbors, or an empty array if none are found\n",
    "        neighbors_bertforpatents = indices_bertforpatents[0] if indices_bertforpatents[0].size else np.array([])\n",
    "        neighbors_climatebert = indices_climatebert[0] if indices_climatebert[0].size else np.array([])\n",
    "        neighbors_patentsberta = indices_patentsberta[0] if indices_patentsberta[0].size else np.array([])\n",
    "        \n",
    "        # Get the keywords from df_keywords_claims corresponding to the indices\n",
    "        keywords_bertforpatents = get_keywords_by_indices(neighbors_bertforpatents, df_keywords_claims)\n",
    "        keywords_climatebert = get_keywords_by_indices(neighbors_climatebert, df_keywords_claims)\n",
    "        keywords_patentsberta = get_keywords_by_indices(neighbors_patentsberta, df_keywords_claims)\n",
    "        \n",
    "        # Assign the neighbors and keywords back to the DataFrame\n",
    "        df_keywords_titles.at[index, 'neighbors_bertforpatents'] = neighbors_bertforpatents.tolist()\n",
    "        df_keywords_titles.at[index, 'neighbors_climatebert'] = neighbors_climatebert.tolist()\n",
    "        df_keywords_titles.at[index, 'neighbors_patentsberta'] = neighbors_patentsberta.tolist()\n",
    "        df_keywords_titles.at[index, 'keywords_bertforpatents'] = keywords_bertforpatents\n",
    "        df_keywords_titles.at[index, 'keywords_climatebert'] = keywords_climatebert\n",
    "        df_keywords_titles.at[index, 'keywords_patentsberta'] = keywords_patentsberta"
   ]
  },
  {
   "cell_type": "code",
   "execution_count": 52,
   "metadata": {},
   "outputs": [],
   "source": [
    "df_keywords_titles.to_json('/mnt/hdd01/patentsview/Similarity Search - CPC Classification and Claims/df_keyword_titles_cosine_similarity_radius_025.json')"
   ]
  }
 ],
 "metadata": {
  "kernelspec": {
   "display_name": "venv",
   "language": "python",
   "name": "python3"
  },
  "language_info": {
   "codemirror_mode": {
    "name": "ipython",
    "version": 3
   },
   "file_extension": ".py",
   "mimetype": "text/x-python",
   "name": "python",
   "nbconvert_exporter": "python",
   "pygments_lexer": "ipython3",
   "version": "3.11.6"
  }
 },
 "nbformat": 4,
 "nbformat_minor": 2
}
