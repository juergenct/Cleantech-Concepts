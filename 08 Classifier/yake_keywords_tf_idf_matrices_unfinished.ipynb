{
 "cells": [
  {
   "cell_type": "code",
   "execution_count": 2,
   "metadata": {},
   "outputs": [],
   "source": [
    "import os\n",
    "import pandas as pd\n",
    "from sklearn.feature_extraction.text import CountVectorizer, HashingVectorizer\n",
    "import unicodedata\n",
    "import re\n",
    "import nltk\n",
    "from nltk.stem import WordNetLemmatizer\n",
    "# Initialize the WordNetLemmatizer\n",
    "lemmatizer = WordNetLemmatizer()"
   ]
  },
  {
   "cell_type": "code",
   "execution_count": 3,
   "metadata": {},
   "outputs": [],
   "source": [
    "def clean_and_lemmatize(text):\n",
    "    \"\"\"\n",
    "    Normalize, clean, and lemmatize the input text.\n",
    "\n",
    "    :param text: A string containing the text to be processed.\n",
    "    :return: A string representing the processed text.\n",
    "    \"\"\"\n",
    "    # Normalize the text with unicodedata\n",
    "    text = unicodedata.normalize(\"NFKD\", text).encode('ASCII', 'ignore').decode('utf-8')\n",
    "\n",
    "    # Remove URLs, brackets, and non-alphabetic characters; convert to lowercase\n",
    "    text = re.sub(r\"\\[.*?\\]|\\(.*?\\)|\\{.*?\\}\", \"\", text)\n",
    "    text = re.sub(r\"https?:\\/\\/\\S+\", \"\", text)\n",
    "    text = re.sub(r\"[^a-zA-Z- ]\", \" \", text).lower().strip()\n",
    "\n",
    "    # Lemmatize each word\n",
    "    lemmatized_text = ' '.join([lemmatizer.lemmatize(word) for word in text.split()])\n",
    "\n",
    "    return lemmatized_text"
   ]
  },
  {
   "cell_type": "markdown",
   "metadata": {},
   "source": [
    "# TF-IDF Matrix Creations"
   ]
  },
  {
   "cell_type": "markdown",
   "metadata": {},
   "source": [
    "## Prepare Cleantech Keyword List"
   ]
  },
  {
   "cell_type": "code",
   "execution_count": 4,
   "metadata": {},
   "outputs": [],
   "source": [
    "### Prepare Cleantech Data\n",
    "# Co-Occurrence Directory\n",
    "# co_occurrence_dir = '/mnt/hdd01/patentsview/Similarity Search - CPC Classification and Claims/Co-Occurrence Analysis/'\n",
    "# co_occurrence_files = glob.glob(co_occurrence_dir + '*.csv')\n",
    "co_occurrence_files = '/mnt/hdd01/patentsview/Similarity Search - CPC Classification and Claims/Co-Occurrence Analysis/co_occurrence_matrix_yake_keywords_cleantech_uspto_epo_rel_ids_semantic_similarity_02.csv'\n",
    "\n",
    "# Similarity Directory\n",
    "# similarity_dir = '/mnt/hdd01/patentsview/Similarity Search - CPC Classification and Claims/Similarity Search/'\n",
    "# similarity_files = glob.glob(similarity_dir + '*.json')\n",
    "similarity_files = '/mnt/hdd01/patentsview/Similarity Search - CPC Classification and Claims/Similarity Search/df_keyword_titles_cosine_similarity_radius_025_neighbors_100_noun_chunks.json'\n",
    "\n",
    "# Co-Occurrence Threshold\n",
    "# co_occurrence_threshold = [0.01, 0.025, 0.05, 0.1, 0.15]\n",
    "co_occurrence_threshold = [0.01]"
   ]
  },
  {
   "cell_type": "code",
   "execution_count": 5,
   "metadata": {},
   "outputs": [
    {
     "name": "stderr",
     "output_type": "stream",
     "text": [
      "/tmp/ipykernel_5563/1717675447.py:11: FutureWarning: DataFrame.applymap has been deprecated. Use DataFrame.map instead.\n",
      "  mask = df_cleantech_cooccurrence.applymap(lambda x: x >= co_occurrence_threshold)\n"
     ]
    }
   ],
   "source": [
    "# Load the data\n",
    "df_cleantech_cooccurrence = pd.read_csv(co_occurrence_files, index_col=0)\n",
    "df_cleantech_cooccurrence.dropna(how='all', inplace=True)\n",
    "\n",
    "df_cleantech_similarity = pd.read_json(similarity_files)\n",
    "\n",
    "# Co-Occurrence Threshold\n",
    "co_occurrence_threshold = 0.01  # Assuming you are using a single threshold value\n",
    "\n",
    "# Create a mask for the co-occurrence threshold\n",
    "mask = df_cleantech_cooccurrence.applymap(lambda x: x >= co_occurrence_threshold)\n",
    "\n",
    "# Apply mask to DataFrame\n",
    "filtered_co_occurrence_df = df_cleantech_cooccurrence[mask]\n",
    "\n",
    "# Extract keywords\n",
    "co_occurrence_list = filtered_co_occurrence_df.columns[filtered_co_occurrence_df.any()].tolist()\n",
    "\n",
    "# Processing similarity data\n",
    "similarity_series = pd.concat([df_cleantech_similarity['keyword_yake_lemma'], df_cleantech_similarity['keywords_keyword_yake_bertforpatents_embedding'].explode()], ignore_index=True)\n",
    "similarity_list = similarity_series.drop_duplicates().tolist()\n",
    "\n",
    "# Combine and deduplicate lists\n",
    "cleantech_list = list(set(co_occurrence_list + similarity_list))\n",
    "cleantech_list = [str(keyword) for keyword in cleantech_list]\n",
    "\n",
    "# # Create DataFrame\n",
    "# df_cleantech = pd.DataFrame(cleantech_list, columns=['keyword_yake_lemma'])\n",
    "# df_cleantech['cleantech'] = 1"
   ]
  },
  {
   "cell_type": "code",
   "execution_count": 6,
   "metadata": {},
   "outputs": [],
   "source": [
    "del df_cleantech_cooccurrence\n",
    "del df_cleantech_similarity\n",
    "del co_occurrence_list\n",
    "del similarity_list"
   ]
  },
  {
   "cell_type": "markdown",
   "metadata": {},
   "source": [
    "## Prepare Documents - Create TF-IDF Matrices"
   ]
  },
  {
   "cell_type": "markdown",
   "metadata": {},
   "source": [
    "### USPTO - Cleantech"
   ]
  },
  {
   "cell_type": "code",
   "execution_count": null,
   "metadata": {},
   "outputs": [],
   "source": [
    "g_uspto_cleantech = pd.read_json('/mnt/hdd01/patentsview/Patentsview - Cleantech Patents/g_patent_claims_fulltext_cleantech.json')\n",
    "g_uspto_cleantech['patent_id'] = 'us-' + g_uspto_cleantech['patent_id'].astype(str)\n",
    "g_uspto_cleantech['claim_fulltext'] = g_uspto_cleantech['claim_fulltext'].apply(clean_and_lemmatize)\n",
    "# Create Document List for CountVectorizer\n",
    "document_list = g_uspto_cleantech['claim_fulltext'].tolist()\n",
    "# Cast to string\n",
    "document_list = [str(x) for x in document_list]\n",
    "# Create CountVectorizer\n",
    "vectorizer_uspto_cleantech = CountVectorizer(vocabulary=cleantech_list)\n",
    "# Create Document Term Matrix\n",
    "document_term_matrix_uspto_cleantech = vectorizer_uspto_cleantech.fit_transform(document_list)\n",
    "# Create DataFrame\n",
    "df_uspto_cleantech = pd.DataFrame(document_term_matrix_uspto_cleantech.toarray().transpose(),\n",
    "                                  index=vectorizer_uspto_cleantech.get_feature_names_out(),\n",
    "                                  columns=g_uspto_cleantech['patent_id'])\n",
    "# Save DataFrame\n",
    "df_uspto_cleantech.to_csv('/mnt/hdd01/patentsview/Similarity Search - CPC Classification and Claims/TFIDF Matrices/df_uspto_cleantech.csv')"
   ]
  },
  {
   "cell_type": "code",
   "execution_count": null,
   "metadata": {},
   "outputs": [],
   "source": [
    "# Print dimensions\n",
    "print(df_uspto_cleantech.shape)"
   ]
  },
  {
   "cell_type": "code",
   "execution_count": null,
   "metadata": {},
   "outputs": [],
   "source": [
    "# Delete all variables\n",
    "del df_uspto_cleantech\n",
    "del document_list\n",
    "del vectorizer_uspto_cleantech\n",
    "del document_term_matrix_uspto_cleantech\n",
    "del g_uspto_cleantech"
   ]
  },
  {
   "cell_type": "markdown",
   "metadata": {},
   "source": [
    "### USPTO - Non Cleantech"
   ]
  },
  {
   "cell_type": "code",
   "execution_count": null,
   "metadata": {},
   "outputs": [],
   "source": [
    "g_uspto_non_cleantech = pd.read_json('/mnt/hdd01/patentsview/Non Cleantech Patents - Classifier Set/g_uspto_non_cleantech_claims_fulltext.json')\n",
    "g_uspto_non_cleantech['patent_id'] = 'us-' + g_uspto_non_cleantech['patent_id'].astype(str)\n",
    "g_uspto_non_cleantech['claim_fulltext'] = g_uspto_non_cleantech['claim_fulltext'].apply(clean_and_lemmatize)\n",
    "# Create Document List for CountVectorizer\n",
    "document_list = g_uspto_non_cleantech['claim_fulltext'].tolist()\n",
    "# Cast to string\n",
    "document_list = [str(x) for x in document_list]\n",
    "# Create CountVectorizer\n",
    "vectorizer_uspto_non_cleantech = CountVectorizer(vocabulary=cleantech_list)\n",
    "# Create Document Term Matrix\n",
    "document_term_matrix_uspto_non_cleantech = vectorizer_uspto_non_cleantech.fit_transform(document_list)\n",
    "# Create DataFrame\n",
    "df_uspto_non_cleantech = pd.DataFrame(document_term_matrix_uspto_non_cleantech.toarray().transpose(),\n",
    "                                  index=vectorizer_uspto_non_cleantech.get_feature_names_out(),\n",
    "                                  columns=g_uspto_non_cleantech['patent_id'])\n",
    "# Save DataFrame\n",
    "df_uspto_non_cleantech.to_csv('/mnt/hdd01/patentsview/Similarity Search - CPC Classification and Claims/TFIDF Matrices/df_uspto_non_cleantech.csv')"
   ]
  },
  {
   "cell_type": "code",
   "execution_count": null,
   "metadata": {},
   "outputs": [],
   "source": [
    "# Print dimensions\n",
    "print(df_uspto_non_cleantech.shape)"
   ]
  },
  {
   "cell_type": "code",
   "execution_count": null,
   "metadata": {},
   "outputs": [],
   "source": [
    "# Delete all variables\n",
    "del df_uspto_non_cleantech\n",
    "del document_list\n",
    "del vectorizer_uspto_non_cleantech\n",
    "del document_term_matrix_uspto_non_cleantech\n",
    "del g_uspto_non_cleantech"
   ]
  },
  {
   "cell_type": "markdown",
   "metadata": {},
   "source": [
    "### EPO - Cleantech"
   ]
  },
  {
   "cell_type": "code",
   "execution_count": null,
   "metadata": {},
   "outputs": [],
   "source": [
    "g_epo_cleantech = pd.read_json('/mnt/hdd01/PATSTAT Working Directory/PATSTAT/cleantech_epo_text_data_pivot_cleaned.json')\n",
    "g_epo_cleantech['publn_nr'] = 'ep-' + g_epo_cleantech['publn_nr'].astype(str)\n",
    "g_epo_cleantech['cleaned_claims'] = g_epo_cleantech['cleaned_claims'].apply(clean_and_lemmatize)\n",
    "# Create Document List for CountVectorizer\n",
    "document_list = g_epo_cleantech['cleaned_claims'].tolist()\n",
    "# Cast to string\n",
    "document_list = [str(x) for x in document_list]\n",
    "# Create CountVectorizer\n",
    "vectorizer_epo_cleantech = CountVectorizer(vocabulary=cleantech_list)\n",
    "# Create Document Term Matrix\n",
    "document_term_matrix_epo_cleantech = vectorizer_epo_cleantech.fit_transform(document_list)\n",
    "# Create DataFrame\n",
    "df_epo_cleantech = pd.DataFrame(document_term_matrix_epo_cleantech.toarray().transpose(),\n",
    "                                  index=vectorizer_epo_cleantech.get_feature_names_out(),\n",
    "                                  columns=g_epo_cleantech['publn_nr'])\n",
    "# Save DataFrame\n",
    "df_epo_cleantech.to_csv('/mnt/hdd01/patentsview/Similarity Search - CPC Classification and Claims/TFIDF Matrices/df_epo_cleantech.csv')"
   ]
  },
  {
   "cell_type": "code",
   "execution_count": null,
   "metadata": {},
   "outputs": [],
   "source": [
    "# Print dimensions\n",
    "print(df_epo_cleantech.shape)"
   ]
  },
  {
   "cell_type": "code",
   "execution_count": null,
   "metadata": {},
   "outputs": [],
   "source": [
    "# Delete all variables\n",
    "del df_epo_cleantech\n",
    "del document_list\n",
    "del vectorizer_epo_cleantech\n",
    "del document_term_matrix_epo_cleantech\n",
    "del g_epo_cleantech\n"
   ]
  },
  {
   "cell_type": "markdown",
   "metadata": {},
   "source": [
    "### EPO - Non Cleantech"
   ]
  },
  {
   "cell_type": "code",
   "execution_count": null,
   "metadata": {},
   "outputs": [],
   "source": [
    "g_epo_non_cleantech = pd.read_json('/mnt/hdd01/patentsview/Non Cleantech Patents - Classifier Set/df_epo_non_cleantech_text_data_pivot_claims_cleaned.json')\n",
    "g_epo_non_cleantech['publn_nr'] = 'ep-' + g_epo_non_cleantech['publn_nr'].astype(str)\n",
    "g_epo_non_cleantech['cleaned_claims'] = g_epo_non_cleantech['cleaned_claims'].apply(clean_and_lemmatize)\n",
    "# Create Document List for CountVectorizer\n",
    "document_list = g_epo_non_cleantech['cleaned_claims'].tolist()\n",
    "# Cast to string\n",
    "document_list = [str(x) for x in document_list]\n",
    "# Create CountVectorizer\n",
    "vectorizer_epo_non_cleantech = CountVectorizer(vocabulary=cleantech_list)\n",
    "# Create Document Term Matrix\n",
    "document_term_matrix_epo_non_cleantech = vectorizer_epo_non_cleantech.fit_transform(document_list)\n",
    "# Create DataFrame\n",
    "df_epo_non_cleantech = pd.DataFrame(document_term_matrix_epo_non_cleantech.toarray().transpose(),\n",
    "                                  index=vectorizer_epo_non_cleantech.get_feature_names_out(),\n",
    "                                  columns=g_epo_non_cleantech['publn_nr'])\n",
    "# Save DataFrame\n",
    "df_epo_non_cleantech.to_csv('/mnt/hdd01/patentsview/Similarity Search - CPC Classification and Claims/TFIDF Matrices/df_epo_non_cleantech.csv')"
   ]
  },
  {
   "cell_type": "code",
   "execution_count": null,
   "metadata": {},
   "outputs": [],
   "source": [
    "# Print dimensions\n",
    "print(df_epo_non_cleantech.shape)"
   ]
  },
  {
   "cell_type": "code",
   "execution_count": null,
   "metadata": {},
   "outputs": [],
   "source": [
    "# Delete all variables\n",
    "del df_epo_non_cleantech\n",
    "del document_list\n",
    "del vectorizer_epo_non_cleantech\n",
    "del document_term_matrix_epo_non_cleantech\n",
    "del g_epo_non_cleantech"
   ]
  },
  {
   "cell_type": "markdown",
   "metadata": {},
   "source": [
    "### REL - Cleantech"
   ]
  },
  {
   "cell_type": "code",
   "execution_count": null,
   "metadata": {},
   "outputs": [],
   "source": [
    "g_rel_cleantech = pd.read_json('/mnt/hdd01/patentsview/Reliance on Science - Cleantech Patents/df_oaid_cleantech_yake_noun_chunks.json')\n",
    "g_rel_cleantech['oaid'] = 'rel-' + g_rel_cleantech['oaid'].astype(str)\n",
    "g_rel_cleantech['abstract'] = g_rel_cleantech['abstract'].apply(clean_and_lemmatize)\n",
    "# Create Document List for CountVectorizer\n",
    "document_list = g_rel_cleantech['abstract'].tolist()\n",
    "# Cast to string\n",
    "document_list = [str(x) for x in document_list]\n",
    "# Create CountVectorizer\n",
    "vectorizer_rel_cleantech = CountVectorizer(vocabulary=cleantech_list)\n",
    "# Create Document Term Matrix\n",
    "document_term_matrix_rel_cleantech = vectorizer_rel_cleantech.fit_transform(document_list)\n",
    "# Create DataFrame\n",
    "df_rel_cleantech = pd.DataFrame(document_term_matrix_rel_cleantech.toarray().transpose(),\n",
    "                                  index=vectorizer_rel_cleantech.get_feature_names_out(),\n",
    "                                  columns=g_rel_cleantech['oaid'])\n",
    "# Save DataFrame\n",
    "df_rel_cleantech.to_csv('/mnt/hdd01/patentsview/Similarity Search - CPC Classification and Claims/TFIDF Matrices/df_rel_cleantech.csv')"
   ]
  },
  {
   "cell_type": "code",
   "execution_count": null,
   "metadata": {},
   "outputs": [],
   "source": [
    "# Print dimensions\n",
    "print(df_rel_cleantech.shape)"
   ]
  },
  {
   "cell_type": "code",
   "execution_count": null,
   "metadata": {},
   "outputs": [],
   "source": [
    "# Delete all variables\n",
    "del df_rel_cleantech\n",
    "del document_list\n",
    "del vectorizer_rel_cleantech\n",
    "del document_term_matrix_rel_cleantech\n",
    "del g_rel_cleantech"
   ]
  },
  {
   "cell_type": "markdown",
   "metadata": {},
   "source": [
    "### REL - Non Cleantech"
   ]
  },
  {
   "cell_type": "code",
   "execution_count": null,
   "metadata": {},
   "outputs": [],
   "source": [
    "g_rel_non_cleantech = pd.read_json('/mnt/hdd01/patentsview/Non Cleantech Patents - Classifier Set/df_oaids_non_cleantech.json')\n",
    "g_rel_non_cleantech['oaid'] = 'rel-' + g_rel_non_cleantech['oaid'].astype(str)\n",
    "g_rel_non_cleantech['abstract'] = g_rel_non_cleantech['abstract'].apply(clean_and_lemmatize)\n",
    "# Create Document List for CountVectorizer\n",
    "document_list = g_rel_non_cleantech['abstract'].tolist()\n",
    "# Cast to string\n",
    "document_list = [str(x) for x in document_list]\n",
    "# Create CountVectorizer\n",
    "vectorizer_rel_non_cleantech = CountVectorizer(vocabulary=cleantech_list)\n",
    "# Create Document Term Matrix\n",
    "document_term_matrix_rel_non_cleantech = vectorizer_rel_non_cleantech.fit_transform(document_list)\n",
    "# Create DataFrame\n",
    "df_rel_non_cleantech = pd.DataFrame(document_term_matrix_rel_non_cleantech.toarray().transpose(),\n",
    "                                  index=vectorizer_rel_non_cleantech.get_feature_names_out(),\n",
    "                                  columns=g_rel_non_cleantech['oaid'])\n",
    "# Save DataFrame\n",
    "df_rel_non_cleantech.to_csv('/mnt/hdd01/patentsview/Similarity Search - CPC Classification and Claims/TFIDF Matrices/df_rel_non_cleantech.csv')"
   ]
  },
  {
   "cell_type": "code",
   "execution_count": null,
   "metadata": {},
   "outputs": [],
   "source": [
    "# Print dimensions\n",
    "print(df_rel_non_cleantech.shape)"
   ]
  },
  {
   "cell_type": "code",
   "execution_count": null,
   "metadata": {},
   "outputs": [],
   "source": [
    "# Delete all variables\n",
    "del df_rel_non_cleantech\n",
    "del document_list\n",
    "del vectorizer_rel_non_cleantech\n",
    "del document_term_matrix_rel_non_cleantech\n",
    "del g_rel_non_cleantech"
   ]
  }
 ],
 "metadata": {
  "kernelspec": {
   "display_name": "venv",
   "language": "python",
   "name": "python3"
  },
  "language_info": {
   "codemirror_mode": {
    "name": "ipython",
    "version": 3
   },
   "file_extension": ".py",
   "mimetype": "text/x-python",
   "name": "python",
   "nbconvert_exporter": "python",
   "pygments_lexer": "ipython3",
   "version": "3.11.6"
  }
 },
 "nbformat": 4,
 "nbformat_minor": 2
}
