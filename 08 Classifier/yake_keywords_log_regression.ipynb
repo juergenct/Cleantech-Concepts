{
 "cells": [
  {
   "cell_type": "code",
   "execution_count": null,
   "metadata": {},
   "outputs": [],
   "source": [
    "import numpy as np\n",
    "from sklearn.model_selection import train_test_split\n",
    "from sklearn.linear_model import LogisticRegression\n",
    "from sklearn.ensemble import RandomForestClassifier, GradientBoostingClassifier\n",
    "from sklearn.metrics import classification_report, confusion_matrix"
   ]
  },
  {
   "cell_type": "code",
   "execution_count": null,
   "metadata": {},
   "outputs": [],
   "source": [
    "# Function to train and evaluate a given model\n",
    "def train_evaluate_model(model, X_train, X_test, y_train, y_test):\n",
    "    # Train the model\n",
    "    model.fit(X_train, y_train)\n",
    "\n",
    "    # Evaluate the model\n",
    "    predictions = model.predict(X_test)\n",
    "    print(\"Classification Report:\\n\", classification_report(y_test, predictions))\n",
    "    print(\"Confusion Matrix:\\n\", confusion_matrix(y_test, predictions))\n",
    "\n",
    "    # For Logistic Regression, display the feature importance\n",
    "    if isinstance(model, LogisticRegression):\n",
    "        feature_importance = model.coef_[0]\n",
    "        keywords_importance = zip(feature_names, feature_importance)\n",
    "        sorted_keywords = sorted(keywords_importance, key=lambda x: x[1], reverse=True)\n",
    "\n",
    "        for keyword, importance in sorted_keywords:\n",
    "            print(f\"Keyword: {keyword}, Contribution: {importance}\")"
   ]
  },
  {
   "cell_type": "code",
   "execution_count": null,
   "metadata": {},
   "outputs": [],
   "source": [
    "# Load the data\n",
    "..."
   ]
  },
  {
   "cell_type": "code",
   "execution_count": null,
   "metadata": {},
   "outputs": [],
   "source": [
    "# Split the data\n",
    "X_train, X_test, y_train, y_test = train_test_split(X, y, test_size=0.2, random_state=42)"
   ]
  },
  {
   "cell_type": "code",
   "execution_count": null,
   "metadata": {},
   "outputs": [],
   "source": [
    "# Choose your model\n",
    "model_choice = 'logistic_regression' # Can be 'logistic_regression', 'random_forest', or 'gradient_boosting'\n",
    "\n",
    "if model_choice == 'logistic_regression':\n",
    "    model = LogisticRegression(max_iter=1000)\n",
    "elif model_choice == 'random_forest':\n",
    "    model = RandomForestClassifier(n_estimators=100)\n",
    "elif model_choice == 'gradient_boosting':\n",
    "    model = GradientBoostingClassifier(n_estimators=100)"
   ]
  },
  {
   "cell_type": "code",
   "execution_count": null,
   "metadata": {},
   "outputs": [],
   "source": [
    "# Train and evaluate the model\n",
    "train_evaluate_model(model, X_train, X_test, y_train, y_test)"
   ]
  }
 ],
 "metadata": {
  "language_info": {
   "name": "python"
  }
 },
 "nbformat": 4,
 "nbformat_minor": 2
}
